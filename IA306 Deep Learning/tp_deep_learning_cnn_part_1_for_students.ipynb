{
  "nbformat": 4,
  "nbformat_minor": 0,
  "metadata": {
    "kernelspec": {
      "name": "python3",
      "display_name": "Python 3"
    },
    "language_info": {
      "codemirror_mode": {
        "name": "ipython",
        "version": 3
      },
      "file_extension": ".py",
      "mimetype": "text/x-python",
      "name": "python",
      "nbconvert_exporter": "python",
      "pygments_lexer": "ipython3",
      "version": "3.6.4"
    },
    "colab": {
      "name": "tp_deep_learning_cnn_part_1_for_students.ipynb",
      "provenance": [],
      "collapsed_sections": []
    },
    "accelerator": "GPU"
  },
  "cells": [
    {
      "cell_type": "markdown",
      "metadata": {
        "id": "z8-NMa3OHMLu",
        "colab_type": "text"
      },
      "source": [
        "# TP Coding Convolutional Neural Networks in tensorflow and keras\n",
        "\n",
        "TP author : Geoffroy Peeters, Alasdair Newson\n",
        "\n",
        "### Objective:\n",
        "\n",
        "We want to implement a Convolutional Neural Network (CNN) to do image recognition. For this we will use the well-known CIFAR-10 dataset https://www.cs.toronto.edu/~kriz/cifar.html.\n",
        "\n",
        "The CIFAR-10 dataset consists of 60000 32x32 colour images in 10 classes, with 6000 images per class. There are 50000 training images and 10000 test images.\n",
        "\n",
        "We will first code the simple ConvNet described below using \n",
        "- tensorflow https://www.tensorflow.org\n",
        "\n",
        "then do the same using\n",
        "- keras : https://keras.io\n",
        "\n",
        "\n",
        "The input of the CNN is a set of (32,32,3) image tensors. We apply :\n",
        "\n",
        "    - a Convolutional layer of 32 filters of shape (3,3), with stride (1,1) and padding='same' (i.e. we do not apply zero-padding)\n",
        "    - a ReLu activation function\n",
        "    \n",
        "    - a Convolutional layer of 32 filters of shape (3,3), with stride (1,1) and padding='same' (i.e. we do not apply zero-padding)\n",
        "    - a ReLu activation function\n",
        "    - a Max Pooling Layer of shape (2,2) and stride (2,2) (i.e. we reduce by two the size in each dimension)\n",
        "    \n",
        "    - a Convolutional layer of 32 filters of shape (3,3), with stride (1,1) and padding='same' (i.e. we do not apply zero-padding)\n",
        "    - a ReLu activation function\n",
        "    - a Max Pooling Layer of shape (2,2) and stride (2,2) (i.e. we reduce by two the size in each dimension)\n",
        "    \n",
        "    - We then Flatten the data (reduce them to a vector in order to be able to apply a Fully-Connected layer to it)\n",
        "    - A softmax activation function which outputs are the $P(y_c | X)$ (multi-class problem)\n",
        "\n",
        "### Your task:\n",
        "You need to add the missing parts in the code (parts between # --- START CODE HERE and # --- END CODE HERE)"
      ]
    },
    {
      "cell_type": "markdown",
      "metadata": {
        "id": "2P3TTQuqHMME",
        "colab_type": "text"
      },
      "source": [
        "# Load packages"
      ]
    },
    {
      "cell_type": "code",
      "metadata": {
        "id": "Lb1dc0XSHMMG",
        "colab_type": "code",
        "colab": {}
      },
      "source": [
        "%matplotlib inline\n",
        "import matplotlib.pyplot as plt\n",
        "import numpy as np"
      ],
      "execution_count": 0,
      "outputs": []
    },
    {
      "cell_type": "markdown",
      "metadata": {
        "id": "fqjjPju8HMMV",
        "colab_type": "text"
      },
      "source": [
        "## Import data\n",
        "\n",
        "We first import CIFAR-10 dataset."
      ]
    },
    {
      "cell_type": "code",
      "metadata": {
        "id": "BbqUx1AHHMMc",
        "colab_type": "code",
        "outputId": "3a9e2fd8-cb19-44c3-a457-1d44c90fd15a",
        "colab": {
          "base_uri": "https://localhost:8080/",
          "height": 116
        }
      },
      "source": [
        "from keras.utils.np_utils import to_categorical\n",
        "\n",
        "from keras.datasets import cifar10\n",
        "(X_train, y_train), (X_test, y_test) = cifar10.load_data()\n",
        "\n",
        "print(X_train.shape)\n",
        "print(X_test.shape)\n",
        "print(np.unique(y_train))"
      ],
      "execution_count": 3,
      "outputs": [
        {
          "output_type": "stream",
          "text": [
            "Using TensorFlow backend.\n"
          ],
          "name": "stderr"
        },
        {
          "output_type": "stream",
          "text": [
            "Downloading data from https://www.cs.toronto.edu/~kriz/cifar-10-python.tar.gz\n",
            "170500096/170498071 [==============================] - 13s 0us/step\n",
            "(50000, 32, 32, 3)\n",
            "(10000, 32, 32, 3)\n",
            "[0 1 2 3 4 5 6 7 8 9]\n"
          ],
          "name": "stdout"
        }
      ]
    },
    {
      "cell_type": "markdown",
      "metadata": {
        "id": "OaHjSklTHMMx",
        "colab_type": "text"
      },
      "source": [
        "The CIFAR-10 dataset has 10 classes. These are the following :"
      ]
    },
    {
      "cell_type": "code",
      "metadata": {
        "id": "PzIfvyoyHMMy",
        "colab_type": "code",
        "colab": {}
      },
      "source": [
        "cifar_10_list = [ 'airplane', 'automobile','bird','cat','deer','dog','frog','horse','ship','truck']"
      ],
      "execution_count": 0,
      "outputs": []
    },
    {
      "cell_type": "markdown",
      "metadata": {
        "id": "x4lyQ278HMM6",
        "colab_type": "text"
      },
      "source": [
        "### Display some of the images"
      ]
    },
    {
      "cell_type": "code",
      "metadata": {
        "id": "WiTsCv3lHMM8",
        "colab_type": "code",
        "outputId": "a87a2a55-e858-4944-8490-465c6bf40810",
        "colab": {
          "base_uri": "https://localhost:8080/",
          "height": 337
        }
      },
      "source": [
        "plt.figure(figsize=(10, 6))\n",
        "for idx,i in enumerate(range(100,110)):\n",
        "    plt.subplot(2, 5, idx+1)\n",
        "    plt.imshow(X_train[i, :, :, :])\n",
        "    plt.title(cifar_10_list[int(y_train[i])])"
      ],
      "execution_count": 5,
      "outputs": [
        {
          "output_type": "display_data",
          "data": {
            "image/png": "[encoded data removed]",
            "text/plain": [
              "<Figure size 720x432 with 10 Axes>"
            ]
          },
          "metadata": {
            "tags": []
          }
        }
      ]
    },
    {
      "cell_type": "code",
      "metadata": {
        "id": "MxAvMxY0HMNC",
        "colab_type": "code",
        "outputId": "ec7c3791-5e06-4a93-e332-626b3f6bac11",
        "colab": {
          "base_uri": "https://localhost:8080/",
          "height": 33
        }
      },
      "source": [
        "y_train.shape"
      ],
      "execution_count": 6,
      "outputs": [
        {
          "output_type": "execute_result",
          "data": {
            "text/plain": [
              "(50000, 1)"
            ]
          },
          "metadata": {
            "tags": []
          },
          "execution_count": 6
        }
      ]
    },
    {
      "cell_type": "markdown",
      "metadata": {
        "id": "hWgcU048HMNI",
        "colab_type": "text"
      },
      "source": [
        "## Format conversion\n",
        "\n",
        "We now convert the format of the data. In the case of CNNs, and contrary to MLPs, the inputs are not simply vectors of arbitrary size. For example, in the case of images, it is important to distinguish the different dimensions (otherwise the network would not know how to carry out convolutions). Therefore, you need to carry out the following operation :\n",
        "\n",
        "- reshape the input ```X_train```and ```X_test``` to a set of matrices of size (32,32) and depth 3 (for the 3 R,G,B colors), convert the data to float32 and normalize them in the range [0,1]. The final dimensions of the image data should be : [batch_size, height, width, n_channels]\n",
        "\n",
        "Furthermore, as in the previous lab work, you must also convert the label vectors to matrices with k columns, where k is the number of classes. This allows us to carry out the cross-entropy for multi-class problems. Therefore :\n",
        "\n",
        "- convert the output label ```y_train``` and ```y_test``` to one-hot encoding format."
      ]
    },
    {
      "cell_type": "code",
      "metadata": {
        "id": "dzHkvQsqHMNJ",
        "colab_type": "code",
        "outputId": "9f9325a3-2487-45a0-ea6d-565f6dce0957",
        "colab": {
          "base_uri": "https://localhost:8080/",
          "height": 116
        }
      },
      "source": [
        "# input image dimensions\n",
        "img_rows, img_cols, nb_channels = 32, 32, 3\n",
        "nb_classes = 10\n",
        "\n",
        "# In case depth is 1 (black and white pictures) -> reshape to proper format\n",
        "X_train = X_train.reshape(X_train.shape[0], img_rows, img_cols, nb_channels)\n",
        "X_test = X_test.reshape(X_test.shape[0], img_rows, img_cols, nb_channels)\n",
        "\n",
        "X_train = X_train.astype('float32')\n",
        "X_test = X_test.astype('float32')\n",
        "X_train /= 255\n",
        "X_test /= 255\n",
        "\n",
        "Y_train = to_categorical(y_train)\n",
        "Y_test = to_categorical(y_test)\n",
        "\n",
        "print('X_train shape:', X_train.shape)\n",
        "print('y_train shape:', y_train.shape)\n",
        "print('Y_train shape:', Y_train.shape)\n",
        "print('There is {} train data'.format(X_train.shape[0]))\n",
        "print('There is {} test data'.format(X_test.shape[0]))\n",
        "print(img_rows, img_cols, nb_channels)"
      ],
      "execution_count": 7,
      "outputs": [
        {
          "output_type": "stream",
          "text": [
            "X_train shape: (50000, 32, 32, 3)\n",
            "y_train shape: (50000, 1)\n",
            "Y_train shape: (50000, 10)\n",
            "There is 50000 train data\n",
            "There is 10000 test data\n",
            "32 32 3\n"
          ],
          "name": "stdout"
        }
      ]
    },
    {
      "cell_type": "markdown",
      "metadata": {
        "id": "0FmcZXS8HMNO",
        "colab_type": "text"
      },
      "source": [
        "For memory and speed reasons, we are going to reduce the amount of training data :"
      ]
    },
    {
      "cell_type": "code",
      "metadata": {
        "id": "8MVCM-4hHMNP",
        "colab_type": "code",
        "outputId": "1ddbc135-7e36-4972-aaaf-55bbe346bfae",
        "colab": {
          "base_uri": "https://localhost:8080/",
          "height": 50
        }
      },
      "source": [
        "n_train_samples = 10000\n",
        "X_train = X_train[0:n_train_samples,:,:,:]\n",
        "Y_train = Y_train[0:n_train_samples,:]\n",
        "print(X_train.shape)\n",
        "print(Y_train.shape)"
      ],
      "execution_count": 8,
      "outputs": [
        {
          "output_type": "stream",
          "text": [
            "(10000, 32, 32, 3)\n",
            "(10000, 10)\n"
          ],
          "name": "stdout"
        }
      ]
    },
    {
      "cell_type": "markdown",
      "metadata": {
        "id": "O_3jO8WgHMNf",
        "colab_type": "text"
      },
      "source": [
        "# 1. CNN with tensorflow\n",
        "\n",
        "We are now going to create a CNN with Tensorflow, and train it on the previously loaded CIFAR dataset.\n",
        "- First define the input and output using ```tf.placeholder```\n",
        "- Define the weights and biases of the CNN using ```tf.variable``` or ```tf.get_variable```\n",
        "    - You can initialize them using ```tf.contrib.layers.xavier_initializer```(see https://www.tensorflow.org/api_docs/python/tf/contrib/layers/xavier_initializer)\n",
        "- Perform the convolution using ```tf.nn.conv2d``` \n",
        "- Apply the activation function using ```tf.nn.relu```\n",
        "- Perform the max pooling using ```tf.nn.max_pool```\n",
        "- Flatten the output of the convolution using ```tf.contrib.layers.flatten```\n",
        "- Perform the Fully-Connected part using ```tf.contrib.layers.fully_connected```\n",
        "\n",
        "Also, note that in Tensorflow, you can carry out the softmax + cross entropy all in one step with the following function :\n",
        "\n",
        "- ```tf.nn.softmax_cross_entropy_with_logits()```\n",
        "\n",
        "This has the advantage of being optimised and stabilised by the programmers who wrote Tensorflow, so that you do not have numerical problems.\n",
        "\n",
        "$\\textbf{IMPORTANT NOTE}$ : Please note that this part in Tensorflow is just so that you have had some experience with CNNs in Tensorflow. So do not spend a lot of time trying to get great accuracy results. If you want to do this, do it in the Keras part."
      ]
    },
    {
      "cell_type": "code",
      "metadata": {
        "id": "xag4oKt1HMNj",
        "colab_type": "code",
        "colab": {}
      },
      "source": [
        "import tensorflow as tf\n",
        "\n",
        "learning_rate = 0.01\n",
        "n_epochs = 20\n",
        "batch_size = 64\n",
        "\n",
        "# number of convolutional filters to use\n",
        "nb_filters = 32\n",
        "# convolution kernel size\n",
        "kernel_size = (3, 3)\n",
        "# size of pooling area for max pooling\n",
        "pool_size = (2, 2)\n",
        "\n",
        "\n",
        "# --- Size of the successice layers\n",
        "n_h_0 = nb_channels\n",
        "n_h_1 = nb_filters\n",
        "n_h_2 = nb_filters\n",
        "n_h_3 = nb_filters"
      ],
      "execution_count": 0,
      "outputs": []
    },
    {
      "cell_type": "code",
      "metadata": {
        "id": "cV4ObynyHMNt",
        "colab_type": "code",
        "colab": {}
      },
      "source": [
        "tf.reset_default_graph()\n",
        "\n",
        "# input tensor are of shape [batch, in_height, in_width, in_channels]  \n",
        "# filter / kernel tensor are of shape [filter_height, filter_width, in_channels, out_channels]\n",
        "\n",
        "# --- START CODE HERE\n",
        "X_input=tf.placeholder(tf.float32,[None,img_rows,img_cols,nb_channels],name='input')\n",
        "Y_output=tf.placeholder(tf.float32,[None,nb_classes],'output')\n",
        "\n",
        "W1=tf.Variable(tf.random_normal([3,3,nb_channels,nb_filters]))\n",
        "Z1=tf.nn.conv2d(X_input,W1,[1,1],padding=\"SAME\")\n",
        "b1=tf.Variable(tf.random_normal([32]))\n",
        "Z1=tf.nn.bias_add(Z1,b1)\n",
        "Z1=tf.nn.relu(Z1)\n",
        "\n",
        "W2=tf.Variable(tf.random_normal([3,3,nb_filters,nb_filters]))\n",
        "Z2=tf.nn.conv2d(Z1,W2,[1,1],padding=\"SAME\")\n",
        "b2=tf.Variable(tf.random_normal([32]))\n",
        "Z2=tf.nn.bias_add(Z2,b2)\n",
        "Z2=tf.nn.relu(Z2)\n",
        "Z2=tf.nn.max_pool(Z2,2,2,padding=\"SAME\")\n",
        "\n",
        "W3=tf.Variable(tf.random_normal([3,3,nb_filters,nb_filters]))\n",
        "Z3=tf.nn.conv2d(Z2,W3,[1,1],padding=\"SAME\")\n",
        "b3=tf.Variable(tf.random_normal([32]))\n",
        "Z3=tf.nn.bias_add(Z3,b3)\n",
        "Z3=tf.nn.relu(Z3)\n",
        "Z3=tf.nn.max_pool(Z3,2,2,padding=\"SAME\")\n",
        "\n",
        "Z4 = tf.contrib.layers.flatten(Z3)\n",
        "Z4 = tf.contrib.layers.fully_connected(Z4,nb_classes)\n",
        "# --- END CODE HERE\n",
        "\n",
        "cost = tf.reduce_mean(tf.nn.softmax_cross_entropy_with_logits(logits = Z4, labels = Y_output))\n",
        "optimizer = tf.train.AdamOptimizer(learning_rate = learning_rate).minimize(cost)"
      ],
      "execution_count": 0,
      "outputs": []
    },
    {
      "cell_type": "markdown",
      "metadata": {
        "id": "Hd-wg1XJHMON",
        "colab_type": "text"
      },
      "source": [
        "## Train the model"
      ]
    },
    {
      "cell_type": "code",
      "metadata": {
        "id": "r8yneegTHMOb",
        "colab_type": "code",
        "colab": {
          "base_uri": "https://localhost:8080/",
          "height": 677
        },
        "outputId": "752aef1e-f246-46ed-e5fa-b28679138564"
      },
      "source": [
        "init = tf.global_variables_initializer()\n",
        "n_batches = int(np.ceil(X_train.shape[0] / float(batch_size)))\n",
        "costs = []\n",
        "\n",
        "with tf.Session() as sess:\n",
        "    sess.run(init)\n",
        "    \n",
        "    for epoch in range(n_epochs):\n",
        "        minibatch_cost = 0.\n",
        "        for batch_idx in range(n_batches):\n",
        "            # BEGIN CODE HERE\n",
        "            _ , temp_cost = sess.run([optimizer,cost],feed_dict={X_input:X_train[batch_idx*batch_size:(batch_idx+1)*batch_size],Y_output:Y_train[batch_idx*batch_size:(batch_idx+1)*batch_size]})\n",
        "            # END CODE HERE\n",
        "            minibatch_cost += temp_cost / n_batches\n",
        "\n",
        "        if epoch % 1 == 0:\n",
        "            print (\"Cost after epoch %i: %f\" % (epoch, minibatch_cost))\n",
        "            \n",
        "        costs.append(minibatch_cost) \n",
        "        \n",
        "    plt.plot(np.squeeze(costs))\n",
        "    plt.ylabel('cost')\n",
        "    plt.xlabel('iterations (per tens)')\n",
        "    plt.title(\"Learning rate =\" + str(learning_rate))\n",
        "    plt.show()\n",
        "\n",
        "    # Calculate the correct predictions\n",
        "    predict_op = tf.argmax(Z4, 1)\n",
        "    correct_prediction = tf.equal(predict_op, tf.argmax(Y_output, 1))\n",
        "\n",
        "    # Calculate accuracy on the test set\n",
        "    accuracy = tf.reduce_mean(tf.cast(correct_prediction, \"float\"))\n",
        "    print(accuracy)\n",
        "    train_accuracy = accuracy.eval({X_input: X_train, Y_output: Y_train})\n",
        "    test_accuracy = accuracy.eval({X_input: X_test, Y_output: Y_test})\n",
        "    print(\"Train Accuracy:\", train_accuracy)\n",
        "    print(\"Test Accuracy:\", test_accuracy)\n",
        "    \n"
      ],
      "execution_count": 16,
      "outputs": [
        {
          "output_type": "stream",
          "text": [
            "Cost after epoch 0: 75.762818\n",
            "Cost after epoch 1: 2.302585\n",
            "Cost after epoch 2: 2.302585\n",
            "Cost after epoch 3: 2.302585\n",
            "Cost after epoch 4: 2.302585\n",
            "Cost after epoch 5: 2.302585\n",
            "Cost after epoch 6: 2.302585\n",
            "Cost after epoch 7: 2.302585\n",
            "Cost after epoch 8: 2.302585\n",
            "Cost after epoch 9: 2.302585\n",
            "Cost after epoch 10: 2.302585\n",
            "Cost after epoch 11: 2.302585\n",
            "Cost after epoch 12: 2.302585\n",
            "Cost after epoch 13: 2.302585\n",
            "Cost after epoch 14: 2.302585\n",
            "Cost after epoch 15: 2.302585\n",
            "Cost after epoch 16: 2.302585\n",
            "Cost after epoch 17: 2.302585\n",
            "Cost after epoch 18: 2.302585\n",
            "Cost after epoch 19: 2.302585\n"
          ],
          "name": "stdout"
        },
        {
          "output_type": "display_data",
          "data": {
            "image/png": "[encoded data removed]",
            "text/plain": [
              "<Figure size 432x288 with 1 Axes>"
            ]
          },
          "metadata": {
            "tags": []
          }
        },
        {
          "output_type": "stream",
          "text": [
            "Tensor(\"Mean_1:0\", shape=(), dtype=float32)\n",
            "Train Accuracy: 0.1296\n",
            "Test Accuracy: 0.1313\n"
          ],
          "name": "stdout"
        }
      ]
    },
    {
      "cell_type": "markdown",
      "metadata": {
        "id": "RJRv0ewxHMOt",
        "colab_type": "text"
      },
      "source": [
        "The train accuracy after 20 epochs should be around 0.5. You do not have to push the training further than this, just make sure that the loss decreases and that the accuracy is reasonable. We will now create the same network in Keras."
      ]
    },
    {
      "cell_type": "markdown",
      "metadata": {
        "id": "D-4VcSJGHMOv",
        "colab_type": "text"
      },
      "source": [
        "# 2. CNN with keras"
      ]
    },
    {
      "cell_type": "markdown",
      "metadata": {
        "id": "I4mTBZXiHMOx",
        "colab_type": "text"
      },
      "source": [
        "We are now going to create the same network with Keras. As we shall see, the interface is quite simplified in comparison to Tensorflow.\n",
        "\n",
        "## We first import keras packages"
      ]
    },
    {
      "cell_type": "code",
      "metadata": {
        "id": "YoM9uzrBHMO4",
        "colab_type": "code",
        "colab": {
          "base_uri": "https://localhost:8080/",
          "height": 33
        },
        "outputId": "003aae2f-049b-4bda-ea04-bc1bc8249f85"
      },
      "source": [
        "import keras\n",
        "from keras.models import Sequential, Model\n",
        "from keras.layers import Dense, Dropout, Activation, Flatten, Input\n",
        "from keras.layers import Conv2D, MaxPooling2D\n",
        "from keras import optimizers\n",
        "print(keras.__version__)"
      ],
      "execution_count": 17,
      "outputs": [
        {
          "output_type": "stream",
          "text": [
            "2.2.5\n"
          ],
          "name": "stdout"
        }
      ]
    },
    {
      "cell_type": "markdown",
      "metadata": {
        "id": "Ro-nsyhNHMO_",
        "colab_type": "text"
      },
      "source": [
        "## We define the parameters of the model, and of the training"
      ]
    },
    {
      "cell_type": "code",
      "metadata": {
        "id": "PkEi4PCoHMPA",
        "colab_type": "code",
        "colab": {}
      },
      "source": [
        "input_shape = (img_rows, img_cols, nb_channels)"
      ],
      "execution_count": 0,
      "outputs": []
    },
    {
      "cell_type": "markdown",
      "metadata": {
        "id": "fAsXw6J3HMPF",
        "colab_type": "text"
      },
      "source": [
        "## Creating the CNN model in Keras using the Sequential API\n",
        "\n",
        "Keras has a simple way of adding layers to create a neural network. First, you can indicate to Keras that the model is 'sequential', that is to say, a straight-forward CNN. For this, you can use the following function :\n",
        "- ```model = Sequential()```\n",
        "\n",
        "After this, you can add layers with the function.\n",
        "\n",
        "- ```model.add()```\n",
        "\n",
        "You can then use the ```Conv2D```, ```Activation```, ```MaxPooling2D```, ```Flatten``` and ```Dense``` (fully connected) functions to specify different layer types. Note that in the case of this approach, you will have to specify the input image size in the first layer of the network. So, for example, if the first layer is convolutional :\n",
        "\n",
        "- model = Sequential()\n",
        "- model.add(Conv2D(nb_filters, kernel_size, input_shape=input_shape, name='Conv1'))\n",
        "\n",
        "\n",
        "## Creating the CNN model in Keras using the standard API\n",
        "\n",
        "Otherwise, another approach to creating the model is to explicitly create the input variable, and just cascade the different functions, as in Tensorflow. So, for the same example, we would have :\n",
        "\n",
        "- input = Input(shape=(img_rows,img_cols,nb_channels))\n",
        "- output = Conv2D(input_shape=self.img_shape,filters=nb_filters,kernel_size=kernel_size)(input)\n",
        "- model = Model(input, output)\n",
        "\n",
        "Create your CNN now with the network parameters specified above."
      ]
    },
    {
      "cell_type": "code",
      "metadata": {
        "id": "x4ZTyGB3HMPG",
        "colab_type": "code",
        "colab": {
          "base_uri": "https://localhost:8080/",
          "height": 103
        },
        "outputId": "f21efde2-de00-4d68-fe9c-21260f6a7c5f"
      },
      "source": [
        "# --- START CODE HERE\n",
        "model=Sequential()\n",
        "model.add(Conv2D(nb_filters,kernel_size,input_shape=input_shape,padding=\"same\",name='Conv1'))\n",
        "model.add(Activation('relu'))\n",
        "\n",
        "model.add(Conv2D(nb_filters,kernel_size,input_shape=input_shape,padding=\"same\",name='Conv2'))\n",
        "model.add(Activation('relu'))\n",
        "model.add(MaxPooling2D(pool_size=(2,2),strides=(2,2),padding='same'))\n",
        "\n",
        "model.add(Conv2D(nb_filters,kernel_size,input_shape=input_shape,padding=\"same\",name='Conv3'))\n",
        "model.add(Activation('relu'))\n",
        "model.add(MaxPooling2D(pool_size=(2,2),strides=(2,2),padding='same'))\n",
        "\n",
        "model.add(Flatten())\n",
        "model.add(Dense(10))\n",
        "model.add(Activation('softmax'))\n",
        "\n",
        "# --- END CODE HERE"
      ],
      "execution_count": 19,
      "outputs": [
        {
          "output_type": "stream",
          "text": [
            "WARNING:tensorflow:From /usr/local/lib/python3.6/dist-packages/keras/backend/tensorflow_backend.py:66: The name tf.get_default_graph is deprecated. Please use tf.compat.v1.get_default_graph instead.\n",
            "\n",
            "WARNING:tensorflow:From /usr/local/lib/python3.6/dist-packages/keras/backend/tensorflow_backend.py:4432: The name tf.random_uniform is deprecated. Please use tf.random.uniform instead.\n",
            "\n"
          ],
          "name": "stdout"
        }
      ]
    },
    {
      "cell_type": "markdown",
      "metadata": {
        "id": "xhCbjYe7HMPL",
        "colab_type": "text"
      },
      "source": [
        "## Compile the model\n",
        "\n",
        "We define here the ```loss``` that we will minimize and the ```optimizer``` (the specific algorithm used to perform gradient descent)."
      ]
    },
    {
      "cell_type": "code",
      "metadata": {
        "id": "1VCn2jzrHMPM",
        "colab_type": "code",
        "colab": {
          "base_uri": "https://localhost:8080/",
          "height": 103
        },
        "outputId": "83d51083-4ba7-4dbe-8b72-4e83f191de59"
      },
      "source": [
        "model.compile(loss='categorical_crossentropy',\n",
        "              optimizer=optimizers.Adam(lr=learning_rate),\n",
        "              metrics=['accuracy'])"
      ],
      "execution_count": 20,
      "outputs": [
        {
          "output_type": "stream",
          "text": [
            "WARNING:tensorflow:From /usr/local/lib/python3.6/dist-packages/keras/optimizers.py:793: The name tf.train.Optimizer is deprecated. Please use tf.compat.v1.train.Optimizer instead.\n",
            "\n",
            "WARNING:tensorflow:From /usr/local/lib/python3.6/dist-packages/keras/backend/tensorflow_backend.py:3576: The name tf.log is deprecated. Please use tf.math.log instead.\n",
            "\n"
          ],
          "name": "stdout"
        }
      ]
    },
    {
      "cell_type": "markdown",
      "metadata": {
        "id": "qD8o5ySsHMPQ",
        "colab_type": "text"
      },
      "source": [
        "## We display a summary of the model created (but not yet trained)"
      ]
    },
    {
      "cell_type": "code",
      "metadata": {
        "id": "7f6fSMp7HMPR",
        "colab_type": "code",
        "colab": {
          "base_uri": "https://localhost:8080/",
          "height": 516
        },
        "outputId": "9aae4b2b-3f17-4998-94e6-dfe423590835"
      },
      "source": [
        "model.summary()"
      ],
      "execution_count": 21,
      "outputs": [
        {
          "output_type": "stream",
          "text": [
            "Model: \"sequential_1\"\n",
            "_________________________________________________________________\n",
            "Layer (type)                 Output Shape              Param #   \n",
            "=================================================================\n",
            "Conv1 (Conv2D)               (None, 32, 32, 32)        896       \n",
            "_________________________________________________________________\n",
            "activation_1 (Activation)    (None, 32, 32, 32)        0         \n",
            "_________________________________________________________________\n",
            "Conv2 (Conv2D)               (None, 32, 32, 32)        9248      \n",
            "_________________________________________________________________\n",
            "activation_2 (Activation)    (None, 32, 32, 32)        0         \n",
            "_________________________________________________________________\n",
            "max_pooling2d_1 (MaxPooling2 (None, 16, 16, 32)        0         \n",
            "_________________________________________________________________\n",
            "Conv3 (Conv2D)               (None, 16, 16, 32)        9248      \n",
            "_________________________________________________________________\n",
            "activation_3 (Activation)    (None, 16, 16, 32)        0         \n",
            "_________________________________________________________________\n",
            "max_pooling2d_2 (MaxPooling2 (None, 8, 8, 32)          0         \n",
            "_________________________________________________________________\n",
            "flatten_1 (Flatten)          (None, 2048)              0         \n",
            "_________________________________________________________________\n",
            "dense_1 (Dense)              (None, 10)                20490     \n",
            "_________________________________________________________________\n",
            "activation_4 (Activation)    (None, 10)                0         \n",
            "=================================================================\n",
            "Total params: 39,882\n",
            "Trainable params: 39,882\n",
            "Non-trainable params: 0\n",
            "_________________________________________________________________\n"
          ],
          "name": "stdout"
        }
      ]
    },
    {
      "cell_type": "markdown",
      "metadata": {
        "id": "xyadyqDoHMPU",
        "colab_type": "text"
      },
      "source": [
        "## Perform the training"
      ]
    },
    {
      "cell_type": "code",
      "metadata": {
        "id": "ii94dn3-HMPV",
        "colab_type": "code",
        "colab": {
          "base_uri": "https://localhost:8080/",
          "height": 953
        },
        "outputId": "789e964c-3de4-44f7-e5ef-ae4e20bace57"
      },
      "source": [
        "model.fit(X_train, Y_train,\n",
        "          batch_size=batch_size, \n",
        "          nb_epoch=n_epochs,\n",
        "          verbose=1, \n",
        "          validation_data=(X_test, Y_test))"
      ],
      "execution_count": 22,
      "outputs": [
        {
          "output_type": "stream",
          "text": [
            "WARNING:tensorflow:From /usr/local/lib/python3.6/dist-packages/tensorflow_core/python/ops/math_grad.py:1424: where (from tensorflow.python.ops.array_ops) is deprecated and will be removed in a future version.\n",
            "Instructions for updating:\n",
            "Use tf.where in 2.0, which has the same broadcast rule as np.where\n"
          ],
          "name": "stdout"
        },
        {
          "output_type": "stream",
          "text": [
            "/usr/local/lib/python3.6/dist-packages/ipykernel_launcher.py:5: UserWarning: The `nb_epoch` argument in `fit` has been renamed `epochs`.\n",
            "  \"\"\"\n"
          ],
          "name": "stderr"
        },
        {
          "output_type": "stream",
          "text": [
            "Train on 10000 samples, validate on 10000 samples\n",
            "Epoch 1/20\n",
            "WARNING:tensorflow:From /usr/local/lib/python3.6/dist-packages/keras/backend/tensorflow_backend.py:190: The name tf.get_default_session is deprecated. Please use tf.compat.v1.get_default_session instead.\n",
            "\n",
            "WARNING:tensorflow:From /usr/local/lib/python3.6/dist-packages/keras/backend/tensorflow_backend.py:207: The name tf.global_variables is deprecated. Please use tf.compat.v1.global_variables instead.\n",
            "\n",
            "WARNING:tensorflow:From /usr/local/lib/python3.6/dist-packages/keras/backend/tensorflow_backend.py:216: The name tf.is_variable_initialized is deprecated. Please use tf.compat.v1.is_variable_initialized instead.\n",
            "\n",
            "WARNING:tensorflow:From /usr/local/lib/python3.6/dist-packages/keras/backend/tensorflow_backend.py:223: The name tf.variables_initializer is deprecated. Please use tf.compat.v1.variables_initializer instead.\n",
            "\n",
            "10000/10000 [==============================] - 3s 319us/step - loss: 2.0497 - acc: 0.2407 - val_loss: 1.7408 - val_acc: 0.3696\n",
            "Epoch 2/20\n",
            "10000/10000 [==============================] - 3s 262us/step - loss: 1.6286 - acc: 0.4094 - val_loss: 1.6153 - val_acc: 0.4221\n",
            "Epoch 3/20\n",
            "10000/10000 [==============================] - 3s 263us/step - loss: 1.5142 - acc: 0.4585 - val_loss: 1.5591 - val_acc: 0.4406\n",
            "Epoch 4/20\n",
            "10000/10000 [==============================] - 3s 261us/step - loss: 1.4504 - acc: 0.4841 - val_loss: 1.5114 - val_acc: 0.4536\n",
            "Epoch 5/20\n",
            "10000/10000 [==============================] - 3s 258us/step - loss: 1.4103 - acc: 0.4941 - val_loss: 1.5857 - val_acc: 0.4383\n",
            "Epoch 6/20\n",
            "10000/10000 [==============================] - 3s 253us/step - loss: 1.3973 - acc: 0.4978 - val_loss: 1.4893 - val_acc: 0.4657\n",
            "Epoch 7/20\n",
            "10000/10000 [==============================] - 3s 254us/step - loss: 1.3539 - acc: 0.5123 - val_loss: 1.4715 - val_acc: 0.4807\n",
            "Epoch 8/20\n",
            "10000/10000 [==============================] - 3s 252us/step - loss: 1.3345 - acc: 0.5295 - val_loss: 1.5597 - val_acc: 0.4530\n",
            "Epoch 9/20\n",
            "10000/10000 [==============================] - 3s 256us/step - loss: 1.3125 - acc: 0.5338 - val_loss: 1.5012 - val_acc: 0.4744\n",
            "Epoch 10/20\n",
            "10000/10000 [==============================] - 3s 253us/step - loss: 1.2827 - acc: 0.5403 - val_loss: 1.7462 - val_acc: 0.3967\n",
            "Epoch 11/20\n",
            "10000/10000 [==============================] - 3s 256us/step - loss: 1.2870 - acc: 0.5400 - val_loss: 1.5395 - val_acc: 0.4634\n",
            "Epoch 12/20\n",
            "10000/10000 [==============================] - 3s 256us/step - loss: 1.2637 - acc: 0.5519 - val_loss: 1.5723 - val_acc: 0.4666\n",
            "Epoch 13/20\n",
            "10000/10000 [==============================] - 3s 255us/step - loss: 1.2456 - acc: 0.5548 - val_loss: 1.6301 - val_acc: 0.4677\n",
            "Epoch 14/20\n",
            "10000/10000 [==============================] - 3s 254us/step - loss: 1.2426 - acc: 0.5529 - val_loss: 1.4578 - val_acc: 0.4839\n",
            "Epoch 15/20\n",
            "10000/10000 [==============================] - 3s 253us/step - loss: 1.2009 - acc: 0.5697 - val_loss: 1.5113 - val_acc: 0.4877\n",
            "Epoch 16/20\n",
            "10000/10000 [==============================] - 3s 251us/step - loss: 1.2014 - acc: 0.5717 - val_loss: 1.5158 - val_acc: 0.4880\n",
            "Epoch 17/20\n",
            "10000/10000 [==============================] - 3s 252us/step - loss: 1.1968 - acc: 0.5717 - val_loss: 1.6781 - val_acc: 0.4446\n",
            "Epoch 18/20\n",
            "10000/10000 [==============================] - 3s 252us/step - loss: 1.1886 - acc: 0.5763 - val_loss: 1.5347 - val_acc: 0.4713\n",
            "Epoch 19/20\n",
            "10000/10000 [==============================] - 3s 253us/step - loss: 1.1775 - acc: 0.5781 - val_loss: 1.6003 - val_acc: 0.4803\n",
            "Epoch 20/20\n",
            "10000/10000 [==============================] - 3s 251us/step - loss: 1.1356 - acc: 0.5910 - val_loss: 1.5928 - val_acc: 0.4803\n"
          ],
          "name": "stdout"
        },
        {
          "output_type": "execute_result",
          "data": {
            "text/plain": [
              "<keras.callbacks.History at 0x7f44ed22f518>"
            ]
          },
          "metadata": {
            "tags": []
          },
          "execution_count": 22
        }
      ]
    },
    {
      "cell_type": "markdown",
      "metadata": {
        "id": "--ePRPNSHMPc",
        "colab_type": "text"
      },
      "source": [
        "## We evaluate the performances of the model on the test data"
      ]
    },
    {
      "cell_type": "code",
      "metadata": {
        "id": "38AaB1qVHMPe",
        "colab_type": "code",
        "colab": {
          "base_uri": "https://localhost:8080/",
          "height": 50
        },
        "outputId": "f1a7c93d-0b7a-41d7-c824-73471e3d8e52"
      },
      "source": [
        "score = model.evaluate(X_test, Y_test, verbose=False)\n",
        "print('Test score:', score[0])\n",
        "print('Test accuracy:', score[1])"
      ],
      "execution_count": 23,
      "outputs": [
        {
          "output_type": "stream",
          "text": [
            "Test score: 1.5927704889297485\n",
            "Test accuracy: 0.4803\n"
          ],
          "name": "stdout"
        }
      ]
    },
    {
      "cell_type": "markdown",
      "metadata": {
        "id": "-CFH0IWHHMPp",
        "colab_type": "text"
      },
      "source": [
        "Let's take a look at what the network has learned. What do you think ?"
      ]
    },
    {
      "cell_type": "code",
      "metadata": {
        "id": "0XOYE_SMHMPs",
        "colab_type": "code",
        "colab": {
          "base_uri": "https://localhost:8080/",
          "height": 337
        },
        "outputId": "13c46727-80c2-4a3d-d932-704694fd9736"
      },
      "source": [
        "plt.figure(figsize=(10, 6))\n",
        "for idx,i in enumerate(range(100,110)):\n",
        "    plt.subplot(2, 5, idx+1)\n",
        "    rand_ind = np.random.randint(0,X_test.shape[0])\n",
        "    predicted_class = np.argmax(np.squeeze(model.predict(np.expand_dims(X_test[rand_ind,:,:,:],axis=0))))\n",
        "    plt.imshow(X_test[rand_ind,:,:,:])\n",
        "    plt.title(cifar_10_list[int(predicted_class)])"
      ],
      "execution_count": 24,
      "outputs": [
        {
          "output_type": "display_data",
          "data": {
            "image/png": "[encoded data removed]",
            "text/plain": [
              "<Figure size 720x432 with 10 Axes>"
            ]
          },
          "metadata": {
            "tags": []
          }
        }
      ]
    },
    {
      "cell_type": "markdown",
      "metadata": {
        "id": "DRSdyB3MjPO8",
        "colab_type": "text"
      },
      "source": [
        "It could class some pictures but it also makes some mistakes."
      ]
    },
    {
      "cell_type": "markdown",
      "metadata": {
        "id": "OYccIPumHMP5",
        "colab_type": "text"
      },
      "source": [
        "## Now, display all (32) trained filters of the first layer\n",
        "\n",
        "You can explore the network parameters easily with Keras. For example ```model.layers``` is a list of the layers of the network. Each element of the network contains the information necessary for this layer. To show the content of a layer i, type :\n",
        "\n",
        "```dir(model.layers[i])```\n",
        "\n",
        "Display all (32) trained filters of the first layer :"
      ]
    },
    {
      "cell_type": "code",
      "metadata": {
        "id": "ePeA04GMkGRT",
        "colab_type": "code",
        "colab": {
          "base_uri": "https://localhost:8080/",
          "height": 302
        },
        "outputId": "21cb783b-e322-4a6c-e402-3d4aeccda6b3"
      },
      "source": [
        "model.layers[0].get_weights()[0].shape\n",
        "t1,t2=model.layers[0].get_weights()\n",
        "t1.shape\n",
        "plt.imshow(t1[:, :,:, 4])"
      ],
      "execution_count": 45,
      "outputs": [
        {
          "output_type": "stream",
          "text": [
            "Clipping input data to the valid range for imshow with RGB data ([0..1] for floats or [0..255] for integers).\n"
          ],
          "name": "stderr"
        },
        {
          "output_type": "execute_result",
          "data": {
            "text/plain": [
              "<matplotlib.image.AxesImage at 0x7f44ee15d1d0>"
            ]
          },
          "metadata": {
            "tags": []
          },
          "execution_count": 45
        },
        {
          "output_type": "display_data",
          "data": {
            "image/png": "[encoded data removed]",
            "text/plain": [
              "<Figure size 432x288 with 1 Axes>"
            ]
          },
          "metadata": {
            "tags": []
          }
        }
      ]
    },
    {
      "cell_type": "code",
      "metadata": {
        "id": "erlCe63lHMQB",
        "colab_type": "code",
        "colab": {
          "base_uri": "https://localhost:8080/",
          "height": 957
        },
        "outputId": "af5c83ec-0b24-48da-c6b6-a2fcc1235a0c"
      },
      "source": [
        "print(model.layers[0].filters)\n",
        "print(model.layers[0].kernel_size)\n",
        "print(model.layers[0].get_weights()[0].shape)\n",
        "plt.figure(figsize=(10, 6))\n",
        "f=model.layers[0].get_weights()[0]\n",
        "for num in range(0,32):\n",
        "    plt.subplot(8, 4, num+1)\n",
        "    # --- START CODE HERE\n",
        "    plt.imshow(f[:,:,:,num])\n",
        "    # --- END CODE HERE    "
      ],
      "execution_count": 49,
      "outputs": [
        {
          "output_type": "stream",
          "text": [
            "Clipping input data to the valid range for imshow with RGB data ([0..1] for floats or [0..255] for integers).\n",
            "Clipping input data to the valid range for imshow with RGB data ([0..1] for floats or [0..255] for integers).\n",
            "Clipping input data to the valid range for imshow with RGB data ([0..1] for floats or [0..255] for integers).\n",
            "Clipping input data to the valid range for imshow with RGB data ([0..1] for floats or [0..255] for integers).\n",
            "Clipping input data to the valid range for imshow with RGB data ([0..1] for floats or [0..255] for integers).\n",
            "Clipping input data to the valid range for imshow with RGB data ([0..1] for floats or [0..255] for integers).\n",
            "Clipping input data to the valid range for imshow with RGB data ([0..1] for floats or [0..255] for integers).\n",
            "Clipping input data to the valid range for imshow with RGB data ([0..1] for floats or [0..255] for integers).\n",
            "Clipping input data to the valid range for imshow with RGB data ([0..1] for floats or [0..255] for integers).\n",
            "Clipping input data to the valid range for imshow with RGB data ([0..1] for floats or [0..255] for integers).\n"
          ],
          "name": "stderr"
        },
        {
          "output_type": "stream",
          "text": [
            "32\n",
            "(3, 3)\n",
            "(3, 3, 3, 32)\n"
          ],
          "name": "stdout"
        },
        {
          "output_type": "stream",
          "text": [
            "Clipping input data to the valid range for imshow with RGB data ([0..1] for floats or [0..255] for integers).\n",
            "Clipping input data to the valid range for imshow with RGB data ([0..1] for floats or [0..255] for integers).\n",
            "Clipping input data to the valid range for imshow with RGB data ([0..1] for floats or [0..255] for integers).\n",
            "Clipping input data to the valid range for imshow with RGB data ([0..1] for floats or [0..255] for integers).\n",
            "Clipping input data to the valid range for imshow with RGB data ([0..1] for floats or [0..255] for integers).\n",
            "Clipping input data to the valid range for imshow with RGB data ([0..1] for floats or [0..255] for integers).\n",
            "Clipping input data to the valid range for imshow with RGB data ([0..1] for floats or [0..255] for integers).\n",
            "Clipping input data to the valid range for imshow with RGB data ([0..1] for floats or [0..255] for integers).\n",
            "Clipping input data to the valid range for imshow with RGB data ([0..1] for floats or [0..255] for integers).\n",
            "Clipping input data to the valid range for imshow with RGB data ([0..1] for floats or [0..255] for integers).\n",
            "Clipping input data to the valid range for imshow with RGB data ([0..1] for floats or [0..255] for integers).\n",
            "Clipping input data to the valid range for imshow with RGB data ([0..1] for floats or [0..255] for integers).\n",
            "Clipping input data to the valid range for imshow with RGB data ([0..1] for floats or [0..255] for integers).\n",
            "Clipping input data to the valid range for imshow with RGB data ([0..1] for floats or [0..255] for integers).\n",
            "Clipping input data to the valid range for imshow with RGB data ([0..1] for floats or [0..255] for integers).\n",
            "Clipping input data to the valid range for imshow with RGB data ([0..1] for floats or [0..255] for integers).\n",
            "Clipping input data to the valid range for imshow with RGB data ([0..1] for floats or [0..255] for integers).\n",
            "Clipping input data to the valid range for imshow with RGB data ([0..1] for floats or [0..255] for integers).\n",
            "Clipping input data to the valid range for imshow with RGB data ([0..1] for floats or [0..255] for integers).\n",
            "Clipping input data to the valid range for imshow with RGB data ([0..1] for floats or [0..255] for integers).\n",
            "Clipping input data to the valid range for imshow with RGB data ([0..1] for floats or [0..255] for integers).\n",
            "Clipping input data to the valid range for imshow with RGB data ([0..1] for floats or [0..255] for integers).\n"
          ],
          "name": "stderr"
        },
        {
          "output_type": "display_data",
          "data": {
            "image/png": "[encoded data removed]",
            "text/plain": [
              "<Figure size 720x432 with 32 Axes>"
            ]
          },
          "metadata": {
            "tags": []
          }
        }
      ]
    },
    {
      "cell_type": "markdown",
      "metadata": {
        "id": "x-2NBE4tHMQH",
        "colab_type": "text"
      },
      "source": [
        "# Evaluation\n",
        "\n",
        "To evaluate the work, you should rate the code for \n",
        "- 1) Tensorflow, declaration of inputs and weights : 2 points\n",
        "- 2) Tensorflow, declaration of model : 2 points\n",
        "- 3) Tensorflow, training : 2 points\n",
        "- 4) Keras : model : 2 points\n",
        "- 5) Keras : displaying weights : 2 points\n",
        "\n",
        "Each correct answer (correct formula/code and code runs) gives 2 points. Total over 10 points."
      ]
    }
  ]
}