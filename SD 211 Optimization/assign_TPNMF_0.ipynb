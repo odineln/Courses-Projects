{
 "cells": [
  {
   "cell_type": "markdown",
   "metadata": {},
   "source": [
    "# TP 1 : Nonnegative Matrix Factorization\n",
    "\n"
   ]
  },
  {
   "cell_type": "markdown",
   "metadata": {},
   "source": [
    "\n",
    "\n",
    "\n",
    "\n",
    "\n"
   ]
  },
  {
   "cell_type": "code",
   "execution_count": 23,
   "metadata": {},
   "outputs": [
    {
     "data": {
      "image/png": "[encoded data removed]",
      "text/plain": [
       "<Figure size 432x288 with 1 Axes>"
      ]
     },
     "metadata": {
      "needs_background": "light"
     },
     "output_type": "display_data"
    }
   ],
   "source": [
    "import numpy as np\n",
    "import matplotlib.pyplot as plt\n",
    "import scipy.sparse.linalg\n",
    "import scipy.optimize\n",
    "import time\n",
    "\n",
    "\n",
    "# database is the directory containing the database of faces\n",
    "# you will have to change it to make the code work on your session.\n",
    "\n",
    "database = \"C:/Users/Cally/Downloads/database\"\n",
    "\n",
    "\n",
    "\n",
    "\n",
    "# The build_matrix_from_faces function constructs the matrix M\n",
    "\n",
    "def build_matrix_from_faces(folder=database, minidata=False):\n",
    "    # load images\n",
    "    # 400 images of size (112, 92)\n",
    "    M = []\n",
    "    if minidata is True:\n",
    "        nb_subjects = 1\n",
    "    else:\n",
    "        nb_subjects = 40\n",
    "    for subject in range(1, nb_subjects + 1\n",
    "                        ):\n",
    "        for image in range(1, 11):\n",
    "            face = plt.imread(folder + '/s' + str(subject)\n",
    "                              + '/' + str(image) + '.pgm')\n",
    "            M.append(face.ravel())\n",
    "\n",
    "    return np.array(M, dtype=float)\n",
    "\n",
    "\n",
    "\n",
    "\n",
    "\n",
    "def vectorize(W, H):\n",
    "    return np.concatenate((W.ravel(), H.ravel()))\n",
    "\n",
    "\n",
    "\n",
    "\n",
    "def unvectorize_M(W_H, M):\n",
    "    # number of elements in W_H is (n+p)*k where M is of size n x m\n",
    "    # W has the nk first elements\n",
    "    # H has the kp last elements\n",
    "    n, p = M.shape\n",
    "    k = W_H.shape[0] // (n + p)\n",
    "    W = W_H[:n * k].reshape((n, k))\n",
    "    H = W_H[n * k:].reshape((k, p))\n",
    "    return W, H\n",
    "\n",
    "\n",
    "\n",
    "\n",
    "#To see the first face:\n",
    "M = build_matrix_from_faces()\n",
    "plt.imshow(M[0].reshape((112, 92)), cmap='gray'); plt.show()\n",
    "\n",
    "\n",
    "\n",
    "\n",
    "\n",
    "# Small data to test the algorithm\n",
    "M = build_matrix_from_faces(folder=database, minidata=True)\n",
    "def unvectorize(W_H): return unvectorize_M(W_H, M)\n",
    "n, p = M.shape\n",
    "k = 2\n",
    "\n",
    "\n",
    "\n",
    "\n",
    "# Full data\n",
    "#M = build_matrix_from_faces(folder=database, minidata=False)\n",
    "#def unvectorize(W_H): return unvectorize_M(W_H, M)\n",
    "#n, p = M.shape\n",
    "#k = 38"
   ]
  },
  {
   "cell_type": "markdown",
   "metadata": {},
   "source": [
    "## 1 Database"
   ]
  },
  {
   "cell_type": "markdown",
   "metadata": {},
   "source": [
    "### Question 1.1"
   ]
  },
  {
   "cell_type": "markdown",
   "metadata": {},
   "source": [
    "> Download and extract the database of faces, collected by AT&T Laboratories Cambridge, on https://www.cl.cam.ac.uk/research/dtg/attarchive/facedatabase.html. How many images are there in the database? How many pixels are there in each image?"
   ]
  },
  {
   "cell_type": "markdown",
   "metadata": {},
   "source": [
    "______________________________________________________________________________________________\n",
    "\n",
    "<b>Answer: </b> \n",
    "  \n",
    "There are 40 x 10 = 400 images in the database, and 92 x 112 = 10304 pixels in each of them.\n",
    "______________________________________________________________________________________________"
   ]
  },
  {
   "cell_type": "markdown",
   "metadata": {},
   "source": [
    "## 2 Presentation of the model"
   ]
  },
  {
   "cell_type": "markdown",
   "metadata": {},
   "source": [
    "### Question 2.1"
   ]
  },
  {
   "cell_type": "markdown",
   "metadata": {},
   "source": [
    "> Show that the objective function is not convex. Calculate its gradient. Is the gradient Lipschitz continuous?"
   ]
  },
  {
   "cell_type": "markdown",
   "metadata": {},
   "source": [
    "______________________________________________________________________________________________\n",
    "\n",
    "#### Answer: \n",
    "  \n",
    "* <b>The objective function is not convex :</b>  \n",
    "<br/>\n",
    "<br/>\n",
    "Indeed\n",
    "\n",
    "\n",
    "* <b>The gradient is :</b>  \n",
    "<br/>\n",
    "<br/>\n",
    "\n",
    "$\\frac{\\partial f}{\\partial W} = \\frac{1}{np}(WH-M)H^T$ and  \n",
    "\n",
    "$\\frac{\\partial f}{\\partial H} = \\frac{1}{np}W^T(WH-M)$    \n",
    "\n",
    "So the gradient is $\\frac{1}{np}\\left[\\begin{array}{cc} (WH-M)H^T \\\\W^T(WH-M)  \\end{array}\\right]$\n",
    "\n",
    "\n",
    "* <b>Is it Lipschitz continuous? :</b>  \n",
    "<br/>\n",
    "<br/>\n",
    "\n",
    "______________________________________________________________________________________________"
   ]
  },
  {
   "cell_type": "markdown",
   "metadata": {},
   "source": [
    "## 3 Find W when H0 is fixed"
   ]
  },
  {
   "cell_type": "markdown",
   "metadata": {},
   "source": [
    "### Question 3.1"
   ]
  },
  {
   "cell_type": "markdown",
   "metadata": {},
   "source": [
    "> We initialize the optimization algorithm as follows:  "
   ]
  },
  {
   "cell_type": "code",
   "execution_count": 24,
   "metadata": {},
   "outputs": [],
   "source": [
    "W0, S, H0 = scipy.sparse.linalg.svds(M, k)\n",
    "W0 = np.maximum(0, W0 * np.sqrt(S))  \n",
    "H0 = np.maximum(0,(H0.T * np.sqrt(S)).T)"
   ]
  },
  {
   "cell_type": "markdown",
   "metadata": {},
   "source": [
    "> What is the advantage of this choice? What would be other possibilities for the initialization?"
   ]
  },
  {
   "cell_type": "markdown",
   "metadata": {},
   "source": [
    "______________________________________________________________________________________________\n",
    "\n",
    "<b>Answer: </b> \n",
    "  \n",
    "That initialization takes the general solution of the minimization problem (in particular in the case k = 1) and projects it onto the domain of definition of our constraints; it has the advantage of probably giving us first iterations close to the global solutions.\n",
    "We could also initialize it randomly ( but still in the domain of the function ), or with zero matrices.\n",
    "______________________________________________________________________________________________"
   ]
  },
  {
   "cell_type": "markdown",
   "metadata": {},
   "source": [
    "<blockquote> In a first part, we would like to solve the simpler problem:\n",
    "    \n",
    "$g(W) = \\dfrac{1}{2np}\\left\\|M-WH_{0}\\right\\|^2_F$   \n",
    "$W^1 \\in \\underset{W≥0}{\\arg\\max}~~g(W)$ </blockquote>\n"
   ]
  },
  {
   "cell_type": "markdown",
   "metadata": {},
   "source": [
    "### Question 3.2"
   ]
  },
  {
   "cell_type": "markdown",
   "metadata": {},
   "source": [
    "<blockquote>Is the objective function g convex? Calculate its gradient. We will admit that the gradient\n",
    "of $g$ is Lipschitz continuous with constant $L_{0} = \\left\\|(H^{0})^{T}H^{0}\\right\\|_{F}$</blockquote>"
   ]
  },
  {
   "cell_type": "markdown",
   "metadata": {},
   "source": [
    "_________________________________________________________________________________________\n",
    "\n",
    "<b>Answer:</b>\n",
    "\n",
    "We already know from previous questions that :\n",
    "$$\n",
    "\\nabla_W g(W) = \\frac{1}{np} \\left( WH_0 - M \\right)\\cdot H_0^T\n",
    "$$\n",
    "Then, it gives us the following Hessian matrix : \n",
    "$$\n",
    "\\nabla^2_W g(W)= \\frac{1}{np} H_0^T\\cdot H_0\n",
    "$$\n",
    "\n",
    "Since $H_0$ is a positive matrix, the Hessian matrix is positive, and so $g$ is convex.\n",
    "\n",
    "__________________________________________________________________"
   ]
  },
  {
   "cell_type": "markdown",
   "metadata": {},
   "source": [
    "### Question 3.3"
   ]
  },
  {
   "cell_type": "markdown",
   "metadata": {},
   "source": [
    "<blockquote>Write a function to compute $g(W)$ and another to compute $∇g(W)$.\n",
    "You can check your computations using the function scipy.optimize.check grad (as\n",
    "check grad cannot deal with matrix variable, you may need to vectorize your variables).</blockquote>"
   ]
  },
  {
   "cell_type": "code",
   "execution_count": 25,
   "metadata": {},
   "outputs": [
    {
     "data": {
      "text/plain": [
       "0.00011011222732815545"
      ]
     },
     "execution_count": 25,
     "metadata": {},
     "output_type": "execute_result"
    }
   ],
   "source": [
    "def g(W):\n",
    "    return ((( np.linalg.norm( M + (-1) * np.dot(W,H0), ord='fro' ) )**2 ) / (2*n*p) )\n",
    "\n",
    "def grad_g(W):\n",
    "    return ( np.dot((np.dot(W,H0) + (-1) * M),( np.transpose(H0) ) ) / ( n * p ) )\n",
    "\n",
    "\n",
    "\n",
    "\n",
    "def val_g(W_l):\n",
    "    W = W_l.reshape((n,k))\n",
    "    return g(W)\n",
    "\n",
    "def val_grad_g(W_l):\n",
    "    W = W_l.reshape((n,k))\n",
    "    return grad_g(W).ravel()\n",
    "    \n",
    "\n",
    "scipy.optimize.check_grad(val_g, val_grad_g, W0.ravel())"
   ]
  },
  {
   "cell_type": "markdown",
   "metadata": {},
   "source": [
    "### Question 3.4"
   ]
  },
  {
   "cell_type": "markdown",
   "metadata": {},
   "source": [
    "<blockquote>Let us define the function:\n",
    "\n",
    "$ι_{\\mathbb{R} _{+}} : \\mathbb{R}  → \\mathbb{R}  ∪ \\left\\{ +∞ \\right\\} $  \n",
    "  \n",
    "$ x \\mapsto \\begin{cases}\n",
    "0 &\\text{ if }x ≥ 0 \\\\\n",
    "+∞ &\\text{ si }x < 0\n",
    "\\end{cases}$  \n",
    "\n",
    "Show that for all $γ > 0$, $prox_{γι_{\\mathbb{R} _{+}}}$ is the projection onto $\\mathbb{R} _{+}$.\n",
    "</blockquote> "
   ]
  },
  {
   "cell_type": "markdown",
   "metadata": {},
   "source": [
    "______________________________________________________________________________________________\n",
    "\n",
    "<b>Answer: </b> +\n",
    "  \n",
    "By definition, $prox_{γι_{\\mathbb{R} _{+}}}(x) = \\underset{y \\in \\mathbb{R}}{\\arg\\min}~~ \\lbrack~~γι_{\\mathbb{R} _{+}}(y)~+~\\dfrac{1}{2}\\left\\|y-x\\right\\|^2~~\\rbrack$\n",
    "\n",
    "But, since $γι_{\\mathbb{R} _{+}}(y)~=~+∞$ if $y < 0$ (since $γ > 0$), we can easily deduce that no minimum can be found if $y \\in \\mathbb{R} _{-}^{*}$. Thus:\n",
    "\n",
    "$prox_{γι_{\\mathbb{R} _{+}}}(x) = \\underset{y \\in \\mathbb{R}_{+}}{\\arg\\min}~~ \\lbrack~~γι_{\\mathbb{R} _{+}}(y)~+~\\dfrac{1}{2}\\left\\|y-x\\right\\|^2~~\\rbrack~=~\\underset{y \\in \\mathbb{R}_{+}}{\\arg\\min}~~ \\lbrack~~\\dfrac{1}{2}\\left\\|y-x\\right\\|^2~~\\rbrack~~~~~$  since $γι_{\\mathbb{R} _{+}}(y)~=~0$ for y ≥ 0\n",
    "\n",
    "\n",
    "Then, it becomes quite clear that:\n",
    "$prox_{γι_{\\mathbb{R} _{+}}}(x) \\mapsto \\begin{cases}\n",
    "0 &\\text{ if }x < 0 \\\\\n",
    "x &\\text{ si }x ≥ 0\n",
    "\\end{cases}$  \n",
    "\n",
    "$prox_{γι_{\\mathbb{R} _{+}}}$ is indeed the projection onto $\\mathbb{R} _{+}$.\n",
    "______________________________________________________________________________________________"
   ]
  },
  {
   "cell_type": "markdown",
   "metadata": {},
   "source": [
    "### Question 3.5"
   ]
  },
  {
   "cell_type": "markdown",
   "metadata": {},
   "source": [
    "<blockquote>Code a function projected_gradient_method(val_g, grad_g, W0, gamma, N) that minimizes a function $g$ subject to nonnegativity constraints by the projected gradient method with a constant step size γ, starting from $W_{0}$ and stopping after N iterations.</blockquote>"
   ]
  },
  {
   "cell_type": "markdown",
   "metadata": {},
   "source": [
    "______________________________________________________________________________________________\n",
    "\n",
    "<b>Answer: </b> \n",
    "\n",
    "We seek to minimize $g$ for W ≥ 0, ie to minimize $g + ι_{\\mathbb{R} _{+}}$ where $ι_{\\mathbb{R} _{+}}$ would be applied on all matrix coefficients.  \n",
    "Thus we can use the proximal gradient method, which uses the formula $x_{k+1}~=~prox_{γ_{k}g}(x_{k}~-~γ_{k}∇f(x_k))$ to minimize $f~+~g$ where $f$ has a L-Lipschitz gradient (it is the case here) and $γ_{k}$ is the step size; the results are better when using $γ_{k}~=~\\dfrac{1}{L}$.  \n",
    "Hence, we just have to use the projection onto $\\mathbb{R}_{+}^{n*k}$ (since we often vectorize our matrix) just as follows:\n",
    "\n",
    "______________________________________________________________________________________________"
   ]
  },
  {
   "cell_type": "code",
   "execution_count": 26,
   "metadata": {},
   "outputs": [],
   "source": [
    "def projected_gradient_method(val_g, grad_g, W0, gamma, N):\n",
    "    W = W0\n",
    "    for i in range(N):\n",
    "        W = np.maximum(0, W - gamma * grad_g(W).reshape((n,k)))\n",
    "    return (W, val_g(W))\n",
    "\n",
    "L0 = np.linalg.norm( np.dot(H0.transpose(),H0), ord='fro' ) / ( n * p )\n",
    "gamma = 1 / L0"
   ]
  },
  {
   "cell_type": "markdown",
   "metadata": {},
   "source": [
    "### Question 3.6"
   ]
  },
  {
   "cell_type": "markdown",
   "metadata": {},
   "source": [
    "<blockquote>Use the function to minimize g with N = 100.</blockquote>"
   ]
  },
  {
   "cell_type": "code",
   "execution_count": 27,
   "metadata": {},
   "outputs": [
    {
     "data": {
      "text/plain": [
       "(array([[ 0.        , 64.3604483 ],\n",
       "        [ 0.        , 70.75177521],\n",
       "        [ 0.        , 65.94946631],\n",
       "        [39.75077154, 64.93387918],\n",
       "        [24.66708428, 67.56358851],\n",
       "        [ 0.        , 69.04538406],\n",
       "        [ 0.        , 66.88002478],\n",
       "        [19.14268487, 63.08968098],\n",
       "        [58.43595376, 60.43372367],\n",
       "        [ 8.51197175, 65.10600402]]), 442.2878543960471)"
      ]
     },
     "execution_count": 27,
     "metadata": {},
     "output_type": "execute_result"
    }
   ],
   "source": [
    "projected_gradient_method(g, grad_g, W0, gamma, 100)"
   ]
  },
  {
   "cell_type": "markdown",
   "metadata": {},
   "source": [
    "## 4 Algorithmic refinement for the problem with H0 fixed"
   ]
  },
  {
   "cell_type": "markdown",
   "metadata": {},
   "source": [
    "### Question 4.1"
   ]
  },
  {
   "cell_type": "markdown",
   "metadata": {},
   "source": [
    "<blockquote>Implement a line search to the projected gradient method, in order to free ourselves from\n",
    "the need of a known Lipschitz constant.</blockquote>"
   ]
  },
  {
   "cell_type": "markdown",
   "metadata": {},
   "source": [
    "______________________________________________________________________________________________\n",
    "\n",
    "<b>Answer: </b> \n",
    "\n",
    "We implement a Taylor-based line search: it is a gradient method, thus at each step: $x_{k+1}~=~x_{k}~-~γ_{k}∇f(x_k)$.  \n",
    "The Taylor-based line search chooses a step size $γ_{k}$ such that for the tentative update defined by $x^{+}(γ_k)~=~x_k~−~γ_{k}∇f(x_k)$, we have :  \n",
    "$ f(x^{+}(γ_k))~≤~f(x_k)~+~<∇f(xk),~x^{+}(γ_k)~−~x_{k}>~+~\\dfrac{1}{2γ_k}\\left\\|x_k~−~x^{+}(γ_k)\\right\\|^2$\n",
    "\n",
    "We set b > 0, a ∈ (0, 1) and at each step we find the first nonnegative integer l such that if we set $γ_k~=~ba^l$ the inequality is verified.  \n",
    "\n",
    "Classical choices for the parameters are $a = 0.5$ and $b = 2γ_{k−1}$; we'll choose that here (and $γ_{0}=1$).\n",
    "\n",
    "\n",
    "\n",
    "______________________________________________________________________________________________"
   ]
  },
  {
   "cell_type": "code",
   "execution_count": 28,
   "metadata": {},
   "outputs": [
    {
     "data": {
      "text/plain": [
       "(array([[ 0.        , 64.3604483 ],\n",
       "        [ 0.        , 70.75177521],\n",
       "        [ 0.        , 65.94946631],\n",
       "        [41.69483347, 64.70697438],\n",
       "        [25.80283743, 67.43145254],\n",
       "        [ 0.        , 69.04538406],\n",
       "        [ 0.        , 66.88002478],\n",
       "        [18.85454089, 63.13069023],\n",
       "        [60.93474248, 60.14423685],\n",
       "        [ 8.25851268, 65.13962292]]), 442.21842244895686)"
      ]
     },
     "execution_count": 28,
     "metadata": {},
     "output_type": "execute_result"
    }
   ],
   "source": [
    "#To simplify the code, we define the following function:\n",
    "\n",
    "def dot_product_frobenius(A,B):\n",
    "    return np.trace(np.dot(A,np.transpose(B)))\n",
    "\n",
    "\n",
    "\n",
    "def line_search_method(val_g, grad_g, W0, N):\n",
    "    W=W0\n",
    "    gamma=0.5\n",
    "    a=0.5\n",
    "    for i in range(N):\n",
    "        b = 2 * gamma\n",
    "        l = 0\n",
    "        W_plus = np.maximum(W - b * (a**l) * grad_g(W).reshape((n,k)),0)\n",
    "        while( \n",
    "            val_g( W_plus ) > ( val_g(W) + dot_product_frobenius( grad_g(W).reshape((n,k)), W_plus - W )\n",
    "                                  + ( np.linalg.norm( W - W_plus )**2 )/( b * (a**l) ) ) \n",
    "        ):\n",
    "            l+=1\n",
    "            W_plus = np.maximum(W - b * (a**l) * grad_g(W).reshape((n,k)),0)\n",
    "        gamma = b * (a**l)\n",
    "        W = np.maximum(W - gamma * grad_g(W).reshape((n,k)),0)\n",
    "    return (W, val_g(W))\n",
    "    \n",
    "    \n"
   ]
  },
  {
   "cell_type": "markdown",
   "metadata": {},
   "source": [
    "### Question 4.2"
   ]
  },
  {
   "cell_type": "markdown",
   "metadata": {},
   "source": [
    "<blockquote>Compare the performance of both algorithms.</blockquote>"
   ]
  },
  {
   "cell_type": "code",
   "execution_count": 29,
   "metadata": {},
   "outputs": [
    {
     "name": "stdout",
     "output_type": "stream",
     "text": [
      "The simple projected gradient method takes 0.4855821132659912 seconds for 100 iterations\n",
      "The line search projected gradient method takes 3.8914384841918945 seconds for 100 iterations\n"
     ]
    }
   ],
   "source": [
    "# Computing the time that the first algorithm takes for 100 iterations:\n",
    "\n",
    "begin_proj = time.time()\n",
    "projected_gradient_method(g, grad_g, W0, gamma, 100)\n",
    "end_proj = time.time()\n",
    "\n",
    "\n",
    "\n",
    "\n",
    "# Computing the time that the line search algorithm takes for 100 iterations:\n",
    "\n",
    "begin_line = time.time()\n",
    "line_search_method(g,grad_g,W0,100)\n",
    "end_line = time.time()\n",
    "\n",
    "\n",
    "# Comparing:\n",
    "\n",
    "print(\"The simple projected gradient method takes {} seconds for 100 iterations\".format(end_proj-begin_proj))\n",
    "print(\"The line search projected gradient method takes {} seconds for 100 iterations\".format(end_line-begin_line))"
   ]
  },
  {
   "cell_type": "markdown",
   "metadata": {},
   "source": [
    "__________________________________________________________________________________________________________\n",
    "\n",
    "<b>Answer:</b>\n",
    "\n",
    "As we can see, the projected gradient method is way faster than the line search integrated one; it is quite logical. Indeed, in each step, in the latter case, we search for a good step size for the descent, using a loop inside another loop; in the former case, the step size is fixed, sparing us lots of operations. But at the same time, it makes the line search algorithm more precise: at each step, the step size is tailored to the neighborhood of g(W), and it gives better results than using one constant fixed step size, even if we choose the inverse of the Lipschitz continuous value to make it as precise as possible. Once again, it is quite logical to note that adaptative methods give more precise results, in return of worse time complexity.\n",
    "\n",
    "_________________________________________________________________________________________________________"
   ]
  },
  {
   "cell_type": "markdown",
   "metadata": {},
   "source": [
    "## 5 Resolution of the full problem"
   ]
  },
  {
   "cell_type": "markdown",
   "metadata": {},
   "source": [
    "### Question 5.1"
   ]
  },
  {
   "cell_type": "markdown",
   "metadata": {},
   "source": [
    "Solve Problem (1) by the projected gradient method with line search for N = 1000 iterations.\n",
    "What does the algorithm return?"
   ]
  },
  {
   "cell_type": "code",
   "execution_count": 39,
   "metadata": {},
   "outputs": [
    {
     "data": {
      "text/plain": [
       "(408.2250021381322, array([[ 0.        , 66.29054872],\n",
       "        [ 0.        , 72.61767933],\n",
       "        [ 0.        , 67.9283982 ],\n",
       "        [34.90836853, 63.33791994],\n",
       "        [24.63112676, 66.58721166],\n",
       "        [ 2.43420989, 70.27052717],\n",
       "        [ 0.67070973, 68.44791169],\n",
       "        [26.70328914, 60.85239692],\n",
       "        [51.30269622, 57.18946527],\n",
       "        [14.18826782, 64.52667722]]), array([[1.52617818e-01, 4.67778083e-02, 6.15715363e-04, ...,\n",
       "         0.00000000e+00, 0.00000000e+00, 0.00000000e+00],\n",
       "        [6.93159094e-01, 7.46829871e-01, 7.19503483e-01, ...,\n",
       "         7.63586594e-01, 7.19394518e-01, 7.53516778e-01]]))"
      ]
     },
     "execution_count": 39,
     "metadata": {},
     "output_type": "execute_result"
    }
   ],
   "source": [
    "#First, we implement the overall function & the two gradients:\n",
    "\n",
    "def f(W, H):\n",
    "    return np.linalg.norm( M - np.dot(W, H) ) ** 2 / (2 * n * p)\n",
    "\n",
    "def grad_W(W, H):\n",
    "    return np.dot(np.dot(W, H) - M, H.transpose()) / (n * p)\n",
    "\n",
    "def grad_H(W, H):\n",
    "    return np.dot(W.transpose(), np.dot(W, H) - M) / (n * p)\n",
    "\n",
    "\n",
    "#Then, I implemented the Armijo line search (for beta=0.5, it is equivalent to the Taylor-based one):\n",
    "\n",
    "\n",
    "def projected_line_search_gradient_method(f,W0,H0,gradW,gradH,N,a=0.5,b=0.5,beta=0.5):\n",
    "\n",
    "    W_plus = W0\n",
    "    H_plus = H0\n",
    "    for i in range(N):\n",
    "        W = W_plus\n",
    "        H = H_plus\n",
    "        l = 0\n",
    "        W_plus = np.maximum(0, W - b * (a ** l) * gradW(W, H))\n",
    "        H_plus = np.maximum(0, H - b * (a ** l) * gradH(W, H))\n",
    "        \n",
    "        #the loop condition is modified\n",
    "        while (f(W_plus,H_plus) > f(W,H) + beta * np.vdot( gradW( W, H),W_plus - W) \n",
    "               + beta * np.vdot(gradH( W, H),H_plus - H)):\n",
    "            l += 1\n",
    "            W_plus = np.maximum(0, W - b * (a**l) * gradW(W, H))\n",
    "            H_plus = np.maximum(0, H - b * (a**l) * gradH(W, H))\n",
    "    return f(W_plus, H_plus),W_plus,H_plus\n",
    "\n",
    "\n",
    "\n",
    "projected_line_search_gradient_method(f,W0,H0,grad_W,grad_H,100,a=0.5,b=0.5,beta=0.5)"
   ]
  },
  {
   "cell_type": "code",
   "execution_count": null,
   "metadata": {},
   "outputs": [],
   "source": []
  },
  {
   "cell_type": "markdown",
   "metadata": {},
   "source": [
    "### Question 5.2"
   ]
  },
  {
   "cell_type": "markdown",
   "metadata": {},
   "source": [
    "<blockquote> </blockquote>"
   ]
  },
  {
   "cell_type": "markdown",
   "metadata": {},
   "source": [
    "__________________________________________________________________________________________________________\n",
    "\n",
    "<b>Answer:</b>\n",
    "Let $f(W,H)=\\frac{1}{2np}||\\left(M-WH)\\right ||^{2}_F$,  \n",
    "for $t\\geq1$, we know that :   \n",
    "$W_t=argmin_W \\frac{1}{2np}||\\left(M-WH)\\right ||^{2}_F$ and   \n",
    "$H_t=argmin_H \\frac{1}{2np}||\\left(M-WH)\\right ||^{2}_F$   \n",
    "  \n",
    "so, $f(W_t,H_{t-1})<f(W_{t-1},H_{t-1})$ and $f(W_t,H_t)<f(W_t,H_{t-1})$   \n",
    "thus we have, $f(W_t,H_t)<f(W_{t-1},H_{t-1})$ i.e the sequence is decreasing  \n",
    "  \n",
    "Moreover, the sequence is minored by 0 since the norm is always positive so the whole sequence is converging\n",
    "__________________________________________________________________________________________________________\n"
   ]
  },
  {
   "cell_type": "markdown",
   "metadata": {},
   "source": [
    "### Question 5.3"
   ]
  },
  {
   "cell_type": "markdown",
   "metadata": {},
   "source": [
    "<blockquote>Code the alternate minimizations method.</blockquote>"
   ]
  },
  {
   "cell_type": "code",
   "execution_count": null,
   "metadata": {},
   "outputs": [],
   "source": []
  }
 ],
 "metadata": {
  "kernelspec": {
   "display_name": "Python 3",
   "language": "python",
   "name": "python3"
  },
  "language_info": {
   "codemirror_mode": {
    "name": "ipython",
    "version": 3
   },
   "file_extension": ".py",
   "mimetype": "text/x-python",
   "name": "python",
   "nbconvert_exporter": "python",
   "pygments_lexer": "ipython3",
   "version": "3.6.4"
  }
 },
 "nbformat": 4,
 "nbformat_minor": 2
}
