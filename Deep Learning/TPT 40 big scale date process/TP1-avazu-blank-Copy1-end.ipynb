{
 "cells": [
  {
   "cell_type": "markdown",
   "metadata": {},
   "source": [
    "<h1><center>Practice of Large Scale Machine Learning - TP1 Avazu<center></h1>\n",
    "<h2><center>ATHENS 2018<center></h2>"
   ]
  },
  {
   "cell_type": "markdown",
   "metadata": {},
   "source": [
    "#### For any remark or suggestion, please feel free to contact us at: \n",
    "#### pascal.bianchi@telecom-paristech.fr\n",
    "#### nidham.gazagnadou@telecom-paristech.fr"
   ]
  },
  {
   "cell_type": "markdown",
   "metadata": {},
   "source": [
    "<font color=\"red\">**Question:**\n",
    "    Import the needed packages: numpy, pandas etc..\n",
    "</font>"
   ]
  },
  {
   "cell_type": "code",
   "execution_count": 51,
   "metadata": {},
   "outputs": [],
   "source": [
    "import numpy as np\n",
    "import pandas as pd\n",
    "import matplotlib.pyplot as plt\n",
    "import seaborn as sns\n",
    "import datetime\n",
    "%matplotlib inline"
   ]
  },
  {
   "cell_type": "markdown",
   "metadata": {},
   "source": [
    "# The dataset"
   ]
  },
  {
   "cell_type": "markdown",
   "metadata": {},
   "source": [
    "<font color=\"red\">**Question:**\n",
    "    Load the data into a pandas DataFrame and display the first lines with the \".head()\" method.\n",
    "    <br>\n",
    "</font>\n",
    "**Remark**: the features meaning is available at https://www.kaggle.com/c/avazu-ctr-prediction/data"
   ]
  },
  {
   "cell_type": "code",
   "execution_count": 52,
   "metadata": {},
   "outputs": [],
   "source": [
    "df = pd.read_csv('../data/train-1000000')"
   ]
  },
  {
   "cell_type": "code",
   "execution_count": 53,
   "metadata": {},
   "outputs": [
    {
     "data": {
      "text/html": [
       "<div>\n",
       "<style scoped>\n",
       "    .dataframe tbody tr th:only-of-type {\n",
       "        vertical-align: middle;\n",
       "    }\n",
       "\n",
       "    .dataframe tbody tr th {\n",
       "        vertical-align: top;\n",
       "    }\n",
       "\n",
       "    .dataframe thead th {\n",
       "        text-align: right;\n",
       "    }\n",
       "</style>\n",
       "<table border=\"1\" class=\"dataframe\">\n",
       "  <thead>\n",
       "    <tr style=\"text-align: right;\">\n",
       "      <th></th>\n",
       "      <th>id</th>\n",
       "      <th>click</th>\n",
       "      <th>hour</th>\n",
       "      <th>C1</th>\n",
       "      <th>banner_pos</th>\n",
       "      <th>site_id</th>\n",
       "      <th>site_domain</th>\n",
       "      <th>site_category</th>\n",
       "      <th>app_id</th>\n",
       "      <th>app_domain</th>\n",
       "      <th>...</th>\n",
       "      <th>device_type</th>\n",
       "      <th>device_conn_type</th>\n",
       "      <th>C14</th>\n",
       "      <th>C15</th>\n",
       "      <th>C16</th>\n",
       "      <th>C17</th>\n",
       "      <th>C18</th>\n",
       "      <th>C19</th>\n",
       "      <th>C20</th>\n",
       "      <th>C21</th>\n",
       "    </tr>\n",
       "  </thead>\n",
       "  <tbody>\n",
       "    <tr>\n",
       "      <th>0</th>\n",
       "      <td>3.983206e+18</td>\n",
       "      <td>0</td>\n",
       "      <td>14102915</td>\n",
       "      <td>1005</td>\n",
       "      <td>1</td>\n",
       "      <td>e151e245</td>\n",
       "      <td>7e091613</td>\n",
       "      <td>f028772b</td>\n",
       "      <td>ecad2386</td>\n",
       "      <td>7801e8d9</td>\n",
       "      <td>...</td>\n",
       "      <td>1</td>\n",
       "      <td>2</td>\n",
       "      <td>4687</td>\n",
       "      <td>320</td>\n",
       "      <td>50</td>\n",
       "      <td>423</td>\n",
       "      <td>2</td>\n",
       "      <td>39</td>\n",
       "      <td>100148</td>\n",
       "      <td>32</td>\n",
       "    </tr>\n",
       "    <tr>\n",
       "      <th>1</th>\n",
       "      <td>7.756884e+18</td>\n",
       "      <td>0</td>\n",
       "      <td>14103007</td>\n",
       "      <td>1002</td>\n",
       "      <td>0</td>\n",
       "      <td>cb809abf</td>\n",
       "      <td>74acf31a</td>\n",
       "      <td>50e219e0</td>\n",
       "      <td>ecad2386</td>\n",
       "      <td>7801e8d9</td>\n",
       "      <td>...</td>\n",
       "      <td>0</td>\n",
       "      <td>0</td>\n",
       "      <td>17894</td>\n",
       "      <td>320</td>\n",
       "      <td>50</td>\n",
       "      <td>2039</td>\n",
       "      <td>2</td>\n",
       "      <td>39</td>\n",
       "      <td>100077</td>\n",
       "      <td>32</td>\n",
       "    </tr>\n",
       "    <tr>\n",
       "      <th>2</th>\n",
       "      <td>6.941774e+17</td>\n",
       "      <td>0</td>\n",
       "      <td>14102711</td>\n",
       "      <td>1005</td>\n",
       "      <td>0</td>\n",
       "      <td>85f751fd</td>\n",
       "      <td>c4e18dd6</td>\n",
       "      <td>50e219e0</td>\n",
       "      <td>e9739828</td>\n",
       "      <td>df32afa9</td>\n",
       "      <td>...</td>\n",
       "      <td>1</td>\n",
       "      <td>0</td>\n",
       "      <td>22684</td>\n",
       "      <td>320</td>\n",
       "      <td>50</td>\n",
       "      <td>2619</td>\n",
       "      <td>1</td>\n",
       "      <td>163</td>\n",
       "      <td>100055</td>\n",
       "      <td>71</td>\n",
       "    </tr>\n",
       "    <tr>\n",
       "      <th>3</th>\n",
       "      <td>2.664154e+18</td>\n",
       "      <td>1</td>\n",
       "      <td>14102903</td>\n",
       "      <td>1005</td>\n",
       "      <td>0</td>\n",
       "      <td>85f751fd</td>\n",
       "      <td>c4e18dd6</td>\n",
       "      <td>50e219e0</td>\n",
       "      <td>a5184c22</td>\n",
       "      <td>b8d325c3</td>\n",
       "      <td>...</td>\n",
       "      <td>1</td>\n",
       "      <td>0</td>\n",
       "      <td>23222</td>\n",
       "      <td>320</td>\n",
       "      <td>50</td>\n",
       "      <td>2676</td>\n",
       "      <td>0</td>\n",
       "      <td>35</td>\n",
       "      <td>100176</td>\n",
       "      <td>221</td>\n",
       "    </tr>\n",
       "    <tr>\n",
       "      <th>4</th>\n",
       "      <td>1.480510e+19</td>\n",
       "      <td>0</td>\n",
       "      <td>14102902</td>\n",
       "      <td>1005</td>\n",
       "      <td>1</td>\n",
       "      <td>791b5571</td>\n",
       "      <td>fd13bc73</td>\n",
       "      <td>f028772b</td>\n",
       "      <td>ecad2386</td>\n",
       "      <td>7801e8d9</td>\n",
       "      <td>...</td>\n",
       "      <td>1</td>\n",
       "      <td>0</td>\n",
       "      <td>8330</td>\n",
       "      <td>320</td>\n",
       "      <td>50</td>\n",
       "      <td>761</td>\n",
       "      <td>3</td>\n",
       "      <td>175</td>\n",
       "      <td>100081</td>\n",
       "      <td>23</td>\n",
       "    </tr>\n",
       "  </tbody>\n",
       "</table>\n",
       "<p>5 rows × 24 columns</p>\n",
       "</div>"
      ],
      "text/plain": [
       "             id  click      hour    C1  banner_pos   site_id site_domain  \\\n",
       "0  3.983206e+18      0  14102915  1005           1  e151e245    7e091613   \n",
       "1  7.756884e+18      0  14103007  1002           0  cb809abf    74acf31a   \n",
       "2  6.941774e+17      0  14102711  1005           0  85f751fd    c4e18dd6   \n",
       "3  2.664154e+18      1  14102903  1005           0  85f751fd    c4e18dd6   \n",
       "4  1.480510e+19      0  14102902  1005           1  791b5571    fd13bc73   \n",
       "\n",
       "  site_category    app_id app_domain ...  device_type device_conn_type    C14  \\\n",
       "0      f028772b  ecad2386   7801e8d9 ...            1                2   4687   \n",
       "1      50e219e0  ecad2386   7801e8d9 ...            0                0  17894   \n",
       "2      50e219e0  e9739828   df32afa9 ...            1                0  22684   \n",
       "3      50e219e0  a5184c22   b8d325c3 ...            1                0  23222   \n",
       "4      f028772b  ecad2386   7801e8d9 ...            1                0   8330   \n",
       "\n",
       "   C15  C16   C17  C18  C19     C20  C21  \n",
       "0  320   50   423    2   39  100148   32  \n",
       "1  320   50  2039    2   39  100077   32  \n",
       "2  320   50  2619    1  163  100055   71  \n",
       "3  320   50  2676    0   35  100176  221  \n",
       "4  320   50   761    3  175  100081   23  \n",
       "\n",
       "[5 rows x 24 columns]"
      ]
     },
     "execution_count": 53,
     "metadata": {},
     "output_type": "execute_result"
    }
   ],
   "source": [
    "df.head() # Fill here"
   ]
  },
  {
   "cell_type": "markdown",
   "metadata": {},
   "source": [
    "<font color=\"red\">**Question:**\n",
    "    What is the 'click' frequency in the dataset?\n",
    "    <br>\n",
    "    Hint: 'click' is a binary output (0 or 1)\n",
    "</font>"
   ]
  },
  {
   "cell_type": "code",
   "execution_count": 54,
   "metadata": {},
   "outputs": [
    {
     "data": {
      "text/plain": [
       "0.169971"
      ]
     },
     "execution_count": 54,
     "metadata": {},
     "output_type": "execute_result"
    }
   ],
   "source": [
    "df['click'].sum()/df.count()[1] # Fill here"
   ]
  },
  {
   "cell_type": "markdown",
   "metadata": {},
   "source": [
    "We note that the Avazu dataset is very unbalanced. The 'click' class represents less than a fifth of the whole database. We already know that a classifier always predicting 'click'=0 will have good preformances in terms of error rate (around 0.17). The ROC and lift curves will be better performance metrics."
   ]
  },
  {
   "cell_type": "markdown",
   "metadata": {},
   "source": [
    "<font color=\"red\">**Question:**\n",
    "    What are the categorical features? Using the 'df.nunique()' method, compute the number of distincts values for each of these features.\n",
    "</font>"
   ]
  },
  {
   "cell_type": "code",
   "execution_count": 55,
   "metadata": {},
   "outputs": [
    {
     "data": {
      "text/plain": [
       "id                  1000000\n",
       "click                     2\n",
       "hour                    240\n",
       "C1                        7\n",
       "banner_pos                7\n",
       "site_id                2651\n",
       "site_domain            2871\n",
       "site_category            22\n",
       "app_id                 3157\n",
       "app_domain              198\n",
       "app_category             26\n",
       "device_id            150501\n",
       "device_ip            555248\n",
       "device_model           5168\n",
       "device_type               5\n",
       "device_conn_type          4\n",
       "C14                    2243\n",
       "C15                       8\n",
       "C16                       9\n",
       "C17                     420\n",
       "C18                       4\n",
       "C19                      66\n",
       "C20                     163\n",
       "C21                      60\n",
       "dtype: int64"
      ]
     },
     "execution_count": 55,
     "metadata": {},
     "output_type": "execute_result"
    }
   ],
   "source": [
    "df.nunique() # Fill here"
   ]
  },
  {
   "cell_type": "markdown",
   "metadata": {},
   "source": [
    "<font color=\"red\">**Question:**\n",
    "    If one does a dummy encoding of all categorical variables, what would be the dimension of the model?\n",
    "    In other words: what would be the dimension of our big feature vector encoded with dummies. \n",
    "    <br>\n",
    "    Hint: if you have just 1 feature with 3 categories A, B and C, you would have a vector of dimension 3 (or 2 if you use drop_first=True).\n",
    "</font>"
   ]
  },
  {
   "cell_type": "code",
   "execution_count": 56,
   "metadata": {},
   "outputs": [
    {
     "data": {
      "text/plain": [
       "1723080"
      ]
     },
     "execution_count": 56,
     "metadata": {},
     "output_type": "execute_result"
    }
   ],
   "source": [
    "df.nunique().values.sum() "
   ]
  },
  {
   "cell_type": "markdown",
   "metadata": {},
   "source": [
    "<font color=\"red\">**Question:**\n",
    "    Analyze the 'hour' column: which format is used? How can we transform/simply this feature?\n",
    "</font>"
   ]
  },
  {
   "cell_type": "code",
   "execution_count": 57,
   "metadata": {},
   "outputs": [
    {
     "name": "stdout",
     "output_type": "stream",
     "text": [
      "0    14102915\n",
      "1    14103007\n",
      "2    14102711\n",
      "3    14102903\n",
      "4    14102902\n",
      "Name: hour, dtype: int64\n",
      "999995    14102602\n",
      "999996    14102101\n",
      "999997    14102318\n",
      "999998    14102908\n",
      "999999    14102600\n",
      "Name: hour, dtype: int64\n",
      "923\n"
     ]
    }
   ],
   "source": [
    "print(df[ 'hour' ].head()) # Fill here\n",
    "print(df[ 'hour' ].tail()) # Fill here\n",
    "print(df['hour'].max()-df['hour'].min())"
   ]
  },
  {
   "cell_type": "markdown",
   "metadata": {},
   "source": [
    "<font color=\"red\">**Question:**\n",
    "    Run and understand the following script.\n",
    "</font>"
   ]
  },
  {
   "cell_type": "code",
   "execution_count": 58,
   "metadata": {},
   "outputs": [
    {
     "data": {
      "text/plain": [
       "(2, 15)"
      ]
     },
     "execution_count": 58,
     "metadata": {},
     "output_type": "execute_result"
    }
   ],
   "source": [
    "import datetime\n",
    "def datesplit(originalDate):\n",
    "    originalDate = str(originalDate)\n",
    "    \n",
    "    year = int(\"20\" + originalDate[0:2])\n",
    "    month = int(originalDate[2:4])\n",
    "    day = int(originalDate[4:6])\n",
    "    hour = int(originalDate[6:8])\n",
    "    \n",
    "    return datetime.datetime(year, month, day, hour)\n",
    "\n",
    "# Exemple :\n",
    "datesplit(14102915).weekday(), datesplit(14102915).hour"
   ]
  },
  {
   "cell_type": "markdown",
   "metadata": {},
   "source": [
    "<font color=\"red\">**Question:**\n",
    "    Using the \".apply( ... )\" method, create a 'weekday' for the day of the week. Then, replace the 'hour' column by the hour.\n",
    "</font>"
   ]
  },
  {
   "cell_type": "markdown",
   "metadata": {},
   "source": [
    "To answer this question you have to understand that applies takes a function as argument\n",
    "<br>\n",
    "\"lambda x: ... \" is used to create local unamed function of x\n",
    "<br>\n",
    "Check the documentation: https://docs.python.org/3/tutorial/controlflow.html#lambda-expressions"
   ]
  },
  {
   "cell_type": "code",
   "execution_count": 59,
   "metadata": {},
   "outputs": [],
   "source": [
    "df['weekday'] = df['hour'].apply(lambda x: datesplit(x).weekday() ) # Fill here\n",
    "df['hour'] = df['hour'].apply(lambda x: datesplit(x).hour ) # Fill here"
   ]
  },
  {
   "cell_type": "code",
   "execution_count": 60,
   "metadata": {},
   "outputs": [
    {
     "name": "stdout",
     "output_type": "stream",
     "text": [
      "0    2\n",
      "1    3\n",
      "2    0\n",
      "3    2\n",
      "4    2\n",
      "Name: weekday, dtype: int64\n"
     ]
    },
    {
     "data": {
      "text/plain": [
       "0    15\n",
       "1     7\n",
       "2    11\n",
       "3     3\n",
       "4     2\n",
       "Name: hour, dtype: int64"
      ]
     },
     "execution_count": 60,
     "metadata": {},
     "output_type": "execute_result"
    }
   ],
   "source": [
    "print(df['weekday'].head())\n",
    "df['hour'].head()"
   ]
  },
  {
   "cell_type": "code",
   "execution_count": 61,
   "metadata": {},
   "outputs": [
    {
     "data": {
      "text/html": [
       "<div>\n",
       "<style scoped>\n",
       "    .dataframe tbody tr th:only-of-type {\n",
       "        vertical-align: middle;\n",
       "    }\n",
       "\n",
       "    .dataframe tbody tr th {\n",
       "        vertical-align: top;\n",
       "    }\n",
       "\n",
       "    .dataframe thead th {\n",
       "        text-align: right;\n",
       "    }\n",
       "</style>\n",
       "<table border=\"1\" class=\"dataframe\">\n",
       "  <thead>\n",
       "    <tr style=\"text-align: right;\">\n",
       "      <th></th>\n",
       "      <th>id</th>\n",
       "      <th>click</th>\n",
       "      <th>hour</th>\n",
       "      <th>C1</th>\n",
       "      <th>banner_pos</th>\n",
       "      <th>site_id</th>\n",
       "      <th>site_domain</th>\n",
       "      <th>site_category</th>\n",
       "      <th>app_id</th>\n",
       "      <th>app_domain</th>\n",
       "      <th>...</th>\n",
       "      <th>device_conn_type</th>\n",
       "      <th>C14</th>\n",
       "      <th>C15</th>\n",
       "      <th>C16</th>\n",
       "      <th>C17</th>\n",
       "      <th>C18</th>\n",
       "      <th>C19</th>\n",
       "      <th>C20</th>\n",
       "      <th>C21</th>\n",
       "      <th>weekday</th>\n",
       "    </tr>\n",
       "  </thead>\n",
       "  <tbody>\n",
       "    <tr>\n",
       "      <th>0</th>\n",
       "      <td>3.983206e+18</td>\n",
       "      <td>0</td>\n",
       "      <td>15</td>\n",
       "      <td>1005</td>\n",
       "      <td>1</td>\n",
       "      <td>e151e245</td>\n",
       "      <td>7e091613</td>\n",
       "      <td>f028772b</td>\n",
       "      <td>ecad2386</td>\n",
       "      <td>7801e8d9</td>\n",
       "      <td>...</td>\n",
       "      <td>2</td>\n",
       "      <td>4687</td>\n",
       "      <td>320</td>\n",
       "      <td>50</td>\n",
       "      <td>423</td>\n",
       "      <td>2</td>\n",
       "      <td>39</td>\n",
       "      <td>100148</td>\n",
       "      <td>32</td>\n",
       "      <td>2</td>\n",
       "    </tr>\n",
       "    <tr>\n",
       "      <th>1</th>\n",
       "      <td>7.756884e+18</td>\n",
       "      <td>0</td>\n",
       "      <td>7</td>\n",
       "      <td>1002</td>\n",
       "      <td>0</td>\n",
       "      <td>cb809abf</td>\n",
       "      <td>74acf31a</td>\n",
       "      <td>50e219e0</td>\n",
       "      <td>ecad2386</td>\n",
       "      <td>7801e8d9</td>\n",
       "      <td>...</td>\n",
       "      <td>0</td>\n",
       "      <td>17894</td>\n",
       "      <td>320</td>\n",
       "      <td>50</td>\n",
       "      <td>2039</td>\n",
       "      <td>2</td>\n",
       "      <td>39</td>\n",
       "      <td>100077</td>\n",
       "      <td>32</td>\n",
       "      <td>3</td>\n",
       "    </tr>\n",
       "    <tr>\n",
       "      <th>2</th>\n",
       "      <td>6.941774e+17</td>\n",
       "      <td>0</td>\n",
       "      <td>11</td>\n",
       "      <td>1005</td>\n",
       "      <td>0</td>\n",
       "      <td>85f751fd</td>\n",
       "      <td>c4e18dd6</td>\n",
       "      <td>50e219e0</td>\n",
       "      <td>e9739828</td>\n",
       "      <td>df32afa9</td>\n",
       "      <td>...</td>\n",
       "      <td>0</td>\n",
       "      <td>22684</td>\n",
       "      <td>320</td>\n",
       "      <td>50</td>\n",
       "      <td>2619</td>\n",
       "      <td>1</td>\n",
       "      <td>163</td>\n",
       "      <td>100055</td>\n",
       "      <td>71</td>\n",
       "      <td>0</td>\n",
       "    </tr>\n",
       "    <tr>\n",
       "      <th>3</th>\n",
       "      <td>2.664154e+18</td>\n",
       "      <td>1</td>\n",
       "      <td>3</td>\n",
       "      <td>1005</td>\n",
       "      <td>0</td>\n",
       "      <td>85f751fd</td>\n",
       "      <td>c4e18dd6</td>\n",
       "      <td>50e219e0</td>\n",
       "      <td>a5184c22</td>\n",
       "      <td>b8d325c3</td>\n",
       "      <td>...</td>\n",
       "      <td>0</td>\n",
       "      <td>23222</td>\n",
       "      <td>320</td>\n",
       "      <td>50</td>\n",
       "      <td>2676</td>\n",
       "      <td>0</td>\n",
       "      <td>35</td>\n",
       "      <td>100176</td>\n",
       "      <td>221</td>\n",
       "      <td>2</td>\n",
       "    </tr>\n",
       "    <tr>\n",
       "      <th>4</th>\n",
       "      <td>1.480510e+19</td>\n",
       "      <td>0</td>\n",
       "      <td>2</td>\n",
       "      <td>1005</td>\n",
       "      <td>1</td>\n",
       "      <td>791b5571</td>\n",
       "      <td>fd13bc73</td>\n",
       "      <td>f028772b</td>\n",
       "      <td>ecad2386</td>\n",
       "      <td>7801e8d9</td>\n",
       "      <td>...</td>\n",
       "      <td>0</td>\n",
       "      <td>8330</td>\n",
       "      <td>320</td>\n",
       "      <td>50</td>\n",
       "      <td>761</td>\n",
       "      <td>3</td>\n",
       "      <td>175</td>\n",
       "      <td>100081</td>\n",
       "      <td>23</td>\n",
       "      <td>2</td>\n",
       "    </tr>\n",
       "  </tbody>\n",
       "</table>\n",
       "<p>5 rows × 25 columns</p>\n",
       "</div>"
      ],
      "text/plain": [
       "             id  click  hour    C1  banner_pos   site_id site_domain  \\\n",
       "0  3.983206e+18      0    15  1005           1  e151e245    7e091613   \n",
       "1  7.756884e+18      0     7  1002           0  cb809abf    74acf31a   \n",
       "2  6.941774e+17      0    11  1005           0  85f751fd    c4e18dd6   \n",
       "3  2.664154e+18      1     3  1005           0  85f751fd    c4e18dd6   \n",
       "4  1.480510e+19      0     2  1005           1  791b5571    fd13bc73   \n",
       "\n",
       "  site_category    app_id app_domain   ...    device_conn_type    C14  C15  \\\n",
       "0      f028772b  ecad2386   7801e8d9   ...                   2   4687  320   \n",
       "1      50e219e0  ecad2386   7801e8d9   ...                   0  17894  320   \n",
       "2      50e219e0  e9739828   df32afa9   ...                   0  22684  320   \n",
       "3      50e219e0  a5184c22   b8d325c3   ...                   0  23222  320   \n",
       "4      f028772b  ecad2386   7801e8d9   ...                   0   8330  320   \n",
       "\n",
       "  C16   C17  C18  C19     C20  C21  weekday  \n",
       "0  50   423    2   39  100148   32        2  \n",
       "1  50  2039    2   39  100077   32        3  \n",
       "2  50  2619    1  163  100055   71        0  \n",
       "3  50  2676    0   35  100176  221        2  \n",
       "4  50   761    3  175  100081   23        2  \n",
       "\n",
       "[5 rows x 25 columns]"
      ]
     },
     "execution_count": 61,
     "metadata": {},
     "output_type": "execute_result"
    }
   ],
   "source": [
    "df.head()"
   ]
  },
  {
   "cell_type": "markdown",
   "metadata": {},
   "source": [
    "<font color=\"red\">**Question:**\n",
    "    Using the \".groupby( ... )\" method, visualize the influence of the hour and of the day on the 'click' frequency (take the \".mean()\"!). To do so, plot 'click' vs 'hour' and 'click' vs 'weekday' curves.\n",
    "</font>"
   ]
  },
  {
   "cell_type": "code",
   "execution_count": 62,
   "metadata": {},
   "outputs": [
    {
     "name": "stdout",
     "output_type": "stream",
     "text": [
      "hour\n",
      "0     0.182707\n",
      "1     0.185734\n",
      "2     0.175552\n",
      "3     0.175367\n",
      "4     0.159664\n",
      "5     0.162126\n",
      "6     0.169315\n",
      "7     0.177490\n",
      "8     0.163418\n",
      "9     0.159042\n",
      "10    0.162613\n",
      "11    0.171025\n",
      "12    0.171659\n",
      "13    0.168032\n",
      "14    0.178075\n",
      "15    0.183737\n",
      "16    0.180076\n",
      "17    0.173271\n",
      "18    0.164072\n",
      "19    0.165725\n",
      "20    0.158402\n",
      "21    0.162384\n",
      "22    0.166847\n",
      "23    0.170733\n",
      "Name: click, dtype: float64\n",
      "weekday\n",
      "0    0.183143\n",
      "1    0.161577\n",
      "2    0.158675\n",
      "3    0.173795\n",
      "4    0.173392\n",
      "5    0.183995\n",
      "6    0.183105\n",
      "Name: click, dtype: float64\n"
     ]
    }
   ],
   "source": [
    "print(df.groupby( 'hour' )[ 'click' ].mean()) # Fill here for the influence of the hour\n",
    "print(df.groupby( 'weekday' )[ 'click' ].mean()) # Fill here for the influence of the day"
   ]
  },
  {
   "cell_type": "code",
   "execution_count": 63,
   "metadata": {},
   "outputs": [
    {
     "data": {
      "image/png": "[encoded data removed]",
      "text/plain": [
       "<Figure size 432x288 with 1 Axes>"
      ]
     },
     "metadata": {},
     "output_type": "display_data"
    }
   ],
   "source": [
    "plt.plot(df.groupby( 'hour' ).mean()[ 'click' ]); # Fill here for the influence of the hour"
   ]
  },
  {
   "cell_type": "code",
   "execution_count": 64,
   "metadata": {},
   "outputs": [
    {
     "data": {
      "image/png": "[encoded data removed]",
      "text/plain": [
       "<Figure size 432x288 with 1 Axes>"
      ]
     },
     "metadata": {},
     "output_type": "display_data"
    }
   ],
   "source": [
    "plt.plot(df.groupby( 'weekday' ).mean()[ 'click' ]); # Fill here for the influence of the day"
   ]
  },
  {
   "cell_type": "markdown",
   "metadata": {},
   "source": [
    "# Preliminary work and first model"
   ]
  },
  {
   "cell_type": "markdown",
   "metadata": {},
   "source": [
    "Start by understanding the features with few modalities:\n",
    "'hour', 'weekday', 'C1', 'banner_pos', 'site_category', 'app_category', 'device_type', 'device_conn_type', 'C15', 'C16', 'C18', 'C21'."
   ]
  },
  {
   "cell_type": "markdown",
   "metadata": {},
   "source": [
    "<font color=\"red\">**Question:**\n",
    "    For instance, inspect the columns 'C15' (dimension of the advert) and 'site_category': visualize the clicks mean.\n",
    "</font>"
   ]
  },
  {
   "cell_type": "code",
   "execution_count": 65,
   "metadata": {},
   "outputs": [
    {
     "data": {
      "text/plain": [
       "[<matplotlib.lines.Line2D at 0x7fcaba6c9cf8>]"
      ]
     },
     "execution_count": 65,
     "metadata": {},
     "output_type": "execute_result"
    },
    {
     "data": {
      "image/png": "[encoded data removed]",
      "text/plain": [
       "<Figure size 432x288 with 1 Axes>"
      ]
     },
     "metadata": {},
     "output_type": "display_data"
    }
   ],
   "source": [
    "plt.plot(df.groupby('C15').mean()['click']) # Fill here: inspect 'C15' using '.groupby'"
   ]
  },
  {
   "cell_type": "code",
   "execution_count": 66,
   "metadata": {},
   "outputs": [
    {
     "data": {
      "text/plain": [
       "[<matplotlib.lines.Line2D at 0x7fcaba4fa978>]"
      ]
     },
     "execution_count": 66,
     "metadata": {},
     "output_type": "execute_result"
    },
    {
     "data": {
      "image/png": "[encoded data removed]",
      "text/plain": [
       "<Figure size 432x288 with 1 Axes>"
      ]
     },
     "metadata": {},
     "output_type": "display_data"
    }
   ],
   "source": [
    "plt.plot(df.groupby('site_category').mean()['click']) # Fill here: inspect 'site_category' using '.groupby'"
   ]
  },
  {
   "cell_type": "markdown",
   "metadata": {},
   "source": [
    "<font color=\"red\">**Question:**\n",
    "    Some site categories have a null click rate. Why? Display the 'count()' of each modality.\n",
    "    <br><br>\n",
    "    Hint: you can use the method \".value_counts()\"\n",
    "</font>"
   ]
  },
  {
   "cell_type": "code",
   "execution_count": 67,
   "metadata": {},
   "outputs": [
    {
     "data": {
      "text/plain": [
       "site_category  click\n",
       "0569f928       0           406\n",
       "               1            23\n",
       "28905ebd       0        144146\n",
       "               1         37874\n",
       "335d28a8       0          3050\n",
       "               1           301\n",
       "3e814130       0         54159\n",
       "               1         21508\n",
       "42a36e14       0            48\n",
       "               1            14\n",
       "50e219e0       0        356335\n",
       "               1         52586\n",
       "5378d028       0            11\n",
       "70fb0e29       0           520\n",
       "               1            88\n",
       "72722551       0           636\n",
       "               1            40\n",
       "75fa27f6       0          3561\n",
       "               1           446\n",
       "76b2941d       0          2481\n",
       "               1            92\n",
       "8fd0aea4       0           186\n",
       "               1             3\n",
       "9ccfa2ea       0             5\n",
       "a818d37a       0            81\n",
       "bcf865d9       0            16\n",
       "c0dd3be3       0           894\n",
       "               1           132\n",
       "c706e647       0             1\n",
       "da34532e       0             1\n",
       "dedf689d       1           331\n",
       "               0           293\n",
       "e787de0e       0            28\n",
       "f028772b       0        257026\n",
       "               1         56313\n",
       "f66779e6       0          6145\n",
       "               1           220\n",
       "Name: click, dtype: int64"
      ]
     },
     "execution_count": 67,
     "metadata": {},
     "output_type": "execute_result"
    }
   ],
   "source": [
    "\n",
    "df.groupby( 'site_category' )['click'].value_counts() # Fill here"
   ]
  },
  {
   "cell_type": "markdown",
   "metadata": {},
   "source": [
    "It is practical to visualize both columns in parallel:"
   ]
  },
  {
   "cell_type": "code",
   "execution_count": 68,
   "metadata": {},
   "outputs": [
    {
     "data": {
      "text/html": [
       "<div>\n",
       "<style scoped>\n",
       "    .dataframe tbody tr th:only-of-type {\n",
       "        vertical-align: middle;\n",
       "    }\n",
       "\n",
       "    .dataframe tbody tr th {\n",
       "        vertical-align: top;\n",
       "    }\n",
       "\n",
       "    .dataframe thead th {\n",
       "        text-align: right;\n",
       "    }\n",
       "</style>\n",
       "<table border=\"1\" class=\"dataframe\">\n",
       "  <thead>\n",
       "    <tr style=\"text-align: right;\">\n",
       "      <th></th>\n",
       "      <th>mean</th>\n",
       "      <th>count</th>\n",
       "    </tr>\n",
       "    <tr>\n",
       "      <th>site_category</th>\n",
       "      <th></th>\n",
       "      <th></th>\n",
       "    </tr>\n",
       "  </thead>\n",
       "  <tbody>\n",
       "    <tr>\n",
       "      <th>50e219e0</th>\n",
       "      <td>0.128597</td>\n",
       "      <td>408921.0</td>\n",
       "    </tr>\n",
       "    <tr>\n",
       "      <th>f028772b</th>\n",
       "      <td>0.179719</td>\n",
       "      <td>313339.0</td>\n",
       "    </tr>\n",
       "    <tr>\n",
       "      <th>28905ebd</th>\n",
       "      <td>0.208076</td>\n",
       "      <td>182020.0</td>\n",
       "    </tr>\n",
       "    <tr>\n",
       "      <th>3e814130</th>\n",
       "      <td>0.284245</td>\n",
       "      <td>75667.0</td>\n",
       "    </tr>\n",
       "    <tr>\n",
       "      <th>f66779e6</th>\n",
       "      <td>0.034564</td>\n",
       "      <td>6365.0</td>\n",
       "    </tr>\n",
       "    <tr>\n",
       "      <th>75fa27f6</th>\n",
       "      <td>0.111305</td>\n",
       "      <td>4007.0</td>\n",
       "    </tr>\n",
       "    <tr>\n",
       "      <th>335d28a8</th>\n",
       "      <td>0.089824</td>\n",
       "      <td>3351.0</td>\n",
       "    </tr>\n",
       "    <tr>\n",
       "      <th>76b2941d</th>\n",
       "      <td>0.035756</td>\n",
       "      <td>2573.0</td>\n",
       "    </tr>\n",
       "    <tr>\n",
       "      <th>c0dd3be3</th>\n",
       "      <td>0.128655</td>\n",
       "      <td>1026.0</td>\n",
       "    </tr>\n",
       "    <tr>\n",
       "      <th>72722551</th>\n",
       "      <td>0.059172</td>\n",
       "      <td>676.0</td>\n",
       "    </tr>\n",
       "    <tr>\n",
       "      <th>dedf689d</th>\n",
       "      <td>0.530449</td>\n",
       "      <td>624.0</td>\n",
       "    </tr>\n",
       "    <tr>\n",
       "      <th>70fb0e29</th>\n",
       "      <td>0.144737</td>\n",
       "      <td>608.0</td>\n",
       "    </tr>\n",
       "    <tr>\n",
       "      <th>0569f928</th>\n",
       "      <td>0.053613</td>\n",
       "      <td>429.0</td>\n",
       "    </tr>\n",
       "    <tr>\n",
       "      <th>8fd0aea4</th>\n",
       "      <td>0.015873</td>\n",
       "      <td>189.0</td>\n",
       "    </tr>\n",
       "    <tr>\n",
       "      <th>a818d37a</th>\n",
       "      <td>0.000000</td>\n",
       "      <td>81.0</td>\n",
       "    </tr>\n",
       "    <tr>\n",
       "      <th>42a36e14</th>\n",
       "      <td>0.225806</td>\n",
       "      <td>62.0</td>\n",
       "    </tr>\n",
       "    <tr>\n",
       "      <th>e787de0e</th>\n",
       "      <td>0.000000</td>\n",
       "      <td>28.0</td>\n",
       "    </tr>\n",
       "    <tr>\n",
       "      <th>bcf865d9</th>\n",
       "      <td>0.000000</td>\n",
       "      <td>16.0</td>\n",
       "    </tr>\n",
       "    <tr>\n",
       "      <th>5378d028</th>\n",
       "      <td>0.000000</td>\n",
       "      <td>11.0</td>\n",
       "    </tr>\n",
       "    <tr>\n",
       "      <th>9ccfa2ea</th>\n",
       "      <td>0.000000</td>\n",
       "      <td>5.0</td>\n",
       "    </tr>\n",
       "    <tr>\n",
       "      <th>c706e647</th>\n",
       "      <td>0.000000</td>\n",
       "      <td>1.0</td>\n",
       "    </tr>\n",
       "    <tr>\n",
       "      <th>da34532e</th>\n",
       "      <td>0.000000</td>\n",
       "      <td>1.0</td>\n",
       "    </tr>\n",
       "  </tbody>\n",
       "</table>\n",
       "</div>"
      ],
      "text/plain": [
       "                   mean     count\n",
       "site_category                    \n",
       "50e219e0       0.128597  408921.0\n",
       "f028772b       0.179719  313339.0\n",
       "28905ebd       0.208076  182020.0\n",
       "3e814130       0.284245   75667.0\n",
       "f66779e6       0.034564    6365.0\n",
       "75fa27f6       0.111305    4007.0\n",
       "335d28a8       0.089824    3351.0\n",
       "76b2941d       0.035756    2573.0\n",
       "c0dd3be3       0.128655    1026.0\n",
       "72722551       0.059172     676.0\n",
       "dedf689d       0.530449     624.0\n",
       "70fb0e29       0.144737     608.0\n",
       "0569f928       0.053613     429.0\n",
       "8fd0aea4       0.015873     189.0\n",
       "a818d37a       0.000000      81.0\n",
       "42a36e14       0.225806      62.0\n",
       "e787de0e       0.000000      28.0\n",
       "bcf865d9       0.000000      16.0\n",
       "5378d028       0.000000      11.0\n",
       "9ccfa2ea       0.000000       5.0\n",
       "c706e647       0.000000       1.0\n",
       "da34532e       0.000000       1.0"
      ]
     },
     "execution_count": 68,
     "metadata": {},
     "output_type": "execute_result"
    }
   ],
   "source": [
    "col = 'site_category'\n",
    "a = pd.DataFrame([df.groupby(col).mean()['click'], df.groupby(col).count()['click']]).transpose()\n",
    "a.columns = ['mean', 'count']\n",
    "a.sort_values(by='count', ascending=False)"
   ]
  },
  {
   "cell_type": "markdown",
   "metadata": {},
   "source": [
    "<font color=\"red\">\n",
    "Diviser le jeu de données en un train et un test set (test_size = 0.1, random_state = 100)</font>"
   ]
  },
  {
   "cell_type": "markdown",
   "metadata": {},
   "source": [
    "<font color=\"red\">**Question:**\n",
    "    Divide the dataset into a training and test set with sklearn (use the following options: test_size=0.1, random_state=100).\n",
    "</font>"
   ]
  },
  {
   "cell_type": "code",
   "execution_count": 69,
   "metadata": {},
   "outputs": [],
   "source": [
    "from sklearn.model_selection import train_test_split\n",
    "y=df['click'].values\n",
    "X=df.drop(['click'],axis=1)\n",
    "Xtrain, Xtest, ytrain, ytest = train_test_split(X,y,test_size=0.1,random_state=100)"
   ]
  },
  {
   "cell_type": "markdown",
   "metadata": {},
   "source": [
    "# First work on a reduced number of features"
   ]
  },
  {
   "cell_type": "markdown",
   "metadata": {},
   "source": [
    "<font color=\"red\">**Question:**\n",
    "    Put in a list the selected columns: 'hour', 'weekday', 'C1', 'banner_pos', 'site_category', 'app_category', 'device_type', 'device_conn_type', 'C15', 'C16', 'C18', 'C21'.\n",
    "</font>"
   ]
  },
  {
   "cell_type": "code",
   "execution_count": 70,
   "metadata": {},
   "outputs": [],
   "source": [
    "some_columns = ['hour', 'weekday', 'C1', 'banner_pos', 'site_category', 'app_category', \n",
    "                'device_type', 'device_conn_type', 'C15', 'C16', 'C18', 'C21']"
   ]
  },
  {
   "cell_type": "markdown",
   "metadata": {},
   "source": [
    "<font color=\"red\"> - Importer CategoricalEncoder de sklearn.preprocessing.  \n",
    "- Fitter le CategoricalEncoder sur les données de train restreintes aux colonnes ci-dessus.  \n",
    "- Transformer les données de train et de test en dummies.\n",
    "</font>"
   ]
  },
  {
   "cell_type": "markdown",
   "metadata": {},
   "source": [
    "<font color=\"red\">**Question:**\n",
    "    <br>\n",
    "    - Import OneHotEncoder from sklearn.preprocessing\n",
    "    <br>\n",
    "    - Transform the training and the test data restricted to the selected columns\n",
    "</font>"
   ]
  },
  {
   "cell_type": "code",
   "execution_count": 71,
   "metadata": {},
   "outputs": [
    {
     "data": {
      "text/html": [
       "<div>\n",
       "<style scoped>\n",
       "    .dataframe tbody tr th:only-of-type {\n",
       "        vertical-align: middle;\n",
       "    }\n",
       "\n",
       "    .dataframe tbody tr th {\n",
       "        vertical-align: top;\n",
       "    }\n",
       "\n",
       "    .dataframe thead th {\n",
       "        text-align: right;\n",
       "    }\n",
       "</style>\n",
       "<table border=\"1\" class=\"dataframe\">\n",
       "  <thead>\n",
       "    <tr style=\"text-align: right;\">\n",
       "      <th></th>\n",
       "      <th>hour</th>\n",
       "      <th>weekday</th>\n",
       "      <th>C1</th>\n",
       "      <th>banner_pos</th>\n",
       "      <th>site_category</th>\n",
       "      <th>app_category</th>\n",
       "      <th>device_type</th>\n",
       "      <th>device_conn_type</th>\n",
       "      <th>C15</th>\n",
       "      <th>C16</th>\n",
       "      <th>C18</th>\n",
       "      <th>C21</th>\n",
       "    </tr>\n",
       "  </thead>\n",
       "  <tbody>\n",
       "    <tr>\n",
       "      <th>92438</th>\n",
       "      <td>10</td>\n",
       "      <td>0</td>\n",
       "      <td>1010</td>\n",
       "      <td>1</td>\n",
       "      <td>50e219e0</td>\n",
       "      <td>0f2161f8</td>\n",
       "      <td>4</td>\n",
       "      <td>3</td>\n",
       "      <td>320</td>\n",
       "      <td>50</td>\n",
       "      <td>0</td>\n",
       "      <td>79</td>\n",
       "    </tr>\n",
       "    <tr>\n",
       "      <th>60898</th>\n",
       "      <td>22</td>\n",
       "      <td>1</td>\n",
       "      <td>1005</td>\n",
       "      <td>0</td>\n",
       "      <td>50e219e0</td>\n",
       "      <td>fc6fa53d</td>\n",
       "      <td>1</td>\n",
       "      <td>2</td>\n",
       "      <td>320</td>\n",
       "      <td>50</td>\n",
       "      <td>0</td>\n",
       "      <td>79</td>\n",
       "    </tr>\n",
       "    <tr>\n",
       "      <th>556199</th>\n",
       "      <td>4</td>\n",
       "      <td>0</td>\n",
       "      <td>1005</td>\n",
       "      <td>0</td>\n",
       "      <td>f028772b</td>\n",
       "      <td>07d7df22</td>\n",
       "      <td>1</td>\n",
       "      <td>2</td>\n",
       "      <td>320</td>\n",
       "      <td>50</td>\n",
       "      <td>0</td>\n",
       "      <td>182</td>\n",
       "    </tr>\n",
       "    <tr>\n",
       "      <th>193129</th>\n",
       "      <td>12</td>\n",
       "      <td>1</td>\n",
       "      <td>1005</td>\n",
       "      <td>1</td>\n",
       "      <td>f028772b</td>\n",
       "      <td>07d7df22</td>\n",
       "      <td>1</td>\n",
       "      <td>0</td>\n",
       "      <td>320</td>\n",
       "      <td>50</td>\n",
       "      <td>0</td>\n",
       "      <td>48</td>\n",
       "    </tr>\n",
       "    <tr>\n",
       "      <th>231985</th>\n",
       "      <td>13</td>\n",
       "      <td>6</td>\n",
       "      <td>1005</td>\n",
       "      <td>0</td>\n",
       "      <td>28905ebd</td>\n",
       "      <td>07d7df22</td>\n",
       "      <td>1</td>\n",
       "      <td>0</td>\n",
       "      <td>320</td>\n",
       "      <td>50</td>\n",
       "      <td>0</td>\n",
       "      <td>79</td>\n",
       "    </tr>\n",
       "  </tbody>\n",
       "</table>\n",
       "</div>"
      ],
      "text/plain": [
       "        hour  weekday    C1  banner_pos site_category app_category  \\\n",
       "92438     10        0  1010           1      50e219e0     0f2161f8   \n",
       "60898     22        1  1005           0      50e219e0     fc6fa53d   \n",
       "556199     4        0  1005           0      f028772b     07d7df22   \n",
       "193129    12        1  1005           1      f028772b     07d7df22   \n",
       "231985    13        6  1005           0      28905ebd     07d7df22   \n",
       "\n",
       "        device_type  device_conn_type  C15  C16  C18  C21  \n",
       "92438             4                 3  320   50    0   79  \n",
       "60898             1                 2  320   50    0   79  \n",
       "556199            1                 2  320   50    0  182  \n",
       "193129            1                 0  320   50    0   48  \n",
       "231985            1                 0  320   50    0   79  "
      ]
     },
     "execution_count": 71,
     "metadata": {},
     "output_type": "execute_result"
    }
   ],
   "source": [
    "Xtrain[some_columns].head()"
   ]
  },
  {
   "cell_type": "code",
   "execution_count": 72,
   "metadata": {},
   "outputs": [],
   "source": [
    "from sklearn.preprocessing import OneHotEncoder\n",
    "ohe = OneHotEncoder()\n",
    "Xtrain_oh = ohe.fit_transform(Xtrain[some_columns]) # fit the transformation of Xtrain restricted to selected columns\n",
    "Xtest_oh = ohe.transform(Xtest[some_columns]) # and transform Xtest restricted to selected columns"
   ]
  },
  {
   "cell_type": "markdown",
   "metadata": {},
   "source": [
    "<font color=\"red\">**Question:**\n",
    "    What is the new number of features?\n",
    "</font>"
   ]
  },
  {
   "cell_type": "code",
   "execution_count": 73,
   "metadata": {},
   "outputs": [
    {
     "data": {
      "text/plain": [
       "(900000, 183)"
      ]
     },
     "execution_count": 73,
     "metadata": {},
     "output_type": "execute_result"
    }
   ],
   "source": [
    "Xtrain_oh.shape"
   ]
  },
  {
   "cell_type": "markdown",
   "metadata": {},
   "source": [
    "We have 183 new features now."
   ]
  },
  {
   "cell_type": "markdown",
   "metadata": {},
   "source": [
    "<font color=\"red\">**Question:**\n",
    "    Visualize the first row of the design matrix you have got. Do not forget to convert it into a \"numpy.array\" using the method \".toarray()\"\n",
    "</font>"
   ]
  },
  {
   "cell_type": "code",
   "execution_count": 74,
   "metadata": {},
   "outputs": [
    {
     "name": "stdout",
     "output_type": "stream",
     "text": [
      "[0. 0. 0. 0. 0. 0. 0. 0. 0. 0. 1. 0. 0. 0. 0. 0. 0. 0. 0. 0. 0. 0. 0. 0.\n",
      " 1. 0. 0. 0. 0. 0. 0. 0. 0. 0. 0. 0. 1. 0. 0. 1. 0. 0. 0. 0. 0. 0. 0. 0.\n",
      " 0. 0. 1. 0. 0. 0. 0. 0. 0. 0. 0. 0. 0. 0. 0. 0. 0. 0. 0. 0. 0. 0. 1. 0.\n",
      " 0. 0. 0. 0. 0. 0. 0. 0. 0. 0. 0. 0. 0. 0. 0. 0. 0. 0. 0. 0. 0. 0. 0. 0.\n",
      " 1. 0. 0. 0. 1. 0. 0. 0. 0. 1. 0. 0. 0. 0. 0. 0. 1. 0. 0. 0. 0. 0. 0. 1.\n",
      " 0. 0. 0. 0. 0. 0. 0. 0. 0. 0. 0. 0. 0. 0. 0. 0. 0. 0. 0. 0. 0. 0. 0. 0.\n",
      " 0. 1. 0. 0. 0. 0. 0. 0. 0. 0. 0. 0. 0. 0. 0. 0. 0. 0. 0. 0. 0. 0. 0. 0.\n",
      " 0. 0. 0. 0. 0. 0. 0. 0. 0. 0. 0. 0. 0. 0. 0.]\n"
     ]
    }
   ],
   "source": [
    "print(Xtrain_oh.toarray()[0])"
   ]
  },
  {
   "cell_type": "markdown",
   "metadata": {},
   "source": [
    "<font color=\"red\">**Question:**\n",
    "    Import and fit a logistic regression model on your the encoded data\n",
    "</font>"
   ]
  },
  {
   "cell_type": "code",
   "execution_count": 75,
   "metadata": {},
   "outputs": [
    {
     "data": {
      "text/plain": [
       "LogisticRegression(C=100000.0, class_weight=None, dual=False,\n",
       "          fit_intercept=True, intercept_scaling=1, max_iter=1000,\n",
       "          multi_class='warn', n_jobs=None, penalty='l2', random_state=None,\n",
       "          solver='lbfgs', tol=0.0001, verbose=0, warm_start=False)"
      ]
     },
     "execution_count": 75,
     "metadata": {},
     "output_type": "execute_result"
    }
   ],
   "source": [
    "from sklearn.linear_model import LogisticRegression\n",
    "lr = LogisticRegression(solver='lbfgs',C=1e5,max_iter=1000)\n",
    "lr.fit(Xtrain_oh,ytrain)"
   ]
  },
  {
   "cell_type": "markdown",
   "metadata": {},
   "source": [
    "<font color=\"red\">\n",
    "Avec predict et predict_proba, afficher les décisions dures et les décisions douces obtenues sur les données de test.</font>"
   ]
  },
  {
   "cell_type": "markdown",
   "metadata": {},
   "source": [
    "<font color=\"red\">**Question:**\n",
    "    With '.predict' and 'predict_proba', display the hard and soft decision you get on test data.\n",
    "</font>"
   ]
  },
  {
   "cell_type": "code",
   "execution_count": 76,
   "metadata": {},
   "outputs": [],
   "source": [
    "hard = lr.predict(Xtest_oh)\n",
    "soft = lr.predict_proba(Xtest_oh)"
   ]
  },
  {
   "cell_type": "code",
   "execution_count": 77,
   "metadata": {},
   "outputs": [
    {
     "name": "stdout",
     "output_type": "stream",
     "text": [
      "218\n"
     ]
    },
    {
     "data": {
      "text/plain": [
       "[<matplotlib.lines.Line2D at 0x7fcaba699f98>,\n",
       " <matplotlib.lines.Line2D at 0x7fcaba6999b0>]"
      ]
     },
     "execution_count": 77,
     "metadata": {},
     "output_type": "execute_result"
    },
    {
     "data": {
      "image/png": "[encoded data removed]",
      "text/plain": [
       "<Figure size 432x288 with 1 Axes>"
      ]
     },
     "metadata": {},
     "output_type": "display_data"
    }
   ],
   "source": [
    "\n",
    "print(hard.sum())\n",
    "plt.plot(soft)"
   ]
  },
  {
   "cell_type": "markdown",
   "metadata": {},
   "source": [
    "<font color=\"red\">**Question:**\n",
    "    Compute the probability of error using sklearn.metrics 'accuracy_score' function. Comment.\n",
    "</font>"
   ]
  },
  {
   "cell_type": "code",
   "execution_count": 78,
   "metadata": {},
   "outputs": [
    {
     "data": {
      "text/plain": [
       "0.83043"
      ]
     },
     "execution_count": 78,
     "metadata": {},
     "output_type": "execute_result"
    }
   ],
   "source": [
    "from sklearn.metrics import accuracy_score\n",
    "accuracy_score(hard,ytest)\n"
   ]
  },
  {
   "cell_type": "markdown",
   "metadata": {},
   "source": [
    "<font color=\"red\">**Question:**\n",
    "    Plot the ROC curve. Then compute the log loss and the Area Under the Curve ROC.\n",
    "</font>"
   ]
  },
  {
   "cell_type": "code",
   "execution_count": 79,
   "metadata": {},
   "outputs": [
    {
     "data": {
      "image/png": "[encoded data removed]",
      "text/plain": [
       "<Figure size 432x288 with 1 Axes>"
      ]
     },
     "metadata": {},
     "output_type": "display_data"
    }
   ],
   "source": [
    "from sklearn.metrics import roc_curve\n",
    "pfa, power,thre = roc_curve( ytest,soft[:,1] )\n",
    "plt.plot(pfa,power)\n",
    "plt.grid()\n",
    "plt.plot([0, 1], [0, 1], 'r--')\n",
    "plt.xlabel('False Positive Rate', fontsize=16);\n",
    "plt.ylabel('True Positive Rate', fontsize=16);"
   ]
  },
  {
   "cell_type": "code",
   "execution_count": 80,
   "metadata": {},
   "outputs": [
    {
     "data": {
      "text/plain": [
       "(0.42511736851988896, 0.6763129128448371)"
      ]
     },
     "execution_count": 80,
     "metadata": {},
     "output_type": "execute_result"
    }
   ],
   "source": [
    "from sklearn.metrics import roc_auc_score , log_loss\n",
    "log_loss( ytest,soft[:,1] ), roc_auc_score( ytest,soft[:,1] )"
   ]
  },
  {
   "cell_type": "markdown",
   "metadata": {},
   "source": [
    "<font color=\"red\">**Question:**\n",
    "    Import the 'plot_lift' function from 'utils.py' and plot the lift curve. What is the lift of the first fifth of the population identified by the test?\n",
    "</font>"
   ]
  },
  {
   "cell_type": "code",
   "execution_count": 81,
   "metadata": {},
   "outputs": [
    {
     "data": {
      "text/plain": [
       "<matplotlib.lines.Line2D at 0x7fcaba457470>"
      ]
     },
     "execution_count": 81,
     "metadata": {},
     "output_type": "execute_result"
    },
    {
     "data": {
      "image/png": "[encoded data removed]",
      "text/plain": [
       "<Figure size 432x288 with 1 Axes>"
      ]
     },
     "metadata": {},
     "output_type": "display_data"
    }
   ],
   "source": [
    "from utils import plotlift\n",
    "plotlift( ytest,soft[:,1] )\n",
    "# The following line just plots a vertical line for you to answer the second part of the question\n",
    "plt.axvline(x= 0.2 , linestyle='--', color='r') # Fill here"
   ]
  },
  {
   "cell_type": "markdown",
   "metadata": {},
   "source": [
    "# Complete model"
   ]
  },
  {
   "cell_type": "markdown",
   "metadata": {},
   "source": [
    "As an example, we now work on the 'site_id' column.\n",
    "<font color=\"red\">**Question:**\n",
    "    <br>\n",
    "    - For each modality, compute the number of occurrences in the dataset and the average of clicks for this modality \n",
    "    <br>\n",
    "    - With 'sns.joiplot', represent the set of points (count, mean) for each modality\n",
    "</font>"
   ]
  },
  {
   "cell_type": "code",
   "execution_count": 82,
   "metadata": {},
   "outputs": [],
   "source": [
    "import seaborn as sns"
   ]
  },
  {
   "cell_type": "code",
   "execution_count": 83,
   "metadata": {},
   "outputs": [
    {
     "name": "stderr",
     "output_type": "stream",
     "text": [
      "/home/ubuntu/anaconda3/lib/python3.6/site-packages/matplotlib/axes/_axes.py:6462: UserWarning: The 'normed' kwarg is deprecated, and has been replaced by the 'density' kwarg.\n",
      "  warnings.warn(\"The 'normed' kwarg is deprecated, and has been \"\n",
      "/home/ubuntu/anaconda3/lib/python3.6/site-packages/matplotlib/axes/_axes.py:6462: UserWarning: The 'normed' kwarg is deprecated, and has been replaced by the 'density' kwarg.\n",
      "  warnings.warn(\"The 'normed' kwarg is deprecated, and has been \"\n",
      "/home/ubuntu/anaconda3/lib/python3.6/site-packages/matplotlib/axes/_axes.py:6462: UserWarning: The 'normed' kwarg is deprecated, and has been replaced by the 'density' kwarg.\n",
      "  warnings.warn(\"The 'normed' kwarg is deprecated, and has been \"\n",
      "/home/ubuntu/anaconda3/lib/python3.6/site-packages/matplotlib/axes/_axes.py:6462: UserWarning: The 'normed' kwarg is deprecated, and has been replaced by the 'density' kwarg.\n",
      "  warnings.warn(\"The 'normed' kwarg is deprecated, and has been \"\n"
     ]
    },
    {
     "data": {
      "image/png": "[encoded data removed]",
      "text/plain": [
       "<Figure size 432x432 with 3 Axes>"
      ]
     },
     "metadata": {},
     "output_type": "display_data"
    },
    {
     "data": {
      "image/png": "[encoded data removed]",
      "text/plain": [
       "<Figure size 432x432 with 3 Axes>"
      ]
     },
     "metadata": {},
     "output_type": "display_data"
    }
   ],
   "source": [
    "col = 'site_id'\n",
    "a = pd.DataFrame([df.groupby(col).mean()['click'], df.groupby(col).count()['click']]).transpose()\n",
    "a.columns = ['mean', 'n_val']\n",
    "sns.jointplot(a['n_val'], a['mean'], alpha=0.25);\n",
    "thres = 10000\n",
    "sns.jointplot(a[a['n_val']<thres]['n_val'], a[a['n_val']<thres]['mean'], alpha=0.25);"
   ]
  },
  {
   "cell_type": "markdown",
   "metadata": {},
   "source": [
    "<font color=\"red\">**Question:**\n",
    "    In the above commands, what does the alpha parameter stand for?\n",
    "</font>"
   ]
  },
  {
   "cell_type": "markdown",
   "metadata": {},
   "source": [
    "Alpha stands for ..."
   ]
  },
  {
   "cell_type": "markdown",
   "metadata": {},
   "source": [
    "Several sites with a lot of occurrences in the dataset have a click frequency very different from the mean. It is relevant to keep the column 'site_id' at least for the modalities for which 'count' is very high.\n",
    "<font color=\"red\">**Question:**\n",
    "    Do the same work on the 'device_id' column. What do you notice? What could be the isolated point?\n",
    "</font>"
   ]
  },
  {
   "cell_type": "code",
   "execution_count": 84,
   "metadata": {},
   "outputs": [
    {
     "name": "stderr",
     "output_type": "stream",
     "text": [
      "/home/ubuntu/anaconda3/lib/python3.6/site-packages/matplotlib/axes/_axes.py:6462: UserWarning: The 'normed' kwarg is deprecated, and has been replaced by the 'density' kwarg.\n",
      "  warnings.warn(\"The 'normed' kwarg is deprecated, and has been \"\n",
      "/home/ubuntu/anaconda3/lib/python3.6/site-packages/matplotlib/axes/_axes.py:6462: UserWarning: The 'normed' kwarg is deprecated, and has been replaced by the 'density' kwarg.\n",
      "  warnings.warn(\"The 'normed' kwarg is deprecated, and has been \"\n",
      "/home/ubuntu/anaconda3/lib/python3.6/site-packages/matplotlib/axes/_axes.py:6462: UserWarning: The 'normed' kwarg is deprecated, and has been replaced by the 'density' kwarg.\n",
      "  warnings.warn(\"The 'normed' kwarg is deprecated, and has been \"\n",
      "/home/ubuntu/anaconda3/lib/python3.6/site-packages/matplotlib/axes/_axes.py:6462: UserWarning: The 'normed' kwarg is deprecated, and has been replaced by the 'density' kwarg.\n",
      "  warnings.warn(\"The 'normed' kwarg is deprecated, and has been \"\n"
     ]
    },
    {
     "data": {
      "image/png": "[encoded data removed]",
      "text/plain": [
       "<Figure size 432x432 with 3 Axes>"
      ]
     },
     "metadata": {},
     "output_type": "display_data"
    },
    {
     "data": {
      "image/png": "[encoded data removed]",
      "text/plain": [
       "<Figure size 432x432 with 3 Axes>"
      ]
     },
     "metadata": {},
     "output_type": "display_data"
    }
   ],
   "source": [
    "col = 'device_id' # Fill here\n",
    "a = pd.DataFrame([df.groupby(col).mean()['click'], df.groupby(col).count()['click']]).transpose()\n",
    "a.columns = ['mean', 'n_val']\n",
    "sns.jointplot(a['n_val'], a['mean'], alpha=0.25);\n",
    "thres = 10000\n",
    "sns.jointplot(a[a['n_val']<thres]['n_val'], a[a['n_val']<thres]['mean'], alpha=0.25);"
   ]
  },
  {
   "cell_type": "markdown",
   "metadata": {},
   "source": [
    "<font color=\"red\">**Question**:   \n",
    "    In the column df['device_id'], spot the value V corresponding to the largest number of 'count' (using '.value_counts' method). Create a new column df['user'] defined as follows:\n",
    "</font>\n",
    "$$\n",
    "\\text{user} = \\left\\{\\begin{array}[h]{ll} \\text{device_ip + device_model} & \\text{if device_id = V}\\\\ \\text{device_id} & \\text{else.}\\end{array}\\right.\n",
    "$$"
   ]
  },
  {
   "cell_type": "code",
   "execution_count": 85,
   "metadata": {},
   "outputs": [
    {
     "data": {
      "text/plain": [
       "a99f214a    824918\n",
       "0f7c61dc       512\n",
       "c357dbff       481\n",
       "936e92fb       366\n",
       "afeffc18       242\n",
       "987552d1       103\n",
       "d857ffbb        98\n",
       "cef4c8cc        93\n",
       "b09da1c4        91\n",
       "28dc8687        86\n",
       "3cdb4052        81\n",
       "02da5312        72\n",
       "03559b29        69\n",
       "096a6f32        36\n",
       "0a04637d        36\n",
       "d2e4c0ab        36\n",
       "1de30ee7        33\n",
       "f1d9c744        32\n",
       "eec6d022        31\n",
       "abab24a7        31\n",
       "bbcf14e4        30\n",
       "73b81e30        29\n",
       "9af87478        28\n",
       "c35f5168        27\n",
       "2c112522        27\n",
       "4e9e9550        23\n",
       "468ee576        23\n",
       "d2e5b3f2        23\n",
       "4e05554e        23\n",
       "69e39a30        22\n",
       "             ...  \n",
       "6e99ce4c         1\n",
       "79de7b5e         1\n",
       "334e7c51         1\n",
       "e808804f         1\n",
       "55d84d76         1\n",
       "cf54d861         1\n",
       "fc19a42f         1\n",
       "d655d47a         1\n",
       "508bc6ee         1\n",
       "0ead863a         1\n",
       "ef5ee851         1\n",
       "593142f2         1\n",
       "996e1e17         1\n",
       "5a7f60ce         1\n",
       "782df8e6         1\n",
       "b5283e36         1\n",
       "84f3041b         1\n",
       "63a79383         1\n",
       "54a06eda         1\n",
       "381873c0         1\n",
       "16b3509f         1\n",
       "a117fcd4         1\n",
       "472859bd         1\n",
       "c75e268c         1\n",
       "9c573d06         1\n",
       "97b86a59         1\n",
       "6d1c1e7a         1\n",
       "c8f8b83b         1\n",
       "cc18ad0a         1\n",
       "f860f9ef         1\n",
       "Name: device_id, Length: 150501, dtype: int64"
      ]
     },
     "execution_count": 85,
     "metadata": {},
     "output_type": "execute_result"
    }
   ],
   "source": [
    "df['device_id'].value_counts()"
   ]
  },
  {
   "cell_type": "code",
   "execution_count": 86,
   "metadata": {},
   "outputs": [],
   "source": [
    "V = 'a99f214a' # Fill here\n",
    "df['user'] = (df['device_ip'] + df['device_model']) * (df['device_id']==V) + df['device_id'] * (df['device_id']!=V)"
   ]
  },
  {
   "cell_type": "markdown",
   "metadata": {},
   "source": [
    "<font color=\"red\">**Question**:\n",
    "    Drop the following columns: 'device_id','device_model','device_ip'\n",
    "</font>"
   ]
  },
  {
   "cell_type": "code",
   "execution_count": 87,
   "metadata": {},
   "outputs": [],
   "source": [
    "df=df.drop(['device_id','device_model','device_ip'],axis=1)"
   ]
  },
  {
   "cell_type": "code",
   "execution_count": 88,
   "metadata": {},
   "outputs": [
    {
     "data": {
      "text/html": [
       "<div>\n",
       "<style scoped>\n",
       "    .dataframe tbody tr th:only-of-type {\n",
       "        vertical-align: middle;\n",
       "    }\n",
       "\n",
       "    .dataframe tbody tr th {\n",
       "        vertical-align: top;\n",
       "    }\n",
       "\n",
       "    .dataframe thead th {\n",
       "        text-align: right;\n",
       "    }\n",
       "</style>\n",
       "<table border=\"1\" class=\"dataframe\">\n",
       "  <thead>\n",
       "    <tr style=\"text-align: right;\">\n",
       "      <th></th>\n",
       "      <th>id</th>\n",
       "      <th>click</th>\n",
       "      <th>hour</th>\n",
       "      <th>C1</th>\n",
       "      <th>banner_pos</th>\n",
       "      <th>site_id</th>\n",
       "      <th>site_domain</th>\n",
       "      <th>site_category</th>\n",
       "      <th>app_id</th>\n",
       "      <th>app_domain</th>\n",
       "      <th>...</th>\n",
       "      <th>C14</th>\n",
       "      <th>C15</th>\n",
       "      <th>C16</th>\n",
       "      <th>C17</th>\n",
       "      <th>C18</th>\n",
       "      <th>C19</th>\n",
       "      <th>C20</th>\n",
       "      <th>C21</th>\n",
       "      <th>weekday</th>\n",
       "      <th>user</th>\n",
       "    </tr>\n",
       "  </thead>\n",
       "  <tbody>\n",
       "    <tr>\n",
       "      <th>0</th>\n",
       "      <td>3.983206e+18</td>\n",
       "      <td>0</td>\n",
       "      <td>15</td>\n",
       "      <td>1005</td>\n",
       "      <td>1</td>\n",
       "      <td>e151e245</td>\n",
       "      <td>7e091613</td>\n",
       "      <td>f028772b</td>\n",
       "      <td>ecad2386</td>\n",
       "      <td>7801e8d9</td>\n",
       "      <td>...</td>\n",
       "      <td>4687</td>\n",
       "      <td>320</td>\n",
       "      <td>50</td>\n",
       "      <td>423</td>\n",
       "      <td>2</td>\n",
       "      <td>39</td>\n",
       "      <td>100148</td>\n",
       "      <td>32</td>\n",
       "      <td>2</td>\n",
       "      <td>fb6566d3be87996b</td>\n",
       "    </tr>\n",
       "    <tr>\n",
       "      <th>1</th>\n",
       "      <td>7.756884e+18</td>\n",
       "      <td>0</td>\n",
       "      <td>7</td>\n",
       "      <td>1002</td>\n",
       "      <td>0</td>\n",
       "      <td>cb809abf</td>\n",
       "      <td>74acf31a</td>\n",
       "      <td>50e219e0</td>\n",
       "      <td>ecad2386</td>\n",
       "      <td>7801e8d9</td>\n",
       "      <td>...</td>\n",
       "      <td>17894</td>\n",
       "      <td>320</td>\n",
       "      <td>50</td>\n",
       "      <td>2039</td>\n",
       "      <td>2</td>\n",
       "      <td>39</td>\n",
       "      <td>100077</td>\n",
       "      <td>32</td>\n",
       "      <td>3</td>\n",
       "      <td>9b7af851</td>\n",
       "    </tr>\n",
       "    <tr>\n",
       "      <th>2</th>\n",
       "      <td>6.941774e+17</td>\n",
       "      <td>0</td>\n",
       "      <td>11</td>\n",
       "      <td>1005</td>\n",
       "      <td>0</td>\n",
       "      <td>85f751fd</td>\n",
       "      <td>c4e18dd6</td>\n",
       "      <td>50e219e0</td>\n",
       "      <td>e9739828</td>\n",
       "      <td>df32afa9</td>\n",
       "      <td>...</td>\n",
       "      <td>22684</td>\n",
       "      <td>320</td>\n",
       "      <td>50</td>\n",
       "      <td>2619</td>\n",
       "      <td>1</td>\n",
       "      <td>163</td>\n",
       "      <td>100055</td>\n",
       "      <td>71</td>\n",
       "      <td>0</td>\n",
       "      <td>748e298a3c55fad5</td>\n",
       "    </tr>\n",
       "    <tr>\n",
       "      <th>3</th>\n",
       "      <td>2.664154e+18</td>\n",
       "      <td>1</td>\n",
       "      <td>3</td>\n",
       "      <td>1005</td>\n",
       "      <td>0</td>\n",
       "      <td>85f751fd</td>\n",
       "      <td>c4e18dd6</td>\n",
       "      <td>50e219e0</td>\n",
       "      <td>a5184c22</td>\n",
       "      <td>b8d325c3</td>\n",
       "      <td>...</td>\n",
       "      <td>23222</td>\n",
       "      <td>320</td>\n",
       "      <td>50</td>\n",
       "      <td>2676</td>\n",
       "      <td>0</td>\n",
       "      <td>35</td>\n",
       "      <td>100176</td>\n",
       "      <td>221</td>\n",
       "      <td>2</td>\n",
       "      <td>a50da3d4c5cc73c1</td>\n",
       "    </tr>\n",
       "    <tr>\n",
       "      <th>4</th>\n",
       "      <td>1.480510e+19</td>\n",
       "      <td>0</td>\n",
       "      <td>2</td>\n",
       "      <td>1005</td>\n",
       "      <td>1</td>\n",
       "      <td>791b5571</td>\n",
       "      <td>fd13bc73</td>\n",
       "      <td>f028772b</td>\n",
       "      <td>ecad2386</td>\n",
       "      <td>7801e8d9</td>\n",
       "      <td>...</td>\n",
       "      <td>8330</td>\n",
       "      <td>320</td>\n",
       "      <td>50</td>\n",
       "      <td>761</td>\n",
       "      <td>3</td>\n",
       "      <td>175</td>\n",
       "      <td>100081</td>\n",
       "      <td>23</td>\n",
       "      <td>2</td>\n",
       "      <td>d5f88679a5bce124</td>\n",
       "    </tr>\n",
       "  </tbody>\n",
       "</table>\n",
       "<p>5 rows × 23 columns</p>\n",
       "</div>"
      ],
      "text/plain": [
       "             id  click  hour    C1  banner_pos   site_id site_domain  \\\n",
       "0  3.983206e+18      0    15  1005           1  e151e245    7e091613   \n",
       "1  7.756884e+18      0     7  1002           0  cb809abf    74acf31a   \n",
       "2  6.941774e+17      0    11  1005           0  85f751fd    c4e18dd6   \n",
       "3  2.664154e+18      1     3  1005           0  85f751fd    c4e18dd6   \n",
       "4  1.480510e+19      0     2  1005           1  791b5571    fd13bc73   \n",
       "\n",
       "  site_category    app_id app_domain        ...           C14  C15  C16   C17  \\\n",
       "0      f028772b  ecad2386   7801e8d9        ...          4687  320   50   423   \n",
       "1      50e219e0  ecad2386   7801e8d9        ...         17894  320   50  2039   \n",
       "2      50e219e0  e9739828   df32afa9        ...         22684  320   50  2619   \n",
       "3      50e219e0  a5184c22   b8d325c3        ...         23222  320   50  2676   \n",
       "4      f028772b  ecad2386   7801e8d9        ...          8330  320   50   761   \n",
       "\n",
       "   C18  C19     C20  C21  weekday              user  \n",
       "0    2   39  100148   32        2  fb6566d3be87996b  \n",
       "1    2   39  100077   32        3          9b7af851  \n",
       "2    1  163  100055   71        0  748e298a3c55fad5  \n",
       "3    0   35  100176  221        2  a50da3d4c5cc73c1  \n",
       "4    3  175  100081   23        2  d5f88679a5bce124  \n",
       "\n",
       "[5 rows x 23 columns]"
      ]
     },
     "execution_count": 88,
     "metadata": {},
     "output_type": "execute_result"
    }
   ],
   "source": [
    "df.head()"
   ]
  },
  {
   "cell_type": "markdown",
   "metadata": {},
   "source": [
    "<font color=\"red\">**Question**:\n",
    "    One could look at the similarity between 'site_id' and 'site_domain'. Merge those columns into a new 'site' column and delete the old 'site_id' and 'site_domain' columns.\n",
    "</font>"
   ]
  },
  {
   "cell_type": "code",
   "execution_count": 89,
   "metadata": {
    "scrolled": true
   },
   "outputs": [
    {
     "data": {
      "text/plain": [
       "site_id   site_domain\n",
       "00255fb4  240a9324         6\n",
       "006ab81e  098df66b         5\n",
       "00b73968  0640153c         1\n",
       "00f5367d  c4e18dd6         2\n",
       "00f648b7  ff3c109d        12\n",
       "          c4e18dd6         9\n",
       "          5575679a         2\n",
       "00f7c6fc  c4e18dd6         3\n",
       "0114bb39  9bf98a02         3\n",
       "011b0fda  114d3cd8         1\n",
       "011e5414  f6ab045d        11\n",
       "          7e4d7218        10\n",
       "          08facbad         5\n",
       "          1e0acfb4         4\n",
       "          c4e18dd6         3\n",
       "          282151d4         1\n",
       "          fd435614         1\n",
       "0126d590  636ffdf6         1\n",
       "01270328  3132fe8d       185\n",
       "0129a661  d763fa78         4\n",
       "013e516e  488b03a7         1\n",
       "014428c1  c6bb6f3f         5\n",
       "          f578c520         3\n",
       "          1e0acfb4         2\n",
       "          63fb5b87         2\n",
       "          1ed2eeb8         1\n",
       "          399c6e85         1\n",
       "          82edec1a         1\n",
       "          c4e18dd6         1\n",
       "015cc1dc  e7e1349f         2\n",
       "                        ... \n",
       "ff361da0  6dbd48f0       543\n",
       "ff4425e5  c4e18dd6         2\n",
       "          1e0acfb4         1\n",
       "          360fd868         1\n",
       "ff55c4ea  360fd868         9\n",
       "ff61c6a9  39b3d1ff       103\n",
       "ff719d0c  cf8ef63b         4\n",
       "ff9bcf52  08becbf3         4\n",
       "ff9d066a  5ef9cc48        15\n",
       "          15a37720         9\n",
       "          7a880170         5\n",
       "          c4e18dd6         3\n",
       "          08facbad         1\n",
       "          1e0acfb4         1\n",
       "ffa0a3ef  4d361975         7\n",
       "ffad33d9  3d69d7c4         3\n",
       "ffb2c209  10cfed0c       120\n",
       "ffc6e801  69e7c986         4\n",
       "ffcb6b9a  fd0f18e8        99\n",
       "          caeb852a        34\n",
       "          c4e18dd6        31\n",
       "          1e0acfb4         9\n",
       "          08facbad         3\n",
       "          2344ad77         1\n",
       "          241b6587         1\n",
       "          891d02ac         1\n",
       "          d7270b6d         1\n",
       "ffcff165  daddcd03        21\n",
       "fffe8e1c  6fda3fca         4\n",
       "          1e0acfb4         2\n",
       "Name: site_domain, Length: 5660, dtype: int64"
      ]
     },
     "execution_count": 89,
     "metadata": {},
     "output_type": "execute_result"
    }
   ],
   "source": [
    "df[['site_id','site_domain']]\n",
    "df.groupby('site_id')['site_domain'].value_counts()"
   ]
  },
  {
   "cell_type": "code",
   "execution_count": 90,
   "metadata": {},
   "outputs": [
    {
     "data": {
      "text/html": [
       "<div>\n",
       "<style scoped>\n",
       "    .dataframe tbody tr th:only-of-type {\n",
       "        vertical-align: middle;\n",
       "    }\n",
       "\n",
       "    .dataframe tbody tr th {\n",
       "        vertical-align: top;\n",
       "    }\n",
       "\n",
       "    .dataframe thead th {\n",
       "        text-align: right;\n",
       "    }\n",
       "</style>\n",
       "<table border=\"1\" class=\"dataframe\">\n",
       "  <thead>\n",
       "    <tr style=\"text-align: right;\">\n",
       "      <th></th>\n",
       "      <th>id</th>\n",
       "      <th>click</th>\n",
       "      <th>hour</th>\n",
       "      <th>C1</th>\n",
       "      <th>banner_pos</th>\n",
       "      <th>site_category</th>\n",
       "      <th>app_id</th>\n",
       "      <th>app_domain</th>\n",
       "      <th>app_category</th>\n",
       "      <th>device_type</th>\n",
       "      <th>...</th>\n",
       "      <th>C15</th>\n",
       "      <th>C16</th>\n",
       "      <th>C17</th>\n",
       "      <th>C18</th>\n",
       "      <th>C19</th>\n",
       "      <th>C20</th>\n",
       "      <th>C21</th>\n",
       "      <th>weekday</th>\n",
       "      <th>user</th>\n",
       "      <th>site</th>\n",
       "    </tr>\n",
       "  </thead>\n",
       "  <tbody>\n",
       "    <tr>\n",
       "      <th>0</th>\n",
       "      <td>3.983206e+18</td>\n",
       "      <td>0</td>\n",
       "      <td>15</td>\n",
       "      <td>1005</td>\n",
       "      <td>1</td>\n",
       "      <td>f028772b</td>\n",
       "      <td>ecad2386</td>\n",
       "      <td>7801e8d9</td>\n",
       "      <td>07d7df22</td>\n",
       "      <td>1</td>\n",
       "      <td>...</td>\n",
       "      <td>320</td>\n",
       "      <td>50</td>\n",
       "      <td>423</td>\n",
       "      <td>2</td>\n",
       "      <td>39</td>\n",
       "      <td>100148</td>\n",
       "      <td>32</td>\n",
       "      <td>2</td>\n",
       "      <td>fb6566d3be87996b</td>\n",
       "      <td>e151e2457e091613</td>\n",
       "    </tr>\n",
       "    <tr>\n",
       "      <th>1</th>\n",
       "      <td>7.756884e+18</td>\n",
       "      <td>0</td>\n",
       "      <td>7</td>\n",
       "      <td>1002</td>\n",
       "      <td>0</td>\n",
       "      <td>50e219e0</td>\n",
       "      <td>ecad2386</td>\n",
       "      <td>7801e8d9</td>\n",
       "      <td>07d7df22</td>\n",
       "      <td>0</td>\n",
       "      <td>...</td>\n",
       "      <td>320</td>\n",
       "      <td>50</td>\n",
       "      <td>2039</td>\n",
       "      <td>2</td>\n",
       "      <td>39</td>\n",
       "      <td>100077</td>\n",
       "      <td>32</td>\n",
       "      <td>3</td>\n",
       "      <td>9b7af851</td>\n",
       "      <td>cb809abf74acf31a</td>\n",
       "    </tr>\n",
       "    <tr>\n",
       "      <th>2</th>\n",
       "      <td>6.941774e+17</td>\n",
       "      <td>0</td>\n",
       "      <td>11</td>\n",
       "      <td>1005</td>\n",
       "      <td>0</td>\n",
       "      <td>50e219e0</td>\n",
       "      <td>e9739828</td>\n",
       "      <td>df32afa9</td>\n",
       "      <td>cef3e649</td>\n",
       "      <td>1</td>\n",
       "      <td>...</td>\n",
       "      <td>320</td>\n",
       "      <td>50</td>\n",
       "      <td>2619</td>\n",
       "      <td>1</td>\n",
       "      <td>163</td>\n",
       "      <td>100055</td>\n",
       "      <td>71</td>\n",
       "      <td>0</td>\n",
       "      <td>748e298a3c55fad5</td>\n",
       "      <td>85f751fdc4e18dd6</td>\n",
       "    </tr>\n",
       "    <tr>\n",
       "      <th>3</th>\n",
       "      <td>2.664154e+18</td>\n",
       "      <td>1</td>\n",
       "      <td>3</td>\n",
       "      <td>1005</td>\n",
       "      <td>0</td>\n",
       "      <td>50e219e0</td>\n",
       "      <td>a5184c22</td>\n",
       "      <td>b8d325c3</td>\n",
       "      <td>0f2161f8</td>\n",
       "      <td>1</td>\n",
       "      <td>...</td>\n",
       "      <td>320</td>\n",
       "      <td>50</td>\n",
       "      <td>2676</td>\n",
       "      <td>0</td>\n",
       "      <td>35</td>\n",
       "      <td>100176</td>\n",
       "      <td>221</td>\n",
       "      <td>2</td>\n",
       "      <td>a50da3d4c5cc73c1</td>\n",
       "      <td>85f751fdc4e18dd6</td>\n",
       "    </tr>\n",
       "    <tr>\n",
       "      <th>4</th>\n",
       "      <td>1.480510e+19</td>\n",
       "      <td>0</td>\n",
       "      <td>2</td>\n",
       "      <td>1005</td>\n",
       "      <td>1</td>\n",
       "      <td>f028772b</td>\n",
       "      <td>ecad2386</td>\n",
       "      <td>7801e8d9</td>\n",
       "      <td>07d7df22</td>\n",
       "      <td>1</td>\n",
       "      <td>...</td>\n",
       "      <td>320</td>\n",
       "      <td>50</td>\n",
       "      <td>761</td>\n",
       "      <td>3</td>\n",
       "      <td>175</td>\n",
       "      <td>100081</td>\n",
       "      <td>23</td>\n",
       "      <td>2</td>\n",
       "      <td>d5f88679a5bce124</td>\n",
       "      <td>791b5571fd13bc73</td>\n",
       "    </tr>\n",
       "    <tr>\n",
       "      <th>5</th>\n",
       "      <td>1.591127e+19</td>\n",
       "      <td>0</td>\n",
       "      <td>0</td>\n",
       "      <td>1005</td>\n",
       "      <td>0</td>\n",
       "      <td>50e219e0</td>\n",
       "      <td>febd1138</td>\n",
       "      <td>82e27996</td>\n",
       "      <td>0f2161f8</td>\n",
       "      <td>1</td>\n",
       "      <td>...</td>\n",
       "      <td>320</td>\n",
       "      <td>50</td>\n",
       "      <td>2480</td>\n",
       "      <td>3</td>\n",
       "      <td>297</td>\n",
       "      <td>100111</td>\n",
       "      <td>61</td>\n",
       "      <td>0</td>\n",
       "      <td>189590f92ea4f8ba</td>\n",
       "      <td>85f751fdc4e18dd6</td>\n",
       "    </tr>\n",
       "    <tr>\n",
       "      <th>6</th>\n",
       "      <td>4.149473e+18</td>\n",
       "      <td>0</td>\n",
       "      <td>8</td>\n",
       "      <td>1010</td>\n",
       "      <td>1</td>\n",
       "      <td>50e219e0</td>\n",
       "      <td>03a08c3f</td>\n",
       "      <td>7801e8d9</td>\n",
       "      <td>0f2161f8</td>\n",
       "      <td>4</td>\n",
       "      <td>...</td>\n",
       "      <td>320</td>\n",
       "      <td>50</td>\n",
       "      <td>1722</td>\n",
       "      <td>0</td>\n",
       "      <td>35</td>\n",
       "      <td>100084</td>\n",
       "      <td>79</td>\n",
       "      <td>4</td>\n",
       "      <td>192d98b0</td>\n",
       "      <td>85f751fdc4e18dd6</td>\n",
       "    </tr>\n",
       "    <tr>\n",
       "      <th>7</th>\n",
       "      <td>1.085379e+19</td>\n",
       "      <td>0</td>\n",
       "      <td>4</td>\n",
       "      <td>1005</td>\n",
       "      <td>0</td>\n",
       "      <td>50e219e0</td>\n",
       "      <td>a5184c22</td>\n",
       "      <td>b8d325c3</td>\n",
       "      <td>0f2161f8</td>\n",
       "      <td>1</td>\n",
       "      <td>...</td>\n",
       "      <td>320</td>\n",
       "      <td>50</td>\n",
       "      <td>2676</td>\n",
       "      <td>0</td>\n",
       "      <td>35</td>\n",
       "      <td>100176</td>\n",
       "      <td>221</td>\n",
       "      <td>2</td>\n",
       "      <td>342b6e9ea0f5f879</td>\n",
       "      <td>85f751fdc4e18dd6</td>\n",
       "    </tr>\n",
       "    <tr>\n",
       "      <th>8</th>\n",
       "      <td>2.629918e+18</td>\n",
       "      <td>0</td>\n",
       "      <td>13</td>\n",
       "      <td>1010</td>\n",
       "      <td>1</td>\n",
       "      <td>50e219e0</td>\n",
       "      <td>8486dd4e</td>\n",
       "      <td>7801e8d9</td>\n",
       "      <td>0f2161f8</td>\n",
       "      <td>4</td>\n",
       "      <td>...</td>\n",
       "      <td>320</td>\n",
       "      <td>50</td>\n",
       "      <td>2036</td>\n",
       "      <td>3</td>\n",
       "      <td>47</td>\n",
       "      <td>-1</td>\n",
       "      <td>156</td>\n",
       "      <td>5</td>\n",
       "      <td>50dc7a55</td>\n",
       "      <td>85f751fdc4e18dd6</td>\n",
       "    </tr>\n",
       "    <tr>\n",
       "      <th>9</th>\n",
       "      <td>1.419062e+19</td>\n",
       "      <td>0</td>\n",
       "      <td>0</td>\n",
       "      <td>1010</td>\n",
       "      <td>1</td>\n",
       "      <td>50e219e0</td>\n",
       "      <td>04f2be5f</td>\n",
       "      <td>7801e8d9</td>\n",
       "      <td>0f2161f8</td>\n",
       "      <td>4</td>\n",
       "      <td>...</td>\n",
       "      <td>320</td>\n",
       "      <td>50</td>\n",
       "      <td>2602</td>\n",
       "      <td>0</td>\n",
       "      <td>163</td>\n",
       "      <td>100084</td>\n",
       "      <td>182</td>\n",
       "      <td>6</td>\n",
       "      <td>feb99a64</td>\n",
       "      <td>85f751fdc4e18dd6</td>\n",
       "    </tr>\n",
       "    <tr>\n",
       "      <th>10</th>\n",
       "      <td>5.245345e+17</td>\n",
       "      <td>0</td>\n",
       "      <td>20</td>\n",
       "      <td>1005</td>\n",
       "      <td>0</td>\n",
       "      <td>50e219e0</td>\n",
       "      <td>e2fcccd2</td>\n",
       "      <td>5c5a694b</td>\n",
       "      <td>0f2161f8</td>\n",
       "      <td>1</td>\n",
       "      <td>...</td>\n",
       "      <td>320</td>\n",
       "      <td>50</td>\n",
       "      <td>423</td>\n",
       "      <td>2</td>\n",
       "      <td>39</td>\n",
       "      <td>100148</td>\n",
       "      <td>32</td>\n",
       "      <td>2</td>\n",
       "      <td>1bed63c6</td>\n",
       "      <td>85f751fdc4e18dd6</td>\n",
       "    </tr>\n",
       "    <tr>\n",
       "      <th>11</th>\n",
       "      <td>1.071647e+19</td>\n",
       "      <td>0</td>\n",
       "      <td>0</td>\n",
       "      <td>1005</td>\n",
       "      <td>0</td>\n",
       "      <td>28905ebd</td>\n",
       "      <td>ecad2386</td>\n",
       "      <td>7801e8d9</td>\n",
       "      <td>07d7df22</td>\n",
       "      <td>1</td>\n",
       "      <td>...</td>\n",
       "      <td>320</td>\n",
       "      <td>50</td>\n",
       "      <td>2545</td>\n",
       "      <td>0</td>\n",
       "      <td>167</td>\n",
       "      <td>100083</td>\n",
       "      <td>221</td>\n",
       "      <td>6</td>\n",
       "      <td>02eb4e13ecb851b2</td>\n",
       "      <td>1fbe01fef3845767</td>\n",
       "    </tr>\n",
       "    <tr>\n",
       "      <th>12</th>\n",
       "      <td>3.965418e+18</td>\n",
       "      <td>0</td>\n",
       "      <td>5</td>\n",
       "      <td>1005</td>\n",
       "      <td>0</td>\n",
       "      <td>50e219e0</td>\n",
       "      <td>e96773f0</td>\n",
       "      <td>2347f47a</td>\n",
       "      <td>0f2161f8</td>\n",
       "      <td>1</td>\n",
       "      <td>...</td>\n",
       "      <td>320</td>\n",
       "      <td>50</td>\n",
       "      <td>2494</td>\n",
       "      <td>3</td>\n",
       "      <td>35</td>\n",
       "      <td>-1</td>\n",
       "      <td>112</td>\n",
       "      <td>1</td>\n",
       "      <td>e377ef1a3de05cb4</td>\n",
       "      <td>85f751fdc4e18dd6</td>\n",
       "    </tr>\n",
       "    <tr>\n",
       "      <th>13</th>\n",
       "      <td>1.671567e+19</td>\n",
       "      <td>0</td>\n",
       "      <td>21</td>\n",
       "      <td>1005</td>\n",
       "      <td>0</td>\n",
       "      <td>50e219e0</td>\n",
       "      <td>e2fcccd2</td>\n",
       "      <td>5c5a694b</td>\n",
       "      <td>0f2161f8</td>\n",
       "      <td>1</td>\n",
       "      <td>...</td>\n",
       "      <td>320</td>\n",
       "      <td>50</td>\n",
       "      <td>423</td>\n",
       "      <td>2</td>\n",
       "      <td>39</td>\n",
       "      <td>100148</td>\n",
       "      <td>32</td>\n",
       "      <td>1</td>\n",
       "      <td>80316e4b</td>\n",
       "      <td>85f751fdc4e18dd6</td>\n",
       "    </tr>\n",
       "    <tr>\n",
       "      <th>14</th>\n",
       "      <td>1.338216e+19</td>\n",
       "      <td>0</td>\n",
       "      <td>18</td>\n",
       "      <td>1005</td>\n",
       "      <td>0</td>\n",
       "      <td>28905ebd</td>\n",
       "      <td>ecad2386</td>\n",
       "      <td>7801e8d9</td>\n",
       "      <td>07d7df22</td>\n",
       "      <td>1</td>\n",
       "      <td>...</td>\n",
       "      <td>320</td>\n",
       "      <td>50</td>\n",
       "      <td>2291</td>\n",
       "      <td>3</td>\n",
       "      <td>35</td>\n",
       "      <td>-1</td>\n",
       "      <td>43</td>\n",
       "      <td>2</td>\n",
       "      <td>e9450e707b75d3a6</td>\n",
       "      <td>e3c09f3ad262cf1e</td>\n",
       "    </tr>\n",
       "    <tr>\n",
       "      <th>15</th>\n",
       "      <td>8.433310e+18</td>\n",
       "      <td>0</td>\n",
       "      <td>17</td>\n",
       "      <td>1005</td>\n",
       "      <td>0</td>\n",
       "      <td>50e219e0</td>\n",
       "      <td>e2a1ca37</td>\n",
       "      <td>2347f47a</td>\n",
       "      <td>8ded1f7a</td>\n",
       "      <td>1</td>\n",
       "      <td>...</td>\n",
       "      <td>320</td>\n",
       "      <td>50</td>\n",
       "      <td>1722</td>\n",
       "      <td>0</td>\n",
       "      <td>35</td>\n",
       "      <td>-1</td>\n",
       "      <td>79</td>\n",
       "      <td>2</td>\n",
       "      <td>505e93e7</td>\n",
       "      <td>85f751fdc4e18dd6</td>\n",
       "    </tr>\n",
       "    <tr>\n",
       "      <th>16</th>\n",
       "      <td>1.539751e+19</td>\n",
       "      <td>0</td>\n",
       "      <td>10</td>\n",
       "      <td>1005</td>\n",
       "      <td>1</td>\n",
       "      <td>f028772b</td>\n",
       "      <td>ecad2386</td>\n",
       "      <td>7801e8d9</td>\n",
       "      <td>07d7df22</td>\n",
       "      <td>1</td>\n",
       "      <td>...</td>\n",
       "      <td>320</td>\n",
       "      <td>50</td>\n",
       "      <td>1993</td>\n",
       "      <td>2</td>\n",
       "      <td>1063</td>\n",
       "      <td>100083</td>\n",
       "      <td>33</td>\n",
       "      <td>4</td>\n",
       "      <td>e35ad67e84ebbcd4</td>\n",
       "      <td>d9750ee798572c79</td>\n",
       "    </tr>\n",
       "    <tr>\n",
       "      <th>17</th>\n",
       "      <td>1.570319e+19</td>\n",
       "      <td>1</td>\n",
       "      <td>3</td>\n",
       "      <td>1002</td>\n",
       "      <td>0</td>\n",
       "      <td>50e219e0</td>\n",
       "      <td>ecad2386</td>\n",
       "      <td>7801e8d9</td>\n",
       "      <td>07d7df22</td>\n",
       "      <td>0</td>\n",
       "      <td>...</td>\n",
       "      <td>320</td>\n",
       "      <td>50</td>\n",
       "      <td>479</td>\n",
       "      <td>3</td>\n",
       "      <td>39</td>\n",
       "      <td>100077</td>\n",
       "      <td>23</td>\n",
       "      <td>1</td>\n",
       "      <td>fa6b1f31</td>\n",
       "      <td>2d4b5815d6639bc9</td>\n",
       "    </tr>\n",
       "    <tr>\n",
       "      <th>18</th>\n",
       "      <td>9.675112e+18</td>\n",
       "      <td>0</td>\n",
       "      <td>18</td>\n",
       "      <td>1005</td>\n",
       "      <td>0</td>\n",
       "      <td>28905ebd</td>\n",
       "      <td>ecad2386</td>\n",
       "      <td>7801e8d9</td>\n",
       "      <td>07d7df22</td>\n",
       "      <td>1</td>\n",
       "      <td>...</td>\n",
       "      <td>320</td>\n",
       "      <td>50</td>\n",
       "      <td>2299</td>\n",
       "      <td>2</td>\n",
       "      <td>1327</td>\n",
       "      <td>100084</td>\n",
       "      <td>52</td>\n",
       "      <td>3</td>\n",
       "      <td>1465315c779d90c2</td>\n",
       "      <td>1fbe01fef3845767</td>\n",
       "    </tr>\n",
       "    <tr>\n",
       "      <th>19</th>\n",
       "      <td>1.068174e+19</td>\n",
       "      <td>0</td>\n",
       "      <td>14</td>\n",
       "      <td>1005</td>\n",
       "      <td>0</td>\n",
       "      <td>50e219e0</td>\n",
       "      <td>a27d9ec2</td>\n",
       "      <td>2347f47a</td>\n",
       "      <td>0f2161f8</td>\n",
       "      <td>1</td>\n",
       "      <td>...</td>\n",
       "      <td>300</td>\n",
       "      <td>250</td>\n",
       "      <td>2716</td>\n",
       "      <td>3</td>\n",
       "      <td>43</td>\n",
       "      <td>-1</td>\n",
       "      <td>23</td>\n",
       "      <td>2</td>\n",
       "      <td>8d4feac2</td>\n",
       "      <td>85f751fdc4e18dd6</td>\n",
       "    </tr>\n",
       "    <tr>\n",
       "      <th>20</th>\n",
       "      <td>1.735785e+19</td>\n",
       "      <td>0</td>\n",
       "      <td>19</td>\n",
       "      <td>1005</td>\n",
       "      <td>1</td>\n",
       "      <td>f028772b</td>\n",
       "      <td>ecad2386</td>\n",
       "      <td>7801e8d9</td>\n",
       "      <td>07d7df22</td>\n",
       "      <td>1</td>\n",
       "      <td>...</td>\n",
       "      <td>216</td>\n",
       "      <td>36</td>\n",
       "      <td>2307</td>\n",
       "      <td>3</td>\n",
       "      <td>163</td>\n",
       "      <td>100020</td>\n",
       "      <td>61</td>\n",
       "      <td>2</td>\n",
       "      <td>b9c1dcd4180a896e</td>\n",
       "      <td>cbb018687e091613</td>\n",
       "    </tr>\n",
       "    <tr>\n",
       "      <th>21</th>\n",
       "      <td>7.474176e+18</td>\n",
       "      <td>0</td>\n",
       "      <td>21</td>\n",
       "      <td>1005</td>\n",
       "      <td>0</td>\n",
       "      <td>28905ebd</td>\n",
       "      <td>ecad2386</td>\n",
       "      <td>7801e8d9</td>\n",
       "      <td>07d7df22</td>\n",
       "      <td>1</td>\n",
       "      <td>...</td>\n",
       "      <td>320</td>\n",
       "      <td>50</td>\n",
       "      <td>2502</td>\n",
       "      <td>0</td>\n",
       "      <td>35</td>\n",
       "      <td>-1</td>\n",
       "      <td>221</td>\n",
       "      <td>1</td>\n",
       "      <td>6fe78038edead9f4</td>\n",
       "      <td>1fbe01fef3845767</td>\n",
       "    </tr>\n",
       "    <tr>\n",
       "      <th>22</th>\n",
       "      <td>1.615797e+19</td>\n",
       "      <td>0</td>\n",
       "      <td>10</td>\n",
       "      <td>1005</td>\n",
       "      <td>0</td>\n",
       "      <td>50e219e0</td>\n",
       "      <td>442cfede</td>\n",
       "      <td>2347f47a</td>\n",
       "      <td>cef3e649</td>\n",
       "      <td>1</td>\n",
       "      <td>...</td>\n",
       "      <td>320</td>\n",
       "      <td>50</td>\n",
       "      <td>2738</td>\n",
       "      <td>0</td>\n",
       "      <td>163</td>\n",
       "      <td>-1</td>\n",
       "      <td>17</td>\n",
       "      <td>3</td>\n",
       "      <td>aae82309</td>\n",
       "      <td>85f751fdc4e18dd6</td>\n",
       "    </tr>\n",
       "    <tr>\n",
       "      <th>23</th>\n",
       "      <td>4.208933e+18</td>\n",
       "      <td>0</td>\n",
       "      <td>8</td>\n",
       "      <td>1005</td>\n",
       "      <td>0</td>\n",
       "      <td>50e219e0</td>\n",
       "      <td>66f5e02e</td>\n",
       "      <td>6f7ca2ba</td>\n",
       "      <td>0f2161f8</td>\n",
       "      <td>1</td>\n",
       "      <td>...</td>\n",
       "      <td>320</td>\n",
       "      <td>50</td>\n",
       "      <td>2500</td>\n",
       "      <td>2</td>\n",
       "      <td>34</td>\n",
       "      <td>-1</td>\n",
       "      <td>90</td>\n",
       "      <td>1</td>\n",
       "      <td>cc84126a1ccc7835</td>\n",
       "      <td>85f751fdc4e18dd6</td>\n",
       "    </tr>\n",
       "    <tr>\n",
       "      <th>24</th>\n",
       "      <td>1.265507e+18</td>\n",
       "      <td>0</td>\n",
       "      <td>13</td>\n",
       "      <td>1005</td>\n",
       "      <td>0</td>\n",
       "      <td>28905ebd</td>\n",
       "      <td>ecad2386</td>\n",
       "      <td>7801e8d9</td>\n",
       "      <td>07d7df22</td>\n",
       "      <td>1</td>\n",
       "      <td>...</td>\n",
       "      <td>320</td>\n",
       "      <td>50</td>\n",
       "      <td>1722</td>\n",
       "      <td>0</td>\n",
       "      <td>35</td>\n",
       "      <td>-1</td>\n",
       "      <td>79</td>\n",
       "      <td>4</td>\n",
       "      <td>c65caa1a6332421a</td>\n",
       "      <td>1fbe01fef3845767</td>\n",
       "    </tr>\n",
       "    <tr>\n",
       "      <th>25</th>\n",
       "      <td>6.499251e+18</td>\n",
       "      <td>0</td>\n",
       "      <td>5</td>\n",
       "      <td>1005</td>\n",
       "      <td>0</td>\n",
       "      <td>50e219e0</td>\n",
       "      <td>e2fcccd2</td>\n",
       "      <td>5c5a694b</td>\n",
       "      <td>0f2161f8</td>\n",
       "      <td>1</td>\n",
       "      <td>...</td>\n",
       "      <td>320</td>\n",
       "      <td>50</td>\n",
       "      <td>423</td>\n",
       "      <td>2</td>\n",
       "      <td>39</td>\n",
       "      <td>100148</td>\n",
       "      <td>32</td>\n",
       "      <td>6</td>\n",
       "      <td>f3e5823b</td>\n",
       "      <td>85f751fdc4e18dd6</td>\n",
       "    </tr>\n",
       "    <tr>\n",
       "      <th>26</th>\n",
       "      <td>4.381788e+18</td>\n",
       "      <td>0</td>\n",
       "      <td>4</td>\n",
       "      <td>1005</td>\n",
       "      <td>1</td>\n",
       "      <td>f028772b</td>\n",
       "      <td>ecad2386</td>\n",
       "      <td>7801e8d9</td>\n",
       "      <td>07d7df22</td>\n",
       "      <td>1</td>\n",
       "      <td>...</td>\n",
       "      <td>320</td>\n",
       "      <td>50</td>\n",
       "      <td>1800</td>\n",
       "      <td>3</td>\n",
       "      <td>167</td>\n",
       "      <td>100075</td>\n",
       "      <td>23</td>\n",
       "      <td>6</td>\n",
       "      <td>592c3b770eb711ec</td>\n",
       "      <td>856e6d3f58a89a43</td>\n",
       "    </tr>\n",
       "    <tr>\n",
       "      <th>27</th>\n",
       "      <td>1.821494e+19</td>\n",
       "      <td>1</td>\n",
       "      <td>5</td>\n",
       "      <td>1005</td>\n",
       "      <td>1</td>\n",
       "      <td>3e814130</td>\n",
       "      <td>ecad2386</td>\n",
       "      <td>7801e8d9</td>\n",
       "      <td>07d7df22</td>\n",
       "      <td>1</td>\n",
       "      <td>...</td>\n",
       "      <td>320</td>\n",
       "      <td>50</td>\n",
       "      <td>2528</td>\n",
       "      <td>0</td>\n",
       "      <td>39</td>\n",
       "      <td>100076</td>\n",
       "      <td>221</td>\n",
       "      <td>1</td>\n",
       "      <td>e0d4cd8cd4897fef</td>\n",
       "      <td>e4d8dd7ba17bde68</td>\n",
       "    </tr>\n",
       "    <tr>\n",
       "      <th>28</th>\n",
       "      <td>5.770684e+18</td>\n",
       "      <td>0</td>\n",
       "      <td>13</td>\n",
       "      <td>1005</td>\n",
       "      <td>0</td>\n",
       "      <td>50e219e0</td>\n",
       "      <td>9c13b419</td>\n",
       "      <td>2347f47a</td>\n",
       "      <td>f95efa07</td>\n",
       "      <td>1</td>\n",
       "      <td>...</td>\n",
       "      <td>320</td>\n",
       "      <td>50</td>\n",
       "      <td>2667</td>\n",
       "      <td>0</td>\n",
       "      <td>47</td>\n",
       "      <td>-1</td>\n",
       "      <td>221</td>\n",
       "      <td>3</td>\n",
       "      <td>8fc58aaa4422b3db</td>\n",
       "      <td>85f751fdc4e18dd6</td>\n",
       "    </tr>\n",
       "    <tr>\n",
       "      <th>29</th>\n",
       "      <td>1.685318e+19</td>\n",
       "      <td>0</td>\n",
       "      <td>10</td>\n",
       "      <td>1005</td>\n",
       "      <td>0</td>\n",
       "      <td>50e219e0</td>\n",
       "      <td>f0d41ff1</td>\n",
       "      <td>2347f47a</td>\n",
       "      <td>0f2161f8</td>\n",
       "      <td>1</td>\n",
       "      <td>...</td>\n",
       "      <td>320</td>\n",
       "      <td>50</td>\n",
       "      <td>2506</td>\n",
       "      <td>0</td>\n",
       "      <td>35</td>\n",
       "      <td>-1</td>\n",
       "      <td>157</td>\n",
       "      <td>2</td>\n",
       "      <td>25ed87da526fa832</td>\n",
       "      <td>85f751fdc4e18dd6</td>\n",
       "    </tr>\n",
       "    <tr>\n",
       "      <th>...</th>\n",
       "      <td>...</td>\n",
       "      <td>...</td>\n",
       "      <td>...</td>\n",
       "      <td>...</td>\n",
       "      <td>...</td>\n",
       "      <td>...</td>\n",
       "      <td>...</td>\n",
       "      <td>...</td>\n",
       "      <td>...</td>\n",
       "      <td>...</td>\n",
       "      <td>...</td>\n",
       "      <td>...</td>\n",
       "      <td>...</td>\n",
       "      <td>...</td>\n",
       "      <td>...</td>\n",
       "      <td>...</td>\n",
       "      <td>...</td>\n",
       "      <td>...</td>\n",
       "      <td>...</td>\n",
       "      <td>...</td>\n",
       "      <td>...</td>\n",
       "    </tr>\n",
       "    <tr>\n",
       "      <th>999970</th>\n",
       "      <td>7.343753e+18</td>\n",
       "      <td>0</td>\n",
       "      <td>6</td>\n",
       "      <td>1005</td>\n",
       "      <td>1</td>\n",
       "      <td>f028772b</td>\n",
       "      <td>ecad2386</td>\n",
       "      <td>7801e8d9</td>\n",
       "      <td>07d7df22</td>\n",
       "      <td>1</td>\n",
       "      <td>...</td>\n",
       "      <td>320</td>\n",
       "      <td>50</td>\n",
       "      <td>2227</td>\n",
       "      <td>0</td>\n",
       "      <td>679</td>\n",
       "      <td>100081</td>\n",
       "      <td>48</td>\n",
       "      <td>3</td>\n",
       "      <td>f22e696f9fef9da8</td>\n",
       "      <td>e5c60a057256c623</td>\n",
       "    </tr>\n",
       "    <tr>\n",
       "      <th>999971</th>\n",
       "      <td>2.984961e+18</td>\n",
       "      <td>0</td>\n",
       "      <td>0</td>\n",
       "      <td>1005</td>\n",
       "      <td>1</td>\n",
       "      <td>f028772b</td>\n",
       "      <td>ecad2386</td>\n",
       "      <td>7801e8d9</td>\n",
       "      <td>07d7df22</td>\n",
       "      <td>1</td>\n",
       "      <td>...</td>\n",
       "      <td>320</td>\n",
       "      <td>50</td>\n",
       "      <td>2695</td>\n",
       "      <td>0</td>\n",
       "      <td>35</td>\n",
       "      <td>-1</td>\n",
       "      <td>51</td>\n",
       "      <td>3</td>\n",
       "      <td>844be274c6263d8a</td>\n",
       "      <td>ec47f32a7e091613</td>\n",
       "    </tr>\n",
       "    <tr>\n",
       "      <th>999972</th>\n",
       "      <td>8.422970e+18</td>\n",
       "      <td>0</td>\n",
       "      <td>3</td>\n",
       "      <td>1012</td>\n",
       "      <td>0</td>\n",
       "      <td>50e219e0</td>\n",
       "      <td>3692fd30</td>\n",
       "      <td>7801e8d9</td>\n",
       "      <td>07d7df22</td>\n",
       "      <td>1</td>\n",
       "      <td>...</td>\n",
       "      <td>320</td>\n",
       "      <td>50</td>\n",
       "      <td>2264</td>\n",
       "      <td>3</td>\n",
       "      <td>427</td>\n",
       "      <td>100000</td>\n",
       "      <td>61</td>\n",
       "      <td>0</td>\n",
       "      <td>aab31253</td>\n",
       "      <td>85f751fdc4e18dd6</td>\n",
       "    </tr>\n",
       "    <tr>\n",
       "      <th>999973</th>\n",
       "      <td>7.381973e+18</td>\n",
       "      <td>0</td>\n",
       "      <td>13</td>\n",
       "      <td>1005</td>\n",
       "      <td>1</td>\n",
       "      <td>f028772b</td>\n",
       "      <td>ecad2386</td>\n",
       "      <td>7801e8d9</td>\n",
       "      <td>07d7df22</td>\n",
       "      <td>1</td>\n",
       "      <td>...</td>\n",
       "      <td>320</td>\n",
       "      <td>50</td>\n",
       "      <td>2283</td>\n",
       "      <td>0</td>\n",
       "      <td>163</td>\n",
       "      <td>100076</td>\n",
       "      <td>95</td>\n",
       "      <td>1</td>\n",
       "      <td>92b6db4d6f21a189</td>\n",
       "      <td>5b4d2eda16a36ef3</td>\n",
       "    </tr>\n",
       "    <tr>\n",
       "      <th>999974</th>\n",
       "      <td>1.451814e+19</td>\n",
       "      <td>0</td>\n",
       "      <td>7</td>\n",
       "      <td>1005</td>\n",
       "      <td>0</td>\n",
       "      <td>50e219e0</td>\n",
       "      <td>3f2a6cbb</td>\n",
       "      <td>33da2e74</td>\n",
       "      <td>cef3e649</td>\n",
       "      <td>1</td>\n",
       "      <td>...</td>\n",
       "      <td>320</td>\n",
       "      <td>50</td>\n",
       "      <td>2260</td>\n",
       "      <td>0</td>\n",
       "      <td>171</td>\n",
       "      <td>100156</td>\n",
       "      <td>91</td>\n",
       "      <td>2</td>\n",
       "      <td>048bbe643bb1ddd7</td>\n",
       "      <td>85f751fdc4e18dd6</td>\n",
       "    </tr>\n",
       "    <tr>\n",
       "      <th>999975</th>\n",
       "      <td>4.685702e+17</td>\n",
       "      <td>0</td>\n",
       "      <td>16</td>\n",
       "      <td>1005</td>\n",
       "      <td>1</td>\n",
       "      <td>f028772b</td>\n",
       "      <td>ecad2386</td>\n",
       "      <td>7801e8d9</td>\n",
       "      <td>07d7df22</td>\n",
       "      <td>1</td>\n",
       "      <td>...</td>\n",
       "      <td>320</td>\n",
       "      <td>50</td>\n",
       "      <td>423</td>\n",
       "      <td>2</td>\n",
       "      <td>39</td>\n",
       "      <td>-1</td>\n",
       "      <td>32</td>\n",
       "      <td>3</td>\n",
       "      <td>e34ee197e9b8d8d7</td>\n",
       "      <td>e151e2457e091613</td>\n",
       "    </tr>\n",
       "    <tr>\n",
       "      <th>999976</th>\n",
       "      <td>7.290971e+18</td>\n",
       "      <td>0</td>\n",
       "      <td>5</td>\n",
       "      <td>1005</td>\n",
       "      <td>0</td>\n",
       "      <td>50e219e0</td>\n",
       "      <td>98fed791</td>\n",
       "      <td>d9b5648e</td>\n",
       "      <td>0f2161f8</td>\n",
       "      <td>1</td>\n",
       "      <td>...</td>\n",
       "      <td>320</td>\n",
       "      <td>50</td>\n",
       "      <td>2281</td>\n",
       "      <td>3</td>\n",
       "      <td>47</td>\n",
       "      <td>100181</td>\n",
       "      <td>42</td>\n",
       "      <td>2</td>\n",
       "      <td>7f38b93caad45b01</td>\n",
       "      <td>85f751fdc4e18dd6</td>\n",
       "    </tr>\n",
       "    <tr>\n",
       "      <th>999977</th>\n",
       "      <td>2.038132e+18</td>\n",
       "      <td>0</td>\n",
       "      <td>12</td>\n",
       "      <td>1005</td>\n",
       "      <td>0</td>\n",
       "      <td>50e219e0</td>\n",
       "      <td>92f5800b</td>\n",
       "      <td>ae637522</td>\n",
       "      <td>0f2161f8</td>\n",
       "      <td>1</td>\n",
       "      <td>...</td>\n",
       "      <td>320</td>\n",
       "      <td>50</td>\n",
       "      <td>2424</td>\n",
       "      <td>1</td>\n",
       "      <td>161</td>\n",
       "      <td>100192</td>\n",
       "      <td>71</td>\n",
       "      <td>1</td>\n",
       "      <td>5c3e444a496515fa</td>\n",
       "      <td>85f751fdc4e18dd6</td>\n",
       "    </tr>\n",
       "    <tr>\n",
       "      <th>999978</th>\n",
       "      <td>6.140306e+18</td>\n",
       "      <td>0</td>\n",
       "      <td>19</td>\n",
       "      <td>1010</td>\n",
       "      <td>1</td>\n",
       "      <td>50e219e0</td>\n",
       "      <td>3fc1c0a3</td>\n",
       "      <td>7801e8d9</td>\n",
       "      <td>0f2161f8</td>\n",
       "      <td>4</td>\n",
       "      <td>...</td>\n",
       "      <td>320</td>\n",
       "      <td>50</td>\n",
       "      <td>1882</td>\n",
       "      <td>3</td>\n",
       "      <td>35</td>\n",
       "      <td>-1</td>\n",
       "      <td>13</td>\n",
       "      <td>3</td>\n",
       "      <td>2ea5b1b4</td>\n",
       "      <td>85f751fdc4e18dd6</td>\n",
       "    </tr>\n",
       "    <tr>\n",
       "      <th>999979</th>\n",
       "      <td>1.175839e+19</td>\n",
       "      <td>1</td>\n",
       "      <td>15</td>\n",
       "      <td>1005</td>\n",
       "      <td>0</td>\n",
       "      <td>f028772b</td>\n",
       "      <td>ecad2386</td>\n",
       "      <td>7801e8d9</td>\n",
       "      <td>07d7df22</td>\n",
       "      <td>1</td>\n",
       "      <td>...</td>\n",
       "      <td>320</td>\n",
       "      <td>50</td>\n",
       "      <td>1722</td>\n",
       "      <td>0</td>\n",
       "      <td>35</td>\n",
       "      <td>-1</td>\n",
       "      <td>79</td>\n",
       "      <td>4</td>\n",
       "      <td>a8536f3acd5b1559</td>\n",
       "      <td>6256f5b428f93029</td>\n",
       "    </tr>\n",
       "    <tr>\n",
       "      <th>999980</th>\n",
       "      <td>1.443387e+19</td>\n",
       "      <td>0</td>\n",
       "      <td>20</td>\n",
       "      <td>1005</td>\n",
       "      <td>0</td>\n",
       "      <td>28905ebd</td>\n",
       "      <td>ecad2386</td>\n",
       "      <td>7801e8d9</td>\n",
       "      <td>07d7df22</td>\n",
       "      <td>1</td>\n",
       "      <td>...</td>\n",
       "      <td>320</td>\n",
       "      <td>50</td>\n",
       "      <td>2502</td>\n",
       "      <td>0</td>\n",
       "      <td>35</td>\n",
       "      <td>-1</td>\n",
       "      <td>221</td>\n",
       "      <td>1</td>\n",
       "      <td>431b31748a4875bd</td>\n",
       "      <td>1fbe01fef3845767</td>\n",
       "    </tr>\n",
       "    <tr>\n",
       "      <th>999981</th>\n",
       "      <td>4.439932e+18</td>\n",
       "      <td>1</td>\n",
       "      <td>8</td>\n",
       "      <td>1005</td>\n",
       "      <td>1</td>\n",
       "      <td>f028772b</td>\n",
       "      <td>ecad2386</td>\n",
       "      <td>7801e8d9</td>\n",
       "      <td>07d7df22</td>\n",
       "      <td>1</td>\n",
       "      <td>...</td>\n",
       "      <td>320</td>\n",
       "      <td>50</td>\n",
       "      <td>2609</td>\n",
       "      <td>3</td>\n",
       "      <td>167</td>\n",
       "      <td>-1</td>\n",
       "      <td>23</td>\n",
       "      <td>0</td>\n",
       "      <td>5234c26b3de05cb4</td>\n",
       "      <td>235ba823f6ebf28e</td>\n",
       "    </tr>\n",
       "    <tr>\n",
       "      <th>999982</th>\n",
       "      <td>1.693099e+19</td>\n",
       "      <td>0</td>\n",
       "      <td>9</td>\n",
       "      <td>1005</td>\n",
       "      <td>0</td>\n",
       "      <td>50e219e0</td>\n",
       "      <td>e96773f0</td>\n",
       "      <td>2347f47a</td>\n",
       "      <td>0f2161f8</td>\n",
       "      <td>1</td>\n",
       "      <td>...</td>\n",
       "      <td>320</td>\n",
       "      <td>50</td>\n",
       "      <td>2506</td>\n",
       "      <td>0</td>\n",
       "      <td>35</td>\n",
       "      <td>-1</td>\n",
       "      <td>157</td>\n",
       "      <td>2</td>\n",
       "      <td>96502354a0f5f879</td>\n",
       "      <td>85f751fdc4e18dd6</td>\n",
       "    </tr>\n",
       "    <tr>\n",
       "      <th>999983</th>\n",
       "      <td>1.788545e+19</td>\n",
       "      <td>1</td>\n",
       "      <td>19</td>\n",
       "      <td>1005</td>\n",
       "      <td>0</td>\n",
       "      <td>50e219e0</td>\n",
       "      <td>9c13b419</td>\n",
       "      <td>2347f47a</td>\n",
       "      <td>f95efa07</td>\n",
       "      <td>1</td>\n",
       "      <td>...</td>\n",
       "      <td>320</td>\n",
       "      <td>50</td>\n",
       "      <td>2667</td>\n",
       "      <td>0</td>\n",
       "      <td>47</td>\n",
       "      <td>-1</td>\n",
       "      <td>221</td>\n",
       "      <td>3</td>\n",
       "      <td>e664ceb31f0bc64f</td>\n",
       "      <td>85f751fdc4e18dd6</td>\n",
       "    </tr>\n",
       "    <tr>\n",
       "      <th>999984</th>\n",
       "      <td>7.582998e+18</td>\n",
       "      <td>0</td>\n",
       "      <td>5</td>\n",
       "      <td>1005</td>\n",
       "      <td>0</td>\n",
       "      <td>f028772b</td>\n",
       "      <td>ecad2386</td>\n",
       "      <td>7801e8d9</td>\n",
       "      <td>07d7df22</td>\n",
       "      <td>1</td>\n",
       "      <td>...</td>\n",
       "      <td>320</td>\n",
       "      <td>50</td>\n",
       "      <td>2201</td>\n",
       "      <td>3</td>\n",
       "      <td>35</td>\n",
       "      <td>-1</td>\n",
       "      <td>43</td>\n",
       "      <td>1</td>\n",
       "      <td>ffecbf539dcb1cd1</td>\n",
       "      <td>6399eda6968765cd</td>\n",
       "    </tr>\n",
       "    <tr>\n",
       "      <th>999985</th>\n",
       "      <td>2.519849e+18</td>\n",
       "      <td>0</td>\n",
       "      <td>15</td>\n",
       "      <td>1005</td>\n",
       "      <td>1</td>\n",
       "      <td>f028772b</td>\n",
       "      <td>ecad2386</td>\n",
       "      <td>7801e8d9</td>\n",
       "      <td>07d7df22</td>\n",
       "      <td>1</td>\n",
       "      <td>...</td>\n",
       "      <td>320</td>\n",
       "      <td>50</td>\n",
       "      <td>1872</td>\n",
       "      <td>3</td>\n",
       "      <td>39</td>\n",
       "      <td>-1</td>\n",
       "      <td>23</td>\n",
       "      <td>2</td>\n",
       "      <td>802c5cad1f0bc64f</td>\n",
       "      <td>e151e2457e091613</td>\n",
       "    </tr>\n",
       "    <tr>\n",
       "      <th>999986</th>\n",
       "      <td>1.286125e+19</td>\n",
       "      <td>1</td>\n",
       "      <td>15</td>\n",
       "      <td>1005</td>\n",
       "      <td>0</td>\n",
       "      <td>28905ebd</td>\n",
       "      <td>ecad2386</td>\n",
       "      <td>7801e8d9</td>\n",
       "      <td>07d7df22</td>\n",
       "      <td>1</td>\n",
       "      <td>...</td>\n",
       "      <td>320</td>\n",
       "      <td>50</td>\n",
       "      <td>1722</td>\n",
       "      <td>0</td>\n",
       "      <td>35</td>\n",
       "      <td>-1</td>\n",
       "      <td>79</td>\n",
       "      <td>5</td>\n",
       "      <td>2e08e3532203a096</td>\n",
       "      <td>1fbe01fef3845767</td>\n",
       "    </tr>\n",
       "    <tr>\n",
       "      <th>999987</th>\n",
       "      <td>3.116367e+18</td>\n",
       "      <td>1</td>\n",
       "      <td>6</td>\n",
       "      <td>1005</td>\n",
       "      <td>0</td>\n",
       "      <td>28905ebd</td>\n",
       "      <td>ecad2386</td>\n",
       "      <td>7801e8d9</td>\n",
       "      <td>07d7df22</td>\n",
       "      <td>1</td>\n",
       "      <td>...</td>\n",
       "      <td>320</td>\n",
       "      <td>50</td>\n",
       "      <td>2299</td>\n",
       "      <td>2</td>\n",
       "      <td>1319</td>\n",
       "      <td>-1</td>\n",
       "      <td>52</td>\n",
       "      <td>4</td>\n",
       "      <td>46c738c18d19d3d4</td>\n",
       "      <td>1fbe01fef3845767</td>\n",
       "    </tr>\n",
       "    <tr>\n",
       "      <th>999988</th>\n",
       "      <td>1.598526e+19</td>\n",
       "      <td>0</td>\n",
       "      <td>18</td>\n",
       "      <td>1005</td>\n",
       "      <td>1</td>\n",
       "      <td>f028772b</td>\n",
       "      <td>ecad2386</td>\n",
       "      <td>7801e8d9</td>\n",
       "      <td>07d7df22</td>\n",
       "      <td>1</td>\n",
       "      <td>...</td>\n",
       "      <td>320</td>\n",
       "      <td>50</td>\n",
       "      <td>906</td>\n",
       "      <td>3</td>\n",
       "      <td>1451</td>\n",
       "      <td>100156</td>\n",
       "      <td>61</td>\n",
       "      <td>2</td>\n",
       "      <td>930ec31df60c2fd3</td>\n",
       "      <td>a78530077e091613</td>\n",
       "    </tr>\n",
       "    <tr>\n",
       "      <th>999989</th>\n",
       "      <td>1.459450e+19</td>\n",
       "      <td>1</td>\n",
       "      <td>17</td>\n",
       "      <td>1005</td>\n",
       "      <td>0</td>\n",
       "      <td>3e814130</td>\n",
       "      <td>ecad2386</td>\n",
       "      <td>7801e8d9</td>\n",
       "      <td>07d7df22</td>\n",
       "      <td>1</td>\n",
       "      <td>...</td>\n",
       "      <td>320</td>\n",
       "      <td>50</td>\n",
       "      <td>2227</td>\n",
       "      <td>0</td>\n",
       "      <td>679</td>\n",
       "      <td>100079</td>\n",
       "      <td>48</td>\n",
       "      <td>1</td>\n",
       "      <td>6aff7d205a99f6be</td>\n",
       "      <td>c96057c19425ad2a</td>\n",
       "    </tr>\n",
       "    <tr>\n",
       "      <th>999990</th>\n",
       "      <td>1.179710e+19</td>\n",
       "      <td>0</td>\n",
       "      <td>12</td>\n",
       "      <td>1005</td>\n",
       "      <td>0</td>\n",
       "      <td>50e219e0</td>\n",
       "      <td>92f5800b</td>\n",
       "      <td>ae637522</td>\n",
       "      <td>0f2161f8</td>\n",
       "      <td>1</td>\n",
       "      <td>...</td>\n",
       "      <td>320</td>\n",
       "      <td>50</td>\n",
       "      <td>2424</td>\n",
       "      <td>1</td>\n",
       "      <td>161</td>\n",
       "      <td>100193</td>\n",
       "      <td>71</td>\n",
       "      <td>4</td>\n",
       "      <td>227d7bbbe1eae715</td>\n",
       "      <td>85f751fdc4e18dd6</td>\n",
       "    </tr>\n",
       "    <tr>\n",
       "      <th>999991</th>\n",
       "      <td>1.667717e+18</td>\n",
       "      <td>0</td>\n",
       "      <td>11</td>\n",
       "      <td>1005</td>\n",
       "      <td>0</td>\n",
       "      <td>50e219e0</td>\n",
       "      <td>a5184c22</td>\n",
       "      <td>b8d325c3</td>\n",
       "      <td>0f2161f8</td>\n",
       "      <td>1</td>\n",
       "      <td>...</td>\n",
       "      <td>320</td>\n",
       "      <td>50</td>\n",
       "      <td>2506</td>\n",
       "      <td>0</td>\n",
       "      <td>35</td>\n",
       "      <td>-1</td>\n",
       "      <td>157</td>\n",
       "      <td>2</td>\n",
       "      <td>b563500ad787e91b</td>\n",
       "      <td>85f751fdc4e18dd6</td>\n",
       "    </tr>\n",
       "    <tr>\n",
       "      <th>999992</th>\n",
       "      <td>6.571310e+18</td>\n",
       "      <td>0</td>\n",
       "      <td>6</td>\n",
       "      <td>1005</td>\n",
       "      <td>1</td>\n",
       "      <td>f028772b</td>\n",
       "      <td>ecad2386</td>\n",
       "      <td>7801e8d9</td>\n",
       "      <td>07d7df22</td>\n",
       "      <td>1</td>\n",
       "      <td>...</td>\n",
       "      <td>320</td>\n",
       "      <td>50</td>\n",
       "      <td>2161</td>\n",
       "      <td>0</td>\n",
       "      <td>35</td>\n",
       "      <td>-1</td>\n",
       "      <td>157</td>\n",
       "      <td>1</td>\n",
       "      <td>014fa4caee007ad3</td>\n",
       "      <td>d9750ee798572c79</td>\n",
       "    </tr>\n",
       "    <tr>\n",
       "      <th>999993</th>\n",
       "      <td>2.398772e+18</td>\n",
       "      <td>0</td>\n",
       "      <td>9</td>\n",
       "      <td>1005</td>\n",
       "      <td>0</td>\n",
       "      <td>28905ebd</td>\n",
       "      <td>ecad2386</td>\n",
       "      <td>7801e8d9</td>\n",
       "      <td>07d7df22</td>\n",
       "      <td>1</td>\n",
       "      <td>...</td>\n",
       "      <td>320</td>\n",
       "      <td>50</td>\n",
       "      <td>1722</td>\n",
       "      <td>0</td>\n",
       "      <td>35</td>\n",
       "      <td>100084</td>\n",
       "      <td>79</td>\n",
       "      <td>5</td>\n",
       "      <td>cdecc0d6553f099b</td>\n",
       "      <td>1fbe01fef3845767</td>\n",
       "    </tr>\n",
       "    <tr>\n",
       "      <th>999994</th>\n",
       "      <td>5.854461e+18</td>\n",
       "      <td>0</td>\n",
       "      <td>5</td>\n",
       "      <td>1005</td>\n",
       "      <td>0</td>\n",
       "      <td>50e219e0</td>\n",
       "      <td>3c4b944d</td>\n",
       "      <td>2347f47a</td>\n",
       "      <td>0f2161f8</td>\n",
       "      <td>1</td>\n",
       "      <td>...</td>\n",
       "      <td>320</td>\n",
       "      <td>50</td>\n",
       "      <td>2480</td>\n",
       "      <td>3</td>\n",
       "      <td>297</td>\n",
       "      <td>100111</td>\n",
       "      <td>61</td>\n",
       "      <td>0</td>\n",
       "      <td>5afc4a9d</td>\n",
       "      <td>85f751fdc4e18dd6</td>\n",
       "    </tr>\n",
       "    <tr>\n",
       "      <th>999995</th>\n",
       "      <td>1.160473e+19</td>\n",
       "      <td>0</td>\n",
       "      <td>2</td>\n",
       "      <td>1005</td>\n",
       "      <td>0</td>\n",
       "      <td>3e814130</td>\n",
       "      <td>ecad2386</td>\n",
       "      <td>7801e8d9</td>\n",
       "      <td>07d7df22</td>\n",
       "      <td>1</td>\n",
       "      <td>...</td>\n",
       "      <td>300</td>\n",
       "      <td>250</td>\n",
       "      <td>2162</td>\n",
       "      <td>2</td>\n",
       "      <td>39</td>\n",
       "      <td>-1</td>\n",
       "      <td>33</td>\n",
       "      <td>6</td>\n",
       "      <td>9a8dbe7f68dabce1</td>\n",
       "      <td>5b08c53b7687a86e</td>\n",
       "    </tr>\n",
       "    <tr>\n",
       "      <th>999996</th>\n",
       "      <td>2.530099e+18</td>\n",
       "      <td>1</td>\n",
       "      <td>1</td>\n",
       "      <td>1005</td>\n",
       "      <td>0</td>\n",
       "      <td>28905ebd</td>\n",
       "      <td>ecad2386</td>\n",
       "      <td>7801e8d9</td>\n",
       "      <td>07d7df22</td>\n",
       "      <td>1</td>\n",
       "      <td>...</td>\n",
       "      <td>320</td>\n",
       "      <td>50</td>\n",
       "      <td>1722</td>\n",
       "      <td>0</td>\n",
       "      <td>35</td>\n",
       "      <td>-1</td>\n",
       "      <td>79</td>\n",
       "      <td>1</td>\n",
       "      <td>3b6f9f67c6263d8a</td>\n",
       "      <td>1fbe01fef3845767</td>\n",
       "    </tr>\n",
       "    <tr>\n",
       "      <th>999997</th>\n",
       "      <td>8.916528e+18</td>\n",
       "      <td>0</td>\n",
       "      <td>18</td>\n",
       "      <td>1005</td>\n",
       "      <td>1</td>\n",
       "      <td>f028772b</td>\n",
       "      <td>ecad2386</td>\n",
       "      <td>7801e8d9</td>\n",
       "      <td>07d7df22</td>\n",
       "      <td>1</td>\n",
       "      <td>...</td>\n",
       "      <td>320</td>\n",
       "      <td>50</td>\n",
       "      <td>1863</td>\n",
       "      <td>3</td>\n",
       "      <td>39</td>\n",
       "      <td>-1</td>\n",
       "      <td>23</td>\n",
       "      <td>3</td>\n",
       "      <td>2348915f744ae245</td>\n",
       "      <td>f61eaaae6b59f079</td>\n",
       "    </tr>\n",
       "    <tr>\n",
       "      <th>999998</th>\n",
       "      <td>1.307924e+19</td>\n",
       "      <td>0</td>\n",
       "      <td>8</td>\n",
       "      <td>1005</td>\n",
       "      <td>1</td>\n",
       "      <td>f028772b</td>\n",
       "      <td>ecad2386</td>\n",
       "      <td>7801e8d9</td>\n",
       "      <td>07d7df22</td>\n",
       "      <td>1</td>\n",
       "      <td>...</td>\n",
       "      <td>320</td>\n",
       "      <td>50</td>\n",
       "      <td>2227</td>\n",
       "      <td>0</td>\n",
       "      <td>935</td>\n",
       "      <td>-1</td>\n",
       "      <td>48</td>\n",
       "      <td>2</td>\n",
       "      <td>3ca7f7193e7932d7</td>\n",
       "      <td>57ef2c87bd6d812f</td>\n",
       "    </tr>\n",
       "    <tr>\n",
       "      <th>999999</th>\n",
       "      <td>1.658970e+18</td>\n",
       "      <td>0</td>\n",
       "      <td>0</td>\n",
       "      <td>1005</td>\n",
       "      <td>0</td>\n",
       "      <td>50e219e0</td>\n",
       "      <td>03528b27</td>\n",
       "      <td>2347f47a</td>\n",
       "      <td>8ded1f7a</td>\n",
       "      <td>1</td>\n",
       "      <td>...</td>\n",
       "      <td>320</td>\n",
       "      <td>50</td>\n",
       "      <td>1873</td>\n",
       "      <td>3</td>\n",
       "      <td>39</td>\n",
       "      <td>-1</td>\n",
       "      <td>23</td>\n",
       "      <td>6</td>\n",
       "      <td>572e7feb</td>\n",
       "      <td>85f751fdc4e18dd6</td>\n",
       "    </tr>\n",
       "  </tbody>\n",
       "</table>\n",
       "<p>1000000 rows × 22 columns</p>\n",
       "</div>"
      ],
      "text/plain": [
       "                  id  click  hour    C1  banner_pos site_category    app_id  \\\n",
       "0       3.983206e+18      0    15  1005           1      f028772b  ecad2386   \n",
       "1       7.756884e+18      0     7  1002           0      50e219e0  ecad2386   \n",
       "2       6.941774e+17      0    11  1005           0      50e219e0  e9739828   \n",
       "3       2.664154e+18      1     3  1005           0      50e219e0  a5184c22   \n",
       "4       1.480510e+19      0     2  1005           1      f028772b  ecad2386   \n",
       "5       1.591127e+19      0     0  1005           0      50e219e0  febd1138   \n",
       "6       4.149473e+18      0     8  1010           1      50e219e0  03a08c3f   \n",
       "7       1.085379e+19      0     4  1005           0      50e219e0  a5184c22   \n",
       "8       2.629918e+18      0    13  1010           1      50e219e0  8486dd4e   \n",
       "9       1.419062e+19      0     0  1010           1      50e219e0  04f2be5f   \n",
       "10      5.245345e+17      0    20  1005           0      50e219e0  e2fcccd2   \n",
       "11      1.071647e+19      0     0  1005           0      28905ebd  ecad2386   \n",
       "12      3.965418e+18      0     5  1005           0      50e219e0  e96773f0   \n",
       "13      1.671567e+19      0    21  1005           0      50e219e0  e2fcccd2   \n",
       "14      1.338216e+19      0    18  1005           0      28905ebd  ecad2386   \n",
       "15      8.433310e+18      0    17  1005           0      50e219e0  e2a1ca37   \n",
       "16      1.539751e+19      0    10  1005           1      f028772b  ecad2386   \n",
       "17      1.570319e+19      1     3  1002           0      50e219e0  ecad2386   \n",
       "18      9.675112e+18      0    18  1005           0      28905ebd  ecad2386   \n",
       "19      1.068174e+19      0    14  1005           0      50e219e0  a27d9ec2   \n",
       "20      1.735785e+19      0    19  1005           1      f028772b  ecad2386   \n",
       "21      7.474176e+18      0    21  1005           0      28905ebd  ecad2386   \n",
       "22      1.615797e+19      0    10  1005           0      50e219e0  442cfede   \n",
       "23      4.208933e+18      0     8  1005           0      50e219e0  66f5e02e   \n",
       "24      1.265507e+18      0    13  1005           0      28905ebd  ecad2386   \n",
       "25      6.499251e+18      0     5  1005           0      50e219e0  e2fcccd2   \n",
       "26      4.381788e+18      0     4  1005           1      f028772b  ecad2386   \n",
       "27      1.821494e+19      1     5  1005           1      3e814130  ecad2386   \n",
       "28      5.770684e+18      0    13  1005           0      50e219e0  9c13b419   \n",
       "29      1.685318e+19      0    10  1005           0      50e219e0  f0d41ff1   \n",
       "...              ...    ...   ...   ...         ...           ...       ...   \n",
       "999970  7.343753e+18      0     6  1005           1      f028772b  ecad2386   \n",
       "999971  2.984961e+18      0     0  1005           1      f028772b  ecad2386   \n",
       "999972  8.422970e+18      0     3  1012           0      50e219e0  3692fd30   \n",
       "999973  7.381973e+18      0    13  1005           1      f028772b  ecad2386   \n",
       "999974  1.451814e+19      0     7  1005           0      50e219e0  3f2a6cbb   \n",
       "999975  4.685702e+17      0    16  1005           1      f028772b  ecad2386   \n",
       "999976  7.290971e+18      0     5  1005           0      50e219e0  98fed791   \n",
       "999977  2.038132e+18      0    12  1005           0      50e219e0  92f5800b   \n",
       "999978  6.140306e+18      0    19  1010           1      50e219e0  3fc1c0a3   \n",
       "999979  1.175839e+19      1    15  1005           0      f028772b  ecad2386   \n",
       "999980  1.443387e+19      0    20  1005           0      28905ebd  ecad2386   \n",
       "999981  4.439932e+18      1     8  1005           1      f028772b  ecad2386   \n",
       "999982  1.693099e+19      0     9  1005           0      50e219e0  e96773f0   \n",
       "999983  1.788545e+19      1    19  1005           0      50e219e0  9c13b419   \n",
       "999984  7.582998e+18      0     5  1005           0      f028772b  ecad2386   \n",
       "999985  2.519849e+18      0    15  1005           1      f028772b  ecad2386   \n",
       "999986  1.286125e+19      1    15  1005           0      28905ebd  ecad2386   \n",
       "999987  3.116367e+18      1     6  1005           0      28905ebd  ecad2386   \n",
       "999988  1.598526e+19      0    18  1005           1      f028772b  ecad2386   \n",
       "999989  1.459450e+19      1    17  1005           0      3e814130  ecad2386   \n",
       "999990  1.179710e+19      0    12  1005           0      50e219e0  92f5800b   \n",
       "999991  1.667717e+18      0    11  1005           0      50e219e0  a5184c22   \n",
       "999992  6.571310e+18      0     6  1005           1      f028772b  ecad2386   \n",
       "999993  2.398772e+18      0     9  1005           0      28905ebd  ecad2386   \n",
       "999994  5.854461e+18      0     5  1005           0      50e219e0  3c4b944d   \n",
       "999995  1.160473e+19      0     2  1005           0      3e814130  ecad2386   \n",
       "999996  2.530099e+18      1     1  1005           0      28905ebd  ecad2386   \n",
       "999997  8.916528e+18      0    18  1005           1      f028772b  ecad2386   \n",
       "999998  1.307924e+19      0     8  1005           1      f028772b  ecad2386   \n",
       "999999  1.658970e+18      0     0  1005           0      50e219e0  03528b27   \n",
       "\n",
       "       app_domain app_category  device_type        ...         C15  C16   C17  \\\n",
       "0        7801e8d9     07d7df22            1        ...         320   50   423   \n",
       "1        7801e8d9     07d7df22            0        ...         320   50  2039   \n",
       "2        df32afa9     cef3e649            1        ...         320   50  2619   \n",
       "3        b8d325c3     0f2161f8            1        ...         320   50  2676   \n",
       "4        7801e8d9     07d7df22            1        ...         320   50   761   \n",
       "5        82e27996     0f2161f8            1        ...         320   50  2480   \n",
       "6        7801e8d9     0f2161f8            4        ...         320   50  1722   \n",
       "7        b8d325c3     0f2161f8            1        ...         320   50  2676   \n",
       "8        7801e8d9     0f2161f8            4        ...         320   50  2036   \n",
       "9        7801e8d9     0f2161f8            4        ...         320   50  2602   \n",
       "10       5c5a694b     0f2161f8            1        ...         320   50   423   \n",
       "11       7801e8d9     07d7df22            1        ...         320   50  2545   \n",
       "12       2347f47a     0f2161f8            1        ...         320   50  2494   \n",
       "13       5c5a694b     0f2161f8            1        ...         320   50   423   \n",
       "14       7801e8d9     07d7df22            1        ...         320   50  2291   \n",
       "15       2347f47a     8ded1f7a            1        ...         320   50  1722   \n",
       "16       7801e8d9     07d7df22            1        ...         320   50  1993   \n",
       "17       7801e8d9     07d7df22            0        ...         320   50   479   \n",
       "18       7801e8d9     07d7df22            1        ...         320   50  2299   \n",
       "19       2347f47a     0f2161f8            1        ...         300  250  2716   \n",
       "20       7801e8d9     07d7df22            1        ...         216   36  2307   \n",
       "21       7801e8d9     07d7df22            1        ...         320   50  2502   \n",
       "22       2347f47a     cef3e649            1        ...         320   50  2738   \n",
       "23       6f7ca2ba     0f2161f8            1        ...         320   50  2500   \n",
       "24       7801e8d9     07d7df22            1        ...         320   50  1722   \n",
       "25       5c5a694b     0f2161f8            1        ...         320   50   423   \n",
       "26       7801e8d9     07d7df22            1        ...         320   50  1800   \n",
       "27       7801e8d9     07d7df22            1        ...         320   50  2528   \n",
       "28       2347f47a     f95efa07            1        ...         320   50  2667   \n",
       "29       2347f47a     0f2161f8            1        ...         320   50  2506   \n",
       "...           ...          ...          ...        ...         ...  ...   ...   \n",
       "999970   7801e8d9     07d7df22            1        ...         320   50  2227   \n",
       "999971   7801e8d9     07d7df22            1        ...         320   50  2695   \n",
       "999972   7801e8d9     07d7df22            1        ...         320   50  2264   \n",
       "999973   7801e8d9     07d7df22            1        ...         320   50  2283   \n",
       "999974   33da2e74     cef3e649            1        ...         320   50  2260   \n",
       "999975   7801e8d9     07d7df22            1        ...         320   50   423   \n",
       "999976   d9b5648e     0f2161f8            1        ...         320   50  2281   \n",
       "999977   ae637522     0f2161f8            1        ...         320   50  2424   \n",
       "999978   7801e8d9     0f2161f8            4        ...         320   50  1882   \n",
       "999979   7801e8d9     07d7df22            1        ...         320   50  1722   \n",
       "999980   7801e8d9     07d7df22            1        ...         320   50  2502   \n",
       "999981   7801e8d9     07d7df22            1        ...         320   50  2609   \n",
       "999982   2347f47a     0f2161f8            1        ...         320   50  2506   \n",
       "999983   2347f47a     f95efa07            1        ...         320   50  2667   \n",
       "999984   7801e8d9     07d7df22            1        ...         320   50  2201   \n",
       "999985   7801e8d9     07d7df22            1        ...         320   50  1872   \n",
       "999986   7801e8d9     07d7df22            1        ...         320   50  1722   \n",
       "999987   7801e8d9     07d7df22            1        ...         320   50  2299   \n",
       "999988   7801e8d9     07d7df22            1        ...         320   50   906   \n",
       "999989   7801e8d9     07d7df22            1        ...         320   50  2227   \n",
       "999990   ae637522     0f2161f8            1        ...         320   50  2424   \n",
       "999991   b8d325c3     0f2161f8            1        ...         320   50  2506   \n",
       "999992   7801e8d9     07d7df22            1        ...         320   50  2161   \n",
       "999993   7801e8d9     07d7df22            1        ...         320   50  1722   \n",
       "999994   2347f47a     0f2161f8            1        ...         320   50  2480   \n",
       "999995   7801e8d9     07d7df22            1        ...         300  250  2162   \n",
       "999996   7801e8d9     07d7df22            1        ...         320   50  1722   \n",
       "999997   7801e8d9     07d7df22            1        ...         320   50  1863   \n",
       "999998   7801e8d9     07d7df22            1        ...         320   50  2227   \n",
       "999999   2347f47a     8ded1f7a            1        ...         320   50  1873   \n",
       "\n",
       "        C18   C19     C20  C21  weekday              user              site  \n",
       "0         2    39  100148   32        2  fb6566d3be87996b  e151e2457e091613  \n",
       "1         2    39  100077   32        3          9b7af851  cb809abf74acf31a  \n",
       "2         1   163  100055   71        0  748e298a3c55fad5  85f751fdc4e18dd6  \n",
       "3         0    35  100176  221        2  a50da3d4c5cc73c1  85f751fdc4e18dd6  \n",
       "4         3   175  100081   23        2  d5f88679a5bce124  791b5571fd13bc73  \n",
       "5         3   297  100111   61        0  189590f92ea4f8ba  85f751fdc4e18dd6  \n",
       "6         0    35  100084   79        4          192d98b0  85f751fdc4e18dd6  \n",
       "7         0    35  100176  221        2  342b6e9ea0f5f879  85f751fdc4e18dd6  \n",
       "8         3    47      -1  156        5          50dc7a55  85f751fdc4e18dd6  \n",
       "9         0   163  100084  182        6          feb99a64  85f751fdc4e18dd6  \n",
       "10        2    39  100148   32        2          1bed63c6  85f751fdc4e18dd6  \n",
       "11        0   167  100083  221        6  02eb4e13ecb851b2  1fbe01fef3845767  \n",
       "12        3    35      -1  112        1  e377ef1a3de05cb4  85f751fdc4e18dd6  \n",
       "13        2    39  100148   32        1          80316e4b  85f751fdc4e18dd6  \n",
       "14        3    35      -1   43        2  e9450e707b75d3a6  e3c09f3ad262cf1e  \n",
       "15        0    35      -1   79        2          505e93e7  85f751fdc4e18dd6  \n",
       "16        2  1063  100083   33        4  e35ad67e84ebbcd4  d9750ee798572c79  \n",
       "17        3    39  100077   23        1          fa6b1f31  2d4b5815d6639bc9  \n",
       "18        2  1327  100084   52        3  1465315c779d90c2  1fbe01fef3845767  \n",
       "19        3    43      -1   23        2          8d4feac2  85f751fdc4e18dd6  \n",
       "20        3   163  100020   61        2  b9c1dcd4180a896e  cbb018687e091613  \n",
       "21        0    35      -1  221        1  6fe78038edead9f4  1fbe01fef3845767  \n",
       "22        0   163      -1   17        3          aae82309  85f751fdc4e18dd6  \n",
       "23        2    34      -1   90        1  cc84126a1ccc7835  85f751fdc4e18dd6  \n",
       "24        0    35      -1   79        4  c65caa1a6332421a  1fbe01fef3845767  \n",
       "25        2    39  100148   32        6          f3e5823b  85f751fdc4e18dd6  \n",
       "26        3   167  100075   23        6  592c3b770eb711ec  856e6d3f58a89a43  \n",
       "27        0    39  100076  221        1  e0d4cd8cd4897fef  e4d8dd7ba17bde68  \n",
       "28        0    47      -1  221        3  8fc58aaa4422b3db  85f751fdc4e18dd6  \n",
       "29        0    35      -1  157        2  25ed87da526fa832  85f751fdc4e18dd6  \n",
       "...     ...   ...     ...  ...      ...               ...               ...  \n",
       "999970    0   679  100081   48        3  f22e696f9fef9da8  e5c60a057256c623  \n",
       "999971    0    35      -1   51        3  844be274c6263d8a  ec47f32a7e091613  \n",
       "999972    3   427  100000   61        0          aab31253  85f751fdc4e18dd6  \n",
       "999973    0   163  100076   95        1  92b6db4d6f21a189  5b4d2eda16a36ef3  \n",
       "999974    0   171  100156   91        2  048bbe643bb1ddd7  85f751fdc4e18dd6  \n",
       "999975    2    39      -1   32        3  e34ee197e9b8d8d7  e151e2457e091613  \n",
       "999976    3    47  100181   42        2  7f38b93caad45b01  85f751fdc4e18dd6  \n",
       "999977    1   161  100192   71        1  5c3e444a496515fa  85f751fdc4e18dd6  \n",
       "999978    3    35      -1   13        3          2ea5b1b4  85f751fdc4e18dd6  \n",
       "999979    0    35      -1   79        4  a8536f3acd5b1559  6256f5b428f93029  \n",
       "999980    0    35      -1  221        1  431b31748a4875bd  1fbe01fef3845767  \n",
       "999981    3   167      -1   23        0  5234c26b3de05cb4  235ba823f6ebf28e  \n",
       "999982    0    35      -1  157        2  96502354a0f5f879  85f751fdc4e18dd6  \n",
       "999983    0    47      -1  221        3  e664ceb31f0bc64f  85f751fdc4e18dd6  \n",
       "999984    3    35      -1   43        1  ffecbf539dcb1cd1  6399eda6968765cd  \n",
       "999985    3    39      -1   23        2  802c5cad1f0bc64f  e151e2457e091613  \n",
       "999986    0    35      -1   79        5  2e08e3532203a096  1fbe01fef3845767  \n",
       "999987    2  1319      -1   52        4  46c738c18d19d3d4  1fbe01fef3845767  \n",
       "999988    3  1451  100156   61        2  930ec31df60c2fd3  a78530077e091613  \n",
       "999989    0   679  100079   48        1  6aff7d205a99f6be  c96057c19425ad2a  \n",
       "999990    1   161  100193   71        4  227d7bbbe1eae715  85f751fdc4e18dd6  \n",
       "999991    0    35      -1  157        2  b563500ad787e91b  85f751fdc4e18dd6  \n",
       "999992    0    35      -1  157        1  014fa4caee007ad3  d9750ee798572c79  \n",
       "999993    0    35  100084   79        5  cdecc0d6553f099b  1fbe01fef3845767  \n",
       "999994    3   297  100111   61        0          5afc4a9d  85f751fdc4e18dd6  \n",
       "999995    2    39      -1   33        6  9a8dbe7f68dabce1  5b08c53b7687a86e  \n",
       "999996    0    35      -1   79        1  3b6f9f67c6263d8a  1fbe01fef3845767  \n",
       "999997    3    39      -1   23        3  2348915f744ae245  f61eaaae6b59f079  \n",
       "999998    0   935      -1   48        2  3ca7f7193e7932d7  57ef2c87bd6d812f  \n",
       "999999    3    39      -1   23        6          572e7feb  85f751fdc4e18dd6  \n",
       "\n",
       "[1000000 rows x 22 columns]"
      ]
     },
     "execution_count": 90,
     "metadata": {},
     "output_type": "execute_result"
    }
   ],
   "source": [
    "df['site']=df['site_id']+df['site_domain']\n",
    "df.drop(['site_id','site_domain'],axis=1)"
   ]
  },
  {
   "cell_type": "code",
   "execution_count": 109,
   "metadata": {},
   "outputs": [
    {
     "data": {
      "text/html": [
       "<div>\n",
       "<style scoped>\n",
       "    .dataframe tbody tr th:only-of-type {\n",
       "        vertical-align: middle;\n",
       "    }\n",
       "\n",
       "    .dataframe tbody tr th {\n",
       "        vertical-align: top;\n",
       "    }\n",
       "\n",
       "    .dataframe thead th {\n",
       "        text-align: right;\n",
       "    }\n",
       "</style>\n",
       "<table border=\"1\" class=\"dataframe\">\n",
       "  <thead>\n",
       "    <tr style=\"text-align: right;\">\n",
       "      <th></th>\n",
       "      <th>id</th>\n",
       "      <th>click</th>\n",
       "      <th>hour</th>\n",
       "      <th>C1</th>\n",
       "      <th>banner_pos</th>\n",
       "      <th>site_category</th>\n",
       "      <th>app_id</th>\n",
       "      <th>app_domain</th>\n",
       "      <th>app_category</th>\n",
       "      <th>device_type</th>\n",
       "      <th>...</th>\n",
       "      <th>C15</th>\n",
       "      <th>C16</th>\n",
       "      <th>C17</th>\n",
       "      <th>C18</th>\n",
       "      <th>C19</th>\n",
       "      <th>C20</th>\n",
       "      <th>C21</th>\n",
       "      <th>weekday</th>\n",
       "      <th>user</th>\n",
       "      <th>site</th>\n",
       "    </tr>\n",
       "  </thead>\n",
       "  <tbody>\n",
       "    <tr>\n",
       "      <th>0</th>\n",
       "      <td>3.983206e+18</td>\n",
       "      <td>0</td>\n",
       "      <td>15</td>\n",
       "      <td>1005</td>\n",
       "      <td>1</td>\n",
       "      <td>f028772b</td>\n",
       "      <td>ecad2386</td>\n",
       "      <td>7801e8d9</td>\n",
       "      <td>07d7df22</td>\n",
       "      <td>1</td>\n",
       "      <td>...</td>\n",
       "      <td>320</td>\n",
       "      <td>50</td>\n",
       "      <td>423</td>\n",
       "      <td>2</td>\n",
       "      <td>39</td>\n",
       "      <td>100148</td>\n",
       "      <td>32</td>\n",
       "      <td>2</td>\n",
       "      <td>fb6566d3be87996b</td>\n",
       "      <td>e151e2457e091613</td>\n",
       "    </tr>\n",
       "    <tr>\n",
       "      <th>1</th>\n",
       "      <td>7.756884e+18</td>\n",
       "      <td>0</td>\n",
       "      <td>7</td>\n",
       "      <td>1002</td>\n",
       "      <td>0</td>\n",
       "      <td>50e219e0</td>\n",
       "      <td>ecad2386</td>\n",
       "      <td>7801e8d9</td>\n",
       "      <td>07d7df22</td>\n",
       "      <td>0</td>\n",
       "      <td>...</td>\n",
       "      <td>320</td>\n",
       "      <td>50</td>\n",
       "      <td>2039</td>\n",
       "      <td>2</td>\n",
       "      <td>39</td>\n",
       "      <td>100077</td>\n",
       "      <td>32</td>\n",
       "      <td>3</td>\n",
       "      <td>9b7af851</td>\n",
       "      <td>cb809abf74acf31a</td>\n",
       "    </tr>\n",
       "    <tr>\n",
       "      <th>2</th>\n",
       "      <td>6.941774e+17</td>\n",
       "      <td>0</td>\n",
       "      <td>11</td>\n",
       "      <td>1005</td>\n",
       "      <td>0</td>\n",
       "      <td>50e219e0</td>\n",
       "      <td>e9739828</td>\n",
       "      <td>df32afa9</td>\n",
       "      <td>cef3e649</td>\n",
       "      <td>1</td>\n",
       "      <td>...</td>\n",
       "      <td>320</td>\n",
       "      <td>50</td>\n",
       "      <td>2619</td>\n",
       "      <td>1</td>\n",
       "      <td>163</td>\n",
       "      <td>100055</td>\n",
       "      <td>71</td>\n",
       "      <td>0</td>\n",
       "      <td>748e298a3c55fad5</td>\n",
       "      <td>85f751fdc4e18dd6</td>\n",
       "    </tr>\n",
       "    <tr>\n",
       "      <th>3</th>\n",
       "      <td>2.664154e+18</td>\n",
       "      <td>1</td>\n",
       "      <td>3</td>\n",
       "      <td>1005</td>\n",
       "      <td>0</td>\n",
       "      <td>50e219e0</td>\n",
       "      <td>a5184c22</td>\n",
       "      <td>b8d325c3</td>\n",
       "      <td>0f2161f8</td>\n",
       "      <td>1</td>\n",
       "      <td>...</td>\n",
       "      <td>320</td>\n",
       "      <td>50</td>\n",
       "      <td>2676</td>\n",
       "      <td>0</td>\n",
       "      <td>35</td>\n",
       "      <td>100176</td>\n",
       "      <td>221</td>\n",
       "      <td>2</td>\n",
       "      <td>a50da3d4c5cc73c1</td>\n",
       "      <td>85f751fdc4e18dd6</td>\n",
       "    </tr>\n",
       "    <tr>\n",
       "      <th>4</th>\n",
       "      <td>1.480510e+19</td>\n",
       "      <td>0</td>\n",
       "      <td>2</td>\n",
       "      <td>1005</td>\n",
       "      <td>1</td>\n",
       "      <td>f028772b</td>\n",
       "      <td>ecad2386</td>\n",
       "      <td>7801e8d9</td>\n",
       "      <td>07d7df22</td>\n",
       "      <td>1</td>\n",
       "      <td>...</td>\n",
       "      <td>320</td>\n",
       "      <td>50</td>\n",
       "      <td>761</td>\n",
       "      <td>3</td>\n",
       "      <td>175</td>\n",
       "      <td>100081</td>\n",
       "      <td>23</td>\n",
       "      <td>2</td>\n",
       "      <td>d5f88679a5bce124</td>\n",
       "      <td>791b5571fd13bc73</td>\n",
       "    </tr>\n",
       "  </tbody>\n",
       "</table>\n",
       "<p>5 rows × 22 columns</p>\n",
       "</div>"
      ],
      "text/plain": [
       "             id  click  hour    C1  banner_pos site_category    app_id  \\\n",
       "0  3.983206e+18      0    15  1005           1      f028772b  ecad2386   \n",
       "1  7.756884e+18      0     7  1002           0      50e219e0  ecad2386   \n",
       "2  6.941774e+17      0    11  1005           0      50e219e0  e9739828   \n",
       "3  2.664154e+18      1     3  1005           0      50e219e0  a5184c22   \n",
       "4  1.480510e+19      0     2  1005           1      f028772b  ecad2386   \n",
       "\n",
       "  app_domain app_category  device_type        ...         C15  C16   C17  C18  \\\n",
       "0   7801e8d9     07d7df22            1        ...         320   50   423    2   \n",
       "1   7801e8d9     07d7df22            0        ...         320   50  2039    2   \n",
       "2   df32afa9     cef3e649            1        ...         320   50  2619    1   \n",
       "3   b8d325c3     0f2161f8            1        ...         320   50  2676    0   \n",
       "4   7801e8d9     07d7df22            1        ...         320   50   761    3   \n",
       "\n",
       "   C19     C20  C21  weekday              user              site  \n",
       "0   39  100148   32        2  fb6566d3be87996b  e151e2457e091613  \n",
       "1   39  100077   32        3          9b7af851  cb809abf74acf31a  \n",
       "2  163  100055   71        0  748e298a3c55fad5  85f751fdc4e18dd6  \n",
       "3   35  100176  221        2  a50da3d4c5cc73c1  85f751fdc4e18dd6  \n",
       "4  175  100081   23        2  d5f88679a5bce124  791b5571fd13bc73  \n",
       "\n",
       "[5 rows x 22 columns]"
      ]
     },
     "execution_count": 109,
     "metadata": {},
     "output_type": "execute_result"
    }
   ],
   "source": [
    "\n",
    "df=df.drop(['site_id','site_domain'],axis=1)\n",
    "df.head()"
   ]
  },
  {
   "cell_type": "code",
   "execution_count": 112,
   "metadata": {},
   "outputs": [],
   "source": [
    "X=df.drop(['id','click'],axis=1)"
   ]
  },
  {
   "cell_type": "markdown",
   "metadata": {},
   "source": [
    "<font color=\"red\">**Question**:\n",
    "    Once again, split the modified DataFrame df into a train and a test set (with options: test_size = 0.1, random_state = 100).\n",
    "</font>"
   ]
  },
  {
   "cell_type": "code",
   "execution_count": 113,
   "metadata": {},
   "outputs": [],
   "source": [
    "Xtrain, Xtest, ytrain, ytest =  train_test_split(X,y,test_size=0.1,random_state=100)"
   ]
  },
  {
   "cell_type": "markdown",
   "metadata": {},
   "source": [
    "<font color=\"red\">**Question**:\n",
    "    Define a OneHotEncoder and then, 'fit_transform' the train set.\n",
    "</font>"
   ]
  },
  {
   "cell_type": "code",
   "execution_count": 120,
   "metadata": {},
   "outputs": [],
   "source": [
    "ohe = OneHotEncoder(handle_unknown='ignore')\n",
    "new_columns = ['hour', 'weekday', 'C1', 'banner_pos', 'site_category', 'app_category', \n",
    "                'device_type', 'device_conn_type', 'C15', 'C16', 'C18', 'C21','user','site']\n",
    "Xtrain_oh = ohe.fit_transform(Xtrain) # Fill here\n"
   ]
  },
  {
   "cell_type": "markdown",
   "metadata": {},
   "source": [
    "<font color=\"red\">**Question**:\n",
    "    Transform the test set. If an error occurs, analyze it and try to solve it by modifying the parameter \"handle_unkown\" of the OneHotEncoder.\n",
    "</font>"
   ]
  },
  {
   "cell_type": "code",
   "execution_count": 121,
   "metadata": {},
   "outputs": [],
   "source": [
    "Xtest_oh = ohe.transform(Xtest) # Fill here"
   ]
  },
  {
   "cell_type": "markdown",
   "metadata": {},
   "source": [
    "<font color=\"red\">**Question**:\n",
    "    What is the new number of features?\n",
    "</font>"
   ]
  },
  {
   "cell_type": "code",
   "execution_count": 122,
   "metadata": {},
   "outputs": [
    {
     "data": {
      "text/plain": [
       "(100000, 713334)"
      ]
     },
     "execution_count": 122,
     "metadata": {},
     "output_type": "execute_result"
    }
   ],
   "source": [
    "Xtest_oh.shape"
   ]
  },
  {
   "cell_type": "markdown",
   "metadata": {},
   "source": [
    "The new number of features is 713334"
   ]
  },
  {
   "cell_type": "markdown",
   "metadata": {},
   "source": [
    "<font color=\"red\">**Question**:\n",
    "    How many modalities have been seen more than a 100 times?\n",
    "</font>"
   ]
  },
  {
   "cell_type": "code",
   "execution_count": 129,
   "metadata": {},
   "outputs": [
    {
     "data": {
      "text/plain": [
       "array([[1.8913e+04, 2.2163e+04, 2.7384e+04, ..., 2.0000e+01, 2.0000e+00,\n",
       "        3.0000e+00]])"
      ]
     },
     "execution_count": 129,
     "metadata": {},
     "output_type": "execute_result"
    }
   ],
   "source": [
    "# The following 'n_ones' vector below gives the number of '1' in each column/modality of the Xtrain_oh design matrix.\n",
    "n_ones = np.array(Xtrain_oh.sum(axis=0))\n",
    "# Fill here using 'n_ones'\n",
    "n_ones"
   ]
  },
  {
   "cell_type": "markdown",
   "metadata": {},
   "source": [
    "The list 'cols_to_keep' below is used to store the indices of the modalities seen more than a 100 times. You can notice the use of the 'enumerate' function."
   ]
  },
  {
   "cell_type": "code",
   "execution_count": 134,
   "metadata": {},
   "outputs": [
    {
     "data": {
      "text/plain": [
       "1971"
      ]
     },
     "execution_count": 134,
     "metadata": {},
     "output_type": "execute_result"
    }
   ],
   "source": [
    "useful = np.array(n_ones>100)[0]\n",
    "cols_to_keep = [i for i,b in enumerate(useful) if b]\n",
    "len(cols_to_keep)"
   ]
  },
  {
   "cell_type": "code",
   "execution_count": 140,
   "metadata": {},
   "outputs": [
    {
     "data": {
      "text/plain": [
       "<900000x713334 sparse matrix of type '<class 'numpy.float64'>'\n",
       "\twith 18000000 stored elements in Compressed Sparse Row format>"
      ]
     },
     "execution_count": 140,
     "metadata": {},
     "output_type": "execute_result"
    }
   ],
   "source": [
    "Xtrain_oh"
   ]
  },
  {
   "cell_type": "markdown",
   "metadata": {},
   "source": [
    "\n",
    "<font color=\"red\">**Question**:\n",
    "    Using only our restriction on the 'cols_to_keep' columns, retrain a logistic regression model and compare its performance in terms of 'log_loss' and 'roc_auc_curve'.\n",
    "</font>"
   ]
  },
  {
   "cell_type": "code",
   "execution_count": 145,
   "metadata": {},
   "outputs": [
    {
     "name": "stderr",
     "output_type": "stream",
     "text": [
      "/home/ubuntu/scikit-learn/sklearn/linear_model/logistic.py:757: ConvergenceWarning: lbfgs failed to converge. Increase the number of iterations.\n",
      "  \"of iterations.\", ConvergenceWarning)\n"
     ]
    }
   ],
   "source": [
    "lr = LogisticRegression(solver='lbfgs',C=1e5,max_iter=1000)\n",
    "lr.fit( Xtrain_oh[:,cols_to_keep], ytrain )\n",
    "soft = lr.predict_proba(Xtest_oh[:,cols_to_keep])\n",
    "hard = lr.predict(Xtest_oh[:,cols_to_keep])"
   ]
  },
  {
   "cell_type": "code",
   "execution_count": 146,
   "metadata": {},
   "outputs": [
    {
     "name": "stdout",
     "output_type": "stream",
     "text": [
      "0.83383\n"
     ]
    },
    {
     "data": {
      "text/plain": [
       "(0.4011664817364181, 0.7385331382362932)"
      ]
     },
     "execution_count": 146,
     "metadata": {},
     "output_type": "execute_result"
    },
    {
     "data": {
      "image/png": "[encoded data removed]",
      "text/plain": [
       "<Figure size 432x288 with 1 Axes>"
      ]
     },
     "metadata": {},
     "output_type": "display_data"
    }
   ],
   "source": [
    "from sklearn.metrics import roc_curve\n",
    "pfa, power,thre = roc_curve( ytest,soft[:,1] )\n",
    "plt.plot(pfa,power)\n",
    "plt.grid()\n",
    "plt.plot([0, 1], [0, 1], 'r--')\n",
    "plt.xlabel('False Positive Rate', fontsize=16);\n",
    "plt.ylabel('True Positive Rate', fontsize=16);\n",
    "print(accuracy_score(hard,ytest))\n",
    "log_loss( ytest,soft[:,1] ), roc_auc_score( ytest,soft[:,1] )\n",
    "\n"
   ]
  },
  {
   "cell_type": "markdown",
   "metadata": {},
   "source": [
    "# Gradient Boosting Decision Trees"
   ]
  },
  {
   "cell_type": "markdown",
   "metadata": {},
   "source": [
    "<font color=\"red\">**Question**:\n",
    "    <br>\n",
    "    - Import GradientBoostingClassifier from scikit learn. \n",
    "    <br>\n",
    "    - Initialize it using 50 estimators and a learning rate of 0.8. Set 'verbose=True' to monitor the progress of the algorithm.\n",
    "    <br>\n",
    "    - Fit it on the same columns 'cols_to_keep' of Xtrain_oh than for the previous logistic regression.\n",
    "    <br>\n",
    "    - Evaluate its performance as in the previous step.\n",
    "</font>"
   ]
  },
  {
   "cell_type": "code",
   "execution_count": 149,
   "metadata": {},
   "outputs": [],
   "source": [
    "from sklearn.ensemble import GradientBoostingClassifier\n",
    "gb = GradientBoostingClassifier(learning_rate=0.8,n_estimators=50,verbose=True) # Fill here"
   ]
  },
  {
   "cell_type": "code",
   "execution_count": 190,
   "metadata": {},
   "outputs": [
    {
     "name": "stdout",
     "output_type": "stream",
     "text": [
      "      Iter       Train Loss   Remaining Time \n",
      "         1           0.8743            2.81m\n",
      "         2           0.8646            2.83m\n",
      "         3           0.8583            2.86m\n",
      "         4           0.8535            2.84m\n",
      "         5           0.8503            2.78m\n",
      "         6           0.8464            2.70m\n",
      "         7           0.8441            2.66m\n",
      "         8           0.8418            2.60m\n",
      "         9           0.8404            2.54m\n",
      "        10           0.8383            2.47m\n",
      "        20           0.8282            1.79m\n",
      "        30           0.8234            1.19m\n",
      "        40           0.8190           35.76s\n",
      "        50           0.8163            0.00s\n",
      "CPU times: user 3min 13s, sys: 27.1 s, total: 3min 40s\n",
      "Wall time: 2min 56s\n"
     ]
    },
    {
     "data": {
      "text/plain": [
       "GradientBoostingClassifier(criterion='friedman_mse', init=None,\n",
       "              learning_rate=0.8, loss='deviance', max_depth=3,\n",
       "              max_features=None, max_leaf_nodes=None,\n",
       "              min_impurity_decrease=0.0, min_impurity_split=None,\n",
       "              min_samples_leaf=1, min_samples_split=2,\n",
       "              min_weight_fraction_leaf=0.0, n_estimators=50,\n",
       "              n_iter_no_change=None, presort='auto', random_state=None,\n",
       "              subsample=1.0, tol=0.0001, validation_fraction=0.1,\n",
       "              verbose=True, warm_start=False)"
      ]
     },
     "execution_count": 190,
     "metadata": {},
     "output_type": "execute_result"
    }
   ],
   "source": [
    "%time gb.fit( Xtrain_oh[:,cols_to_keep],ytrain )"
   ]
  },
  {
   "cell_type": "code",
   "execution_count": 188,
   "metadata": {},
   "outputs": [
    {
     "name": "stdout",
     "output_type": "stream",
     "text": [
      "0.83343\n"
     ]
    },
    {
     "data": {
      "text/plain": [
       "(0.4091871736006742, 0.7251893509766301)"
      ]
     },
     "execution_count": 188,
     "metadata": {},
     "output_type": "execute_result"
    },
    {
     "data": {
      "image/png": "[encoded data removed]",
      "text/plain": [
       "<Figure size 432x288 with 1 Axes>"
      ]
     },
     "metadata": {},
     "output_type": "display_data"
    }
   ],
   "source": [
    "soft = gb.predict_proba(Xtest_oh[:,cols_to_keep])[:,1]\n",
    "hard = gb.predict(Xtest_oh[:,cols_to_keep])\n",
    "pfa, power,thre = roc_curve( ytest,soft )\n",
    "plt.plot(pfa,power)\n",
    "plt.grid()\n",
    "plt.plot([0, 1], [0, 1], 'r--')\n",
    "plt.xlabel('False Positive Rate', fontsize=16);\n",
    "plt.ylabel('True Positive Rate', fontsize=16);\n",
    "print(accuracy_score(hard,ytest))\n",
    "log_loss(ytest, soft), roc_auc_score(ytest, soft)"
   ]
  },
  {
   "cell_type": "markdown",
   "metadata": {},
   "source": [
    "<font color=\"red\">**Question**:\n",
    "    What does the 'gb.estimators_' output?\n",
    "</font>"
   ]
  },
  {
   "cell_type": "code",
   "execution_count": 159,
   "metadata": {},
   "outputs": [
    {
     "data": {
      "text/plain": [
       "array([[DecisionTreeRegressor(criterion='friedman_mse', max_depth=3,\n",
       "           max_features=None, max_leaf_nodes=None,\n",
       "           min_impurity_decrease=0.0, min_impurity_split=None,\n",
       "           min_samples_leaf=1, min_samples_split=2,\n",
       "           min_weight_fraction_leaf=0.0, presort='auto',\n",
       "           random_state=<mtrand.RandomState object at 0x7fcb30677dc8>,\n",
       "           splitter='best')],\n",
       "       [DecisionTreeRegressor(criterion='friedman_mse', max_depth=3,\n",
       "           max_features=None, max_leaf_nodes=None,\n",
       "           min_impurity_decrease=0.0, min_impurity_split=None,\n",
       "           min_samples_leaf=1, min_samples_split=2,\n",
       "           min_weight_fraction_leaf=0.0, presort='auto',\n",
       "           random_state=<mtrand.RandomState object at 0x7fcb30677dc8>,\n",
       "           splitter='best')],\n",
       "       [DecisionTreeRegressor(criterion='friedman_mse', max_depth=3,\n",
       "           max_features=None, max_leaf_nodes=None,\n",
       "           min_impurity_decrease=0.0, min_impurity_split=None,\n",
       "           min_samples_leaf=1, min_samples_split=2,\n",
       "           min_weight_fraction_leaf=0.0, presort='auto',\n",
       "           random_state=<mtrand.RandomState object at 0x7fcb30677dc8>,\n",
       "           splitter='best')],\n",
       "       [DecisionTreeRegressor(criterion='friedman_mse', max_depth=3,\n",
       "           max_features=None, max_leaf_nodes=None,\n",
       "           min_impurity_decrease=0.0, min_impurity_split=None,\n",
       "           min_samples_leaf=1, min_samples_split=2,\n",
       "           min_weight_fraction_leaf=0.0, presort='auto',\n",
       "           random_state=<mtrand.RandomState object at 0x7fcb30677dc8>,\n",
       "           splitter='best')],\n",
       "       [DecisionTreeRegressor(criterion='friedman_mse', max_depth=3,\n",
       "           max_features=None, max_leaf_nodes=None,\n",
       "           min_impurity_decrease=0.0, min_impurity_split=None,\n",
       "           min_samples_leaf=1, min_samples_split=2,\n",
       "           min_weight_fraction_leaf=0.0, presort='auto',\n",
       "           random_state=<mtrand.RandomState object at 0x7fcb30677dc8>,\n",
       "           splitter='best')],\n",
       "       [DecisionTreeRegressor(criterion='friedman_mse', max_depth=3,\n",
       "           max_features=None, max_leaf_nodes=None,\n",
       "           min_impurity_decrease=0.0, min_impurity_split=None,\n",
       "           min_samples_leaf=1, min_samples_split=2,\n",
       "           min_weight_fraction_leaf=0.0, presort='auto',\n",
       "           random_state=<mtrand.RandomState object at 0x7fcb30677dc8>,\n",
       "           splitter='best')],\n",
       "       [DecisionTreeRegressor(criterion='friedman_mse', max_depth=3,\n",
       "           max_features=None, max_leaf_nodes=None,\n",
       "           min_impurity_decrease=0.0, min_impurity_split=None,\n",
       "           min_samples_leaf=1, min_samples_split=2,\n",
       "           min_weight_fraction_leaf=0.0, presort='auto',\n",
       "           random_state=<mtrand.RandomState object at 0x7fcb30677dc8>,\n",
       "           splitter='best')],\n",
       "       [DecisionTreeRegressor(criterion='friedman_mse', max_depth=3,\n",
       "           max_features=None, max_leaf_nodes=None,\n",
       "           min_impurity_decrease=0.0, min_impurity_split=None,\n",
       "           min_samples_leaf=1, min_samples_split=2,\n",
       "           min_weight_fraction_leaf=0.0, presort='auto',\n",
       "           random_state=<mtrand.RandomState object at 0x7fcb30677dc8>,\n",
       "           splitter='best')],\n",
       "       [DecisionTreeRegressor(criterion='friedman_mse', max_depth=3,\n",
       "           max_features=None, max_leaf_nodes=None,\n",
       "           min_impurity_decrease=0.0, min_impurity_split=None,\n",
       "           min_samples_leaf=1, min_samples_split=2,\n",
       "           min_weight_fraction_leaf=0.0, presort='auto',\n",
       "           random_state=<mtrand.RandomState object at 0x7fcb30677dc8>,\n",
       "           splitter='best')],\n",
       "       [DecisionTreeRegressor(criterion='friedman_mse', max_depth=3,\n",
       "           max_features=None, max_leaf_nodes=None,\n",
       "           min_impurity_decrease=0.0, min_impurity_split=None,\n",
       "           min_samples_leaf=1, min_samples_split=2,\n",
       "           min_weight_fraction_leaf=0.0, presort='auto',\n",
       "           random_state=<mtrand.RandomState object at 0x7fcb30677dc8>,\n",
       "           splitter='best')],\n",
       "       [DecisionTreeRegressor(criterion='friedman_mse', max_depth=3,\n",
       "           max_features=None, max_leaf_nodes=None,\n",
       "           min_impurity_decrease=0.0, min_impurity_split=None,\n",
       "           min_samples_leaf=1, min_samples_split=2,\n",
       "           min_weight_fraction_leaf=0.0, presort='auto',\n",
       "           random_state=<mtrand.RandomState object at 0x7fcb30677dc8>,\n",
       "           splitter='best')],\n",
       "       [DecisionTreeRegressor(criterion='friedman_mse', max_depth=3,\n",
       "           max_features=None, max_leaf_nodes=None,\n",
       "           min_impurity_decrease=0.0, min_impurity_split=None,\n",
       "           min_samples_leaf=1, min_samples_split=2,\n",
       "           min_weight_fraction_leaf=0.0, presort='auto',\n",
       "           random_state=<mtrand.RandomState object at 0x7fcb30677dc8>,\n",
       "           splitter='best')],\n",
       "       [DecisionTreeRegressor(criterion='friedman_mse', max_depth=3,\n",
       "           max_features=None, max_leaf_nodes=None,\n",
       "           min_impurity_decrease=0.0, min_impurity_split=None,\n",
       "           min_samples_leaf=1, min_samples_split=2,\n",
       "           min_weight_fraction_leaf=0.0, presort='auto',\n",
       "           random_state=<mtrand.RandomState object at 0x7fcb30677dc8>,\n",
       "           splitter='best')],\n",
       "       [DecisionTreeRegressor(criterion='friedman_mse', max_depth=3,\n",
       "           max_features=None, max_leaf_nodes=None,\n",
       "           min_impurity_decrease=0.0, min_impurity_split=None,\n",
       "           min_samples_leaf=1, min_samples_split=2,\n",
       "           min_weight_fraction_leaf=0.0, presort='auto',\n",
       "           random_state=<mtrand.RandomState object at 0x7fcb30677dc8>,\n",
       "           splitter='best')],\n",
       "       [DecisionTreeRegressor(criterion='friedman_mse', max_depth=3,\n",
       "           max_features=None, max_leaf_nodes=None,\n",
       "           min_impurity_decrease=0.0, min_impurity_split=None,\n",
       "           min_samples_leaf=1, min_samples_split=2,\n",
       "           min_weight_fraction_leaf=0.0, presort='auto',\n",
       "           random_state=<mtrand.RandomState object at 0x7fcb30677dc8>,\n",
       "           splitter='best')],\n",
       "       [DecisionTreeRegressor(criterion='friedman_mse', max_depth=3,\n",
       "           max_features=None, max_leaf_nodes=None,\n",
       "           min_impurity_decrease=0.0, min_impurity_split=None,\n",
       "           min_samples_leaf=1, min_samples_split=2,\n",
       "           min_weight_fraction_leaf=0.0, presort='auto',\n",
       "           random_state=<mtrand.RandomState object at 0x7fcb30677dc8>,\n",
       "           splitter='best')],\n",
       "       [DecisionTreeRegressor(criterion='friedman_mse', max_depth=3,\n",
       "           max_features=None, max_leaf_nodes=None,\n",
       "           min_impurity_decrease=0.0, min_impurity_split=None,\n",
       "           min_samples_leaf=1, min_samples_split=2,\n",
       "           min_weight_fraction_leaf=0.0, presort='auto',\n",
       "           random_state=<mtrand.RandomState object at 0x7fcb30677dc8>,\n",
       "           splitter='best')],\n",
       "       [DecisionTreeRegressor(criterion='friedman_mse', max_depth=3,\n",
       "           max_features=None, max_leaf_nodes=None,\n",
       "           min_impurity_decrease=0.0, min_impurity_split=None,\n",
       "           min_samples_leaf=1, min_samples_split=2,\n",
       "           min_weight_fraction_leaf=0.0, presort='auto',\n",
       "           random_state=<mtrand.RandomState object at 0x7fcb30677dc8>,\n",
       "           splitter='best')],\n",
       "       [DecisionTreeRegressor(criterion='friedman_mse', max_depth=3,\n",
       "           max_features=None, max_leaf_nodes=None,\n",
       "           min_impurity_decrease=0.0, min_impurity_split=None,\n",
       "           min_samples_leaf=1, min_samples_split=2,\n",
       "           min_weight_fraction_leaf=0.0, presort='auto',\n",
       "           random_state=<mtrand.RandomState object at 0x7fcb30677dc8>,\n",
       "           splitter='best')],\n",
       "       [DecisionTreeRegressor(criterion='friedman_mse', max_depth=3,\n",
       "           max_features=None, max_leaf_nodes=None,\n",
       "           min_impurity_decrease=0.0, min_impurity_split=None,\n",
       "           min_samples_leaf=1, min_samples_split=2,\n",
       "           min_weight_fraction_leaf=0.0, presort='auto',\n",
       "           random_state=<mtrand.RandomState object at 0x7fcb30677dc8>,\n",
       "           splitter='best')],\n",
       "       [DecisionTreeRegressor(criterion='friedman_mse', max_depth=3,\n",
       "           max_features=None, max_leaf_nodes=None,\n",
       "           min_impurity_decrease=0.0, min_impurity_split=None,\n",
       "           min_samples_leaf=1, min_samples_split=2,\n",
       "           min_weight_fraction_leaf=0.0, presort='auto',\n",
       "           random_state=<mtrand.RandomState object at 0x7fcb30677dc8>,\n",
       "           splitter='best')],\n",
       "       [DecisionTreeRegressor(criterion='friedman_mse', max_depth=3,\n",
       "           max_features=None, max_leaf_nodes=None,\n",
       "           min_impurity_decrease=0.0, min_impurity_split=None,\n",
       "           min_samples_leaf=1, min_samples_split=2,\n",
       "           min_weight_fraction_leaf=0.0, presort='auto',\n",
       "           random_state=<mtrand.RandomState object at 0x7fcb30677dc8>,\n",
       "           splitter='best')],\n",
       "       [DecisionTreeRegressor(criterion='friedman_mse', max_depth=3,\n",
       "           max_features=None, max_leaf_nodes=None,\n",
       "           min_impurity_decrease=0.0, min_impurity_split=None,\n",
       "           min_samples_leaf=1, min_samples_split=2,\n",
       "           min_weight_fraction_leaf=0.0, presort='auto',\n",
       "           random_state=<mtrand.RandomState object at 0x7fcb30677dc8>,\n",
       "           splitter='best')],\n",
       "       [DecisionTreeRegressor(criterion='friedman_mse', max_depth=3,\n",
       "           max_features=None, max_leaf_nodes=None,\n",
       "           min_impurity_decrease=0.0, min_impurity_split=None,\n",
       "           min_samples_leaf=1, min_samples_split=2,\n",
       "           min_weight_fraction_leaf=0.0, presort='auto',\n",
       "           random_state=<mtrand.RandomState object at 0x7fcb30677dc8>,\n",
       "           splitter='best')],\n",
       "       [DecisionTreeRegressor(criterion='friedman_mse', max_depth=3,\n",
       "           max_features=None, max_leaf_nodes=None,\n",
       "           min_impurity_decrease=0.0, min_impurity_split=None,\n",
       "           min_samples_leaf=1, min_samples_split=2,\n",
       "           min_weight_fraction_leaf=0.0, presort='auto',\n",
       "           random_state=<mtrand.RandomState object at 0x7fcb30677dc8>,\n",
       "           splitter='best')],\n",
       "       [DecisionTreeRegressor(criterion='friedman_mse', max_depth=3,\n",
       "           max_features=None, max_leaf_nodes=None,\n",
       "           min_impurity_decrease=0.0, min_impurity_split=None,\n",
       "           min_samples_leaf=1, min_samples_split=2,\n",
       "           min_weight_fraction_leaf=0.0, presort='auto',\n",
       "           random_state=<mtrand.RandomState object at 0x7fcb30677dc8>,\n",
       "           splitter='best')],\n",
       "       [DecisionTreeRegressor(criterion='friedman_mse', max_depth=3,\n",
       "           max_features=None, max_leaf_nodes=None,\n",
       "           min_impurity_decrease=0.0, min_impurity_split=None,\n",
       "           min_samples_leaf=1, min_samples_split=2,\n",
       "           min_weight_fraction_leaf=0.0, presort='auto',\n",
       "           random_state=<mtrand.RandomState object at 0x7fcb30677dc8>,\n",
       "           splitter='best')],\n",
       "       [DecisionTreeRegressor(criterion='friedman_mse', max_depth=3,\n",
       "           max_features=None, max_leaf_nodes=None,\n",
       "           min_impurity_decrease=0.0, min_impurity_split=None,\n",
       "           min_samples_leaf=1, min_samples_split=2,\n",
       "           min_weight_fraction_leaf=0.0, presort='auto',\n",
       "           random_state=<mtrand.RandomState object at 0x7fcb30677dc8>,\n",
       "           splitter='best')],\n",
       "       [DecisionTreeRegressor(criterion='friedman_mse', max_depth=3,\n",
       "           max_features=None, max_leaf_nodes=None,\n",
       "           min_impurity_decrease=0.0, min_impurity_split=None,\n",
       "           min_samples_leaf=1, min_samples_split=2,\n",
       "           min_weight_fraction_leaf=0.0, presort='auto',\n",
       "           random_state=<mtrand.RandomState object at 0x7fcb30677dc8>,\n",
       "           splitter='best')],\n",
       "       [DecisionTreeRegressor(criterion='friedman_mse', max_depth=3,\n",
       "           max_features=None, max_leaf_nodes=None,\n",
       "           min_impurity_decrease=0.0, min_impurity_split=None,\n",
       "           min_samples_leaf=1, min_samples_split=2,\n",
       "           min_weight_fraction_leaf=0.0, presort='auto',\n",
       "           random_state=<mtrand.RandomState object at 0x7fcb30677dc8>,\n",
       "           splitter='best')],\n",
       "       [DecisionTreeRegressor(criterion='friedman_mse', max_depth=3,\n",
       "           max_features=None, max_leaf_nodes=None,\n",
       "           min_impurity_decrease=0.0, min_impurity_split=None,\n",
       "           min_samples_leaf=1, min_samples_split=2,\n",
       "           min_weight_fraction_leaf=0.0, presort='auto',\n",
       "           random_state=<mtrand.RandomState object at 0x7fcb30677dc8>,\n",
       "           splitter='best')],\n",
       "       [DecisionTreeRegressor(criterion='friedman_mse', max_depth=3,\n",
       "           max_features=None, max_leaf_nodes=None,\n",
       "           min_impurity_decrease=0.0, min_impurity_split=None,\n",
       "           min_samples_leaf=1, min_samples_split=2,\n",
       "           min_weight_fraction_leaf=0.0, presort='auto',\n",
       "           random_state=<mtrand.RandomState object at 0x7fcb30677dc8>,\n",
       "           splitter='best')],\n",
       "       [DecisionTreeRegressor(criterion='friedman_mse', max_depth=3,\n",
       "           max_features=None, max_leaf_nodes=None,\n",
       "           min_impurity_decrease=0.0, min_impurity_split=None,\n",
       "           min_samples_leaf=1, min_samples_split=2,\n",
       "           min_weight_fraction_leaf=0.0, presort='auto',\n",
       "           random_state=<mtrand.RandomState object at 0x7fcb30677dc8>,\n",
       "           splitter='best')],\n",
       "       [DecisionTreeRegressor(criterion='friedman_mse', max_depth=3,\n",
       "           max_features=None, max_leaf_nodes=None,\n",
       "           min_impurity_decrease=0.0, min_impurity_split=None,\n",
       "           min_samples_leaf=1, min_samples_split=2,\n",
       "           min_weight_fraction_leaf=0.0, presort='auto',\n",
       "           random_state=<mtrand.RandomState object at 0x7fcb30677dc8>,\n",
       "           splitter='best')],\n",
       "       [DecisionTreeRegressor(criterion='friedman_mse', max_depth=3,\n",
       "           max_features=None, max_leaf_nodes=None,\n",
       "           min_impurity_decrease=0.0, min_impurity_split=None,\n",
       "           min_samples_leaf=1, min_samples_split=2,\n",
       "           min_weight_fraction_leaf=0.0, presort='auto',\n",
       "           random_state=<mtrand.RandomState object at 0x7fcb30677dc8>,\n",
       "           splitter='best')],\n",
       "       [DecisionTreeRegressor(criterion='friedman_mse', max_depth=3,\n",
       "           max_features=None, max_leaf_nodes=None,\n",
       "           min_impurity_decrease=0.0, min_impurity_split=None,\n",
       "           min_samples_leaf=1, min_samples_split=2,\n",
       "           min_weight_fraction_leaf=0.0, presort='auto',\n",
       "           random_state=<mtrand.RandomState object at 0x7fcb30677dc8>,\n",
       "           splitter='best')],\n",
       "       [DecisionTreeRegressor(criterion='friedman_mse', max_depth=3,\n",
       "           max_features=None, max_leaf_nodes=None,\n",
       "           min_impurity_decrease=0.0, min_impurity_split=None,\n",
       "           min_samples_leaf=1, min_samples_split=2,\n",
       "           min_weight_fraction_leaf=0.0, presort='auto',\n",
       "           random_state=<mtrand.RandomState object at 0x7fcb30677dc8>,\n",
       "           splitter='best')],\n",
       "       [DecisionTreeRegressor(criterion='friedman_mse', max_depth=3,\n",
       "           max_features=None, max_leaf_nodes=None,\n",
       "           min_impurity_decrease=0.0, min_impurity_split=None,\n",
       "           min_samples_leaf=1, min_samples_split=2,\n",
       "           min_weight_fraction_leaf=0.0, presort='auto',\n",
       "           random_state=<mtrand.RandomState object at 0x7fcb30677dc8>,\n",
       "           splitter='best')],\n",
       "       [DecisionTreeRegressor(criterion='friedman_mse', max_depth=3,\n",
       "           max_features=None, max_leaf_nodes=None,\n",
       "           min_impurity_decrease=0.0, min_impurity_split=None,\n",
       "           min_samples_leaf=1, min_samples_split=2,\n",
       "           min_weight_fraction_leaf=0.0, presort='auto',\n",
       "           random_state=<mtrand.RandomState object at 0x7fcb30677dc8>,\n",
       "           splitter='best')],\n",
       "       [DecisionTreeRegressor(criterion='friedman_mse', max_depth=3,\n",
       "           max_features=None, max_leaf_nodes=None,\n",
       "           min_impurity_decrease=0.0, min_impurity_split=None,\n",
       "           min_samples_leaf=1, min_samples_split=2,\n",
       "           min_weight_fraction_leaf=0.0, presort='auto',\n",
       "           random_state=<mtrand.RandomState object at 0x7fcb30677dc8>,\n",
       "           splitter='best')],\n",
       "       [DecisionTreeRegressor(criterion='friedman_mse', max_depth=3,\n",
       "           max_features=None, max_leaf_nodes=None,\n",
       "           min_impurity_decrease=0.0, min_impurity_split=None,\n",
       "           min_samples_leaf=1, min_samples_split=2,\n",
       "           min_weight_fraction_leaf=0.0, presort='auto',\n",
       "           random_state=<mtrand.RandomState object at 0x7fcb30677dc8>,\n",
       "           splitter='best')],\n",
       "       [DecisionTreeRegressor(criterion='friedman_mse', max_depth=3,\n",
       "           max_features=None, max_leaf_nodes=None,\n",
       "           min_impurity_decrease=0.0, min_impurity_split=None,\n",
       "           min_samples_leaf=1, min_samples_split=2,\n",
       "           min_weight_fraction_leaf=0.0, presort='auto',\n",
       "           random_state=<mtrand.RandomState object at 0x7fcb30677dc8>,\n",
       "           splitter='best')],\n",
       "       [DecisionTreeRegressor(criterion='friedman_mse', max_depth=3,\n",
       "           max_features=None, max_leaf_nodes=None,\n",
       "           min_impurity_decrease=0.0, min_impurity_split=None,\n",
       "           min_samples_leaf=1, min_samples_split=2,\n",
       "           min_weight_fraction_leaf=0.0, presort='auto',\n",
       "           random_state=<mtrand.RandomState object at 0x7fcb30677dc8>,\n",
       "           splitter='best')],\n",
       "       [DecisionTreeRegressor(criterion='friedman_mse', max_depth=3,\n",
       "           max_features=None, max_leaf_nodes=None,\n",
       "           min_impurity_decrease=0.0, min_impurity_split=None,\n",
       "           min_samples_leaf=1, min_samples_split=2,\n",
       "           min_weight_fraction_leaf=0.0, presort='auto',\n",
       "           random_state=<mtrand.RandomState object at 0x7fcb30677dc8>,\n",
       "           splitter='best')],\n",
       "       [DecisionTreeRegressor(criterion='friedman_mse', max_depth=3,\n",
       "           max_features=None, max_leaf_nodes=None,\n",
       "           min_impurity_decrease=0.0, min_impurity_split=None,\n",
       "           min_samples_leaf=1, min_samples_split=2,\n",
       "           min_weight_fraction_leaf=0.0, presort='auto',\n",
       "           random_state=<mtrand.RandomState object at 0x7fcb30677dc8>,\n",
       "           splitter='best')],\n",
       "       [DecisionTreeRegressor(criterion='friedman_mse', max_depth=3,\n",
       "           max_features=None, max_leaf_nodes=None,\n",
       "           min_impurity_decrease=0.0, min_impurity_split=None,\n",
       "           min_samples_leaf=1, min_samples_split=2,\n",
       "           min_weight_fraction_leaf=0.0, presort='auto',\n",
       "           random_state=<mtrand.RandomState object at 0x7fcb30677dc8>,\n",
       "           splitter='best')],\n",
       "       [DecisionTreeRegressor(criterion='friedman_mse', max_depth=3,\n",
       "           max_features=None, max_leaf_nodes=None,\n",
       "           min_impurity_decrease=0.0, min_impurity_split=None,\n",
       "           min_samples_leaf=1, min_samples_split=2,\n",
       "           min_weight_fraction_leaf=0.0, presort='auto',\n",
       "           random_state=<mtrand.RandomState object at 0x7fcb30677dc8>,\n",
       "           splitter='best')],\n",
       "       [DecisionTreeRegressor(criterion='friedman_mse', max_depth=3,\n",
       "           max_features=None, max_leaf_nodes=None,\n",
       "           min_impurity_decrease=0.0, min_impurity_split=None,\n",
       "           min_samples_leaf=1, min_samples_split=2,\n",
       "           min_weight_fraction_leaf=0.0, presort='auto',\n",
       "           random_state=<mtrand.RandomState object at 0x7fcb30677dc8>,\n",
       "           splitter='best')],\n",
       "       [DecisionTreeRegressor(criterion='friedman_mse', max_depth=3,\n",
       "           max_features=None, max_leaf_nodes=None,\n",
       "           min_impurity_decrease=0.0, min_impurity_split=None,\n",
       "           min_samples_leaf=1, min_samples_split=2,\n",
       "           min_weight_fraction_leaf=0.0, presort='auto',\n",
       "           random_state=<mtrand.RandomState object at 0x7fcb30677dc8>,\n",
       "           splitter='best')],\n",
       "       [DecisionTreeRegressor(criterion='friedman_mse', max_depth=3,\n",
       "           max_features=None, max_leaf_nodes=None,\n",
       "           min_impurity_decrease=0.0, min_impurity_split=None,\n",
       "           min_samples_leaf=1, min_samples_split=2,\n",
       "           min_weight_fraction_leaf=0.0, presort='auto',\n",
       "           random_state=<mtrand.RandomState object at 0x7fcb30677dc8>,\n",
       "           splitter='best')]], dtype=object)"
      ]
     },
     "execution_count": 159,
     "metadata": {},
     "output_type": "execute_result"
    }
   ],
   "source": [
    "gb.estimators_"
   ]
  },
  {
   "cell_type": "markdown",
   "metadata": {},
   "source": [
    "We now try to use the 'gb' classifier to generate features that will be relevant inputs for the logistic regression.\n",
    "<font color=\"red\">**Question**:\n",
    "    With the 'gb.apply()' method, generate a transformation 'leafs_train' of the training set 'Xtrain_oh[:, cols_to_keep]' for which the nth column corresponds to the number of the leaf returned by the estimator n.\n",
    "</font>"
   ]
  },
  {
   "cell_type": "code",
   "execution_count": 163,
   "metadata": {},
   "outputs": [
    {
     "data": {
      "text/plain": [
       "(900000, 50, 1)"
      ]
     },
     "execution_count": 163,
     "metadata": {},
     "output_type": "execute_result"
    }
   ],
   "source": [
    "# Test here the gb.apply method on Xtrain[:, cols_to_keep]\n",
    "gba=gb.apply(Xtrain_oh[:,cols_to_keep])\n",
    "gba.shape"
   ]
  },
  {
   "cell_type": "code",
   "execution_count": 174,
   "metadata": {},
   "outputs": [],
   "source": [
    "gba[0:5,5,0]\n",
    "gbat=gb.apply(Xtest_oh[:,cols_to_keep])"
   ]
  },
  {
   "cell_type": "markdown",
   "metadata": {},
   "source": [
    "After your applied gb.apply on Xtrain_oh[:, cols_to_keep], remember that use have only one class to predict (click = 0 or 1). So, do not forget to slice your output with [:, :, 0] in order to keep, firstly, all the samples, and secondly all your 50 estimators.\n",
    "\n",
    "Hint: you can have a look at the dimensions of your output with .shape !"
   ]
  },
  {
   "cell_type": "code",
   "execution_count": 175,
   "metadata": {},
   "outputs": [],
   "source": [
    "leafs_train = pd.DataFrame( gba[:,:,0] ) # Fill here\n",
    "leafs_test = pd.DataFrame( gbat[:,:,0] )"
   ]
  },
  {
   "cell_type": "markdown",
   "metadata": {},
   "source": [
    "<font color=\"red\">**Question**:\n",
    "    Encode these new features into dummies.\n",
    "</font>"
   ]
  },
  {
   "cell_type": "code",
   "execution_count": 180,
   "metadata": {},
   "outputs": [],
   "source": [
    "ohe = OneHotEncoder( handle_unknown='ignore' ) # Fill here an argument if needed\n",
    "leafs_train_oh = ohe.fit_transform(leafs_train)\n",
    "leafs_test_oh = ohe.transform(leafs_test)"
   ]
  },
  {
   "cell_type": "code",
   "execution_count": 181,
   "metadata": {},
   "outputs": [
    {
     "data": {
      "text/plain": [
       "(900000, 396)"
      ]
     },
     "execution_count": 181,
     "metadata": {},
     "output_type": "execute_result"
    }
   ],
   "source": [
    "leafs_train_oh.shape"
   ]
  },
  {
   "cell_type": "markdown",
   "metadata": {},
   "source": [
    "<font color=\"red\">**Question**:\n",
    "    With the \"hstack\" function, create a new matrix of features by concatenating horizontally our new features \"leafs_train_oh\" and \"leafs_test_oh\", and previous features used for logistic regression (e.g. in \"Xtrain_oh[:, cols_to_keep]\").\n",
    "</font>\n",
    "<br><br>\n",
    "**Remark**: we use \"hstack\" from scipy.sparse (and not from numpy) because the output of our OneHotEncoder is a sparse array. You can verify it with the command \"type(Xtrain_oh)\"."
   ]
  },
  {
   "cell_type": "code",
   "execution_count": 182,
   "metadata": {},
   "outputs": [],
   "source": [
    "from scipy.sparse import csr_matrix, hstack\n",
    "Xtrain_concat = hstack([ leafs_train_oh , Xtrain_oh[:,cols_to_keep] ]) # Fill here\n",
    "Xtest_concat = hstack([ leafs_test_oh, Xtest_oh[:,cols_to_keep]])"
   ]
  },
  {
   "cell_type": "markdown",
   "metadata": {},
   "source": [
    "<font color=\"red\">**Question**:\n",
    "    Run a logistic regression on the new features and evaluate its performance as before.\n",
    "</font>"
   ]
  },
  {
   "cell_type": "code",
   "execution_count": 183,
   "metadata": {
    "collapsed": true
   },
   "outputs": [
    {
     "name": "stderr",
     "output_type": "stream",
     "text": [
      "/home/ubuntu/scikit-learn/sklearn/linear_model/logistic.py:757: ConvergenceWarning: lbfgs failed to converge. Increase the number of iterations.\n",
      "  \"of iterations.\", ConvergenceWarning)\n"
     ]
    },
    {
     "ename": "ValueError",
     "evalue": "X has 1971 features per sample; expecting 2367",
     "output_type": "error",
     "traceback": [
      "\u001b[0;31m---------------------------------------------------------------------------\u001b[0m",
      "\u001b[0;31mValueError\u001b[0m                                Traceback (most recent call last)",
      "\u001b[0;32m<ipython-input-183-c9fdcb1a149e>\u001b[0m in \u001b[0;36m<module>\u001b[0;34m()\u001b[0m\n\u001b[1;32m      1\u001b[0m \u001b[0mlr\u001b[0m \u001b[0;34m=\u001b[0m \u001b[0mLogisticRegression\u001b[0m\u001b[0;34m(\u001b[0m\u001b[0msolver\u001b[0m\u001b[0;34m=\u001b[0m\u001b[0;34m'lbfgs'\u001b[0m\u001b[0;34m,\u001b[0m\u001b[0mC\u001b[0m\u001b[0;34m=\u001b[0m\u001b[0;36m1e5\u001b[0m\u001b[0;34m,\u001b[0m\u001b[0mmax_iter\u001b[0m\u001b[0;34m=\u001b[0m\u001b[0;36m1000\u001b[0m\u001b[0;34m)\u001b[0m\u001b[0;34m\u001b[0m\u001b[0m\n\u001b[1;32m      2\u001b[0m \u001b[0mlr\u001b[0m\u001b[0;34m.\u001b[0m\u001b[0mfit\u001b[0m\u001b[0;34m(\u001b[0m \u001b[0mXtrain_concat\u001b[0m\u001b[0;34m,\u001b[0m \u001b[0mytrain\u001b[0m \u001b[0;34m)\u001b[0m\u001b[0;34m\u001b[0m\u001b[0m\n\u001b[0;32m----> 3\u001b[0;31m \u001b[0msoft\u001b[0m \u001b[0;34m=\u001b[0m \u001b[0mlr\u001b[0m\u001b[0;34m.\u001b[0m\u001b[0mpredict_proba\u001b[0m\u001b[0;34m(\u001b[0m\u001b[0mXtest_oh\u001b[0m\u001b[0;34m[\u001b[0m\u001b[0;34m:\u001b[0m\u001b[0;34m,\u001b[0m\u001b[0mcols_to_keep\u001b[0m\u001b[0;34m]\u001b[0m\u001b[0;34m)\u001b[0m\u001b[0;34m\u001b[0m\u001b[0m\n\u001b[0m\u001b[1;32m      4\u001b[0m \u001b[0mhard\u001b[0m \u001b[0;34m=\u001b[0m \u001b[0mlr\u001b[0m\u001b[0;34m.\u001b[0m\u001b[0mpredict\u001b[0m\u001b[0;34m(\u001b[0m\u001b[0mXtest_oh\u001b[0m\u001b[0;34m[\u001b[0m\u001b[0;34m:\u001b[0m\u001b[0;34m,\u001b[0m\u001b[0mcols_to_keep\u001b[0m\u001b[0;34m]\u001b[0m\u001b[0;34m)\u001b[0m\u001b[0;34m\u001b[0m\u001b[0m\n",
      "\u001b[0;32m/home/ubuntu/scikit-learn/sklearn/linear_model/logistic.py\u001b[0m in \u001b[0;36mpredict_proba\u001b[0;34m(self, X)\u001b[0m\n\u001b[1;32m   1405\u001b[0m                                                 self.solver == 'liblinear')))\n\u001b[1;32m   1406\u001b[0m         \u001b[0;32mif\u001b[0m \u001b[0movr\u001b[0m\u001b[0;34m:\u001b[0m\u001b[0;34m\u001b[0m\u001b[0m\n\u001b[0;32m-> 1407\u001b[0;31m             \u001b[0;32mreturn\u001b[0m \u001b[0msuper\u001b[0m\u001b[0;34m(\u001b[0m\u001b[0mLogisticRegression\u001b[0m\u001b[0;34m,\u001b[0m \u001b[0mself\u001b[0m\u001b[0;34m)\u001b[0m\u001b[0;34m.\u001b[0m\u001b[0m_predict_proba_lr\u001b[0m\u001b[0;34m(\u001b[0m\u001b[0mX\u001b[0m\u001b[0;34m)\u001b[0m\u001b[0;34m\u001b[0m\u001b[0m\n\u001b[0m\u001b[1;32m   1408\u001b[0m         \u001b[0;32melse\u001b[0m\u001b[0;34m:\u001b[0m\u001b[0;34m\u001b[0m\u001b[0m\n\u001b[1;32m   1409\u001b[0m             \u001b[0mdecision\u001b[0m \u001b[0;34m=\u001b[0m \u001b[0mself\u001b[0m\u001b[0;34m.\u001b[0m\u001b[0mdecision_function\u001b[0m\u001b[0;34m(\u001b[0m\u001b[0mX\u001b[0m\u001b[0;34m)\u001b[0m\u001b[0;34m\u001b[0m\u001b[0m\n",
      "\u001b[0;32m/home/ubuntu/scikit-learn/sklearn/linear_model/base.py\u001b[0m in \u001b[0;36m_predict_proba_lr\u001b[0;34m(self, X)\u001b[0m\n\u001b[1;32m    293\u001b[0m         \u001b[0mmulticlass\u001b[0m \u001b[0;32mis\u001b[0m \u001b[0mhandled\u001b[0m \u001b[0mby\u001b[0m \u001b[0mnormalizing\u001b[0m \u001b[0mthat\u001b[0m \u001b[0mover\u001b[0m \u001b[0mall\u001b[0m \u001b[0mclasses\u001b[0m\u001b[0;34m.\u001b[0m\u001b[0;34m\u001b[0m\u001b[0m\n\u001b[1;32m    294\u001b[0m         \"\"\"\n\u001b[0;32m--> 295\u001b[0;31m         \u001b[0mprob\u001b[0m \u001b[0;34m=\u001b[0m \u001b[0mself\u001b[0m\u001b[0;34m.\u001b[0m\u001b[0mdecision_function\u001b[0m\u001b[0;34m(\u001b[0m\u001b[0mX\u001b[0m\u001b[0;34m)\u001b[0m\u001b[0;34m\u001b[0m\u001b[0m\n\u001b[0m\u001b[1;32m    296\u001b[0m         \u001b[0mprob\u001b[0m \u001b[0;34m*=\u001b[0m \u001b[0;34m-\u001b[0m\u001b[0;36m1\u001b[0m\u001b[0;34m\u001b[0m\u001b[0m\n\u001b[1;32m    297\u001b[0m         \u001b[0mnp\u001b[0m\u001b[0;34m.\u001b[0m\u001b[0mexp\u001b[0m\u001b[0;34m(\u001b[0m\u001b[0mprob\u001b[0m\u001b[0;34m,\u001b[0m \u001b[0mprob\u001b[0m\u001b[0;34m)\u001b[0m\u001b[0;34m\u001b[0m\u001b[0m\n",
      "\u001b[0;32m/home/ubuntu/scikit-learn/sklearn/linear_model/base.py\u001b[0m in \u001b[0;36mdecision_function\u001b[0;34m(self, X)\u001b[0m\n\u001b[1;32m    260\u001b[0m         \u001b[0;32mif\u001b[0m \u001b[0mX\u001b[0m\u001b[0;34m.\u001b[0m\u001b[0mshape\u001b[0m\u001b[0;34m[\u001b[0m\u001b[0;36m1\u001b[0m\u001b[0;34m]\u001b[0m \u001b[0;34m!=\u001b[0m \u001b[0mn_features\u001b[0m\u001b[0;34m:\u001b[0m\u001b[0;34m\u001b[0m\u001b[0m\n\u001b[1;32m    261\u001b[0m             raise ValueError(\"X has %d features per sample; expecting %d\"\n\u001b[0;32m--> 262\u001b[0;31m                              % (X.shape[1], n_features))\n\u001b[0m\u001b[1;32m    263\u001b[0m \u001b[0;34m\u001b[0m\u001b[0m\n\u001b[1;32m    264\u001b[0m         scores = safe_sparse_dot(X, self.coef_.T,\n",
      "\u001b[0;31mValueError\u001b[0m: X has 1971 features per sample; expecting 2367"
     ]
    }
   ],
   "source": [
    "lr = LogisticRegression(solver='lbfgs',C=1e5,max_iter=1000)\n",
    "lr.fit( Xtrain_concat, ytrain )\n"
   ]
  },
  {
   "cell_type": "code",
   "execution_count": 185,
   "metadata": {},
   "outputs": [],
   "source": [
    "soft = lr.predict_proba(Xtest_concat)\n",
    "hard = lr.predict(Xtest_concat)"
   ]
  },
  {
   "cell_type": "code",
   "execution_count": 186,
   "metadata": {},
   "outputs": [
    {
     "name": "stdout",
     "output_type": "stream",
     "text": [
      "0.83408\n"
     ]
    },
    {
     "data": {
      "text/plain": [
       "(0.3999551647217715, 0.7417677169188173)"
      ]
     },
     "execution_count": 186,
     "metadata": {},
     "output_type": "execute_result"
    },
    {
     "data": {
      "image/png": "[encoded data removed]",
      "text/plain": [
       "<Figure size 432x288 with 1 Axes>"
      ]
     },
     "metadata": {},
     "output_type": "display_data"
    }
   ],
   "source": [
    "pfa, power,thre = roc_curve( ytest,soft[:,1] )\n",
    "plt.plot(pfa,power)\n",
    "plt.grid()\n",
    "plt.plot([0, 1], [0, 1], 'r--')\n",
    "plt.xlabel('False Positive Rate', fontsize=16);\n",
    "plt.ylabel('True Positive Rate', fontsize=16);\n",
    "print(accuracy_score(hard,ytest))\n",
    "log_loss( ytest,soft[:,1] ), roc_auc_score( ytest,soft[:,1] )\n"
   ]
  },
  {
   "cell_type": "markdown",
   "metadata": {},
   "source": [
    "<font color=\"red\">**Question**:\n",
    "    <br>\n",
    "    - Import XGBClassifier from xgboost package.\n",
    "    <br>\n",
    "    - Initialize it using the same number of estimators and learning rate as before. Set the 'n_jobs' to -1.\n",
    "    <br>\n",
    "    - Fit it on the same columns 'cols_to_keep' of Xtrain_oh than for the previous logistic regression.\n",
    "    <br>\n",
    "    - Evaluate its performance and compare it to the GradientBoosting classifier of scikit learn. How is the error? Does it take more time to run?\n",
    "</font>"
   ]
  },
  {
   "cell_type": "code",
   "execution_count": 189,
   "metadata": {},
   "outputs": [
    {
     "name": "stdout",
     "output_type": "stream",
     "text": [
      "CPU times: user 37.7 s, sys: 3.71 s, total: 41.4 s\n",
      "Wall time: 9.05 s\n"
     ]
    },
    {
     "data": {
      "text/plain": [
       "XGBClassifier(base_score=0.5, booster='gbtree', colsample_bylevel=1,\n",
       "       colsample_bytree=1, gamma=0, learning_rate=0.8, max_delta_step=0,\n",
       "       max_depth=3, min_child_weight=1, missing=None, n_estimators=50,\n",
       "       n_jobs=-1, nthread=None, objective='binary:logistic',\n",
       "       random_state=0, reg_alpha=0, reg_lambda=1, scale_pos_weight=1,\n",
       "       seed=None, silent=True, subsample=1)"
      ]
     },
     "execution_count": 189,
     "metadata": {},
     "output_type": "execute_result"
    }
   ],
   "source": [
    "from xgboost import XGBClassifier\n",
    "xgb = XGBClassifier( learning_rate=0.8,n_estimators=50,n_jobs=-1 )\n",
    "%time xgb.fit( Xtrain_oh[:,cols_to_keep],ytrain )\n"
   ]
  },
  {
   "cell_type": "code",
   "execution_count": 195,
   "metadata": {},
   "outputs": [
    {
     "name": "stdout",
     "output_type": "stream",
     "text": [
      "0.83298\n"
     ]
    },
    {
     "data": {
      "text/plain": [
       "(0.40789665685489773, 0.7244454605414952)"
      ]
     },
     "execution_count": 195,
     "metadata": {},
     "output_type": "execute_result"
    },
    {
     "data": {
      "image/png": "[encoded data removed]",
      "text/plain": [
       "<Figure size 432x288 with 1 Axes>"
      ]
     },
     "metadata": {},
     "output_type": "display_data"
    }
   ],
   "source": [
    "soft = xgb.predict_proba(Xtest_oh[:,cols_to_keep])[:,1]\n",
    "hard = xgb.predict(Xtest_oh[:,cols_to_keep])\n",
    "pfa, power,thre = roc_curve( ytest,soft )\n",
    "plt.plot(pfa,power)\n",
    "plt.grid()\n",
    "plt.plot([0, 1], [0, 1], 'r--')\n",
    "plt.xlabel('False Positive Rate', fontsize=16);\n",
    "plt.ylabel('True Positive Rate', fontsize=16);\n",
    "print(accuracy_score(hard,ytest))\n",
    "log_loss(ytest, soft), roc_auc_score(ytest, soft)"
   ]
  },
  {
   "cell_type": "markdown",
   "metadata": {},
   "source": [
    "The error of xgboost is bigger than GradientBoosting classifier when the number of estimators is not big enough and it takes less time now. \n",
    "When we increase the number of estimators to 1024 we gets the less rate of error and the better performence of roc,also take more time."
   ]
  },
  {
   "cell_type": "markdown",
   "metadata": {},
   "source": [
    "<font color=\"red\">**Question**:\n",
    "    Increase the number of estimators (e.g. 1024) and visualize the impact on performance. You might have to adapt the learning rate.\n",
    "</font>"
   ]
  },
  {
   "cell_type": "code",
   "execution_count": 198,
   "metadata": {},
   "outputs": [
    {
     "name": "stdout",
     "output_type": "stream",
     "text": [
      "CPU times: user 10min 41s, sys: 47.9 s, total: 11min 28s\n",
      "Wall time: 1min 29s\n"
     ]
    },
    {
     "data": {
      "text/plain": [
       "XGBClassifier(base_score=0.5, booster='gbtree', colsample_bylevel=1,\n",
       "       colsample_bytree=1, gamma=0, learning_rate=0.8, max_delta_step=0,\n",
       "       max_depth=3, min_child_weight=1, missing=None, n_estimators=1024,\n",
       "       n_jobs=-1, nthread=None, objective='binary:logistic',\n",
       "       random_state=0, reg_alpha=0, reg_lambda=1, scale_pos_weight=1,\n",
       "       seed=None, silent=True, subsample=1)"
      ]
     },
     "execution_count": 198,
     "metadata": {},
     "output_type": "execute_result"
    }
   ],
   "source": [
    "from xgboost import XGBClassifier\n",
    "xgb = XGBClassifier( learning_rate=0.8,n_estimators=1024,n_jobs=-1 )\n",
    "%time xgb.fit( Xtrain_oh[:,cols_to_keep],ytrain )\n"
   ]
  },
  {
   "cell_type": "code",
   "execution_count": 199,
   "metadata": {},
   "outputs": [
    {
     "name": "stdout",
     "output_type": "stream",
     "text": [
      "0.83347\n"
     ]
    },
    {
     "data": {
      "text/plain": [
       "(0.3996554593976126, 0.7425692669531896)"
      ]
     },
     "execution_count": 199,
     "metadata": {},
     "output_type": "execute_result"
    },
    {
     "data": {
      "image/png": "[encoded data removed]",
      "text/plain": [
       "<Figure size 432x288 with 1 Axes>"
      ]
     },
     "metadata": {},
     "output_type": "display_data"
    }
   ],
   "source": [
    "soft = xgb.predict_proba(Xtest_oh[:,cols_to_keep])[:,1]\n",
    "hard = xgb.predict(Xtest_oh[:,cols_to_keep])\n",
    "pfa, power,thre = roc_curve( ytest,soft )\n",
    "plt.plot(pfa,power)\n",
    "plt.grid()\n",
    "plt.plot([0, 1], [0, 1], 'r--')\n",
    "plt.xlabel('False Positive Rate', fontsize=16);\n",
    "plt.ylabel('True Positive Rate', fontsize=16);\n",
    "print(accuracy_score(hard,ytest))\n",
    "log_loss(ytest, soft), roc_auc_score(ytest, soft)"
   ]
  },
  {
   "cell_type": "markdown",
   "metadata": {},
   "source": [
    "# Features hashing and random forest"
   ]
  },
  {
   "cell_type": "markdown",
   "metadata": {},
   "source": [
    "We restart with raw features before dummy encoding: Xtrain, Xtest.\n",
    "<font color=\"red\">**Question**:\n",
    "    Display again the number of modalities per feature in Xtrain. Use '.nunique()'\n",
    "</font>"
   ]
  },
  {
   "cell_type": "code",
   "execution_count": 203,
   "metadata": {},
   "outputs": [
    {
     "data": {
      "text/plain": [
       "hour                    24\n",
       "C1                       7\n",
       "banner_pos               7\n",
       "site_category           22\n",
       "app_id                3054\n",
       "app_domain             196\n",
       "app_category            26\n",
       "device_type              5\n",
       "device_conn_type         4\n",
       "C14                   2225\n",
       "C15                      8\n",
       "C16                      9\n",
       "C17                    420\n",
       "C18                      4\n",
       "C19                     66\n",
       "C20                    163\n",
       "C21                     60\n",
       "weekday                  7\n",
       "user                701585\n",
       "site                  5442\n",
       "dtype: int64"
      ]
     },
     "execution_count": 203,
     "metadata": {},
     "output_type": "execute_result"
    }
   ],
   "source": [
    "Xtrain.nunique()"
   ]
  },
  {
   "cell_type": "markdown",
   "metadata": {},
   "source": [
    "We want to define a transformation which regroups the least frequent modalities into a label 'isRare'. In order to do so, we decide to define our own Transformer.\n",
    "<font color=\"red\">**Question**:\n",
    "    Understand the different steps of 'fit' and 'transform'.\n",
    "</font>"
   ]
  },
  {
   "cell_type": "code",
   "execution_count": 201,
   "metadata": {},
   "outputs": [],
   "source": [
    "from sklearn.base import BaseEstimator, TransformerMixin\n",
    "\n",
    "class MergeRareTransformer(BaseEstimator, TransformerMixin):\n",
    "    \n",
    "    def __init__(self, col_names, threshold):\n",
    "        self.col_names = col_names\n",
    "        self.threshold = threshold\n",
    "\n",
    "    def fit(self, X, y=None):\n",
    "\n",
    "        X = pd.DataFrame(X)\n",
    "        counts_dict_list = []\n",
    "        ################## READ THIS #########################\n",
    "        for i in range(len(self.col_names)):\n",
    "            \n",
    "            serie = X[self.col_names[i]].value_counts()  # Série des counts de chaque modalité\n",
    "            rare_indexes = serie[serie<self.threshold[i]].index  # A quoi correspondent ces indices ?\n",
    "            frequent_indexes = serie[serie>=self.threshold[i]].index  # A quoi correspondent ces indices ?\n",
    "            dico = {x:'isRare' for x in rare_indexes}\n",
    "            dico.update({x: str(x) for x in frequent_indexes})\n",
    "            counts_dict_list.append(dico)   # Quel est le dictionnaire obtenu ?\n",
    "            \n",
    "        ######################################################\n",
    "            \n",
    "        self.counts_dict_list_ = counts_dict_list\n",
    "        return self\n",
    "\n",
    "    def transform(self, X):\n",
    "\n",
    "        Xt = pd.DataFrame()\n",
    "        ################## READ THIS #########################\n",
    "        for col, count_dict in zip(self.col_names, self.counts_dict_list_):\n",
    "            Xt[col] = X[col].apply(lambda x:count_dict[x] if x in count_dict else 'isRare')\n",
    "            # A quoi sert le \"else 'isRare'\" dans la transformation de la colonne ?\n",
    "        ######################################################\n",
    "\n",
    "        return Xt\n"
   ]
  },
  {
   "cell_type": "markdown",
   "metadata": {},
   "source": [
    "<font color=\"red\">**Question:**\n",
    "    <br>\n",
    "    - Fit and transform the training set. To do so, merge all mmodalities occuring at least 20 times in each column.\n",
    "    <br>\n",
    "    - Transform the test set.\n",
    "</font>"
   ]
  },
  {
   "cell_type": "code",
   "execution_count": 205,
   "metadata": {},
   "outputs": [],
   "source": [
    "mg = MergeRareTransformer(col_names=Xtrain.columns, threshold=[20]*len(Xtrain.columns))\n",
    "Xtrain_mg = mg.fit_transform(Xtrain) # Fill here with fit_transform\n",
    "Xtest_mg = mg.transform(Xtest)"
   ]
  },
  {
   "cell_type": "markdown",
   "metadata": {},
   "source": [
    "<font color=\"red\">**Question:**\n",
    "   How many elements of the column Xtrain_mg['app_domain'] are now labeled as 'rare'? Use the '.value_counts()' method.\n",
    "</font>"
   ]
  },
  {
   "cell_type": "code",
   "execution_count": 208,
   "metadata": {},
   "outputs": [
    {
     "data": {
      "text/plain": [
       "7801e8d9    606390\n",
       "2347f47a    116467\n",
       "ae637522     41928\n",
       "5c5a694b     25289\n",
       "82e27996     16869\n",
       "d9b5648e     15709\n",
       "0e8616ad     14784\n",
       "b9528b13     14284\n",
       "b8d325c3     11953\n",
       "aefc06bd      6644\n",
       "df32afa9      6412\n",
       "33da2e74      5911\n",
       "6f7ca2ba      4990\n",
       "5b9c592b      2448\n",
       "885c7f3f      1468\n",
       "5c620f04      1419\n",
       "45a51db4      1219\n",
       "b5f3b24a      1093\n",
       "813f3323       544\n",
       "0654b444       514\n",
       "isRare         513\n",
       "ad63ec9b       388\n",
       "c6824def       306\n",
       "15ec7f39       275\n",
       "a8b0bf20       266\n",
       "99b4c806       219\n",
       "828da833       185\n",
       "448ca2e3       167\n",
       "f2f777fb       157\n",
       "43cf4f06       149\n",
       "47464e95        99\n",
       "d6feb1a4        95\n",
       "2b627705        89\n",
       "1ea19ec4        72\n",
       "db829551        69\n",
       "6a0a3a9d        59\n",
       "18eb4e75        56\n",
       "0d79ee56        53\n",
       "9ec164d3        51\n",
       "e5d5313f        46\n",
       "b12ff13e        42\n",
       "27ee373d        36\n",
       "b408d42a        30\n",
       "5ac0b939        28\n",
       "1ed56ded        27\n",
       "bb6bcbae        27\n",
       "3feeed1e        26\n",
       "63f57be0        25\n",
       "15c23f8e        25\n",
       "7eec2ab0        24\n",
       "7a9371fa        21\n",
       "dcdba109        20\n",
       "afdf1f54        20\n",
       "Name: app_domain, dtype: int64"
      ]
     },
     "execution_count": 208,
     "metadata": {},
     "output_type": "execute_result"
    }
   ],
   "source": [
    "Xtrain_mg['app_domain'].value_counts()"
   ]
  },
  {
   "cell_type": "markdown",
   "metadata": {},
   "source": [
    "<font color=\"red\">**Question:**\n",
    "   In the new train set, display the number of modalities for each feature.\n",
    "</font>"
   ]
  },
  {
   "cell_type": "code",
   "execution_count": 209,
   "metadata": {},
   "outputs": [
    {
     "data": {
      "text/plain": [
       "hour                  24\n",
       "C1                     7\n",
       "banner_pos             7\n",
       "site_category         18\n",
       "app_id               613\n",
       "app_domain            53\n",
       "app_category          19\n",
       "device_type            5\n",
       "device_conn_type       4\n",
       "C14                 1339\n",
       "C15                    8\n",
       "C16                    9\n",
       "C17                  381\n",
       "C18                    4\n",
       "C19                   63\n",
       "C20                  148\n",
       "C21                   60\n",
       "weekday                7\n",
       "user                 901\n",
       "site                 889\n",
       "dtype: int64"
      ]
     },
     "execution_count": 209,
     "metadata": {},
     "output_type": "execute_result"
    }
   ],
   "source": [
    "Xtrain_mg.nunique()"
   ]
  },
  {
   "cell_type": "markdown",
   "metadata": {},
   "source": [
    "Les modalités sont des objets arbitraires du type : 234, 'isRare', etc. Nous allons les transformer en entiers avec le hashing trick.\n",
    "<font color=\"red\">\n",
    "Pour comprendre le fonctionnement de la fonction \"hash\", l'appliquer à une chaîne de caractère quelconque.\n",
    "</font>"
   ]
  },
  {
   "cell_type": "markdown",
   "metadata": {},
   "source": [
    "Modalities are arbitrary object, such as '234', 'isRare', etc. We will now transorm them into integers with the hashing trick.\n",
    "<font color=\"red\">**Question:**\n",
    "   To better understand how the 'hash' function is working, apply it to a string of your choice.\n",
    "</font>"
   ]
  },
  {
   "cell_type": "code",
   "execution_count": 211,
   "metadata": {},
   "outputs": [
    {
     "data": {
      "text/plain": [
       "-8921686062292348999"
      ]
     },
     "execution_count": 211,
     "metadata": {},
     "output_type": "execute_result"
    }
   ],
   "source": [
    "import hashlib\n",
    "hash( 'isRare' ) # Fill here"
   ]
  },
  {
   "cell_type": "markdown",
   "metadata": {},
   "source": [
    "<font color=\"red\">**Question:**\n",
    "   Create two new datasets 'Xtrain_ha' and 'Xtest_ha' containing the output of the hashing process. Use the '.apply' method to transform iteratively the columns by mapping to each value its remainder in the euclidean division of the hash by 1000000. \n",
    "   Example:\n",
    "</font>\n",
    "</font>\n",
    "<p>\n",
    "<center>\n",
    "2060777048690<font color=\"red\">918393</font>  -->  918393\n",
    "</center>\n",
    "Remark: do not forget that the function 'hash' has to take a string as input."
   ]
  },
  {
   "cell_type": "code",
   "execution_count": 215,
   "metadata": {},
   "outputs": [],
   "source": [
    "Xtrain_ha = pd.DataFrame()\n",
    "Xtest_ha = pd.DataFrame()\n",
    "for col in Xtrain_mg.columns:\n",
    "    Xtrain_ha[col] = Xtrain_mg[col].apply(lambda x:  hash(str(x)) % 1000000 ) # Fill here defining a lambda function\n",
    "    Xtest_ha[col] = Xtest_mg[col].apply(lambda x:  hash(str(x)) % 1000000 )"
   ]
  },
  {
   "cell_type": "markdown",
   "metadata": {},
   "source": [
    "<font color=\"red\">**Question:**\n",
    "   Visualize the content of the DataFrames you have obtained.\n",
    "</font>"
   ]
  },
  {
   "cell_type": "code",
   "execution_count": 216,
   "metadata": {},
   "outputs": [
    {
     "data": {
      "text/html": [
       "<div>\n",
       "<style scoped>\n",
       "    .dataframe tbody tr th:only-of-type {\n",
       "        vertical-align: middle;\n",
       "    }\n",
       "\n",
       "    .dataframe tbody tr th {\n",
       "        vertical-align: top;\n",
       "    }\n",
       "\n",
       "    .dataframe thead th {\n",
       "        text-align: right;\n",
       "    }\n",
       "</style>\n",
       "<table border=\"1\" class=\"dataframe\">\n",
       "  <thead>\n",
       "    <tr style=\"text-align: right;\">\n",
       "      <th></th>\n",
       "      <th>hour</th>\n",
       "      <th>C1</th>\n",
       "      <th>banner_pos</th>\n",
       "      <th>site_category</th>\n",
       "      <th>app_id</th>\n",
       "      <th>app_domain</th>\n",
       "      <th>app_category</th>\n",
       "      <th>device_type</th>\n",
       "      <th>device_conn_type</th>\n",
       "      <th>C14</th>\n",
       "      <th>C15</th>\n",
       "      <th>C16</th>\n",
       "      <th>C17</th>\n",
       "      <th>C18</th>\n",
       "      <th>C19</th>\n",
       "      <th>C20</th>\n",
       "      <th>C21</th>\n",
       "      <th>weekday</th>\n",
       "      <th>user</th>\n",
       "      <th>site</th>\n",
       "    </tr>\n",
       "  </thead>\n",
       "  <tbody>\n",
       "    <tr>\n",
       "      <th>92438</th>\n",
       "      <td>356800</td>\n",
       "      <td>722883</td>\n",
       "      <td>308882</td>\n",
       "      <td>67389</td>\n",
       "      <td>708206</td>\n",
       "      <td>152519</td>\n",
       "      <td>676104</td>\n",
       "      <td>728304</td>\n",
       "      <td>661989</td>\n",
       "      <td>496096</td>\n",
       "      <td>667711</td>\n",
       "      <td>597520</td>\n",
       "      <td>171462</td>\n",
       "      <td>772298</td>\n",
       "      <td>876307</td>\n",
       "      <td>133483</td>\n",
       "      <td>228935</td>\n",
       "      <td>772298</td>\n",
       "      <td>651001</td>\n",
       "      <td>991351</td>\n",
       "    </tr>\n",
       "    <tr>\n",
       "      <th>60898</th>\n",
       "      <td>132498</td>\n",
       "      <td>758049</td>\n",
       "      <td>772298</td>\n",
       "      <td>67389</td>\n",
       "      <td>184509</td>\n",
       "      <td>222881</td>\n",
       "      <td>714039</td>\n",
       "      <td>308882</td>\n",
       "      <td>595783</td>\n",
       "      <td>496096</td>\n",
       "      <td>667711</td>\n",
       "      <td>597520</td>\n",
       "      <td>171462</td>\n",
       "      <td>772298</td>\n",
       "      <td>876307</td>\n",
       "      <td>133483</td>\n",
       "      <td>228935</td>\n",
       "      <td>308882</td>\n",
       "      <td>651001</td>\n",
       "      <td>991351</td>\n",
       "    </tr>\n",
       "    <tr>\n",
       "      <th>556199</th>\n",
       "      <td>728304</td>\n",
       "      <td>758049</td>\n",
       "      <td>772298</td>\n",
       "      <td>693137</td>\n",
       "      <td>663626</td>\n",
       "      <td>152519</td>\n",
       "      <td>482402</td>\n",
       "      <td>308882</td>\n",
       "      <td>595783</td>\n",
       "      <td>932631</td>\n",
       "      <td>667711</td>\n",
       "      <td>597520</td>\n",
       "      <td>401646</td>\n",
       "      <td>772298</td>\n",
       "      <td>68222</td>\n",
       "      <td>133483</td>\n",
       "      <td>32359</td>\n",
       "      <td>772298</td>\n",
       "      <td>651001</td>\n",
       "      <td>443385</td>\n",
       "    </tr>\n",
       "    <tr>\n",
       "      <th>193129</th>\n",
       "      <td>174384</td>\n",
       "      <td>758049</td>\n",
       "      <td>308882</td>\n",
       "      <td>693137</td>\n",
       "      <td>663626</td>\n",
       "      <td>152519</td>\n",
       "      <td>482402</td>\n",
       "      <td>308882</td>\n",
       "      <td>772298</td>\n",
       "      <td>60330</td>\n",
       "      <td>667711</td>\n",
       "      <td>597520</td>\n",
       "      <td>296341</td>\n",
       "      <td>772298</td>\n",
       "      <td>200130</td>\n",
       "      <td>58156</td>\n",
       "      <td>78702</td>\n",
       "      <td>308882</td>\n",
       "      <td>651001</td>\n",
       "      <td>206459</td>\n",
       "    </tr>\n",
       "    <tr>\n",
       "      <th>231985</th>\n",
       "      <td>145351</td>\n",
       "      <td>758049</td>\n",
       "      <td>772298</td>\n",
       "      <td>284485</td>\n",
       "      <td>663626</td>\n",
       "      <td>152519</td>\n",
       "      <td>482402</td>\n",
       "      <td>308882</td>\n",
       "      <td>772298</td>\n",
       "      <td>343520</td>\n",
       "      <td>667711</td>\n",
       "      <td>597520</td>\n",
       "      <td>171462</td>\n",
       "      <td>772298</td>\n",
       "      <td>876307</td>\n",
       "      <td>835254</td>\n",
       "      <td>228935</td>\n",
       "      <td>207933</td>\n",
       "      <td>651001</td>\n",
       "      <td>117175</td>\n",
       "    </tr>\n",
       "  </tbody>\n",
       "</table>\n",
       "</div>"
      ],
      "text/plain": [
       "          hour      C1  banner_pos  site_category  app_id  app_domain  \\\n",
       "92438   356800  722883      308882          67389  708206      152519   \n",
       "60898   132498  758049      772298          67389  184509      222881   \n",
       "556199  728304  758049      772298         693137  663626      152519   \n",
       "193129  174384  758049      308882         693137  663626      152519   \n",
       "231985  145351  758049      772298         284485  663626      152519   \n",
       "\n",
       "        app_category  device_type  device_conn_type     C14     C15     C16  \\\n",
       "92438         676104       728304            661989  496096  667711  597520   \n",
       "60898         714039       308882            595783  496096  667711  597520   \n",
       "556199        482402       308882            595783  932631  667711  597520   \n",
       "193129        482402       308882            772298   60330  667711  597520   \n",
       "231985        482402       308882            772298  343520  667711  597520   \n",
       "\n",
       "           C17     C18     C19     C20     C21  weekday    user    site  \n",
       "92438   171462  772298  876307  133483  228935   772298  651001  991351  \n",
       "60898   171462  772298  876307  133483  228935   308882  651001  991351  \n",
       "556199  401646  772298   68222  133483   32359   772298  651001  443385  \n",
       "193129  296341  772298  200130   58156   78702   308882  651001  206459  \n",
       "231985  171462  772298  876307  835254  228935   207933  651001  117175  "
      ]
     },
     "execution_count": 216,
     "metadata": {},
     "output_type": "execute_result"
    }
   ],
   "source": [
    "Xtrain_ha.head()"
   ]
  },
  {
   "cell_type": "markdown",
   "metadata": {},
   "source": [
    "<font color=\"red\">**Question:**\n",
    "    <br>\n",
    "    - Train a RandomForestClassifier on Xtrain_ha and evaluate its performance on Xtest_ha. One can chose 1024 estimators, min_samples_leaf=20 and verbose=1 in order to monitor the fitting step.\n",
    "    <br>\n",
    "    - How do you fix 'n_jobs'? \n",
    "</font>"
   ]
  },
  {
   "cell_type": "code",
   "execution_count": 218,
   "metadata": {},
   "outputs": [
    {
     "name": "stderr",
     "output_type": "stream",
     "text": [
      "[Parallel(n_jobs=-1)]: Using backend ThreadingBackend with 8 concurrent workers.\n",
      "[Parallel(n_jobs=-1)]: Done  34 tasks      | elapsed:   19.0s\n",
      "[Parallel(n_jobs=-1)]: Done 184 tasks      | elapsed:  1.5min\n",
      "[Parallel(n_jobs=-1)]: Done 434 tasks      | elapsed:  3.4min\n",
      "[Parallel(n_jobs=-1)]: Done 784 tasks      | elapsed:  6.1min\n",
      "[Parallel(n_jobs=-1)]: Done 1024 out of 1024 | elapsed:  8.0min finished\n"
     ]
    },
    {
     "data": {
      "text/plain": [
       "RandomForestClassifier(bootstrap=True, class_weight=None, criterion='gini',\n",
       "            max_depth=None, max_features='auto', max_leaf_nodes=None,\n",
       "            min_impurity_decrease=0.0, min_impurity_split=None,\n",
       "            min_samples_leaf=20, min_samples_split=2,\n",
       "            min_weight_fraction_leaf=0.0, n_estimators=1024, n_jobs=-1,\n",
       "            oob_score=False, random_state=None, verbose=1,\n",
       "            warm_start=False)"
      ]
     },
     "execution_count": 218,
     "metadata": {},
     "output_type": "execute_result"
    }
   ],
   "source": [
    "from sklearn.ensemble import RandomForestClassifier # Fill here\n",
    "rf = RandomForestClassifier( n_estimators=1024, min_samples_leaf=20, verbose=1 ,n_jobs=-1)\n",
    "rf.fit( Xtrain_ha,ytrain )"
   ]
  },
  {
   "cell_type": "code",
   "execution_count": 219,
   "metadata": {},
   "outputs": [
    {
     "name": "stderr",
     "output_type": "stream",
     "text": [
      "[Parallel(n_jobs=8)]: Using backend ThreadingBackend with 8 concurrent workers.\n",
      "[Parallel(n_jobs=8)]: Done  34 tasks      | elapsed:    0.3s\n",
      "[Parallel(n_jobs=8)]: Done 184 tasks      | elapsed:    1.2s\n",
      "[Parallel(n_jobs=8)]: Done 434 tasks      | elapsed:    2.8s\n",
      "[Parallel(n_jobs=8)]: Done 784 tasks      | elapsed:    5.1s\n",
      "[Parallel(n_jobs=8)]: Done 1024 out of 1024 | elapsed:    6.6s finished\n",
      "[Parallel(n_jobs=8)]: Using backend ThreadingBackend with 8 concurrent workers.\n",
      "[Parallel(n_jobs=8)]: Done  34 tasks      | elapsed:    0.3s\n",
      "[Parallel(n_jobs=8)]: Done 184 tasks      | elapsed:    1.2s\n",
      "[Parallel(n_jobs=8)]: Done 434 tasks      | elapsed:    2.8s\n",
      "[Parallel(n_jobs=8)]: Done 784 tasks      | elapsed:    5.1s\n"
     ]
    },
    {
     "name": "stdout",
     "output_type": "stream",
     "text": [
      "0.83349\n"
     ]
    },
    {
     "name": "stderr",
     "output_type": "stream",
     "text": [
      "[Parallel(n_jobs=8)]: Done 1024 out of 1024 | elapsed:    6.7s finished\n"
     ]
    },
    {
     "data": {
      "text/plain": [
       "(0.40077170468088075, 0.7414914881667416)"
      ]
     },
     "execution_count": 219,
     "metadata": {},
     "output_type": "execute_result"
    },
    {
     "data": {
      "image/png": "[encoded data removed]",
      "text/plain": [
       "<Figure size 432x288 with 1 Axes>"
      ]
     },
     "metadata": {},
     "output_type": "display_data"
    }
   ],
   "source": [
    "soft = rf.predict_proba(Xtest_ha)[:,1]\n",
    "hard = rf.predict(Xtest_ha)\n",
    "pfa, power,thre = roc_curve( ytest,soft )\n",
    "plt.plot(pfa,power)\n",
    "plt.grid()\n",
    "plt.plot([0, 1], [0, 1], 'r--')\n",
    "plt.xlabel('False Positive Rate', fontsize=16);\n",
    "plt.ylabel('True Positive Rate', fontsize=16);\n",
    "print(accuracy_score(hard,ytest))\n",
    "log_loss(ytest, soft), roc_auc_score(ytest, soft)"
   ]
  },
  {
   "cell_type": "markdown",
   "metadata": {},
   "source": [
    "<font color=\"red\">**Question:**\n",
    "   Compare with xgboost performance on the same hashed dataset.\n",
    "</font>"
   ]
  },
  {
   "cell_type": "code",
   "execution_count": 220,
   "metadata": {},
   "outputs": [
    {
     "name": "stdout",
     "output_type": "stream",
     "text": [
      "CPU times: user 13min 46s, sys: 1min 33s, total: 15min 19s\n",
      "Wall time: 1min 55s\n"
     ]
    },
    {
     "data": {
      "text/plain": [
       "XGBClassifier(base_score=0.5, booster='gbtree', colsample_bylevel=1,\n",
       "       colsample_bytree=1, gamma=0, learning_rate=0.8, max_delta_step=0,\n",
       "       max_depth=3, min_child_weight=1, missing=None, n_estimators=1024,\n",
       "       n_jobs=-1, nthread=None, objective='binary:logistic',\n",
       "       random_state=0, reg_alpha=0, reg_lambda=1, scale_pos_weight=1,\n",
       "       seed=None, silent=True, subsample=1)"
      ]
     },
     "execution_count": 220,
     "metadata": {},
     "output_type": "execute_result"
    }
   ],
   "source": [
    "xgb = XGBClassifier( learning_rate=0.8,n_estimators=1024,n_jobs=-1 )\n",
    "%time xgb.fit( Xtrain_ha,ytrain )\n",
    " # the '%time' command will return the execution time of the fitting step\n"
   ]
  },
  {
   "cell_type": "markdown",
   "metadata": {},
   "source": [
    "<font color=\"red\">**Question:**\n",
    "    Plot the ROC and the lift curves for the obtained classifier (xgboost on hashed data).\n",
    "</font>"
   ]
  },
  {
   "cell_type": "code",
   "execution_count": 223,
   "metadata": {},
   "outputs": [
    {
     "data": {
      "text/plain": [
       "<matplotlib.lines.Line2D at 0x7fca6cc91fd0>"
      ]
     },
     "execution_count": 223,
     "metadata": {},
     "output_type": "execute_result"
    },
    {
     "data": {
      "image/png": "[encoded data removed]",
      "text/plain": [
       "<Figure size 432x288 with 1 Axes>"
      ]
     },
     "metadata": {},
     "output_type": "display_data"
    }
   ],
   "source": [
    "soft = xgb.predict_proba(Xtest_ha)[:,1]\n",
    "hard = xgb.predict(Xtest_ha)\n",
    "\n",
    "plotlift( ytest,soft )\n",
    "# The following line just plots a vertical line for you to answer the second part of the question\n",
    "plt.axvline(x= 0.2 , linestyle='--', color='r') # Fill here\n",
    "# Plot the lift curve here"
   ]
  },
  {
   "cell_type": "code",
   "execution_count": 224,
   "metadata": {},
   "outputs": [
    {
     "name": "stdout",
     "output_type": "stream",
     "text": [
      "0.83426\n"
     ]
    },
    {
     "data": {
      "text/plain": [
       "(0.3987778472014815, 0.7447887297580615)"
      ]
     },
     "execution_count": 224,
     "metadata": {},
     "output_type": "execute_result"
    },
    {
     "data": {
      "image/png": "[encoded data removed]",
      "text/plain": [
       "<Figure size 432x288 with 1 Axes>"
      ]
     },
     "metadata": {},
     "output_type": "display_data"
    }
   ],
   "source": [
    "# Plot the ROC curve here\n",
    "pfa, power,thre = roc_curve( ytest,soft )\n",
    "plt.plot(pfa,power)\n",
    "plt.grid()\n",
    "plt.plot([0, 1], [0, 1], 'r--')\n",
    "plt.xlabel('False Positive Rate', fontsize=16);\n",
    "plt.ylabel('True Positive Rate', fontsize=16);\n",
    "print(accuracy_score(hard,ytest))\n",
    "log_loss(ytest, soft), roc_auc_score(ytest, soft)"
   ]
  },
  {
   "cell_type": "markdown",
   "metadata": {},
   "source": [
    "Le hashing produit des colonnes d'entiers ordonnés arbitrairement. On se demande si on peut améliorer les performances en ajoutant d'autre colonnes hashées différemment.\n",
    "<br>\n",
    "<font color=\"red\">Ajouter des colonnes de hash en hashant récursivement les précédentes : compléter le code ci-dessous.</font>"
   ]
  },
  {
   "cell_type": "markdown",
   "metadata": {},
   "source": [
    "Hashing produces columns of integers arbitrarily ordered. One can wonder if adding more columns hashed in a different fashion would lead to better performance. \n",
    "<font color=\"red\">**Question:**\n",
    "    Add hashed columns by recursively hashing the previous ones: complete the following code. \n",
    "</font>"
   ]
  },
  {
   "cell_type": "code",
   "execution_count": 225,
   "metadata": {},
   "outputs": [],
   "source": [
    "Xtrain_haha = pd.DataFrame(Xtrain_ha).copy()\n",
    "Xtest_haha = pd.DataFrame(Xtest_ha).copy()\n",
    "\n",
    "n_hash = 3\n",
    "cols = Xtrain_ha.columns\n",
    "for l in range(n_hash):\n",
    "    for col in cols:\n",
    "        Xtrain_haha[col + '-hash'] = Xtrain_haha[col].apply( lambda x: hash(str(x)) % 1000000 )\n",
    "        Xtest_haha[col + '-hash'] = Xtest_haha[col].apply( lambda x: hash(str(x)) % 1000000 )\n",
    "    cols = [col + '-hash' for col in cols]"
   ]
  },
  {
   "cell_type": "markdown",
   "metadata": {},
   "source": [
    "<font color=\"red\">**Question:**\n",
    "    Evaluate the performance of a random forest and/or an xgboost clasifier on these enlarged dataset.\n",
    "</font>"
   ]
  },
  {
   "cell_type": "code",
   "execution_count": 227,
   "metadata": {},
   "outputs": [
    {
     "name": "stdout",
     "output_type": "stream",
     "text": [
      "CPU times: user 47min 13s, sys: 4min 10s, total: 51min 23s\n",
      "Wall time: 7min 30s\n"
     ]
    },
    {
     "data": {
      "text/plain": [
       "XGBClassifier(base_score=0.5, booster='gbtree', colsample_bylevel=1,\n",
       "       colsample_bytree=1, gamma=0, learning_rate=0.9, max_delta_step=0,\n",
       "       max_depth=3, min_child_weight=1, missing=None, n_estimators=1024,\n",
       "       n_jobs=-1, nthread=None, objective='binary:logistic',\n",
       "       random_state=0, reg_alpha=0, reg_lambda=1, scale_pos_weight=1,\n",
       "       seed=None, silent=True, subsample=1)"
      ]
     },
     "execution_count": 227,
     "metadata": {},
     "output_type": "execute_result"
    }
   ],
   "source": [
    "xgb = XGBClassifier( learning_rate=0.9,n_estimators=1024,n_jobs=-1 )\n",
    "%time xgb.fit( Xtrain_haha,ytrain )\n",
    " # the '%time' command will return the execution time of the fitting step\n"
   ]
  },
  {
   "cell_type": "code",
   "execution_count": 228,
   "metadata": {},
   "outputs": [
    {
     "name": "stdout",
     "output_type": "stream",
     "text": [
      "0.83311\n"
     ]
    },
    {
     "data": {
      "text/plain": [
       "(0.40105923512631175, 0.7419869727865225)"
      ]
     },
     "execution_count": 228,
     "metadata": {},
     "output_type": "execute_result"
    },
    {
     "data": {
      "image/png": "[encoded data removed]",
      "text/plain": [
       "<Figure size 432x288 with 1 Axes>"
      ]
     },
     "metadata": {},
     "output_type": "display_data"
    }
   ],
   "source": [
    "soft = xgb.predict_proba(Xtest_haha)[:,1]\n",
    "hard = xgb.predict(Xtest_haha)\n",
    "# Plot the ROC curve here\n",
    "pfa, power,thre = roc_curve( ytest,soft )\n",
    "plt.plot(pfa,power)\n",
    "plt.grid()\n",
    "plt.plot([0, 1], [0, 1], 'r--')\n",
    "plt.xlabel('False Positive Rate', fontsize=16);\n",
    "plt.ylabel('True Positive Rate', fontsize=16);\n",
    "print(accuracy_score(hard,ytest))\n",
    "log_loss(ytest, soft), roc_auc_score(ytest, soft)"
   ]
  },
  {
   "cell_type": "code",
   "execution_count": 229,
   "metadata": {},
   "outputs": [
    {
     "data": {
      "text/plain": [
       "<matplotlib.lines.Line2D at 0x7fcafffedc88>"
      ]
     },
     "execution_count": 229,
     "metadata": {},
     "output_type": "execute_result"
    },
    {
     "data": {
      "image/png": "[encoded data removed]",
      "text/plain": [
       "<Figure size 432x288 with 1 Axes>"
      ]
     },
     "metadata": {},
     "output_type": "display_data"
    }
   ],
   "source": [
    "plotlift( ytest,soft )\n",
    "# The following line just plots a vertical line for you to answer the second part of the question\n",
    "plt.axvline(x= 0.2 , linestyle='--', color='r') # Fill here"
   ]
  },
  {
   "cell_type": "markdown",
   "metadata": {},
   "source": [
    "Good job! :-) "
   ]
  }
 ],
 "metadata": {
  "kernelspec": {
   "display_name": "Python 3",
   "language": "python",
   "name": "python3"
  },
  "language_info": {
   "codemirror_mode": {
    "name": "ipython",
    "version": 3
   },
   "file_extension": ".py",
   "mimetype": "text/x-python",
   "name": "python",
   "nbconvert_exporter": "python",
   "pygments_lexer": "ipython3",
   "version": "3.6.4"
  }
 },
 "nbformat": 4,
 "nbformat_minor": 2
}
