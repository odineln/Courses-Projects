{
 "cells": [
  {
   "cell_type": "markdown",
   "metadata": {
    "colab_type": "text",
    "id": "iafPdtuncbq7"
   },
   "source": [
    "<h1><center>Practice of Large Scale Machine Learning<center></h1>\n",
    "  <h1><center>TP4.2 MNIST classification using a CNN<center></h1>\n",
    "<h2><center>ATHENS 2018<center></h2>\n",
    "  Email address for sending back the TPs: attilio.fiandrotti@telecom-paristech.fr"
   ]
  },
  {
   "cell_type": "markdown",
   "metadata": {
    "colab_type": "text",
    "id": "I4VrCB5La5rD"
   },
   "source": [
    "# Installing and importing Keras"
   ]
  },
  {
   "cell_type": "code",
   "execution_count": 0,
   "metadata": {
    "colab": {},
    "colab_type": "code",
    "id": "WMFnWz-UvCvq"
   },
   "outputs": [],
   "source": [
    "# This shell command will install the keras package into our VM (if not already installed)\n",
    "# Mind the \"!\" escape character at the beginning of the line\n",
    "!pip install -q keras"
   ]
  },
  {
   "cell_type": "code",
   "execution_count": 2,
   "metadata": {
    "colab": {
     "base_uri": "https://localhost:8080/",
     "height": 35
    },
    "colab_type": "code",
    "id": "OlKZ3Hnas7B4",
    "outputId": "362eb168-3c27-49f8-a7bb-95acf7a805ea"
   },
   "outputs": [
    {
     "name": "stderr",
     "output_type": "stream",
     "text": [
      "Using TensorFlow backend.\n"
     ]
    }
   ],
   "source": [
    "# Importing the Keras main module: different backends will have different data ordering:\n",
    "# theano backend: NCHW\n",
    "# tensorflow backend: NHWC \n",
    "import keras"
   ]
  },
  {
   "cell_type": "markdown",
   "metadata": {
    "colab_type": "text",
    "id": "s_QLz9_jbRZq"
   },
   "source": [
    "# Loading and preparing the MNIST dataset\n",
    "Load the MNIST dataset made available by keras.datasets\n",
    "Verify the amount of system memory available before and after loading the dataset."
   ]
  },
  {
   "cell_type": "code",
   "execution_count": 0,
   "metadata": {
    "cellView": "both",
    "colab": {},
    "colab_type": "code",
    "id": "gG83hGyVmijn"
   },
   "outputs": [],
   "source": [
    "#@title\n",
    "# The MNSIT dataset is ready to be imported from Keras into RAM\n",
    "# Warning: you cannot do that for larger databases (e.g., ImageNet)\n",
    "from keras.datasets import mnist\n",
    "# START CODE HERE\n",
    "(x_train,y_train),(x_test,y_test)=mnist.load_data()\n",
    "# END CODE HERE"
   ]
  },
  {
   "cell_type": "markdown",
   "metadata": {
    "colab_type": "text",
    "id": "zF6aLKWsDJlN"
   },
   "source": [
    "Using the pyplot package, visualize the fist sample of the trainig set"
   ]
  },
  {
   "cell_type": "code",
   "execution_count": 4,
   "metadata": {
    "colab": {
     "base_uri": "https://localhost:8080/",
     "height": 273
    },
    "colab_type": "code",
    "id": "x5VAu7oW0Zu4",
    "outputId": "dc83fd17-3018-4ac9-ddd2-7562ce515fba"
   },
   "outputs": [
    {
     "data": {
      "text/plain": [
       "Text(0.5,1,'Class 5')"
      ]
     },
     "execution_count": 4,
     "metadata": {
      "tags": []
     },
     "output_type": "execute_result"
    },
    {
     "data": {
      "image/png": "[encoded data removed]",
      "text/plain": [
       "<matplotlib.figure.Figure at 0x7f2870058550>"
      ]
     },
     "metadata": {
      "tags": []
     },
     "output_type": "display_data"
    }
   ],
   "source": [
    "# Let us visualize the first training sample using the Gnuplot library\n",
    "from matplotlib import pyplot as plt\n",
    "# START CODE HERE\n",
    "plt.figure(figsize=(12,12))\n",
    "\n",
    "plt.subplot(3,3,1)\n",
    "plt.imshow(x_train[0], cmap='gray', interpolation='none')\n",
    "plt.title(\"Class {}\".format(y_train[0]))\n",
    "# END CODE HERE"
   ]
  },
  {
   "cell_type": "markdown",
   "metadata": {
    "colab_type": "text",
    "id": "tqtZCOxcDS0U"
   },
   "source": [
    "Turn train and test labels to one-hot encoding"
   ]
  },
  {
   "cell_type": "code",
   "execution_count": 0,
   "metadata": {
    "colab": {},
    "colab_type": "code",
    "id": "lQbkllF8mnaf"
   },
   "outputs": [],
   "source": [
    "# Do you remember about one-hot encoding ?\n",
    "from keras.utils.np_utils import to_categorical\n",
    "# START CODE HERE\n",
    "y_trainoh=to_categorical(y_train,10)\n",
    "y_testoh= to_categorical(y_test,10)\n",
    "# END CODE HERE\n",
    "\n"
   ]
  },
  {
   "cell_type": "markdown",
   "metadata": {
    "colab_type": "text",
    "id": "sTSbzJ8zDi0b"
   },
   "source": [
    "Reshape the train and test images to the correct 4-dimensional NHWC format using the reshape() method.\n",
    "Then, normalize the images so that they have zero mean and standard deviation equal to 1 (also approximate solutions are acceptable)"
   ]
  },
  {
   "cell_type": "code",
   "execution_count": 0,
   "metadata": {
    "colab": {},
    "colab_type": "code",
    "id": "ptTRSDo5nJyZ"
   },
   "outputs": [],
   "source": [
    "# Reshape to proper images with 1 color channel according to backend scheme\n",
    "img_rows, img_cols = 28, 28\n",
    "# START CODE HERE\n",
    "x_trl=x_train.shape[0]\n",
    "x_tsl=x_test.shape[0]\n",
    "\n",
    "x_train=x_train.reshape(x_trl,img_rows,img_cols,1)\n",
    "x_test =x_test.reshape(x_tsl,img_rows,img_cols,1)\n",
    "# END CODE HERE\n",
    "\n",
    "# Now let us normalize the image in the [0-1] range\n",
    "x_train=x_train.astype('float32')\n",
    "x_test= x_test.astype('float32')\n",
    "\n",
    "x_train/=255\n",
    "x_test/=255"
   ]
  },
  {
   "cell_type": "code",
   "execution_count": 7,
   "metadata": {
    "colab": {
     "base_uri": "https://localhost:8080/",
     "height": 35
    },
    "colab_type": "code",
    "id": "9gO1lrzRD-49",
    "outputId": "7498e63b-c68b-4ef8-d9da-d1d50a5a3758"
   },
   "outputs": [
    {
     "data": {
      "text/plain": [
       "0.13066062"
      ]
     },
     "execution_count": 7,
     "metadata": {
      "tags": []
     },
     "output_type": "execute_result"
    }
   ],
   "source": [
    "x_train.mean()"
   ]
  },
  {
   "cell_type": "markdown",
   "metadata": {
    "colab_type": "text",
    "id": "uwm1OFOtc4uU"
   },
   "source": [
    "# Defining the neural network architecture (i.e., the network model)\n",
    "Create a LeNet5-like convolutional neural network taking in input the images as matrices of pixels and suitable to classify each image across 10 different classes.\n",
    "Then, instantiate a SGD optimizer with a tentative LR of 10^-3 and using the appropriate loss function and compile the model.\n",
    "Calculate the coputational complexity of the convolutional layer(s) and of the first fully connected layer and compare it with that of the previous exercise."
   ]
  },
  {
   "cell_type": "code",
   "execution_count": 8,
   "metadata": {
    "colab": {
     "base_uri": "https://localhost:8080/",
     "height": 503
    },
    "colab_type": "code",
    "id": "Pnd3q1V3nk8v",
    "outputId": "e0c264ba-17c0-4a70-b79d-1964da4670e0"
   },
   "outputs": [
    {
     "name": "stdout",
     "output_type": "stream",
     "text": [
      "_________________________________________________________________\n",
      "Layer (type)                 Output Shape              Param #   \n",
      "=================================================================\n",
      "conv2d_1 (Conv2D)            (None, 24, 24, 6)         156       \n",
      "_________________________________________________________________\n",
      "activation_1 (Activation)    (None, 24, 24, 6)         0         \n",
      "_________________________________________________________________\n",
      "max_pooling2d_1 (MaxPooling2 (None, 12, 12, 6)         0         \n",
      "_________________________________________________________________\n",
      "conv2d_2 (Conv2D)            (None, 8, 8, 16)          2416      \n",
      "_________________________________________________________________\n",
      "activation_2 (Activation)    (None, 8, 8, 16)          0         \n",
      "_________________________________________________________________\n",
      "max_pooling2d_2 (MaxPooling2 (None, 4, 4, 16)          0         \n",
      "_________________________________________________________________\n",
      "flatten_1 (Flatten)          (None, 256)               0         \n",
      "_________________________________________________________________\n",
      "dense_1 (Dense)              (None, 300)               77100     \n",
      "_________________________________________________________________\n",
      "dense_2 (Dense)              (None, 100)               30100     \n",
      "_________________________________________________________________\n",
      "dense_3 (Dense)              (None, 10)                1010      \n",
      "=================================================================\n",
      "Total params: 110,782\n",
      "Trainable params: 110,782\n",
      "Non-trainable params: 0\n",
      "_________________________________________________________________\n"
     ]
    }
   ],
   "source": [
    "# The Sequential module is sort of a container for more complex NN elements and\n",
    "# defines a loop-less NN architecture\n",
    "from keras.models import Sequential\n",
    "from keras.layers import Dense, Activation, Flatten\n",
    "from keras.layers import Convolution2D as Conv2D, MaxPooling2D\n",
    "\n",
    "# The optimizers module provides a number of optimization algorithms for updating\n",
    "# a netwok parameters accoridng to teh computed error gradints\n",
    "from keras import optimizers\n",
    "\n",
    "input_shape = (img_rows, img_cols, 1)\n",
    "\n",
    "# size of pooling area for max pooling\n",
    "pool_size = (2, 2)\n",
    "# convolution kernel size\n",
    "kernel_size = (5, 5)\n",
    "# Number of filters in first convolutional layer\n",
    "num_kernel_first_conv_layer = 6\n",
    "# Number of filters in second convolutional layer\n",
    "num_kernel_second_conv_layer = 16\n",
    "\n",
    "nb_classes = 10\n",
    "\n",
    "# START CODE HERE\n",
    "keras.backend.clear_session()\n",
    "model = Sequential()\n",
    "model.add(Conv2D(6,kernel_size,input_shape=input_shape))\n",
    "model.add(Activation('relu'))\n",
    "model.add(MaxPooling2D(pool_size=pool_size))\n",
    "\n",
    "model.add(Conv2D(16,kernel_size))\n",
    "model.add(Activation('relu'))\n",
    "model.add(MaxPooling2D(pool_size=pool_size))\n",
    "\n",
    "model.add(Flatten())\n",
    "model.add(Dense(300,activation='relu'))\n",
    "model.add(Dense(100,activation='relu'))\n",
    "model.add(Dense(10,activation='softmax'))\n",
    "\n",
    "# END CODE HERE\n",
    "\n",
    "# Defining our SGD optimizer\n",
    "\n",
    "# START CODE HERE\n",
    "\n",
    "sgd=optimizers.SGD(lr=1e-3)\n",
    "model.compile(loss='categorical_crossentropy',optimizer=sgd,metrics=['accuracy'])\n",
    "# END CODE HERE\n",
    "\n",
    "# Let us have a look at the model topology\n",
    "model.summary()\n",
    "\n"
   ]
  },
  {
   "cell_type": "markdown",
   "metadata": {
    "colab_type": "text",
    "id": "_AWUAW4idF3D"
   },
   "source": [
    "# Training the network\n",
    "Train the model for 10 epochs and over 10k training samples initially only using the fit() method, validating the model at each epoch and keeping track of the training history"
   ]
  },
  {
   "cell_type": "code",
   "execution_count": 9,
   "metadata": {
    "colab": {
     "base_uri": "https://localhost:8080/",
     "height": 395
    },
    "colab_type": "code",
    "id": "gTHrbb7uFYWz",
    "outputId": "380946df-6836-4708-88f7-984b4f4f3765"
   },
   "outputs": [
    {
     "name": "stdout",
     "output_type": "stream",
     "text": [
      "Train on 60000 samples, validate on 10000 samples\n",
      "Epoch 1/10\n",
      "60000/60000 [==============================] - 7s 114us/step - loss: 2.2892 - acc: 0.1319 - val_loss: 2.2536 - val_acc: 0.2441\n",
      "Epoch 2/10\n",
      "60000/60000 [==============================] - 5s 82us/step - loss: 2.1887 - acc: 0.4351 - val_loss: 2.0778 - val_acc: 0.5799\n",
      "Epoch 3/10\n",
      "60000/60000 [==============================] - 5s 83us/step - loss: 1.7832 - acc: 0.6416 - val_loss: 1.3207 - val_acc: 0.7287\n",
      "Epoch 4/10\n",
      "60000/60000 [==============================] - 5s 83us/step - loss: 0.9406 - acc: 0.7870 - val_loss: 0.6503 - val_acc: 0.8327\n",
      "Epoch 5/10\n",
      "60000/60000 [==============================] - 5s 84us/step - loss: 0.5676 - acc: 0.8487 - val_loss: 0.4754 - val_acc: 0.8672\n",
      "Epoch 6/10\n",
      "60000/60000 [==============================] - 5s 84us/step - loss: 0.4522 - acc: 0.8723 - val_loss: 0.4007 - val_acc: 0.8831\n",
      "Epoch 7/10\n",
      "60000/60000 [==============================] - 5s 86us/step - loss: 0.3950 - acc: 0.8852 - val_loss: 0.3589 - val_acc: 0.8918\n",
      "Epoch 8/10\n",
      "60000/60000 [==============================] - 5s 84us/step - loss: 0.3576 - acc: 0.8952 - val_loss: 0.3316 - val_acc: 0.8991\n",
      "Epoch 9/10\n",
      "60000/60000 [==============================] - 5s 84us/step - loss: 0.3298 - acc: 0.9029 - val_loss: 0.3044 - val_acc: 0.9067\n",
      "Epoch 10/10\n",
      "60000/60000 [==============================] - 5s 84us/step - loss: 0.3072 - acc: 0.9085 - val_loss: 0.2863 - val_acc: 0.9122\n"
     ]
    }
   ],
   "source": [
    "# This is where the actual training-testing happens\n",
    "# Dimension of the batch size (number of images over which error gradients are averaged)\n",
    "batch_size = 100\n",
    "# Number of epochs we want to train\n",
    "epochs = 10\n",
    "# START CODE HERE\n",
    "history=model.fit(x_train,y_trainoh,epochs=10,batch_size=batch_size,verbose=1,validation_data=(x_test,y_testoh))\n",
    "# END CODE HERE"
   ]
  },
  {
   "cell_type": "markdown",
   "metadata": {
    "colab_type": "text",
    "id": "ODUc5Bq_dMEq"
   },
   "source": [
    "# Visualizing the network performance\n",
    "Visualize the training history using the pyplot package: plot in one graph the train and vaidation loss functions, in another graph the train and validation accuracy"
   ]
  },
  {
   "cell_type": "code",
   "execution_count": 12,
   "metadata": {
    "colab": {
     "base_uri": "https://localhost:8080/",
     "height": 725
    },
    "colab_type": "code",
    "id": "QdJrRbyariEw",
    "outputId": "e18596fc-74fb-4689-9ba3-b75deb78d3b9"
   },
   "outputs": [
    {
     "name": "stdout",
     "output_type": "stream",
     "text": [
      "dict_keys(['val_loss', 'val_acc', 'loss', 'acc'])\n"
     ]
    },
    {
     "data": {
      "image/png": "[encoded data removed]",
      "text/plain": [
       "<matplotlib.figure.Figure at 0x7f28673868d0>"
      ]
     },
     "metadata": {
      "tags": []
     },
     "output_type": "display_data"
    },
    {
     "data": {
      "image/png": "[encoded data removed]",
      "text/plain": [
       "<matplotlib.figure.Figure at 0x7f2865a7f5c0>"
      ]
     },
     "metadata": {
      "tags": []
     },
     "output_type": "display_data"
    }
   ],
   "source": [
    "# We now want to plot the train and validation loss functions and accuracy curves\n",
    "\n",
    "# summarize history for loss\n",
    "print(history.history.keys())\n",
    "\n",
    "# summarize history for loss\n",
    "# START CODE HERE\n",
    "plt.plot(history.history['loss'])\n",
    "plt.plot(history.history['val_loss'])\n",
    "plt.title('model loss')\n",
    "plt.legend(['train','test'],loc='upper right')\n",
    "# END CODE HERE\n",
    "plt.show()\n",
    "\n",
    "# summarize history for accuracy\n",
    "# START CODE HERE\n",
    "plt.plot(history.history['acc'])\n",
    "plt.plot(history.history['val_acc'])\n",
    "plt.title('model accuracy')\n",
    "plt.legend(['train','test'],loc='lower right')\n",
    "# END CODE HERE\n",
    "plt.show()\n"
   ]
  },
  {
   "cell_type": "markdown",
   "metadata": {
    "colab_type": "text",
    "id": "Nr4TdWoEoDzi"
   },
   "source": [
    "# Experiments\n",
    "\n",
    "Note down the performance of the trained network in terms of training and validation accuracy as a reference. Then, experiment as follow and compare performance with the reference scenario.\n",
    "\n",
    "*   **Filter size**: experiment with square filters of different size and compare performance with reference scenario.\n",
    "*   **Number of filters**: experiment increasing the number of filters in the first and second layer and find the maximum number of filters the network can tolerate before overfitting to the training samples.\n",
    "* **Padding**: experiment withnarrow and wide convolutions: what changes in terms of featuremap size ?\n",
    "*  **Pooling layers**: expeirment with different pooling layers (maxpooling and avgpooling): which one yield the best performance ?\n",
    "What happens if the pooling layers are removed altogether in terms of comlexity-performance tradeoff ?\n",
    "* **Pooling-less architectures**: Modify the network architecture to obtain a twofold reduction of each featuremap without resorting to pooling layers (hint: take insipiration from the ResNet architecture).\n",
    "* **Confusion analysis**: Using the proper metric  from sklearn, check which character is most frequently confused with which: can you explain why ?\n",
    "\n",
    "\n",
    "\n"
   ]
  },
  {
   "cell_type": "code",
   "execution_count": 16,
   "metadata": {
    "colab": {
     "base_uri": "https://localhost:8080/",
     "height": 197
    },
    "colab_type": "code",
    "id": "r0C1J6R1Elfc",
    "outputId": "74426214-7a7a-4396-dac0-49af59e865dd"
   },
   "outputs": [
    {
     "name": "stdout",
     "output_type": "stream",
     "text": [
      "[[ 946    0    3    0    4    7   12    2    6    0]\n",
      " [   0 1108    4    5    1    2    2    1   12    0]\n",
      " [   4    0  966    9    5    3   13   13   16    3]\n",
      " [   3    2   26  906    0   29    2   15   19    8]\n",
      " [   1    2    2    1  858    0   36    2    7   73]\n",
      " [  11    6   12   42   11  756   22    4   26    2]\n",
      " [  13    3    6    1   15   16  898    1    5    0]\n",
      " [   4   12   41    4    4    2    1  908    8   44]\n",
      " [  10    2    8   17   11   20   16   11  869   10]\n",
      " [   6    6    4    8   37    7    3   19   12  907]]\n"
     ]
    }
   ],
   "source": [
    "# Example of a confusion matrix using sklearn.metrics\n",
    "from sklearn.metrics import confusion_matrix\n",
    "predictions = model.predict(x_test)\n",
    "# Mind that confusion_matrix requires\n",
    "# START CODE HERE\n",
    "cm=confusion_matrix(y_test,predictions.argmax(axis=1))\n",
    "# END CODE HERE\n",
    "print (cm)\n"
   ]
  },
  {
   "cell_type": "code",
   "execution_count": 36,
   "metadata": {
    "colab": {
     "base_uri": "https://localhost:8080/",
     "height": 89
    },
    "colab_type": "code",
    "id": "PuEN4F26JkAJ",
    "outputId": "545abdf0-a355-4657-efd7-5b470ff34e03"
   },
   "outputs": [
    {
     "name": "stdout",
     "output_type": "stream",
     "text": [
      "The accuracy of the numbers is: \n",
      " [0.96530612 0.97621145 0.93604651 0.8970297  0.87372709 0.84753363\n",
      " 0.93736952 0.88326848 0.89219713 0.89890981]\n",
      "The most frequently confused character is 5\n"
     ]
    }
   ],
   "source": [
    "import numpy as np\n",
    "cur=np.zeros(10)\n",
    "for i in range(10):\n",
    "  cur[i]=max(cm[i,:])/sum(cm[i,:])\n",
    "print(\"The accuracy of the numbers is: \\n\",cur)\n",
    "print(\"The most frequently confused character is\",cur.argmin())\n"
   ]
  }
 ],
 "metadata": {
  "accelerator": "GPU",
  "colab": {
   "collapsed_sections": [
    "I4VrCB5La5rD"
   ],
   "name": "TP4_2_empty.ipynb",
   "provenance": [],
   "version": "0.3.2"
  },
  "kernelspec": {
   "display_name": "Python 3",
   "language": "python",
   "name": "python3"
  },
  "language_info": {
   "codemirror_mode": {
    "name": "ipython",
    "version": 3
   },
   "file_extension": ".py",
   "mimetype": "text/x-python",
   "name": "python",
   "nbconvert_exporter": "python",
   "pygments_lexer": "ipython3",
   "version": "3.6.4"
  }
 },
 "nbformat": 4,
 "nbformat_minor": 1
}
