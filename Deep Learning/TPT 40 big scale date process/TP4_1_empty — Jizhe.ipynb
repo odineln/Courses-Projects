{
 "cells": [
  {
   "cell_type": "markdown",
   "metadata": {
    "colab_type": "text",
    "id": "iafPdtuncbq7"
   },
   "source": [
    "<h1><center>Practice of Large Scale Machine Learning<center></h1>\n",
    "<h1><center>TP4.1 MNIST classification using a FCN<center></h1>\n",
    "<h2><center>ATHENS 2018<center></h2>\n",
    "Email address for sending back the TPs: attilio.fiandrotti@telecom-paristech.fr"
   ]
  },
  {
   "cell_type": "code",
   "execution_count": 2,
   "metadata": {
    "colab": {
     "base_uri": "https://localhost:8080/",
     "height": 503
    },
    "colab_type": "code",
    "id": "EU_f0fFl1cdK",
    "outputId": "92517b70-8863-4720-8f4d-ef123ca55868"
   },
   "outputs": [
    {
     "name": "stdout",
     "output_type": "stream",
     "text": [
      "Fri Nov 23 09:16:16 2018       \n",
      "+-----------------------------------------------------------------------------+\n",
      "| NVIDIA-SMI 396.44                 Driver Version: 396.44                    |\n",
      "|-------------------------------+----------------------+----------------------+\n",
      "| GPU  Name        Persistence-M| Bus-Id        Disp.A | Volatile Uncorr. ECC |\n",
      "| Fan  Temp  Perf  Pwr:Usage/Cap|         Memory-Usage | GPU-Util  Compute M. |\n",
      "|===============================+======================+======================|\n",
      "|   0  Tesla K80           Off  | 00000000:00:04.0 Off |                    0 |\n",
      "| N/A   35C    P8    30W / 149W |      0MiB / 11441MiB |      0%      Default |\n",
      "+-------------------------------+----------------------+----------------------+\n",
      "                                                                               \n",
      "+-----------------------------------------------------------------------------+\n",
      "| Processes:                                                       GPU Memory |\n",
      "|  GPU       PID   Type   Process name                             Usage      |\n",
      "|=============================================================================|\n",
      "|  No running processes found                                                 |\n",
      "+-----------------------------------------------------------------------------+\n",
      "No LSB modules are available.\n",
      "Distributor ID:\tUbuntu\n",
      "Description:\tUbuntu 18.04.1 LTS\n",
      "Release:\t18.04\n",
      "Codename:\tbionic\n",
      "Linux ddc7b0fe26b3 4.14.65+ #1 SMP Sun Sep 9 02:18:33 PDT 2018 x86_64 x86_64 x86_64 GNU/Linux\n",
      "              total        used        free      shared  buff/cache   available\n",
      "Mem:            12G        413M         10G        840K        1.9G         12G\n",
      "Swap:            0B          0B          0B\n",
      "Python 3.6.7\n"
     ]
    }
   ],
   "source": [
    "# As a first step, we may want to switch to a GPU-acceperated VM\n",
    "# In the menu: Runtime->Change runtime type->Hardware Accelerator->GPU.\n",
    "#\n",
    "# This will thest if we have a GPU-equipped VM and return some useful system-level information\n",
    "!nvidia-smi\n",
    "\n",
    "# Which GNU/Linux distribution is installed on our VM ?\n",
    "!lsb_release -a\n",
    "\n",
    "# Which version of the Linux kernel our VM has ?\n",
    "!uname -a\n",
    "\n",
    "# How much free memory our VM has ?\n",
    "!free -h\n",
    "\n",
    "# Which storage facilities our VM has ?\n",
    "#mount\n",
    "\n",
    "# Which python version our VM has installed ?\n",
    "!python --version"
   ]
  },
  {
   "cell_type": "markdown",
   "metadata": {
    "colab_type": "text",
    "id": "I4VrCB5La5rD"
   },
   "source": [
    "# Installing and importing Keras"
   ]
  },
  {
   "cell_type": "code",
   "execution_count": 0,
   "metadata": {
    "colab": {},
    "colab_type": "code",
    "id": "WMFnWz-UvCvq"
   },
   "outputs": [],
   "source": [
    "# This shell command will install the keras package into our VM (if not already installed)\n",
    "# Mind the \"!\" escape character at the beginning of the line\n",
    "!pip install -q keras"
   ]
  },
  {
   "cell_type": "code",
   "execution_count": 3,
   "metadata": {
    "colab": {
     "base_uri": "https://localhost:8080/",
     "height": 35
    },
    "colab_type": "code",
    "id": "OlKZ3Hnas7B4",
    "outputId": "c78c9138-87cb-4378-9be2-9e4faa61929f"
   },
   "outputs": [
    {
     "name": "stderr",
     "output_type": "stream",
     "text": [
      "Using TensorFlow backend.\n"
     ]
    }
   ],
   "source": [
    "# Importing the Keras main module: different backends will have different data ordering:\n",
    "# theano backend: NCHW\n",
    "# tensorflow backend: NHWC \n",
    "import keras"
   ]
  },
  {
   "cell_type": "markdown",
   "metadata": {
    "colab_type": "text",
    "id": "s_QLz9_jbRZq"
   },
   "source": [
    "# Loading and preparing the MNIST dataset\n",
    "Load the MNIST dataset made available by keras.datasets\n",
    "Verify the amount of system memory available before and after loading the dataset."
   ]
  },
  {
   "cell_type": "code",
   "execution_count": 4,
   "metadata": {
    "cellView": "both",
    "colab": {
     "base_uri": "https://localhost:8080/",
     "height": 125
    },
    "colab_type": "code",
    "id": "gG83hGyVmijn",
    "outputId": "b86012e2-05cc-42ec-de52-d5d427441d6c"
   },
   "outputs": [
    {
     "name": "stdout",
     "output_type": "stream",
     "text": [
      "              total        used        free      shared  buff/cache   available\n",
      "Mem:            12G        476M         10G        844K        1.9G         12G\n",
      "Swap:            0B          0B          0B\n",
      "              total        used        free      shared  buff/cache   available\n",
      "Mem:            12G        530M         10G        844K        1.9G         11G\n",
      "Swap:            0B          0B          0B\n"
     ]
    }
   ],
   "source": [
    "#@title\n",
    "# The MNSIT dataset is ready to be imported from Keras into RAM\n",
    "# Warning: you cannot do that for larger databases (e.g., ImageNet)\n",
    "from keras.datasets import mnist\n",
    "# START CODE HERE\n",
    "!free -h\n",
    "(x_train,y_train),(x_test,y_test)=mnist.load_data()\n",
    "!free -h\n",
    "# END CODE HERE\n"
   ]
  },
  {
   "cell_type": "markdown",
   "metadata": {
    "colab_type": "text",
    "id": "gRPbU_Z4U6Ac"
   },
   "source": [
    "Using the pyplot package, visualize the fist sample of the trainig set"
   ]
  },
  {
   "cell_type": "code",
   "execution_count": 5,
   "metadata": {
    "colab": {
     "base_uri": "https://localhost:8080/",
     "height": 273
    },
    "colab_type": "code",
    "id": "x5VAu7oW0Zu4",
    "outputId": "78e72350-f357-4ce4-ea8e-000ac8d9b8a8"
   },
   "outputs": [
    {
     "data": {
      "text/plain": [
       "Text(0.5,1,'Class 5')"
      ]
     },
     "execution_count": 5,
     "metadata": {
      "tags": []
     },
     "output_type": "execute_result"
    },
    {
     "data": {
      "image/png": "[encoded data removed]",
      "text/plain": [
       "<matplotlib.figure.Figure at 0x7f6f77606940>"
      ]
     },
     "metadata": {
      "tags": []
     },
     "output_type": "display_data"
    }
   ],
   "source": [
    "# Let us visualize the first training sample using the Gnuplot library\n",
    "from matplotlib import pyplot as plt\n",
    "# START CODE HERE\n",
    "plt.figure(figsize=(12,12))\n",
    "\n",
    "plt.subplot(3,3,1)\n",
    "plt.imshow(x_train[0], cmap='gray', interpolation='none')\n",
    "plt.title(\"Class {}\".format(y_train[0]))\n",
    "# END CODE HERE"
   ]
  },
  {
   "cell_type": "markdown",
   "metadata": {
    "colab_type": "text",
    "id": "s7YsRekMVDg-"
   },
   "source": [
    "Turn train and test labels to one-hot encoding"
   ]
  },
  {
   "cell_type": "code",
   "execution_count": 0,
   "metadata": {
    "colab": {},
    "colab_type": "code",
    "id": "lQbkllF8mnaf"
   },
   "outputs": [],
   "source": [
    "from keras.utils.np_utils import to_categorical\n",
    "# START CODE HERE\n",
    "y_trainoh=to_categorical(y_train,10)\n",
    "y_testoh= to_categorical(y_test,10)\n",
    "# END CODE HERE"
   ]
  },
  {
   "cell_type": "markdown",
   "metadata": {
    "colab_type": "text",
    "id": "0jv29YLtVO3q"
   },
   "source": [
    "Reshape train and test images so that they follow the Tensoflow NWHC ordering.\n",
    "Then, normalize the images so that they have zero-mean (approximate solutions are ok)"
   ]
  },
  {
   "cell_type": "code",
   "execution_count": 0,
   "metadata": {
    "colab": {},
    "colab_type": "code",
    "id": "FhCyyxXYl6k2"
   },
   "outputs": [],
   "source": [
    "x_trl=x_train.shape[0]\n",
    "x_tsl=x_test.shape[0]"
   ]
  },
  {
   "cell_type": "code",
   "execution_count": 0,
   "metadata": {
    "colab": {},
    "colab_type": "code",
    "id": "ptTRSDo5nJyZ"
   },
   "outputs": [],
   "source": [
    "# Reshape to proper images with 1 color channel according to backend scheme\n",
    "img_rows, img_cols = 28, 28\n",
    "#train_images = train_images.reshape(...)\n",
    "# START CODE HERE\n",
    "x_train=x_train.reshape(x_trl,img_rows,img_cols,1)\n",
    "x_test =x_test.reshape(x_tsl,img_rows,img_cols,1)\n",
    "# END CODE HERE\n",
    "\n",
    "# Now let us normalize the image in the [0-1] range paying attention to use floats rather than uint8\n",
    "#train_images = train_images.astype('float32')\n",
    "# START CODE HERE\n",
    "x_train=x_train.astype('float32')\n",
    "x_test= x_test.astype('float32')\n",
    "\n",
    "x_train/=255\n",
    "x_test/=255\n",
    "\n",
    "# END CODE HERE"
   ]
  },
  {
   "cell_type": "markdown",
   "metadata": {
    "colab_type": "text",
    "id": "uwm1OFOtc4uU"
   },
   "source": [
    "# Defining the neural network architecture (i.e., the network model)"
   ]
  },
  {
   "cell_type": "code",
   "execution_count": 0,
   "metadata": {
    "colab": {},
    "colab_type": "code",
    "id": "FRh1r3pyGiQk"
   },
   "outputs": [],
   "source": [
    "x_train_l=x_train.reshape(x_trl,img_rows*img_cols)\n",
    "x_test_l =x_test.reshape(x_tsl,img_rows*img_cols)"
   ]
  },
  {
   "cell_type": "markdown",
   "metadata": {
    "colab_type": "text",
    "id": "lnKYaP-KVoOs"
   },
   "source": [
    "Create a LeNet300-like FC network taking in input the images as vectors of pixels and suitable to classify each image across 10 different classes."
   ]
  },
  {
   "cell_type": "code",
   "execution_count": 10,
   "metadata": {
    "colab": {
     "base_uri": "https://localhost:8080/",
     "height": 287
    },
    "colab_type": "code",
    "id": "Pnd3q1V3nk8v",
    "outputId": "c69d4eea-26a5-42a8-88a0-a0156de88d9a"
   },
   "outputs": [
    {
     "name": "stdout",
     "output_type": "stream",
     "text": [
      "_________________________________________________________________\n",
      "Layer (type)                 Output Shape              Param #   \n",
      "=================================================================\n",
      "flatten_1 (Flatten)          (None, 784)               0         \n",
      "_________________________________________________________________\n",
      "dense_1 (Dense)              (None, 300)               235500    \n",
      "_________________________________________________________________\n",
      "dense_2 (Dense)              (None, 100)               30100     \n",
      "_________________________________________________________________\n",
      "dense_3 (Dense)              (None, 10)                1010      \n",
      "=================================================================\n",
      "Total params: 266,610\n",
      "Trainable params: 266,610\n",
      "Non-trainable params: 0\n",
      "_________________________________________________________________\n"
     ]
    }
   ],
   "source": [
    "# The Sequential module is a container for more complex NN elements and\n",
    "# defines a loop-less NN architecture\n",
    "from keras.models import Sequential\n",
    "from keras.layers import Dense, Activation, Flatten\n",
    "# START CODE HERE\n",
    "keras.backend.clear_session()\n",
    "model = Sequential()\n",
    "model.add(Flatten(input_shape=(28,28,1)))\n",
    "model.add(Dense(300,activation='relu'))\n",
    "model.add(Dense(100,activation='relu'))\n",
    "model.add(Dense(10,activation='softmax'))\n",
    "# END CODE HERE\n",
    "# Let us have a look at the model topology\n",
    "model.summary()"
   ]
  },
  {
   "cell_type": "markdown",
   "metadata": {
    "colab_type": "text",
    "id": "7g2PNEiwWBLw"
   },
   "source": [
    "Instantiate a SGD optimizer with a tentative LR of 10^-3 and using the appropriate loss function and compile the model"
   ]
  },
  {
   "cell_type": "code",
   "execution_count": 0,
   "metadata": {
    "colab": {},
    "colab_type": "code",
    "id": "SijGZGKjV9J2"
   },
   "outputs": [],
   "source": [
    "# The optimizers module provides a number of optimization algorithms for updating\n",
    "# a netwok parameters accoridng to teh computed error gradints\n",
    "from keras import optimizers\n",
    "\n",
    "# START CODE HERE\n",
    "sgd=optimizers.SGD(lr=1e-3)\n",
    "model.compile(loss='categorical_crossentropy',optimizer=sgd,metrics=['accuracy'])\n",
    "# END CODE HERE"
   ]
  },
  {
   "cell_type": "markdown",
   "metadata": {
    "colab_type": "text",
    "id": "_AWUAW4idF3D"
   },
   "source": [
    "# Training the network"
   ]
  },
  {
   "cell_type": "markdown",
   "metadata": {
    "colab_type": "text",
    "id": "u-WqMtSAWTRp"
   },
   "source": [
    "Train the model for 10 epochs and over 10k training samples initially only using the fit() method, validating the model at each epoch and keeping track of the training history"
   ]
  },
  {
   "cell_type": "code",
   "execution_count": 15,
   "metadata": {
    "colab": {
     "base_uri": "https://localhost:8080/",
     "height": 395
    },
    "colab_type": "code",
    "id": "gTHrbb7uFYWz",
    "outputId": "f74271a1-f7d6-455d-83cc-41641ad4b4d2"
   },
   "outputs": [
    {
     "name": "stdout",
     "output_type": "stream",
     "text": [
      "Train on 60000 samples, validate on 10000 samples\n",
      "Epoch 1/10\n",
      "60000/60000 [==============================] - 11s 179us/step - loss: 1.7535 - acc: 0.5194 - val_loss: 1.1954 - val_acc: 0.7590\n",
      "Epoch 2/10\n",
      "60000/60000 [==============================] - 11s 182us/step - loss: 0.9152 - acc: 0.8055 - val_loss: 0.6806 - val_acc: 0.8497\n",
      "Epoch 3/10\n",
      "60000/60000 [==============================] - 12s 193us/step - loss: 0.6108 - acc: 0.8545 - val_loss: 0.5117 - val_acc: 0.8785\n",
      "Epoch 4/10\n",
      "60000/60000 [==============================] - 11s 183us/step - loss: 0.4926 - acc: 0.8744 - val_loss: 0.4347 - val_acc: 0.8891\n",
      "Epoch 5/10\n",
      "60000/60000 [==============================] - 11s 181us/step - loss: 0.4310 - acc: 0.8854 - val_loss: 0.3889 - val_acc: 0.8963\n",
      "Epoch 6/10\n",
      "60000/60000 [==============================] - 11s 183us/step - loss: 0.3927 - acc: 0.8934 - val_loss: 0.3597 - val_acc: 0.9011\n",
      "Epoch 7/10\n",
      "60000/60000 [==============================] - 11s 184us/step - loss: 0.3664 - acc: 0.8988 - val_loss: 0.3393 - val_acc: 0.9078\n",
      "Epoch 8/10\n",
      "60000/60000 [==============================] - 11s 181us/step - loss: 0.3465 - acc: 0.9034 - val_loss: 0.3224 - val_acc: 0.9096\n",
      "Epoch 9/10\n",
      "60000/60000 [==============================] - 11s 190us/step - loss: 0.3307 - acc: 0.9070 - val_loss: 0.3098 - val_acc: 0.9137\n",
      "Epoch 10/10\n",
      "60000/60000 [==============================] - 11s 191us/step - loss: 0.3176 - acc: 0.9098 - val_loss: 0.2992 - val_acc: 0.9168\n"
     ]
    }
   ],
   "source": [
    "# This is where the actual training-testing happens\n",
    "# Number of epochs we want to train\n",
    "epochs = 10\n",
    "# We restrict the training to 10k images to start with\n",
    "n_train_samples = 10000\n",
    "# START CODE HERE\n",
    "history=model.fit(x_train,y_trainoh,epochs=10,batch_size=32,verbose=1,validation_data=(x_test,y_testoh))\n",
    "# END CODE HERE"
   ]
  },
  {
   "cell_type": "markdown",
   "metadata": {
    "colab_type": "text",
    "id": "ODUc5Bq_dMEq"
   },
   "source": [
    "# Visualizing the network performance\n",
    "Visualize the training history using the pyplot package: plot in one graph the train and vaidation loss functions, in another graph the train and validation accuracy"
   ]
  },
  {
   "cell_type": "code",
   "execution_count": 25,
   "metadata": {
    "colab": {
     "base_uri": "https://localhost:8080/",
     "height": 725
    },
    "colab_type": "code",
    "id": "QdJrRbyariEw",
    "outputId": "ac5889ff-0e0c-4eb5-b71c-a1df8b78508c"
   },
   "outputs": [
    {
     "name": "stdout",
     "output_type": "stream",
     "text": [
      "dict_keys(['val_loss', 'val_acc', 'loss', 'acc'])\n"
     ]
    },
    {
     "data": {
      "image/png": "[encoded data removed]",
      "text/plain": [
       "<matplotlib.figure.Figure at 0x7f6f5dad0518>"
      ]
     },
     "metadata": {
      "tags": []
     },
     "output_type": "display_data"
    },
    {
     "data": {
      "image/png": "[encoded data removed]",
      "text/plain": [
       "<matplotlib.figure.Figure at 0x7f6f5da3dfd0>"
      ]
     },
     "metadata": {
      "tags": []
     },
     "output_type": "display_data"
    }
   ],
   "source": [
    "# We now want to plot the train and validation loss functions and accuracy curves\n",
    "\n",
    "print(history.history.keys())\n",
    "\n",
    "# summarize history for loss\n",
    "# START CODE HERE\n",
    "plt.plot(history.history['loss'])\n",
    "plt.plot(history.history['val_loss'])\n",
    "plt.title('model loss')\n",
    "plt.legend(['train','test'],loc='upper right')\n",
    "# END CODE HERE\n",
    "plt.show()\n",
    "\n",
    "# summarize history for accuracy\n",
    "# START CODE HERE\n",
    "plt.plot(history.history['acc'])\n",
    "plt.plot(history.history['val_acc'])\n",
    "plt.title('model accuracy')\n",
    "plt.legend(['train','test'],loc='lower right')\n",
    "# END CODE HERE\n",
    "plt.show()\n"
   ]
  },
  {
   "cell_type": "markdown",
   "metadata": {
    "colab_type": "text",
    "id": "Nr4TdWoEoDzi"
   },
   "source": [
    "# Experiments\n",
    "\n",
    "Note down the performance of the trained network in terms of training and validation accuracy as a reference.\n",
    "Then,  experiment as follow and compare performance with the reference scenario:\n",
    "\n",
    "*  What is teh coputational complexity of the first fully connected layer ?\n",
    "*  How to decide when to stop a training session ?\n",
    "*  Experiment gradually increasing the number of training samples from 10'000 to 50'000 and compare performance with reference. Also, observe how training and validation curves change.\n",
    "*  Experiment gradually increasing the learning rate starting from 10^-4 and find the maximum value the network can tolerate without diverging.\n",
    "*   Experiment replacing the sigmoid activations with Relus and note what happens.\n",
    "*   Experiment changing the batch size (inlcuding purely stochastic case) and compare performance with reference.\n",
    "*   Experiment shuffling the samples at each batch and compare performance with reference.\n",
    "\n",
    "\n",
    "\n",
    "\n"
   ]
  }
 ],
 "metadata": {
  "accelerator": "GPU",
  "colab": {
   "collapsed_sections": [],
   "name": "TP4_1_empty.ipynb",
   "provenance": [],
   "version": "0.3.2"
  },
  "kernelspec": {
   "display_name": "Python 3",
   "language": "python",
   "name": "python3"
  },
  "language_info": {
   "codemirror_mode": {
    "name": "ipython",
    "version": 3
   },
   "file_extension": ".py",
   "mimetype": "text/x-python",
   "name": "python",
   "nbconvert_exporter": "python",
   "pygments_lexer": "ipython3",
   "version": "3.6.4"
  }
 },
 "nbformat": 4,
 "nbformat_minor": 1
}
