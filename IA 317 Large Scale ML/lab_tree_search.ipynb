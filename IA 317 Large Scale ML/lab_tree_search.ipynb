{
 "cells": [
  {
   "cell_type": "markdown",
   "metadata": {
    "colab_type": "text",
    "id": "Y2XtaJJ98QM2"
   },
   "source": [
    "# IA317: Large-scale machine learning\n",
    "# Tree search"
   ]
  },
  {
   "cell_type": "markdown",
   "metadata": {
    "colab_type": "text",
    "id": "8kPxiz668QM6"
   },
   "source": [
    "In this lab, you will learn to work with [kd-trees](https://en.wikipedia.org/wiki/K-d_tree), in particular to build the graph of nearest neighbors.<br>\n",
    "You will find below a function to build a kd-tree and to find the nearest neighbor of some target using this data structure."
   ]
  },
  {
   "cell_type": "markdown",
   "metadata": {
    "colab_type": "text",
    "id": "pgyhNoBY8QM7"
   },
   "source": [
    "## Instructions"
   ]
  },
  {
   "cell_type": "markdown",
   "metadata": {
    "colab_type": "text",
    "id": "ukocepQn8QM8"
   },
   "source": [
    "Please provide short answers to the questions at the bottom of the notebook. Most involve Python coding. Add as many cells as necessary (code and text). You might test your code using synthetic data.\n",
    "\n",
    "Before uploading your notebook on [eCampus](https://ecampus.paris-saclay.fr/course/view.php?id=18426), please:\n",
    "* Delete all useless cells (tests, etc.)\n",
    "* Check that **your code is running and does not produce any errors**. You might restart the kernel and run all cells at the end of the lab to check that this is indeed the case. \n",
    "* Keep the outputs.\n",
    "\n",
    "The deadline is **Thursday, December 18th (midnight).**"
   ]
  },
  {
   "cell_type": "markdown",
   "metadata": {
    "colab_type": "text",
    "id": "VJCnO1I_8QM8"
   },
   "source": [
    "## Import"
   ]
  },
  {
   "cell_type": "code",
   "execution_count": 1,
   "metadata": {
    "colab": {},
    "colab_type": "code",
    "id": "mymib0eC8QM-"
   },
   "outputs": [],
   "source": [
    "import numpy as np"
   ]
  },
  {
   "cell_type": "code",
   "execution_count": 2,
   "metadata": {
    "colab": {},
    "colab_type": "code",
    "id": "Cx_0k5nO8QNC"
   },
   "outputs": [],
   "source": [
    "from scipy import sparse"
   ]
  },
  {
   "cell_type": "code",
   "execution_count": 3,
   "metadata": {
    "colab": {},
    "colab_type": "code",
    "id": "HY6WbaPP8QNE"
   },
   "outputs": [],
   "source": [
    "import matplotlib.pyplot as plt"
   ]
  },
  {
   "cell_type": "code",
   "execution_count": 4,
   "metadata": {
    "colab": {},
    "colab_type": "code",
    "id": "dHAAVvXn8QNI"
   },
   "outputs": [],
   "source": [
    "import pandas as pd"
   ]
  },
  {
   "cell_type": "code",
   "execution_count": 5,
   "metadata": {
    "colab": {},
    "colab_type": "code",
    "id": "6egYK1uK8QNL"
   },
   "outputs": [],
   "source": [
    "import time"
   ]
  },
  {
   "cell_type": "markdown",
   "metadata": {
    "colab_type": "text",
    "id": "ISrlWAEw8QNO"
   },
   "source": [
    "## Synthetic data"
   ]
  },
  {
   "cell_type": "code",
   "execution_count": 6,
   "metadata": {
    "colab": {},
    "colab_type": "code",
    "id": "7f_zmRRQ8QNP"
   },
   "outputs": [],
   "source": [
    "# Standard Gaussian model\n",
    "X_synthetic = np.random.normal(size = (100,2))"
   ]
  },
  {
   "cell_type": "markdown",
   "metadata": {
    "colab_type": "text",
    "id": "8C29hUId8QNS"
   },
   "source": [
    "## Real data"
   ]
  },
  {
   "cell_type": "markdown",
   "metadata": {
    "colab_type": "text",
    "id": "AiNrvpoc8QNT"
   },
   "source": [
    "We will use a dataset providing the GPS coordinates of the ~13,000 largest cities of the world. For simplicity, we will use the Euclidean distance on the world map, with coordinates = (longitude, latitude)."
   ]
  },
  {
   "cell_type": "code",
   "execution_count": 7,
   "metadata": {
    "colab": {
     "base_uri": "https://localhost:8080/",
     "height": 75,
     "resources": {
      "http://localhost:8080/nbextensions/google.colab/files.js": {
       "data": "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",
       "headers": [
        [
         "content-type",
         "application/javascript"
        ]
       ],
       "ok": true,
       "status": 200,
       "status_text": ""
      }
     }
    },
    "colab_type": "code",
    "id": "TAppEGuW9A27",
    "outputId": "e112762c-485f-4bd9-8a78-2de55eecc944"
   },
   "outputs": [],
   "source": [
    "#from google.colab import files\n",
    "#uploaded = files.upload()"
   ]
  },
  {
   "cell_type": "code",
   "execution_count": 8,
   "metadata": {
    "colab": {},
    "colab_type": "code",
    "id": "AfR-9Ztk8QNU"
   },
   "outputs": [],
   "source": [
    "# First download the file\n",
    "cities = pd.read_csv('worldcities.csv')"
   ]
  },
  {
   "cell_type": "code",
   "execution_count": 9,
   "metadata": {
    "colab": {
     "base_uri": "https://localhost:8080/",
     "height": 197
    },
    "colab_type": "code",
    "id": "vcu9fzov8QNX",
    "outputId": "9ccf7d3d-ad51-4179-d961-c31e4bafcc81",
    "scrolled": true
   },
   "outputs": [
    {
     "data": {
      "text/html": [
       "<div>\n",
       "<style scoped>\n",
       "    .dataframe tbody tr th:only-of-type {\n",
       "        vertical-align: middle;\n",
       "    }\n",
       "\n",
       "    .dataframe tbody tr th {\n",
       "        vertical-align: top;\n",
       "    }\n",
       "\n",
       "    .dataframe thead th {\n",
       "        text-align: right;\n",
       "    }\n",
       "</style>\n",
       "<table border=\"1\" class=\"dataframe\">\n",
       "  <thead>\n",
       "    <tr style=\"text-align: right;\">\n",
       "      <th></th>\n",
       "      <th>city</th>\n",
       "      <th>city_ascii</th>\n",
       "      <th>lat</th>\n",
       "      <th>lng</th>\n",
       "      <th>country</th>\n",
       "      <th>iso2</th>\n",
       "      <th>iso3</th>\n",
       "      <th>admin_name</th>\n",
       "      <th>capital</th>\n",
       "      <th>population</th>\n",
       "      <th>id</th>\n",
       "    </tr>\n",
       "  </thead>\n",
       "  <tbody>\n",
       "    <tr>\n",
       "      <th>0</th>\n",
       "      <td>Malishevë</td>\n",
       "      <td>Malisheve</td>\n",
       "      <td>42.4822</td>\n",
       "      <td>20.7458</td>\n",
       "      <td>Kosovo</td>\n",
       "      <td>XK</td>\n",
       "      <td>XKS</td>\n",
       "      <td>Malishevë</td>\n",
       "      <td>admin</td>\n",
       "      <td>NaN</td>\n",
       "      <td>1901597212</td>\n",
       "    </tr>\n",
       "    <tr>\n",
       "      <th>1</th>\n",
       "      <td>Prizren</td>\n",
       "      <td>Prizren</td>\n",
       "      <td>42.2139</td>\n",
       "      <td>20.7397</td>\n",
       "      <td>Kosovo</td>\n",
       "      <td>XK</td>\n",
       "      <td>XKS</td>\n",
       "      <td>Prizren</td>\n",
       "      <td>admin</td>\n",
       "      <td>NaN</td>\n",
       "      <td>1901360309</td>\n",
       "    </tr>\n",
       "    <tr>\n",
       "      <th>2</th>\n",
       "      <td>Zubin Potok</td>\n",
       "      <td>Zubin Potok</td>\n",
       "      <td>42.9144</td>\n",
       "      <td>20.6897</td>\n",
       "      <td>Kosovo</td>\n",
       "      <td>XK</td>\n",
       "      <td>XKS</td>\n",
       "      <td>Zubin Potok</td>\n",
       "      <td>admin</td>\n",
       "      <td>NaN</td>\n",
       "      <td>1901608808</td>\n",
       "    </tr>\n",
       "    <tr>\n",
       "      <th>3</th>\n",
       "      <td>Kamenicë</td>\n",
       "      <td>Kamenice</td>\n",
       "      <td>42.5781</td>\n",
       "      <td>21.5803</td>\n",
       "      <td>Kosovo</td>\n",
       "      <td>XK</td>\n",
       "      <td>XKS</td>\n",
       "      <td>Kamenicë</td>\n",
       "      <td>admin</td>\n",
       "      <td>NaN</td>\n",
       "      <td>1901851592</td>\n",
       "    </tr>\n",
       "    <tr>\n",
       "      <th>4</th>\n",
       "      <td>Viti</td>\n",
       "      <td>Viti</td>\n",
       "      <td>42.3214</td>\n",
       "      <td>21.3583</td>\n",
       "      <td>Kosovo</td>\n",
       "      <td>XK</td>\n",
       "      <td>XKS</td>\n",
       "      <td>Viti</td>\n",
       "      <td>admin</td>\n",
       "      <td>NaN</td>\n",
       "      <td>1901328795</td>\n",
       "    </tr>\n",
       "  </tbody>\n",
       "</table>\n",
       "</div>"
      ],
      "text/plain": [
       "          city   city_ascii      lat      lng country iso2 iso3   admin_name  \\\n",
       "0    Malishevë    Malisheve  42.4822  20.7458  Kosovo   XK  XKS    Malishevë   \n",
       "1      Prizren      Prizren  42.2139  20.7397  Kosovo   XK  XKS      Prizren   \n",
       "2  Zubin Potok  Zubin Potok  42.9144  20.6897  Kosovo   XK  XKS  Zubin Potok   \n",
       "3     Kamenicë     Kamenice  42.5781  21.5803  Kosovo   XK  XKS     Kamenicë   \n",
       "4         Viti         Viti  42.3214  21.3583  Kosovo   XK  XKS         Viti   \n",
       "\n",
       "  capital  population          id  \n",
       "0   admin         NaN  1901597212  \n",
       "1   admin         NaN  1901360309  \n",
       "2   admin         NaN  1901608808  \n",
       "3   admin         NaN  1901851592  \n",
       "4   admin         NaN  1901328795  "
      ]
     },
     "execution_count": 9,
     "metadata": {},
     "output_type": "execute_result"
    }
   ],
   "source": [
    "cities.head()"
   ]
  },
  {
   "cell_type": "code",
   "execution_count": 10,
   "metadata": {
    "colab": {},
    "colab_type": "code",
    "id": "XhI6THUP8QNa"
   },
   "outputs": [],
   "source": [
    "names = list(cities['city'])\n",
    "admin_names = list(cities['admin_name'])\n",
    "lat = list(cities['lat'])\n",
    "long = list(cities['lng'])"
   ]
  },
  {
   "cell_type": "code",
   "execution_count": 11,
   "metadata": {
    "colab": {},
    "colab_type": "code",
    "id": "lyTzZ4IC8QNd"
   },
   "outputs": [],
   "source": [
    "X = np.vstack((long,lat)).T"
   ]
  },
  {
   "cell_type": "code",
   "execution_count": 12,
   "metadata": {
    "colab": {
     "base_uri": "https://localhost:8080/",
     "height": 574
    },
    "colab_type": "code",
    "id": "ubwtcG808QNh",
    "outputId": "5a9a2f9f-723c-419c-fb6b-f6cb7e5dfd59"
   },
   "outputs": [
    {
     "data": {
      "image/png": "[encoded data removed]",
      "text/plain": [
       "<matplotlib.figure.Figure at 0x15c3b67e0b8>"
      ]
     },
     "metadata": {
      "needs_background": "light"
     },
     "output_type": "display_data"
    }
   ],
   "source": [
    "plt.figure(figsize = (20,10))\n",
    "_ = plt.scatter(X[:,0], X[:,1], c='b')\n",
    "_ = plt.axis('off')"
   ]
  },
  {
   "cell_type": "markdown",
   "metadata": {
    "colab_type": "text",
    "id": "SZRSN-Yh8QNk"
   },
   "source": [
    "## Kd trees"
   ]
  },
  {
   "cell_type": "code",
   "execution_count": 13,
   "metadata": {
    "colab": {},
    "colab_type": "code",
    "id": "ilHmPGI08QNk"
   },
   "outputs": [],
   "source": [
    "class KD_Tree:\n",
    "    def __init__(self, index, ancestor, mins, maxs):\n",
    "        self.index = index\n",
    "        self.ancestor = ancestor\n",
    "        self.mins = mins\n",
    "        self.maxs = maxs\n",
    "        self.direction = None        \n",
    "        self.pivot = None\n",
    "        self.left = None\n",
    "        self.right = None"
   ]
  },
  {
   "cell_type": "code",
   "execution_count": 14,
   "metadata": {
    "colab": {},
    "colab_type": "code",
    "id": "G05mJj0X8QNn"
   },
   "outputs": [],
   "source": [
    "def split(X, index, method):\n",
    "    '''Split method (max spread or max variance)\n",
    "    \n",
    "    Parameters\n",
    "    ----------\n",
    "    X : np.ndarray \n",
    "        Data (n_samples, n_features)\n",
    "    index : np.ndarray\n",
    "        Sample indices, within range(n_samples)\n",
    "    method : str, 'maxspread' or 'maxvariance'\n",
    "        Method \n",
    "        \n",
    "    Returns\n",
    "    -------\n",
    "    k : int\n",
    "        Direction, in range(n_features)\n",
    "    i : int\n",
    "        Pivot, in range(n_samples)\n",
    "    '''\n",
    "    if method == 'maxspread':\n",
    "        # max spread\n",
    "        mins = np.min(X[index], axis = 0)\n",
    "        maxs = np.max(X[index], axis = 0)\n",
    "        k = np.argmax(maxs - mins)\n",
    "        middle = (maxs[k] + mins[k]) / 2\n",
    "        i = index[np.argmin(np.abs(X[index,k] - middle))]\n",
    "    else:\n",
    "        # max variance\n",
    "        k = np.argmax(np.std(X[index], axis = 0))\n",
    "        i = index[np.argsort(X[index,k])[len(index) // 2]]\n",
    "    return k, i"
   ]
  },
  {
   "cell_type": "code",
   "execution_count": 15,
   "metadata": {
    "colab": {},
    "colab_type": "code",
    "id": "PhtKV65i8QNq"
   },
   "outputs": [],
   "source": [
    "def build_kd_tree(X, index = None, ancestor = None, mins = None, maxs = None, leaf_size = 30, method = 'maxspread'):\n",
    "    '''Build the kd-tree from data.\n",
    "    \n",
    "    Parameters\n",
    "    ----------\n",
    "    X : np.ndarray \n",
    "        Data (n_samples, n_features)\n",
    "    index : np.ndarray or None\n",
    "        Sample indices, within range(n_samples)\n",
    "    ancestor : KD_Tree or None\n",
    "        Ancestor of the current node\n",
    "    mins : np.ndarray or None\n",
    "        Min values of the rectangle, shape (n_features,)\n",
    "    maxs : np.ndarray\n",
    "        Max values of the rectangle, shape (n_features,)\n",
    "    leaf_size : int\n",
    "        Leaf size of the kd-tree \n",
    "    method : str, 'maxspread' or 'maxvariance'\n",
    "        Split method \n",
    "        \n",
    "    Returns\n",
    "    -------\n",
    "    tree : KD_Tree\n",
    "        kd-tree\n",
    "    '''\n",
    "    if index is None:\n",
    "        index = np.arange(X.shape[0])\n",
    "        mins = np.min(X[index], axis = 0)\n",
    "        maxs = np.max(X[index], axis = 0)\n",
    "    tree = KD_Tree(index, ancestor, mins, maxs)\n",
    "    if len(index) > leaf_size:\n",
    "        k,i = split(X, index, method)\n",
    "        tree.direction, tree.pivot = k, i\n",
    "        index = np.array(list(set(index) - {i}))\n",
    "        index_left = index[np.where(X[index,k] <= X[i,k])[0]]\n",
    "        maxs_ = maxs.copy()\n",
    "        maxs_[k] = X[i,k]\n",
    "        tree.left = build_kd_tree(X, index_left, tree, mins, maxs_, leaf_size, method)\n",
    "        index_right = index[np.where(X[index,k] > X[i,k])[0]]\n",
    "        mins_ = mins.copy()\n",
    "        mins_[k] = X[i,k]        \n",
    "        tree.right = build_kd_tree(X, index_right, tree, mins_, maxs, leaf_size, method)\n",
    "    return tree"
   ]
  },
  {
   "cell_type": "code",
   "execution_count": 16,
   "metadata": {
    "colab": {},
    "colab_type": "code",
    "id": "Rguyc4PK8QNs"
   },
   "outputs": [],
   "source": [
    "def search_leaf(x, X, tree):\n",
    "    '''Search the leaf node of the kd-tree given some target.\n",
    "    \n",
    "    Parameters\n",
    "    ----------\n",
    "    x : np.ndarray\n",
    "        Target (n_features,)\n",
    "    X : np.ndarray \n",
    "        Data (n_samples, n_features)\n",
    "    tree : KD_Tree\n",
    "        kd-tree\n",
    "        \n",
    "    Returns\n",
    "    -------\n",
    "    tree : KD_Tree\n",
    "        Leaf node\n",
    "    '''\n",
    "    if tree.pivot is not None:\n",
    "        k = tree.direction\n",
    "        i = tree.pivot\n",
    "        if x[k] <= X[i,k]:\n",
    "            return search_leaf(x, X, tree.left)\n",
    "        else:\n",
    "            return search_leaf(x, X, tree.right)\n",
    "    else:\n",
    "        return tree"
   ]
  },
  {
   "cell_type": "code",
   "execution_count": 17,
   "metadata": {
    "colab": {},
    "colab_type": "code",
    "id": "azG6OXL58QNv"
   },
   "outputs": [],
   "source": [
    "def nn_search_kd_tree(x, X, tree):\n",
    "    '''Search the nearest neighbor of some target.\n",
    "    \n",
    "    Parameters\n",
    "    ----------\n",
    "    x : np.ndarray\n",
    "        Target (n_features,)\n",
    "    X : np.ndarray \n",
    "        Data (n_samples, n_features)\n",
    "    tree : KD_Tree\n",
    "        kd-tree\n",
    "        \n",
    "    Returns\n",
    "    -------\n",
    "    nn : int\n",
    "        Index of the nearest neighbor\n",
    "    '''\n",
    "    node = search_leaf(x, X, tree)\n",
    "    index = node.index\n",
    "    nn = None\n",
    "    if len(index):\n",
    "        nn = index[np.argmin(np.linalg.norm(X[index] - x, axis = 1))]\n",
    "        dist = np.linalg.norm(X[nn] - x)\n",
    "    \n",
    "    while node.ancestor is not None:\n",
    "        previous = node\n",
    "        node = node.ancestor\n",
    "        if nn is None or np.linalg.norm(X[node.pivot] - x) < dist:\n",
    "            nn = node.pivot\n",
    "            dist = np.linalg.norm(X[nn] - x)\n",
    "        if previous == node.left:\n",
    "            tree_ = node.right\n",
    "        else:\n",
    "            tree_ = node.left\n",
    "        if tree_ is not None and len(tree_.index):\n",
    "            explore = False\n",
    "            if not tree_.pivot:\n",
    "                explore = True\n",
    "            else:\n",
    "                y = np.maximum(tree_.mins, np.minimum(tree_.maxs, x))\n",
    "                explore = (np.linalg.norm(x - y) < dist)\n",
    "            if explore:\n",
    "                ancestor = tree_.ancestor\n",
    "                tree_.ancestor = None\n",
    "                nn_ = nn_search_kd_tree(x, X, tree_)\n",
    "                dist_ = np.linalg.norm(X[nn_] - x)\n",
    "                if dist_ < dist:\n",
    "                    nn, dist = nn_, dist_\n",
    "                tree_.ancestor = ancestor\n",
    "    return nn"
   ]
  },
  {
   "cell_type": "markdown",
   "metadata": {
    "colab_type": "text",
    "id": "VY_uPnpo8QNx"
   },
   "source": [
    "## Questions"
   ]
  },
  {
   "cell_type": "markdown",
   "metadata": {
    "colab_type": "text",
    "id": "t7sehHEr8QNy"
   },
   "source": [
    "1. What is the closest city from the [Null Island](https://fr.wikipedia.org/wiki/Null_Island) (provide the name)?"
   ]
  },
  {
   "cell_type": "code",
   "execution_count": 18,
   "metadata": {
    "colab": {
     "base_uri": "https://localhost:8080/",
     "height": 33
    },
    "colab_type": "code",
    "id": "lRp5vxesJAKu",
    "outputId": "a6ce6eaf-d36b-4009-c4a4-94dcb116c93f"
   },
   "outputs": [
    {
     "name": "stdout",
     "output_type": "stream",
     "text": [
      "The closest city from the Null Island is: Sekondi\n"
     ]
    }
   ],
   "source": [
    "tree=build_kd_tree(X)\n",
    "x=[0,0]\n",
    "res=nn_search_kd_tree(x,X,tree)\n",
    "print(\"The closest city from the Null Island is:\",names[res])"
   ]
  },
  {
   "cell_type": "markdown",
   "metadata": {
    "colab_type": "text",
    "id": "KNT9LRO_8QNz"
   },
   "source": [
    "2. What are the 10 closest cities from Paris (provide the names)?<br>\n",
    "Choose the true Paris :-)"
   ]
  },
  {
   "cell_type": "code",
   "execution_count": 19,
   "metadata": {
    "colab": {},
    "colab_type": "code",
    "id": "EttA_8LRdHxn"
   },
   "outputs": [],
   "source": [
    "def search_kd_tree(x, X, tree,k):\n",
    "    '''Search the nearest neighbor of some target.\n",
    "    \n",
    "    Parameters\n",
    "    ----------\n",
    "    x : np.ndarray\n",
    "        Target (n_features,)\n",
    "    X : np.ndarray \n",
    "        Data (n_samples, n_features)\n",
    "    tree : KD_Tree\n",
    "        kd-tree\n",
    "        \n",
    "    Returns\n",
    "    -------\n",
    "    nn : int\n",
    "        Index of the nearest neighbor\n",
    "    '''\n",
    "    node = search_leaf(x, X, tree)\n",
    "    index = node.index\n",
    "    res=[]\n",
    "    while len(index)<k:\n",
    "      if node.ancestor is None:\n",
    "        return node.index\n",
    "      else:\n",
    "        node=node.ancestor\n",
    "        index=node.index\n",
    "    \n",
    "    sort=np.argsort(np.linalg.norm(X[index] - x,axis=1))\n",
    "    if (X[index[sort[0]]]==x).all():\n",
    "      res=index[sort[1:k+1]]\n",
    "    else:\n",
    "      res=index[sort[0:k]]\n",
    "\n",
    "    distances=np.linalg.norm(X[res] - x,axis=1)\n",
    "\n",
    "    \n",
    "    while node.ancestor is not None:\n",
    "        previous = node\n",
    "        node = node.ancestor\n",
    "        if  np.linalg.norm(X[node.pivot] - x) < distances[-1]:\n",
    "            #update\n",
    "          res[-1]=node.pivot\n",
    "          res=res[np.argsort(np.linalg.norm(X[res] - x,axis=1))]\n",
    "          distances=np.linalg.norm(X[res] - x,axis=1)\n",
    "        if previous == node.left:\n",
    "            tree_ = node.right\n",
    "        else:\n",
    "            tree_ = node.left\n",
    "        if tree_ is not None and len(tree_.index):\n",
    "            explore = False\n",
    "            if not tree_.pivot:\n",
    "                explore = True\n",
    "            else:\n",
    "                y = np.maximum(tree_.mins, np.minimum(tree_.maxs, x))\n",
    "                explore = (np.linalg.norm(x - y) < distances[-1])\n",
    "            if explore:\n",
    "                ancestor = tree_.ancestor\n",
    "                tree_.ancestor = None\n",
    "                res_ = search_kd_tree(x, X, tree_ , k)\n",
    "                distances_=np.linalg.norm(X[res_] - x,axis=1)\n",
    "                #update distances\n",
    "                if distances_[0]<distances[-1]:\n",
    "                  res=np.hstack((res,res_))\n",
    "                  res=res[np.argsort(np.linalg.norm(X[res] - x,axis=1))][0:k]\n",
    "                  distances=distances=np.linalg.norm(X[res] - x,axis=1)\n",
    "                tree_.ancestor = ancestor\n",
    "    return res"
   ]
  },
  {
   "cell_type": "code",
   "execution_count": 20,
   "metadata": {
    "colab": {
     "base_uri": "https://localhost:8080/",
     "height": 33
    },
    "colab_type": "code",
    "id": "pntPUTJYrB7q",
    "outputId": "059741f8-6861-4675-b2d9-acedd781939d"
   },
   "outputs": [
    {
     "name": "stdout",
     "output_type": "stream",
     "text": [
      "The 10 closest cities from Paris are: ['Versailles', 'Melun', 'Amiens', 'Orléans', 'Rouen', 'Arras', 'Auxerre', 'Dieppe', 'Reims', 'Bourges']\n"
     ]
    }
   ],
   "source": [
    "k=10\n",
    "node=names.index('Paris')\n",
    "tree=build_kd_tree(X)\n",
    "x=X[node]\n",
    "res=search_kd_tree(x,X,tree,k)\n",
    "neighbor=[]\n",
    "for i in res:\n",
    "  neighbor.append(names[i])\n",
    "print(\"The 10 closest cities from Paris are:\",neighbor)"
   ]
  },
  {
   "cell_type": "markdown",
   "metadata": {
    "colab_type": "text",
    "id": "GiPJcXX68QN0"
   },
   "source": [
    "3. Compare the previous search time to a brute force approach (with default leaf size = 30)."
   ]
  },
  {
   "cell_type": "code",
   "execution_count": 21,
   "metadata": {
    "colab": {
     "base_uri": "https://localhost:8080/",
     "height": 33
    },
    "colab_type": "code",
    "id": "zgAS7qGYuKjz",
    "outputId": "bcc9b961-912f-4b02-972a-fd6a0246a6ea"
   },
   "outputs": [
    {
     "name": "stdout",
     "output_type": "stream",
     "text": [
      "The running time for the previous search is : 0.14840435981750488\n"
     ]
    }
   ],
   "source": [
    "start = time.time()\n",
    "\n",
    "k=10\n",
    "node=names.index('Paris')\n",
    "tree=build_kd_tree(X)\n",
    "x=X[node]\n",
    "res=search_kd_tree(x,X,tree,k)\n",
    "\n",
    "end = time.time()\n",
    "\n",
    "print (\"The running time for the previous search is :\",str(end-start))"
   ]
  },
  {
   "cell_type": "markdown",
   "metadata": {
    "colab_type": "text",
    "id": "1K4I-sgMut4J"
   },
   "source": [
    "Then we write a function using the brute force approach to calculate the running time."
   ]
  },
  {
   "cell_type": "code",
   "execution_count": 22,
   "metadata": {
    "colab": {
     "base_uri": "https://localhost:8080/",
     "height": 50
    },
    "colab_type": "code",
    "id": "oIZmKe0Eu1qG",
    "outputId": "01bd15ce-66f4-4943-ac29-a5d566d68a7f"
   },
   "outputs": [
    {
     "name": "stdout",
     "output_type": "stream",
     "text": [
      "The 10 closest cities from Paris are: ['Versailles', 'Melun', 'Amiens', 'Orléans', 'Rouen', 'Arras', 'Auxerre', 'Dieppe', 'Reims', 'Bourges']\n",
      "The running time for the brute force approach is : 0.21088647842407227\n"
     ]
    }
   ],
   "source": [
    "start = time.time()\n",
    "\n",
    "# node=names.index('Paris')\n",
    "# tree=build_kd_tree(X)\n",
    "# index=tree.index\n",
    "# res=index[np.argsort(np.linalg.norm(X[index]-X[node],axis=1))][1:11]\n",
    "# neighbor=[]\n",
    "# for i in res:\n",
    "#   neighbor.append(names[i])\n",
    "# print(\"The 10 closest cities from Paris are:\",neighbor)\n",
    "\n",
    "node=names.index('Paris')\n",
    "x=X[node]\n",
    "k=10\n",
    "res=np.ones(k)\n",
    "dis=np.ones(k)*len(X)\n",
    "for i in range(len(X)):\n",
    "  t=np.linalg.norm(X[i]-x)\n",
    "  if t!=0 and t<dis[-1]:\n",
    "    dis[-1]=t\n",
    "    res[-1]=int(i)\n",
    "    res=res[np.argsort(dis)]\n",
    "    dis=np.sort(dis)\n",
    "neighbor=[]\n",
    "for i in res:\n",
    "  neighbor.append(names[int(i)])\n",
    "print(\"The 10 closest cities from Paris are:\",neighbor)\n",
    "\n",
    "end = time.time()\n",
    "\n",
    "print (\"The running time for the brute force approach is :\",str(end-start))"
   ]
  },
  {
   "cell_type": "markdown",
   "metadata": {
    "colab_type": "text",
    "id": "3nBJdHTwy622"
   },
   "source": [
    "We find that in this case the running time is similar for these two methods. But the kd tree method run faster."
   ]
  },
  {
   "cell_type": "markdown",
   "metadata": {
    "colab_type": "text",
    "id": "ENGPIHoD8QN1"
   },
   "source": [
    "4. Do the same comparison for synthetic data (with $10^6$ samples for instance). Comment."
   ]
  },
  {
   "cell_type": "code",
   "execution_count": 23,
   "metadata": {
    "colab": {
     "base_uri": "https://localhost:8080/",
     "height": 33
    },
    "colab_type": "code",
    "id": "irFBi3wvx1EL",
    "outputId": "1a23508f-53ce-4179-fccf-a76f915227cf"
   },
   "outputs": [
    {
     "name": "stdout",
     "output_type": "stream",
     "text": [
      "The running time for the previous search is : 16.649375915527344\n"
     ]
    }
   ],
   "source": [
    "X_synthetic = np.random.normal(size = (int(1e6),2))\n",
    "\n",
    "start = time.time()\n",
    "\n",
    "k=10\n",
    "node=np.random.randint(0,int(1e6))\n",
    "tree=build_kd_tree(X_synthetic)\n",
    "x=X_synthetic[node]\n",
    "res=search_kd_tree(x,X_synthetic,tree,k)\n",
    "\n",
    "end = time.time()\n",
    "\n",
    "print (\"The running time for the previous search is :\",str(end-start))"
   ]
  },
  {
   "cell_type": "code",
   "execution_count": 24,
   "metadata": {
    "colab": {
     "base_uri": "https://localhost:8080/",
     "height": 33
    },
    "colab_type": "code",
    "id": "QyAOiDAJyriF",
    "outputId": "195d973d-6aaa-4eff-99b4-c1d0d408684b"
   },
   "outputs": [
    {
     "name": "stdout",
     "output_type": "stream",
     "text": [
      "The running time for the brute force approach is : 16.489493370056152\n"
     ]
    }
   ],
   "source": [
    "start = time.time()\n",
    "\n",
    "node=np.random.randint(0,int(1e6))\n",
    "tree=build_kd_tree(X_synthetic)\n",
    "index=tree.index\n",
    "res=index[np.argsort(np.linalg.norm(X_synthetic[index]-X_synthetic[node],axis=1))][1:k+1]\n",
    "\n",
    "end = time.time()\n",
    "print (\"The running time for the brute force approach is :\",str(end-start))\n",
    "\n",
    "# X_synthetic = np.random.normal(size = (int(1e6),2))\n",
    "# node=np.random.randint(0,int(1e6))\n",
    "# x=X_synthetic[node]\n",
    "# k=10\n",
    "# res=np.ones(k)\n",
    "# dis=np.ones(k)*len(X_synthetic)\n",
    "# for i in range(len(X_synthetic)):\n",
    "#   t=np.linalg.norm(X_synthetic[i]-x)\n",
    "#   if t!=0 and t<dis[-1]:\n",
    "#     dis[-1]=t\n",
    "#     res[-1]=int(i)\n",
    "#     res=res[np.argsort(dis)]\n",
    "#     dis=np.sort(dis)\n",
    "\n",
    "# end = time.time()\n",
    "\n",
    "# print (\"The running time for the brute force approach is :\",str(end-start))"
   ]
  },
  {
   "cell_type": "markdown",
   "metadata": {
    "colab_type": "text",
    "id": "v6evmMsR5E0d"
   },
   "source": [
    "It seems the kd tree method is faster."
   ]
  },
  {
   "cell_type": "markdown",
   "metadata": {
    "colab_type": "text",
    "id": "__YrQz5-8QN3"
   },
   "source": [
    "5. What is the depth of the leaf node containing Paris in the kd-tree? <br>\n",
    "Test various leaf sizes (e.g., 1, 10, 100, ...) and comment."
   ]
  },
  {
   "cell_type": "code",
   "execution_count": 25,
   "metadata": {
    "colab": {
     "base_uri": "https://localhost:8080/",
     "height": 33
    },
    "colab_type": "code",
    "id": "VU6tmS2I5MYb",
    "outputId": "aadedd51-a533-4f60-d5e6-30d5e11fe14d"
   },
   "outputs": [
    {
     "name": "stdout",
     "output_type": "stream",
     "text": [
      "When the leaf size is 1,the depth is : 12\n"
     ]
    }
   ],
   "source": [
    "node=names.index('Paris')\n",
    "tree=build_kd_tree(X,leaf_size=1)\n",
    "node=search_leaf(x, X, tree)\n",
    "depth=0\n",
    "while node.ancestor is not None:\n",
    "  node=node.ancestor\n",
    "  depth+=1\n",
    "print(\"When the leaf size is 1,the depth is :\",depth)"
   ]
  },
  {
   "cell_type": "code",
   "execution_count": 26,
   "metadata": {
    "colab": {
     "base_uri": "https://localhost:8080/",
     "height": 33
    },
    "colab_type": "code",
    "id": "E1jDWVCA6OWo",
    "outputId": "778c5771-1df1-4a68-d060-ed981d9ee205"
   },
   "outputs": [
    {
     "name": "stdout",
     "output_type": "stream",
     "text": [
      "When the leaf size is 10,the depth is : 10\n"
     ]
    }
   ],
   "source": [
    "node=names.index('Paris')\n",
    "tree=build_kd_tree(X,leaf_size=10)\n",
    "node=search_leaf(x, X, tree)\n",
    "depth=0\n",
    "while node.ancestor is not None:\n",
    "  node=node.ancestor\n",
    "  depth+=1\n",
    "print(\"When the leaf size is 10,the depth is :\",depth)"
   ]
  },
  {
   "cell_type": "code",
   "execution_count": 27,
   "metadata": {
    "colab": {
     "base_uri": "https://localhost:8080/",
     "height": 33
    },
    "colab_type": "code",
    "id": "ipEipSTd6RSF",
    "outputId": "bb20f365-2f88-4c6e-d80a-192fac9c803f"
   },
   "outputs": [
    {
     "name": "stdout",
     "output_type": "stream",
     "text": [
      "When the leaf size is 100,the depth is : 8\n"
     ]
    }
   ],
   "source": [
    "node=names.index('Paris')\n",
    "tree=build_kd_tree(X,leaf_size=100)\n",
    "node=search_leaf(x, X, tree)\n",
    "depth=0\n",
    "while node.ancestor is not None:\n",
    "  node=node.ancestor\n",
    "  depth+=1\n",
    "print(\"When the leaf size is 100,the depth is :\",depth)"
   ]
  },
  {
   "cell_type": "markdown",
   "metadata": {
    "colab_type": "text",
    "id": "UfEbkrrO8QN8"
   },
   "source": [
    "6. Build the graph of 3-nearest neighbors. You must return the adjacency matrix of the graph in the sparse format of your choice. How many connected components are there in this graph, considered as undirected (check [this](https://docs.scipy.org/doc/scipy/reference/generated/scipy.sparse.csgraph.connected_components.html))? Show the 3 largest connected components on the map. "
   ]
  },
  {
   "cell_type": "code",
   "execution_count": 28,
   "metadata": {
    "colab": {
     "base_uri": "https://localhost:8080/",
     "height": 70
    },
    "colab_type": "code",
    "id": "eTXs45la6Z8C",
    "outputId": "80069500-2466-4cc6-df40-be16c1e2e5b3"
   },
   "outputs": [
    {
     "name": "stderr",
     "output_type": "stream",
     "text": [
      "F:\\AI\\Anaconda\\lib\\site-packages\\ipykernel_launcher.py:11: SparseEfficiencyWarning: Changing the sparsity structure of a csr_matrix is expensive. lil_matrix is more efficient.\n",
      "  # This is added back by InteractiveShellApp.init_path()\n",
      "F:\\AI\\Anaconda\\lib\\site-packages\\ipykernel_launcher.py:12: SparseEfficiencyWarning: Changing the sparsity structure of a csr_matrix is expensive. lil_matrix is more efficient.\n",
      "  if sys.path[0] == '':\n"
     ]
    }
   ],
   "source": [
    "from scipy.sparse import csr_matrix\n",
    "from scipy.sparse.csgraph import connected_components\n",
    "\n",
    "n=len(X)\n",
    "graph = csr_matrix((n, n))\n",
    "k=3\n",
    "tree=build_kd_tree(X)\n",
    "for i in range(n):\n",
    "  neighbor=search_kd_tree(X[i],X,tree,k)\n",
    "  for j in neighbor:\n",
    "    graph[i,j]=1\n",
    "    graph[j,i]=1\n",
    "n_components, labels = connected_components(csgraph=graph, directed=False, return_labels=True)"
   ]
  },
  {
   "cell_type": "code",
   "execution_count": 29,
   "metadata": {
    "colab": {
     "base_uri": "https://localhost:8080/",
     "height": 33
    },
    "colab_type": "code",
    "id": "nsffcejit-fk",
    "outputId": "3b45dc3b-4a8c-4831-c1a3-c26e6d1d1ded"
   },
   "outputs": [
    {
     "name": "stdout",
     "output_type": "stream",
     "text": [
      "The  the 3 largest connected components are: [(0, 5326), (9, 4473), (17, 1024)]\n"
     ]
    }
   ],
   "source": [
    "from collections import Counter\n",
    "print(\"The  the 3 largest connected components are:\",Counter(labels).most_common(3))"
   ]
  },
  {
   "cell_type": "code",
   "execution_count": 30,
   "metadata": {
    "colab": {
     "base_uri": "https://localhost:8080/",
     "height": 574
    },
    "colab_type": "code",
    "id": "qwAK4L6uxjPA",
    "outputId": "f07572f1-4f08-4064-9de8-e58e01a195a2"
   },
   "outputs": [
    {
     "data": {
      "image/png": "[encoded data removed]",
      "text/plain": [
       "<matplotlib.figure.Figure at 0x15c4caf5eb8>"
      ]
     },
     "metadata": {
      "needs_background": "light"
     },
     "output_type": "display_data"
    }
   ],
   "source": [
    "plt.figure(figsize = (20,10))\n",
    "part=[0,9,17]\n",
    "for i in range(n):\n",
    "  if labels[i] in part:\n",
    "    if labels[i]==0:\n",
    "      plt.scatter(X[i,0], X[i,1], c='b')\n",
    "    if labels[i]==9:\n",
    "      plt.scatter(X[i,0], X[i,1], c='g')\n",
    "    if labels[i]==17:\n",
    "      plt.scatter(X[i,0], X[i,1], c='y')  \n",
    "_ = plt.axis('off')   "
   ]
  },
  {
   "cell_type": "markdown",
   "metadata": {
    "colab_type": "text",
    "id": "3amb6ZrN8QOA"
   },
   "source": [
    "7. (optional) Code the nearest neighbor search with a ball tree and compare the performance with kd-trees."
   ]
  },
  {
   "cell_type": "markdown",
   "metadata": {
    "colab_type": "text",
    "id": "L-9ZL0aB8QOC"
   },
   "source": [
    "8. (optional) Do the same with the actual distances between cities!"
   ]
  }
 ],
 "metadata": {
  "accelerator": "GPU",
  "colab": {
   "collapsed_sections": [],
   "name": "lab_tree_search.ipynb",
   "provenance": []
  },
  "kernelspec": {
   "display_name": "Python 3",
   "language": "python",
   "name": "python3"
  },
  "language_info": {
   "codemirror_mode": {
    "name": "ipython",
    "version": 3
   },
   "file_extension": ".py",
   "mimetype": "text/x-python",
   "name": "python",
   "nbconvert_exporter": "python",
   "pygments_lexer": "ipython3",
   "version": "3.6.4"
  }
 },
 "nbformat": 4,
 "nbformat_minor": 1
}
