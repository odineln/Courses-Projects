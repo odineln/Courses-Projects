{
 "cells": [
  {
   "cell_type": "markdown",
   "metadata": {},
   "source": [
    "# IA317: Large-scale machine learning\n",
    "# Tree search"
   ]
  },
  {
   "cell_type": "markdown",
   "metadata": {},
   "source": [
    "In this lab, you will learn to work with [kd-trees](https://en.wikipedia.org/wiki/K-d_tree), in particular to build the graph of nearest neighbors.<br>\n",
    "You will find below a function to build a kd-tree and to find the nearest neighbor of some target using this data structure."
   ]
  },
  {
   "cell_type": "markdown",
   "metadata": {},
   "source": [
    "## Instructions"
   ]
  },
  {
   "cell_type": "markdown",
   "metadata": {},
   "source": [
    "Please provide short answers to the questions at the bottom of the notebook. Most involve Python coding. Add as many cells as necessary (code and text). You might test your code using synthetic data.\n",
    "\n",
    "Before uploading your notebook on [eCampus](https://ecampus.paris-saclay.fr/course/view.php?id=18426), please:\n",
    "* Delete all useless cells (tests, etc.)\n",
    "* Check that **your code is running and does not produce any errors**. You might restart the kernel and run all cells at the end of the lab to check that this is indeed the case. \n",
    "* Keep the outputs.\n",
    "\n",
    "The deadline is **Thursday, December 18th (midnight).**"
   ]
  },
  {
   "cell_type": "markdown",
   "metadata": {},
   "source": [
    "## Import"
   ]
  },
  {
   "cell_type": "code",
   "execution_count": null,
   "metadata": {},
   "outputs": [],
   "source": [
    "import numpy as np"
   ]
  },
  {
   "cell_type": "code",
   "execution_count": null,
   "metadata": {},
   "outputs": [],
   "source": [
    "from scipy import sparse"
   ]
  },
  {
   "cell_type": "code",
   "execution_count": null,
   "metadata": {},
   "outputs": [],
   "source": [
    "import matplotlib.pyplot as plt"
   ]
  },
  {
   "cell_type": "code",
   "execution_count": null,
   "metadata": {},
   "outputs": [],
   "source": [
    "import pandas as pd"
   ]
  },
  {
   "cell_type": "code",
   "execution_count": null,
   "metadata": {},
   "outputs": [],
   "source": [
    "import time"
   ]
  },
  {
   "cell_type": "markdown",
   "metadata": {},
   "source": [
    "## Synthetic data"
   ]
  },
  {
   "cell_type": "code",
   "execution_count": null,
   "metadata": {},
   "outputs": [],
   "source": [
    "# Standard Gaussian model\n",
    "X_synthetic = np.random.normal(size = (100,2))"
   ]
  },
  {
   "cell_type": "markdown",
   "metadata": {},
   "source": [
    "## Real data"
   ]
  },
  {
   "cell_type": "markdown",
   "metadata": {},
   "source": [
    "We will use a dataset providing the GPS coordinates of the ~13,000 largest cities of the world. For simplicity, we will use the Euclidean distance on the world map, with coordinates = (longitude, latitude)."
   ]
  },
  {
   "cell_type": "code",
   "execution_count": null,
   "metadata": {},
   "outputs": [],
   "source": [
    "# First download the file\n",
    "cities = pd.read_csv('worldcities.csv')"
   ]
  },
  {
   "cell_type": "code",
   "execution_count": null,
   "metadata": {
    "scrolled": true
   },
   "outputs": [],
   "source": [
    "cities.head()"
   ]
  },
  {
   "cell_type": "code",
   "execution_count": null,
   "metadata": {},
   "outputs": [],
   "source": [
    "names = list(cities['city'])\n",
    "admin_names = list(cities['admin_name'])\n",
    "lat = list(cities['lat'])\n",
    "long = list(cities['lng'])"
   ]
  },
  {
   "cell_type": "code",
   "execution_count": null,
   "metadata": {},
   "outputs": [],
   "source": [
    "X = np.vstack((long,lat)).T"
   ]
  },
  {
   "cell_type": "code",
   "execution_count": null,
   "metadata": {},
   "outputs": [],
   "source": [
    "plt.figure(figsize = (20,10))\n",
    "_ = plt.scatter(X[:,0], X[:,1], c='b')\n",
    "_ = plt.axis('off')"
   ]
  },
  {
   "cell_type": "markdown",
   "metadata": {},
   "source": [
    "## Kd trees"
   ]
  },
  {
   "cell_type": "code",
   "execution_count": null,
   "metadata": {},
   "outputs": [],
   "source": [
    "class KD_Tree:\n",
    "    def __init__(self, index, ancestor, mins, maxs):\n",
    "        self.index = index\n",
    "        self.ancestor = ancestor\n",
    "        self.mins = mins\n",
    "        self.maxs = maxs\n",
    "        self.direction = None        \n",
    "        self.pivot = None\n",
    "        self.left = None\n",
    "        self.right = None"
   ]
  },
  {
   "cell_type": "code",
   "execution_count": null,
   "metadata": {},
   "outputs": [],
   "source": [
    "def split(X, index, method):\n",
    "    '''Split method (max spread or max variance)\n",
    "    \n",
    "    Parameters\n",
    "    ----------\n",
    "    X : np.ndarray \n",
    "        Data (n_samples, n_features)\n",
    "    index : np.ndarray\n",
    "        Sample indices, within range(n_samples)\n",
    "    method : str, 'maxspread' or 'maxvariance'\n",
    "        Method \n",
    "        \n",
    "    Returns\n",
    "    -------\n",
    "    k : int\n",
    "        Direction, in range(n_features)\n",
    "    i : int\n",
    "        Pivot, in range(n_samples)\n",
    "    '''\n",
    "    if method == 'maxspread':\n",
    "        # max spread\n",
    "        mins = np.min(X[index], axis = 0)\n",
    "        maxs = np.max(X[index], axis = 0)\n",
    "        k = np.argmax(maxs - mins)\n",
    "        middle = (maxs[k] + mins[k]) / 2\n",
    "        i = index[np.argmin(np.abs(X[index,k] - middle))]\n",
    "    else:\n",
    "        # max variance\n",
    "        k = np.argmax(np.std(X[index], axis = 0))\n",
    "        i = index[np.argsort(X[index,k])[len(index) // 2]]\n",
    "    return k, i"
   ]
  },
  {
   "cell_type": "code",
   "execution_count": null,
   "metadata": {},
   "outputs": [],
   "source": [
    "def build_kd_tree(X, index = None, ancestor = None, mins = None, maxs = None, leaf_size = 30, method = 'maxspread'):\n",
    "    '''Build the kd-tree from data.\n",
    "    \n",
    "    Parameters\n",
    "    ----------\n",
    "    X : np.ndarray \n",
    "        Data (n_samples, n_features)\n",
    "    index : np.ndarray or None\n",
    "        Sample indices, within range(n_samples)\n",
    "    ancestor : KD_Tree or None\n",
    "        Ancestor of the current node\n",
    "    mins : np.ndarray or None\n",
    "        Min values of the rectangle, shape (n_features,)\n",
    "    maxs : np.ndarray\n",
    "        Max values of the rectangle, shape (n_features,)\n",
    "    leaf_size : int\n",
    "        Leaf size of the kd-tree \n",
    "    method : str, 'maxspread' or 'maxvariance'\n",
    "        Split method \n",
    "        \n",
    "    Returns\n",
    "    -------\n",
    "    tree : KD_Tree\n",
    "        kd-tree\n",
    "    '''\n",
    "    if index is None:\n",
    "        index = np.arange(X.shape[0])\n",
    "        mins = np.min(X[index], axis = 0)\n",
    "        maxs = np.max(X[index], axis = 0)\n",
    "    tree = KD_Tree(index, ancestor, mins, maxs)\n",
    "    if len(index) > leaf_size:\n",
    "        k,i = split(X, index, method)\n",
    "        tree.direction, tree.pivot = k, i\n",
    "        index = np.array(list(set(index) - {i}))\n",
    "        index_left = index[np.where(X[index,k] <= X[i,k])[0]]\n",
    "        maxs_ = maxs.copy()\n",
    "        maxs_[k] = X[i,k]\n",
    "        tree.left = build_kd_tree(X, index_left, tree, mins, maxs_, leaf_size, method)\n",
    "        index_right = index[np.where(X[index,k] > X[i,k])[0]]\n",
    "        mins_ = mins.copy()\n",
    "        mins_[k] = X[i,k]        \n",
    "        tree.right = build_kd_tree(X, index_right, tree, mins_, maxs, leaf_size, method)\n",
    "    return tree"
   ]
  },
  {
   "cell_type": "code",
   "execution_count": null,
   "metadata": {},
   "outputs": [],
   "source": [
    "def search_leaf(x, X, tree):\n",
    "    '''Search the leaf node of the kd-tree given some target.\n",
    "    \n",
    "    Parameters\n",
    "    ----------\n",
    "    x : np.ndarray\n",
    "        Target (n_features,)\n",
    "    X : np.ndarray \n",
    "        Data (n_samples, n_features)\n",
    "    tree : KD_Tree\n",
    "        kd-tree\n",
    "        \n",
    "    Returns\n",
    "    -------\n",
    "    tree : KD_Tree\n",
    "        Leaf node\n",
    "    '''\n",
    "    if tree.pivot is not None:\n",
    "        k = tree.direction\n",
    "        i = tree.pivot\n",
    "        if x[k] <= X[i,k]:\n",
    "            return search_leaf(x, X, tree.left)\n",
    "        else:\n",
    "            return search_leaf(x, X, tree.right)\n",
    "    else:\n",
    "        return tree"
   ]
  },
  {
   "cell_type": "code",
   "execution_count": null,
   "metadata": {},
   "outputs": [],
   "source": [
    "def nn_search_kd_tree(x, X, tree):\n",
    "    '''Search the nearest neighbor of some target.\n",
    "    \n",
    "    Parameters\n",
    "    ----------\n",
    "    x : np.ndarray\n",
    "        Target (n_features,)\n",
    "    X : np.ndarray \n",
    "        Data (n_samples, n_features)\n",
    "    tree : KD_Tree\n",
    "        kd-tree\n",
    "        \n",
    "    Returns\n",
    "    -------\n",
    "    nn : int\n",
    "        Index of the nearest neighbor\n",
    "    '''\n",
    "    node = search_leaf(x, X, tree)\n",
    "    index = node.index\n",
    "    nn = None\n",
    "    if len(index):\n",
    "        nn = index[np.argmin(np.linalg.norm(X[index] - x, axis = 1))]\n",
    "        dist = np.linalg.norm(X[nn] - x)\n",
    "    \n",
    "    while node.ancestor is not None:\n",
    "        previous = node\n",
    "        node = node.ancestor\n",
    "        if nn is None or np.linalg.norm(X[node.pivot] - x) < dist:\n",
    "            nn = node.pivot\n",
    "            dist = np.linalg.norm(X[nn] - x)\n",
    "        if previous == node.left:\n",
    "            tree_ = node.right\n",
    "        else:\n",
    "            tree_ = node.left\n",
    "        if tree_ is not None and len(tree_.index):\n",
    "            explore = False\n",
    "            if not tree_.pivot:\n",
    "                explore = True\n",
    "            else:\n",
    "                y = np.maximum(tree_.mins, np.minimum(tree_.maxs, x))\n",
    "                explore = (np.linalg.norm(x - y) < dist)\n",
    "            if explore:\n",
    "                ancestor = tree_.ancestor\n",
    "                tree_.ancestor = None\n",
    "                nn_ = nn_search_kd_tree(x, X, tree_)\n",
    "                dist_ = np.linalg.norm(X[nn_] - x)\n",
    "                if dist_ < dist:\n",
    "                    nn, dist = nn_, dist_\n",
    "                tree_.ancestor = ancestor\n",
    "    return nn"
   ]
  },
  {
   "cell_type": "markdown",
   "metadata": {},
   "source": [
    "## Questions"
   ]
  },
  {
   "cell_type": "markdown",
   "metadata": {},
   "source": [
    "1. What is the closest city from the [Null Island](https://fr.wikipedia.org/wiki/Null_Island) (provide the name)?"
   ]
  },
  {
   "cell_type": "markdown",
   "metadata": {},
   "source": [
    "2. What are the 10 closest cities from Paris (provide the names)?<br>\n",
    "Choose the true Paris :-)"
   ]
  },
  {
   "cell_type": "markdown",
   "metadata": {},
   "source": [
    "3. Compare the previous search time to a brute force approach (with default leaf size = 30)."
   ]
  },
  {
   "cell_type": "markdown",
   "metadata": {},
   "source": [
    "4. Do the same comparison for synthetic data (with $10^6$ samples for instance). Comment."
   ]
  },
  {
   "cell_type": "markdown",
   "metadata": {},
   "source": [
    "5. What is the depth of the leaf node containing Paris in the kd-tree? <br>\n",
    "Test various leaf sizes (e.g., 1, 10, 100, ...) and comment."
   ]
  },
  {
   "cell_type": "markdown",
   "metadata": {},
   "source": [
    "6. Build the graph of 3-nearest neighbors. You must return the adjacency matrix of the graph in the sparse format of your choice. How many connected components are there in this graph, considered as undirected (check [this](https://docs.scipy.org/doc/scipy/reference/generated/scipy.sparse.csgraph.connected_components.html))? Show the 3 largest connected components on the map. "
   ]
  },
  {
   "cell_type": "markdown",
   "metadata": {},
   "source": [
    "7. (optional) Code the nearest neighbor search with a ball tree and compare the performance with kd-trees."
   ]
  },
  {
   "cell_type": "markdown",
   "metadata": {},
   "source": [
    "8. (optional) Do the same with the actual distances between cities!"
   ]
  }
 ],
 "metadata": {
  "kernelspec": {
   "display_name": "Python 3",
   "language": "python",
   "name": "python3"
  },
  "language_info": {
   "codemirror_mode": {
    "name": "ipython",
    "version": 3
   },
   "file_extension": ".py",
   "mimetype": "text/x-python",
   "name": "python",
   "nbconvert_exporter": "python",
   "pygments_lexer": "ipython3",
   "version": "3.7.4"
  }
 },
 "nbformat": 4,
 "nbformat_minor": 2
}
