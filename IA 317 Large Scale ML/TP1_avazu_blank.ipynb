{
  "nbformat": 4,
  "nbformat_minor": 0,
  "metadata": {
    "kernelspec": {
      "name": "python3",
      "display_name": "Python 3"
    },
    "language_info": {
      "codemirror_mode": {
        "name": "ipython",
        "version": 3
      },
      "file_extension": ".py",
      "mimetype": "text/x-python",
      "name": "python",
      "nbconvert_exporter": "python",
      "pygments_lexer": "ipython3",
      "version": "3.7.2"
    },
    "colab": {
      "name": "TP1-avazu-blank.ipynb",
      "provenance": [],
      "collapsed_sections": []
    },
    "accelerator": "GPU"
  },
  "cells": [
    {
      "cell_type": "markdown",
      "metadata": {
        "id": "5BnGYg5FYcTb",
        "colab_type": "text"
      },
      "source": [
        "<h1><center>Practice of Large Scale Machine Learning - TP1 Avazu<center></h1>\n",
        "<h2><center>IA317<center></h2>\n"
      ]
    },
    {
      "cell_type": "markdown",
      "metadata": {
        "id": "N2QU9Lk5YcTk",
        "colab_type": "text"
      },
      "source": [
        "#Introduction\n",
        "\n",
        "In online advertising, click-through rate (CTR) is a very important metric for evaluating ad performance. As a result, click prediction systems are essential and widely used for sponsored search and real-time bidding. The goal of this TP is to build and test prediction models on 11 days of Avazu data.\n",
        "\n",
        "#### For any remark or suggestion, please feel free to contact us at: \n",
        "#### pascal.bianchi@telecom-paris.fr\n",
        "#### nidham.gazagnadou@telecom-paris.fr\n",
        "#### kevin.elgui@telecom-paris.fr"
      ]
    },
    {
      "cell_type": "code",
      "metadata": {
        "id": "z2yZusf12lgP",
        "colab_type": "code",
        "outputId": "70670269-4a12-443a-d0a4-568b26da0548",
        "colab": {
          "base_uri": "https://localhost:8080/",
          "height": 35
        }
      },
      "source": [
        "import sys\n",
        "import os\n",
        "from google.colab import drive\n",
        "\n",
        "drive.mount('/content/gdrive')\n",
        "root_path = 'gdrive/My Drive/Colab Notebooks/tp_avazu'  # your new root path\n",
        "\n",
        "sys.path.append(os.path.join(root_path, 'notebooks')) # for importing from utils.py"
      ],
      "execution_count": 2,
      "outputs": [
        {
          "output_type": "stream",
          "text": [
            "Drive already mounted at /content/gdrive; to attempt to forcibly remount, call drive.mount(\"/content/gdrive\", force_remount=True).\n"
          ],
          "name": "stdout"
        }
      ]
    },
    {
      "cell_type": "markdown",
      "metadata": {
        "id": "vxsbsRu7YcTo",
        "colab_type": "text"
      },
      "source": [
        "<font color=\"red\">**Question:**\n",
        "    Import the needed packages: numpy, pandas etc..\n",
        "</font>"
      ]
    },
    {
      "cell_type": "code",
      "metadata": {
        "id": "T60UC4foYcTr",
        "colab_type": "code",
        "colab": {}
      },
      "source": [
        "import numpy as np\n",
        "import pandas as pd\n",
        "import matplotlib.pyplot as plt\n",
        "import seaborn as sns\n",
        "import datetime\n",
        "%matplotlib inline"
      ],
      "execution_count": 0,
      "outputs": []
    },
    {
      "cell_type": "code",
      "metadata": {
        "id": "Fz9emRwgHPNC",
        "colab_type": "code",
        "colab": {}
      },
      "source": [
        "## Try to run de cell\n",
        "from utils import plotlift"
      ],
      "execution_count": 0,
      "outputs": []
    },
    {
      "cell_type": "markdown",
      "metadata": {
        "id": "1xrsFhCiYcT5",
        "colab_type": "text"
      },
      "source": [
        "# The dataset"
      ]
    },
    {
      "cell_type": "markdown",
      "metadata": {
        "id": "eOZWhU4lYcT9",
        "colab_type": "text"
      },
      "source": [
        "<font color=\"red\">**Question:**\n",
        "    Load the data *'data_tp/train-1000000'* into a pandas DataFrame. Use the function 'os.path.join()' to indicate the full path. Then, display the first lines with the \".head()\" method.\n",
        "    <br>\n",
        "</font>\n",
        "**Remark**: the features meaning is available at https://www.kaggle.com/c/avazu-ctr-prediction/data"
      ]
    },
    {
      "cell_type": "code",
      "metadata": {
        "id": "tWvQXG4uYcUB",
        "colab_type": "code",
        "colab": {}
      },
      "source": [
        "df = pd.read_csv( os.path.join(root_path,'data/train-1000000') )"
      ],
      "execution_count": 0,
      "outputs": []
    },
    {
      "cell_type": "code",
      "metadata": {
        "id": "uLSo2y32YcUK",
        "colab_type": "code",
        "outputId": "d440605d-e37e-4e64-8162-d35d08d33833",
        "colab": {
          "base_uri": "https://localhost:8080/",
          "height": 224
        }
      },
      "source": [
        "df. head() # Fill here"
      ],
      "execution_count": 6,
      "outputs": [
        {
          "output_type": "execute_result",
          "data": {
            "text/html": [
              "<div>\n",
              "<style scoped>\n",
              "    .dataframe tbody tr th:only-of-type {\n",
              "        vertical-align: middle;\n",
              "    }\n",
              "\n",
              "    .dataframe tbody tr th {\n",
              "        vertical-align: top;\n",
              "    }\n",
              "\n",
              "    .dataframe thead th {\n",
              "        text-align: right;\n",
              "    }\n",
              "</style>\n",
              "<table border=\"1\" class=\"dataframe\">\n",
              "  <thead>\n",
              "    <tr style=\"text-align: right;\">\n",
              "      <th></th>\n",
              "      <th>id</th>\n",
              "      <th>click</th>\n",
              "      <th>hour</th>\n",
              "      <th>C1</th>\n",
              "      <th>banner_pos</th>\n",
              "      <th>site_id</th>\n",
              "      <th>site_domain</th>\n",
              "      <th>site_category</th>\n",
              "      <th>app_id</th>\n",
              "      <th>app_domain</th>\n",
              "      <th>app_category</th>\n",
              "      <th>device_id</th>\n",
              "      <th>device_ip</th>\n",
              "      <th>device_model</th>\n",
              "      <th>device_type</th>\n",
              "      <th>device_conn_type</th>\n",
              "      <th>C14</th>\n",
              "      <th>C15</th>\n",
              "      <th>C16</th>\n",
              "      <th>C17</th>\n",
              "      <th>C18</th>\n",
              "      <th>C19</th>\n",
              "      <th>C20</th>\n",
              "      <th>C21</th>\n",
              "    </tr>\n",
              "  </thead>\n",
              "  <tbody>\n",
              "    <tr>\n",
              "      <th>0</th>\n",
              "      <td>3.983206e+18</td>\n",
              "      <td>0</td>\n",
              "      <td>14102915</td>\n",
              "      <td>1005</td>\n",
              "      <td>1</td>\n",
              "      <td>e151e245</td>\n",
              "      <td>7e091613</td>\n",
              "      <td>f028772b</td>\n",
              "      <td>ecad2386</td>\n",
              "      <td>7801e8d9</td>\n",
              "      <td>07d7df22</td>\n",
              "      <td>a99f214a</td>\n",
              "      <td>fb6566d3</td>\n",
              "      <td>be87996b</td>\n",
              "      <td>1</td>\n",
              "      <td>2</td>\n",
              "      <td>4687</td>\n",
              "      <td>320</td>\n",
              "      <td>50</td>\n",
              "      <td>423</td>\n",
              "      <td>2</td>\n",
              "      <td>39</td>\n",
              "      <td>100148</td>\n",
              "      <td>32</td>\n",
              "    </tr>\n",
              "    <tr>\n",
              "      <th>1</th>\n",
              "      <td>7.756884e+18</td>\n",
              "      <td>0</td>\n",
              "      <td>14103007</td>\n",
              "      <td>1002</td>\n",
              "      <td>0</td>\n",
              "      <td>cb809abf</td>\n",
              "      <td>74acf31a</td>\n",
              "      <td>50e219e0</td>\n",
              "      <td>ecad2386</td>\n",
              "      <td>7801e8d9</td>\n",
              "      <td>07d7df22</td>\n",
              "      <td>9b7af851</td>\n",
              "      <td>ac5a4a77</td>\n",
              "      <td>7e6190f3</td>\n",
              "      <td>0</td>\n",
              "      <td>0</td>\n",
              "      <td>17894</td>\n",
              "      <td>320</td>\n",
              "      <td>50</td>\n",
              "      <td>2039</td>\n",
              "      <td>2</td>\n",
              "      <td>39</td>\n",
              "      <td>100077</td>\n",
              "      <td>32</td>\n",
              "    </tr>\n",
              "    <tr>\n",
              "      <th>2</th>\n",
              "      <td>6.941774e+17</td>\n",
              "      <td>0</td>\n",
              "      <td>14102711</td>\n",
              "      <td>1005</td>\n",
              "      <td>0</td>\n",
              "      <td>85f751fd</td>\n",
              "      <td>c4e18dd6</td>\n",
              "      <td>50e219e0</td>\n",
              "      <td>e9739828</td>\n",
              "      <td>df32afa9</td>\n",
              "      <td>cef3e649</td>\n",
              "      <td>a99f214a</td>\n",
              "      <td>748e298a</td>\n",
              "      <td>3c55fad5</td>\n",
              "      <td>1</td>\n",
              "      <td>0</td>\n",
              "      <td>22684</td>\n",
              "      <td>320</td>\n",
              "      <td>50</td>\n",
              "      <td>2619</td>\n",
              "      <td>1</td>\n",
              "      <td>163</td>\n",
              "      <td>100055</td>\n",
              "      <td>71</td>\n",
              "    </tr>\n",
              "    <tr>\n",
              "      <th>3</th>\n",
              "      <td>2.664154e+18</td>\n",
              "      <td>1</td>\n",
              "      <td>14102903</td>\n",
              "      <td>1005</td>\n",
              "      <td>0</td>\n",
              "      <td>85f751fd</td>\n",
              "      <td>c4e18dd6</td>\n",
              "      <td>50e219e0</td>\n",
              "      <td>a5184c22</td>\n",
              "      <td>b8d325c3</td>\n",
              "      <td>0f2161f8</td>\n",
              "      <td>a99f214a</td>\n",
              "      <td>a50da3d4</td>\n",
              "      <td>c5cc73c1</td>\n",
              "      <td>1</td>\n",
              "      <td>0</td>\n",
              "      <td>23222</td>\n",
              "      <td>320</td>\n",
              "      <td>50</td>\n",
              "      <td>2676</td>\n",
              "      <td>0</td>\n",
              "      <td>35</td>\n",
              "      <td>100176</td>\n",
              "      <td>221</td>\n",
              "    </tr>\n",
              "    <tr>\n",
              "      <th>4</th>\n",
              "      <td>1.480510e+19</td>\n",
              "      <td>0</td>\n",
              "      <td>14102902</td>\n",
              "      <td>1005</td>\n",
              "      <td>1</td>\n",
              "      <td>791b5571</td>\n",
              "      <td>fd13bc73</td>\n",
              "      <td>f028772b</td>\n",
              "      <td>ecad2386</td>\n",
              "      <td>7801e8d9</td>\n",
              "      <td>07d7df22</td>\n",
              "      <td>a99f214a</td>\n",
              "      <td>d5f88679</td>\n",
              "      <td>a5bce124</td>\n",
              "      <td>1</td>\n",
              "      <td>0</td>\n",
              "      <td>8330</td>\n",
              "      <td>320</td>\n",
              "      <td>50</td>\n",
              "      <td>761</td>\n",
              "      <td>3</td>\n",
              "      <td>175</td>\n",
              "      <td>100081</td>\n",
              "      <td>23</td>\n",
              "    </tr>\n",
              "  </tbody>\n",
              "</table>\n",
              "</div>"
            ],
            "text/plain": [
              "             id  click      hour    C1  banner_pos  ...   C17 C18  C19     C20  C21\n",
              "0  3.983206e+18      0  14102915  1005           1  ...   423   2   39  100148   32\n",
              "1  7.756884e+18      0  14103007  1002           0  ...  2039   2   39  100077   32\n",
              "2  6.941774e+17      0  14102711  1005           0  ...  2619   1  163  100055   71\n",
              "3  2.664154e+18      1  14102903  1005           0  ...  2676   0   35  100176  221\n",
              "4  1.480510e+19      0  14102902  1005           1  ...   761   3  175  100081   23\n",
              "\n",
              "[5 rows x 24 columns]"
            ]
          },
          "metadata": {
            "tags": []
          },
          "execution_count": 6
        }
      ]
    },
    {
      "cell_type": "markdown",
      "metadata": {
        "id": "Cbg9-3qRYcUQ",
        "colab_type": "text"
      },
      "source": [
        "<font color=\"red\">**Question:**\n",
        "    What is the 'click' frequency in the dataset?\n",
        "    <br>\n",
        "    Hint: 'click' is a binary output (0 or 1)\n",
        "</font>"
      ]
    },
    {
      "cell_type": "code",
      "metadata": {
        "id": "l-1q2lVuYcUS",
        "colab_type": "code",
        "outputId": "6606607b-2181-4b92-f108-7f9465fe467c",
        "colab": {
          "base_uri": "https://localhost:8080/",
          "height": 35
        }
      },
      "source": [
        "df['click'].sum() / df['click'].count() # Fill here"
      ],
      "execution_count": 7,
      "outputs": [
        {
          "output_type": "execute_result",
          "data": {
            "text/plain": [
              "0.169971"
            ]
          },
          "metadata": {
            "tags": []
          },
          "execution_count": 7
        }
      ]
    },
    {
      "cell_type": "markdown",
      "metadata": {
        "id": "OTyZBmSrKR1z",
        "colab_type": "text"
      },
      "source": [
        "Your answer here\n",
        "\n",
        "The click frequency is 0.169971"
      ]
    },
    {
      "cell_type": "markdown",
      "metadata": {
        "id": "6dFgRBOeYcUY",
        "colab_type": "text"
      },
      "source": [
        "We note that the Avazu dataset is very unbalanced. The 'click' class represents less than a fifth of the whole database. We already know that a classifier always predicting 'click'=0 will have good preformances in terms of error rate (around 0.17). The ROC and lift curves will be better performance metrics."
      ]
    },
    {
      "cell_type": "markdown",
      "metadata": {
        "id": "BFGwt6vTYcUa",
        "colab_type": "text"
      },
      "source": [
        "<font color=\"red\">**Question:**\n",
        "    What are the categorical features? Using the 'df.nunique()' method, compute the number of distincts values for each of these features.\n",
        "</font>"
      ]
    },
    {
      "cell_type": "code",
      "metadata": {
        "id": "2eLXMTTkYcUb",
        "colab_type": "code",
        "outputId": "e01df09b-f92f-4966-94a0-a86127ea5f98",
        "colab": {
          "base_uri": "https://localhost:8080/",
          "height": 467
        }
      },
      "source": [
        "df.nunique() # Fill here"
      ],
      "execution_count": 8,
      "outputs": [
        {
          "output_type": "execute_result",
          "data": {
            "text/plain": [
              "id                  1000000\n",
              "click                     2\n",
              "hour                    240\n",
              "C1                        7\n",
              "banner_pos                7\n",
              "site_id                2651\n",
              "site_domain            2871\n",
              "site_category            22\n",
              "app_id                 3157\n",
              "app_domain              198\n",
              "app_category             26\n",
              "device_id            150501\n",
              "device_ip            555248\n",
              "device_model           5168\n",
              "device_type               5\n",
              "device_conn_type          4\n",
              "C14                    2243\n",
              "C15                       8\n",
              "C16                       9\n",
              "C17                     420\n",
              "C18                       4\n",
              "C19                      66\n",
              "C20                     163\n",
              "C21                      60\n",
              "dtype: int64"
            ]
          },
          "metadata": {
            "tags": []
          },
          "execution_count": 8
        }
      ]
    },
    {
      "cell_type": "code",
      "metadata": {
        "id": "Smo3Y-qJZkdA",
        "colab_type": "code",
        "colab": {
          "base_uri": "https://localhost:8080/",
          "height": 107
        },
        "outputId": "6fcff1cf-d873-47de-fe75-2c7545907666"
      },
      "source": [
        "df.columns"
      ],
      "execution_count": 136,
      "outputs": [
        {
          "output_type": "execute_result",
          "data": {
            "text/plain": [
              "Index(['id', 'click', 'hour', 'C1', 'banner_pos', 'site_category', 'app_id',\n",
              "       'app_domain', 'app_category', 'device_type', 'device_conn_type', 'C14',\n",
              "       'C15', 'C16', 'C17', 'C18', 'C19', 'C20', 'C21', 'weekday', 'user',\n",
              "       'site'],\n",
              "      dtype='object')"
            ]
          },
          "metadata": {
            "tags": []
          },
          "execution_count": 136
        }
      ]
    },
    {
      "cell_type": "markdown",
      "metadata": {
        "colab_type": "text",
        "id": "0lirn-2rfmn_"
      },
      "source": [
        "Your answer here\n",
        "\n",
        "The categorical features are: 'hour', 'C1', 'banner_pos', 'site_category', 'app_id',\n",
        "       'app_domain', 'app_category', 'device_type', 'device_conn_type', 'C14',\n",
        "       'C15', 'C16', 'C17', 'C18', 'C19', 'C20', 'C21', 'weekday', 'user'"
      ]
    },
    {
      "cell_type": "markdown",
      "metadata": {
        "id": "OGJwlJ6VYcUj",
        "colab_type": "text"
      },
      "source": [
        "<font color=\"red\">**Question:**\n",
        "    If one does a dummy encoding of all categorical variables, what would be the dimension of the model?\n",
        "    In other words: what would be the dimension of our big feature vector encoded with dummies. \n",
        "    <br>\n",
        "    Hint: if you have just 1 feature with 3 categories A, B and C, you would have a vector of dimension 3 (or 2 if you use drop_first=True).\n",
        "</font>"
      ]
    },
    {
      "cell_type": "code",
      "metadata": {
        "id": "DL2wN3tXYcUk",
        "colab_type": "code",
        "outputId": "647feb9c-1ace-4236-acff-d44e64dda837",
        "colab": {
          "base_uri": "https://localhost:8080/",
          "height": 89
        }
      },
      "source": [
        "df.nunique().values  "
      ],
      "execution_count": 9,
      "outputs": [
        {
          "output_type": "execute_result",
          "data": {
            "text/plain": [
              "array([1000000,       2,     240,       7,       7,    2651,    2871,\n",
              "            22,    3157,     198,      26,  150501,  555248,    5168,\n",
              "             5,       4,    2243,       8,       9,     420,       4,\n",
              "            66,     163,      60])"
            ]
          },
          "metadata": {
            "tags": []
          },
          "execution_count": 9
        }
      ]
    },
    {
      "cell_type": "code",
      "metadata": {
        "id": "LLBqtfH3ZKUe",
        "colab_type": "code",
        "colab": {
          "base_uri": "https://localhost:8080/",
          "height": 35
        },
        "outputId": "644655c6-3666-4a77-dfc1-74646747edcf"
      },
      "source": [
        "df.nunique().values.sum()"
      ],
      "execution_count": 135,
      "outputs": [
        {
          "output_type": "execute_result",
          "data": {
            "text/plain": [
              "1781935"
            ]
          },
          "metadata": {
            "tags": []
          },
          "execution_count": 135
        }
      ]
    },
    {
      "cell_type": "markdown",
      "metadata": {
        "colab_type": "text",
        "id": "4sfr6kkTfn1_"
      },
      "source": [
        "Your answer here\n",
        "\n",
        "The dimension of our big feature vector encoded with dummies would be 1781935 (or 1781911 use drop_first=True)."
      ]
    },
    {
      "cell_type": "markdown",
      "metadata": {
        "id": "_PYpWlX6YcUq",
        "colab_type": "text"
      },
      "source": [
        "<font color=\"red\">**Question:**\n",
        "    Analyze the 'hour' column: which format is used? How can we transform/simply this feature?\n",
        "</font>"
      ]
    },
    {
      "cell_type": "code",
      "metadata": {
        "id": "zfbvfYBfYcUr",
        "colab_type": "code",
        "outputId": "e8f9ad93-8b02-4b7c-ad1d-8e93071f2fc1",
        "colab": {
          "base_uri": "https://localhost:8080/",
          "height": 233
        }
      },
      "source": [
        "print(df[ 'hour' ].head()) # Fill here\n",
        "print(df[ 'hour' ].tail()) # Fill here"
      ],
      "execution_count": 10,
      "outputs": [
        {
          "output_type": "stream",
          "text": [
            "0    14102915\n",
            "1    14103007\n",
            "2    14102711\n",
            "3    14102903\n",
            "4    14102902\n",
            "Name: hour, dtype: int64\n",
            "999995    14102602\n",
            "999996    14102101\n",
            "999997    14102318\n",
            "999998    14102908\n",
            "999999    14102600\n",
            "Name: hour, dtype: int64\n"
          ],
          "name": "stdout"
        }
      ]
    },
    {
      "cell_type": "markdown",
      "metadata": {
        "colab_type": "text",
        "id": "Wyc_XCRmfoWk"
      },
      "source": [
        "Your answer here\n",
        "\n",
        "It use the format yy-mm-dd-hh and we could extract the hour and weekday as the new features."
      ]
    },
    {
      "cell_type": "markdown",
      "metadata": {
        "id": "oTQo-GPRYcUw",
        "colab_type": "text"
      },
      "source": [
        "<font color=\"red\">**Question:**\n",
        "    Run and understand the following script.\n",
        "</font>"
      ]
    },
    {
      "cell_type": "code",
      "metadata": {
        "id": "kOKSh2RjYcUz",
        "colab_type": "code",
        "outputId": "e6bf4abf-e514-43df-b008-68294cda11d8",
        "colab": {
          "base_uri": "https://localhost:8080/",
          "height": 35
        }
      },
      "source": [
        "import datetime\n",
        "\n",
        "def datesplit(originalDate):\n",
        "    originalDate = str(originalDate)\n",
        "    \n",
        "    year = int(\"20\" + originalDate[0:2])\n",
        "    month = int(originalDate[2:4])\n",
        "    day = int(originalDate[4:6])\n",
        "    hour = int(originalDate[6:8])\n",
        "    \n",
        "    return datetime.datetime(year, month, day, hour)\n",
        "\n",
        "# Exemple :\n",
        "datesplit(14102915).weekday(), datesplit(14102915).hour"
      ],
      "execution_count": 11,
      "outputs": [
        {
          "output_type": "execute_result",
          "data": {
            "text/plain": [
              "(2, 15)"
            ]
          },
          "metadata": {
            "tags": []
          },
          "execution_count": 11
        }
      ]
    },
    {
      "cell_type": "markdown",
      "metadata": {
        "id": "CrRiyg01YcU4",
        "colab_type": "text"
      },
      "source": [
        "<font color=\"red\">**Question:**\n",
        "    Using the \".apply( ... )\" method, create a 'weekday' for the day of the week. Then, replace the 'hour' column by the hour.\n",
        "</font>"
      ]
    },
    {
      "cell_type": "markdown",
      "metadata": {
        "id": "hFhI2HFgYcU6",
        "colab_type": "text"
      },
      "source": [
        "To answer this question you have to understand that applies takes a function as argument\n",
        "<br>\n",
        "\"lambda x: ... \" is used to create local unamed function of x\n",
        "<br>\n",
        "Check the documentation: https://docs.python.org/3/tutorial/controlflow.html#lambda-expressions"
      ]
    },
    {
      "cell_type": "code",
      "metadata": {
        "id": "nDWxoncVYcU7",
        "colab_type": "code",
        "colab": {}
      },
      "source": [
        "df['weekday'] = df['hour'].apply(lambda x: datesplit(x).weekday() ) # Fill here\n",
        "df['hour'] = df['hour'].apply(lambda x: datesplit(x).hour ) # Fill here"
      ],
      "execution_count": 0,
      "outputs": []
    },
    {
      "cell_type": "markdown",
      "metadata": {
        "id": "t7e9LOv6YcU_",
        "colab_type": "text"
      },
      "source": [
        "<font color=\"red\">**Question:**\n",
        "    Using the \".groupby( ... )\" method, visualize the influence of the hour and of the day on the 'click' frequency (take the \".mean()\"!). To do so, plot 'click' vs 'hour' and 'click' vs 'weekday' curves.\n",
        "    <br>\n",
        "    Precise the name of the axes.\n",
        "</font>"
      ]
    },
    {
      "cell_type": "code",
      "metadata": {
        "id": "9Js-Vnb3driS",
        "colab_type": "code",
        "outputId": "13fc50c2-1d49-4c38-b448-d3e76ec8955a",
        "colab": {
          "base_uri": "https://localhost:8080/",
          "height": 224
        }
      },
      "source": [
        "df.head()"
      ],
      "execution_count": 13,
      "outputs": [
        {
          "output_type": "execute_result",
          "data": {
            "text/html": [
              "<div>\n",
              "<style scoped>\n",
              "    .dataframe tbody tr th:only-of-type {\n",
              "        vertical-align: middle;\n",
              "    }\n",
              "\n",
              "    .dataframe tbody tr th {\n",
              "        vertical-align: top;\n",
              "    }\n",
              "\n",
              "    .dataframe thead th {\n",
              "        text-align: right;\n",
              "    }\n",
              "</style>\n",
              "<table border=\"1\" class=\"dataframe\">\n",
              "  <thead>\n",
              "    <tr style=\"text-align: right;\">\n",
              "      <th></th>\n",
              "      <th>id</th>\n",
              "      <th>click</th>\n",
              "      <th>hour</th>\n",
              "      <th>C1</th>\n",
              "      <th>banner_pos</th>\n",
              "      <th>site_id</th>\n",
              "      <th>site_domain</th>\n",
              "      <th>site_category</th>\n",
              "      <th>app_id</th>\n",
              "      <th>app_domain</th>\n",
              "      <th>app_category</th>\n",
              "      <th>device_id</th>\n",
              "      <th>device_ip</th>\n",
              "      <th>device_model</th>\n",
              "      <th>device_type</th>\n",
              "      <th>device_conn_type</th>\n",
              "      <th>C14</th>\n",
              "      <th>C15</th>\n",
              "      <th>C16</th>\n",
              "      <th>C17</th>\n",
              "      <th>C18</th>\n",
              "      <th>C19</th>\n",
              "      <th>C20</th>\n",
              "      <th>C21</th>\n",
              "      <th>weekday</th>\n",
              "    </tr>\n",
              "  </thead>\n",
              "  <tbody>\n",
              "    <tr>\n",
              "      <th>0</th>\n",
              "      <td>3.983206e+18</td>\n",
              "      <td>0</td>\n",
              "      <td>15</td>\n",
              "      <td>1005</td>\n",
              "      <td>1</td>\n",
              "      <td>e151e245</td>\n",
              "      <td>7e091613</td>\n",
              "      <td>f028772b</td>\n",
              "      <td>ecad2386</td>\n",
              "      <td>7801e8d9</td>\n",
              "      <td>07d7df22</td>\n",
              "      <td>a99f214a</td>\n",
              "      <td>fb6566d3</td>\n",
              "      <td>be87996b</td>\n",
              "      <td>1</td>\n",
              "      <td>2</td>\n",
              "      <td>4687</td>\n",
              "      <td>320</td>\n",
              "      <td>50</td>\n",
              "      <td>423</td>\n",
              "      <td>2</td>\n",
              "      <td>39</td>\n",
              "      <td>100148</td>\n",
              "      <td>32</td>\n",
              "      <td>2</td>\n",
              "    </tr>\n",
              "    <tr>\n",
              "      <th>1</th>\n",
              "      <td>7.756884e+18</td>\n",
              "      <td>0</td>\n",
              "      <td>7</td>\n",
              "      <td>1002</td>\n",
              "      <td>0</td>\n",
              "      <td>cb809abf</td>\n",
              "      <td>74acf31a</td>\n",
              "      <td>50e219e0</td>\n",
              "      <td>ecad2386</td>\n",
              "      <td>7801e8d9</td>\n",
              "      <td>07d7df22</td>\n",
              "      <td>9b7af851</td>\n",
              "      <td>ac5a4a77</td>\n",
              "      <td>7e6190f3</td>\n",
              "      <td>0</td>\n",
              "      <td>0</td>\n",
              "      <td>17894</td>\n",
              "      <td>320</td>\n",
              "      <td>50</td>\n",
              "      <td>2039</td>\n",
              "      <td>2</td>\n",
              "      <td>39</td>\n",
              "      <td>100077</td>\n",
              "      <td>32</td>\n",
              "      <td>3</td>\n",
              "    </tr>\n",
              "    <tr>\n",
              "      <th>2</th>\n",
              "      <td>6.941774e+17</td>\n",
              "      <td>0</td>\n",
              "      <td>11</td>\n",
              "      <td>1005</td>\n",
              "      <td>0</td>\n",
              "      <td>85f751fd</td>\n",
              "      <td>c4e18dd6</td>\n",
              "      <td>50e219e0</td>\n",
              "      <td>e9739828</td>\n",
              "      <td>df32afa9</td>\n",
              "      <td>cef3e649</td>\n",
              "      <td>a99f214a</td>\n",
              "      <td>748e298a</td>\n",
              "      <td>3c55fad5</td>\n",
              "      <td>1</td>\n",
              "      <td>0</td>\n",
              "      <td>22684</td>\n",
              "      <td>320</td>\n",
              "      <td>50</td>\n",
              "      <td>2619</td>\n",
              "      <td>1</td>\n",
              "      <td>163</td>\n",
              "      <td>100055</td>\n",
              "      <td>71</td>\n",
              "      <td>0</td>\n",
              "    </tr>\n",
              "    <tr>\n",
              "      <th>3</th>\n",
              "      <td>2.664154e+18</td>\n",
              "      <td>1</td>\n",
              "      <td>3</td>\n",
              "      <td>1005</td>\n",
              "      <td>0</td>\n",
              "      <td>85f751fd</td>\n",
              "      <td>c4e18dd6</td>\n",
              "      <td>50e219e0</td>\n",
              "      <td>a5184c22</td>\n",
              "      <td>b8d325c3</td>\n",
              "      <td>0f2161f8</td>\n",
              "      <td>a99f214a</td>\n",
              "      <td>a50da3d4</td>\n",
              "      <td>c5cc73c1</td>\n",
              "      <td>1</td>\n",
              "      <td>0</td>\n",
              "      <td>23222</td>\n",
              "      <td>320</td>\n",
              "      <td>50</td>\n",
              "      <td>2676</td>\n",
              "      <td>0</td>\n",
              "      <td>35</td>\n",
              "      <td>100176</td>\n",
              "      <td>221</td>\n",
              "      <td>2</td>\n",
              "    </tr>\n",
              "    <tr>\n",
              "      <th>4</th>\n",
              "      <td>1.480510e+19</td>\n",
              "      <td>0</td>\n",
              "      <td>2</td>\n",
              "      <td>1005</td>\n",
              "      <td>1</td>\n",
              "      <td>791b5571</td>\n",
              "      <td>fd13bc73</td>\n",
              "      <td>f028772b</td>\n",
              "      <td>ecad2386</td>\n",
              "      <td>7801e8d9</td>\n",
              "      <td>07d7df22</td>\n",
              "      <td>a99f214a</td>\n",
              "      <td>d5f88679</td>\n",
              "      <td>a5bce124</td>\n",
              "      <td>1</td>\n",
              "      <td>0</td>\n",
              "      <td>8330</td>\n",
              "      <td>320</td>\n",
              "      <td>50</td>\n",
              "      <td>761</td>\n",
              "      <td>3</td>\n",
              "      <td>175</td>\n",
              "      <td>100081</td>\n",
              "      <td>23</td>\n",
              "      <td>2</td>\n",
              "    </tr>\n",
              "  </tbody>\n",
              "</table>\n",
              "</div>"
            ],
            "text/plain": [
              "             id  click  hour    C1  banner_pos  ... C18  C19     C20  C21 weekday\n",
              "0  3.983206e+18      0    15  1005           1  ...   2   39  100148   32       2\n",
              "1  7.756884e+18      0     7  1002           0  ...   2   39  100077   32       3\n",
              "2  6.941774e+17      0    11  1005           0  ...   1  163  100055   71       0\n",
              "3  2.664154e+18      1     3  1005           0  ...   0   35  100176  221       2\n",
              "4  1.480510e+19      0     2  1005           1  ...   3  175  100081   23       2\n",
              "\n",
              "[5 rows x 25 columns]"
            ]
          },
          "metadata": {
            "tags": []
          },
          "execution_count": 13
        }
      ]
    },
    {
      "cell_type": "code",
      "metadata": {
        "id": "fLJVdQ-6YcVA",
        "colab_type": "code",
        "outputId": "ff0ba743-7c29-4799-9eba-16fde2d431fc",
        "colab": {
          "base_uri": "https://localhost:8080/",
          "height": 647
        }
      },
      "source": [
        "print(df.groupby( 'hour' )[ 'click' ].mean()) # Fill here for the influence of the hour\n",
        "print(df.groupby( 'weekday' )[ 'click' ].mean()) # Fill here for the influence of the day"
      ],
      "execution_count": 14,
      "outputs": [
        {
          "output_type": "stream",
          "text": [
            "hour\n",
            "0     0.182707\n",
            "1     0.185734\n",
            "2     0.175552\n",
            "3     0.175367\n",
            "4     0.159664\n",
            "5     0.162126\n",
            "6     0.169315\n",
            "7     0.177490\n",
            "8     0.163418\n",
            "9     0.159042\n",
            "10    0.162613\n",
            "11    0.171025\n",
            "12    0.171659\n",
            "13    0.168032\n",
            "14    0.178075\n",
            "15    0.183737\n",
            "16    0.180076\n",
            "17    0.173271\n",
            "18    0.164072\n",
            "19    0.165725\n",
            "20    0.158402\n",
            "21    0.162384\n",
            "22    0.166847\n",
            "23    0.170733\n",
            "Name: click, dtype: float64\n",
            "weekday\n",
            "0    0.183143\n",
            "1    0.161577\n",
            "2    0.158675\n",
            "3    0.173795\n",
            "4    0.173392\n",
            "5    0.183995\n",
            "6    0.183105\n",
            "Name: click, dtype: float64\n"
          ],
          "name": "stdout"
        }
      ]
    },
    {
      "cell_type": "code",
      "metadata": {
        "id": "QD2kpLa-YcVF",
        "colab_type": "code",
        "outputId": "8d41f042-7692-4f92-b852-68bd14169855",
        "colab": {
          "base_uri": "https://localhost:8080/",
          "height": 265
        }
      },
      "source": [
        "plt.plot(df.groupby( 'hour' ).mean()[ 'click' ]); # Fill here for the influence of the hour"
      ],
      "execution_count": 15,
      "outputs": [
        {
          "output_type": "display_data",
          "data": {
            "image/png": "[encoded data removed]",
            "text/plain": [
              "<Figure size 432x288 with 1 Axes>"
            ]
          },
          "metadata": {
            "tags": []
          }
        }
      ]
    },
    {
      "cell_type": "code",
      "metadata": {
        "id": "o3fFdYYTYcVW",
        "colab_type": "code",
        "outputId": "0676c8ce-485e-4107-b3a6-c2b7f5e4bab6",
        "colab": {
          "base_uri": "https://localhost:8080/",
          "height": 267
        }
      },
      "source": [
        "plt.plot(df.groupby( 'weekday' ).mean()[ 'click' ]); # Fill here for the influence of the day"
      ],
      "execution_count": 16,
      "outputs": [
        {
          "output_type": "display_data",
          "data": {
            "image/png": "[encoded data removed]",
            "text/plain": [
              "<Figure size 432x288 with 1 Axes>"
            ]
          },
          "metadata": {
            "tags": []
          }
        }
      ]
    },
    {
      "cell_type": "markdown",
      "metadata": {
        "id": "Aw0uqHqTYcVd",
        "colab_type": "text"
      },
      "source": [
        "# Preliminary work and first model"
      ]
    },
    {
      "cell_type": "markdown",
      "metadata": {
        "id": "6hlQCIDoYcVf",
        "colab_type": "text"
      },
      "source": [
        "Start by understanding the features with few modalities:\n",
        "'hour', 'weekday', 'C1', 'banner_pos', 'site_category', 'app_category', 'device_type', 'device_conn_type', 'C15', 'C16', 'C18', 'C21'."
      ]
    },
    {
      "cell_type": "markdown",
      "metadata": {
        "id": "pl8OmuiOYcVg",
        "colab_type": "text"
      },
      "source": [
        "<font color=\"red\">**Question:**\n",
        "    For instance, inspect the columns 'C15' (dimension of the advert) and 'site_category': visualize the clicks mean.\n",
        "</font>"
      ]
    },
    {
      "cell_type": "code",
      "metadata": {
        "id": "T0_3X-c3YcVi",
        "colab_type": "code",
        "outputId": "32654b4a-a847-4215-8d91-0bf4904f4c73",
        "colab": {
          "base_uri": "https://localhost:8080/",
          "height": 197
        }
      },
      "source": [
        "df.groupby('C15')['click'].mean() # Fill here: inspect 'C15' using '.groupby'"
      ],
      "execution_count": 17,
      "outputs": [
        {
          "output_type": "execute_result",
          "data": {
            "text/plain": [
              "C15\n",
              "120     0.033708\n",
              "216     0.129612\n",
              "300     0.360537\n",
              "320     0.158767\n",
              "480     0.285714\n",
              "728     0.054144\n",
              "768     0.375000\n",
              "1024    0.166667\n",
              "Name: click, dtype: float64"
            ]
          },
          "metadata": {
            "tags": []
          },
          "execution_count": 17
        }
      ]
    },
    {
      "cell_type": "code",
      "metadata": {
        "id": "uZMc5nF-fZHe",
        "colab_type": "code",
        "outputId": "3f090aa0-c399-4cb9-b978-eaea38a09df7",
        "colab": {
          "base_uri": "https://localhost:8080/",
          "height": 283
        }
      },
      "source": [
        "plt.plot(df.groupby('C15')['click'].mean())"
      ],
      "execution_count": 18,
      "outputs": [
        {
          "output_type": "execute_result",
          "data": {
            "text/plain": [
              "[<matplotlib.lines.Line2D at 0x7f144b781048>]"
            ]
          },
          "metadata": {
            "tags": []
          },
          "execution_count": 18
        },
        {
          "output_type": "display_data",
          "data": {
            "image/png": "[encoded data removed]",
            "text/plain": [
              "<Figure size 432x288 with 1 Axes>"
            ]
          },
          "metadata": {
            "tags": []
          }
        }
      ]
    },
    {
      "cell_type": "code",
      "metadata": {
        "id": "BjHI9kpZYcVm",
        "colab_type": "code",
        "outputId": "7fed1ed8-af08-4c6b-dc47-49eb3f15d820",
        "colab": {
          "base_uri": "https://localhost:8080/",
          "height": 449
        }
      },
      "source": [
        "df.groupby('site_category')['click'].mean()\n",
        " # Fill here: inspect 'site_category' using '.groupby'"
      ],
      "execution_count": 19,
      "outputs": [
        {
          "output_type": "execute_result",
          "data": {
            "text/plain": [
              "site_category\n",
              "0569f928    0.053613\n",
              "28905ebd    0.208076\n",
              "335d28a8    0.089824\n",
              "3e814130    0.284245\n",
              "42a36e14    0.225806\n",
              "50e219e0    0.128597\n",
              "5378d028    0.000000\n",
              "70fb0e29    0.144737\n",
              "72722551    0.059172\n",
              "75fa27f6    0.111305\n",
              "76b2941d    0.035756\n",
              "8fd0aea4    0.015873\n",
              "9ccfa2ea    0.000000\n",
              "a818d37a    0.000000\n",
              "bcf865d9    0.000000\n",
              "c0dd3be3    0.128655\n",
              "c706e647    0.000000\n",
              "da34532e    0.000000\n",
              "dedf689d    0.530449\n",
              "e787de0e    0.000000\n",
              "f028772b    0.179719\n",
              "f66779e6    0.034564\n",
              "Name: click, dtype: float64"
            ]
          },
          "metadata": {
            "tags": []
          },
          "execution_count": 19
        }
      ]
    },
    {
      "cell_type": "code",
      "metadata": {
        "id": "15UKKXaXfleJ",
        "colab_type": "code",
        "outputId": "7f80db5f-46e5-40ac-dc53-9e7ef67e9f62",
        "colab": {
          "base_uri": "https://localhost:8080/",
          "height": 283
        }
      },
      "source": [
        "plt.plot(df.groupby('site_category')['click'].mean())"
      ],
      "execution_count": 20,
      "outputs": [
        {
          "output_type": "execute_result",
          "data": {
            "text/plain": [
              "[<matplotlib.lines.Line2D at 0x7f143f2ff9e8>]"
            ]
          },
          "metadata": {
            "tags": []
          },
          "execution_count": 20
        },
        {
          "output_type": "display_data",
          "data": {
            "image/png": "[encoded data removed]",
            "text/plain": [
              "<Figure size 432x288 with 1 Axes>"
            ]
          },
          "metadata": {
            "tags": []
          }
        }
      ]
    },
    {
      "cell_type": "markdown",
      "metadata": {
        "id": "MLfdMT-qYcVr",
        "colab_type": "text"
      },
      "source": [
        "<font color=\"red\">**Question:**\n",
        "    Some site categories have a null click rate. Why? Display the 'count()' of each modality.\n",
        "    <br><br>\n",
        "    Hint: you can use the method \".value_counts()\"\n",
        "</font>"
      ]
    },
    {
      "cell_type": "code",
      "metadata": {
        "id": "0FkctWqDYcVt",
        "colab_type": "code",
        "outputId": "6bb593ad-be10-4197-bb1f-a7dc56f30e0f",
        "colab": {
          "base_uri": "https://localhost:8080/",
          "height": 431
        }
      },
      "source": [
        "df[ 'site_category' ]. value_counts() # Fill here"
      ],
      "execution_count": 21,
      "outputs": [
        {
          "output_type": "execute_result",
          "data": {
            "text/plain": [
              "50e219e0    408921\n",
              "f028772b    313339\n",
              "28905ebd    182020\n",
              "3e814130     75667\n",
              "f66779e6      6365\n",
              "75fa27f6      4007\n",
              "335d28a8      3351\n",
              "76b2941d      2573\n",
              "c0dd3be3      1026\n",
              "72722551       676\n",
              "dedf689d       624\n",
              "70fb0e29       608\n",
              "0569f928       429\n",
              "8fd0aea4       189\n",
              "a818d37a        81\n",
              "42a36e14        62\n",
              "e787de0e        28\n",
              "bcf865d9        16\n",
              "5378d028        11\n",
              "9ccfa2ea         5\n",
              "da34532e         1\n",
              "c706e647         1\n",
              "Name: site_category, dtype: int64"
            ]
          },
          "metadata": {
            "tags": []
          },
          "execution_count": 21
        }
      ]
    },
    {
      "cell_type": "code",
      "metadata": {
        "id": "gsiCaTLuiYYh",
        "colab_type": "code",
        "outputId": "4fdf1dff-1860-4cca-d108-bc3fbb33571c",
        "colab": {
          "base_uri": "https://localhost:8080/",
          "height": 305
        }
      },
      "source": [
        "df[df['click']==1][ 'site_category' ]. value_counts() # Fill here"
      ],
      "execution_count": 22,
      "outputs": [
        {
          "output_type": "execute_result",
          "data": {
            "text/plain": [
              "f028772b    56313\n",
              "50e219e0    52586\n",
              "28905ebd    37874\n",
              "3e814130    21508\n",
              "75fa27f6      446\n",
              "dedf689d      331\n",
              "335d28a8      301\n",
              "f66779e6      220\n",
              "c0dd3be3      132\n",
              "76b2941d       92\n",
              "70fb0e29       88\n",
              "72722551       40\n",
              "0569f928       23\n",
              "42a36e14       14\n",
              "8fd0aea4        3\n",
              "Name: site_category, dtype: int64"
            ]
          },
          "metadata": {
            "tags": []
          },
          "execution_count": 22
        }
      ]
    },
    {
      "cell_type": "markdown",
      "metadata": {
        "id": "ru25QWd0YcVy",
        "colab_type": "text"
      },
      "source": [
        "It is practical to visualize both columns in parallel:"
      ]
    },
    {
      "cell_type": "code",
      "metadata": {
        "id": "9JwsJNMGYcV0",
        "colab_type": "code",
        "outputId": "bae79f22-3c57-4a84-ace5-399a9337d902",
        "colab": {
          "base_uri": "https://localhost:8080/",
          "height": 297
        }
      },
      "source": [
        "col = 'C1'\n",
        "a = pd.DataFrame([df.groupby(col).mean()['click'], df.groupby(col).count()['click']]).transpose()\n",
        "a.columns = ['mean', 'count']\n",
        "a.sort_values(by='count', ascending=False)"
      ],
      "execution_count": 23,
      "outputs": [
        {
          "output_type": "execute_result",
          "data": {
            "text/html": [
              "<div>\n",
              "<style scoped>\n",
              "    .dataframe tbody tr th:only-of-type {\n",
              "        vertical-align: middle;\n",
              "    }\n",
              "\n",
              "    .dataframe tbody tr th {\n",
              "        vertical-align: top;\n",
              "    }\n",
              "\n",
              "    .dataframe thead th {\n",
              "        text-align: right;\n",
              "    }\n",
              "</style>\n",
              "<table border=\"1\" class=\"dataframe\">\n",
              "  <thead>\n",
              "    <tr style=\"text-align: right;\">\n",
              "      <th></th>\n",
              "      <th>mean</th>\n",
              "      <th>count</th>\n",
              "    </tr>\n",
              "    <tr>\n",
              "      <th>C1</th>\n",
              "      <th></th>\n",
              "      <th></th>\n",
              "    </tr>\n",
              "  </thead>\n",
              "  <tbody>\n",
              "    <tr>\n",
              "      <th>1005</th>\n",
              "      <td>0.169474</td>\n",
              "      <td>918606.0</td>\n",
              "    </tr>\n",
              "    <tr>\n",
              "      <th>1002</th>\n",
              "      <td>0.211157</td>\n",
              "      <td>54907.0</td>\n",
              "    </tr>\n",
              "    <tr>\n",
              "      <th>1010</th>\n",
              "      <td>0.095497</td>\n",
              "      <td>22409.0</td>\n",
              "    </tr>\n",
              "    <tr>\n",
              "      <th>1012</th>\n",
              "      <td>0.177295</td>\n",
              "      <td>2854.0</td>\n",
              "    </tr>\n",
              "    <tr>\n",
              "      <th>1007</th>\n",
              "      <td>0.035591</td>\n",
              "      <td>871.0</td>\n",
              "    </tr>\n",
              "    <tr>\n",
              "      <th>1001</th>\n",
              "      <td>0.027027</td>\n",
              "      <td>222.0</td>\n",
              "    </tr>\n",
              "    <tr>\n",
              "      <th>1008</th>\n",
              "      <td>0.106870</td>\n",
              "      <td>131.0</td>\n",
              "    </tr>\n",
              "  </tbody>\n",
              "</table>\n",
              "</div>"
            ],
            "text/plain": [
              "          mean     count\n",
              "C1                      \n",
              "1005  0.169474  918606.0\n",
              "1002  0.211157   54907.0\n",
              "1010  0.095497   22409.0\n",
              "1012  0.177295    2854.0\n",
              "1007  0.035591     871.0\n",
              "1001  0.027027     222.0\n",
              "1008  0.106870     131.0"
            ]
          },
          "metadata": {
            "tags": []
          },
          "execution_count": 23
        }
      ]
    },
    {
      "cell_type": "markdown",
      "metadata": {
        "colab_type": "text",
        "id": "a07QsALahvnV"
      },
      "source": [
        "Your answer here\n",
        "\n",
        "In some site category, there are not much visit so there isn't the clicks."
      ]
    },
    {
      "cell_type": "markdown",
      "metadata": {
        "id": "5iAVEnE4YcV5",
        "colab_type": "text"
      },
      "source": [
        "<font color=\"red\">**Question:**\n",
        "    Divide the dataset into a training and test set with sklearn (use the following options: test_size=0.1, random_state=100).\n",
        "    <br>\n",
        "    Warning: do not use 'id' as a feature.\n",
        "</font>"
      ]
    },
    {
      "cell_type": "code",
      "metadata": {
        "id": "AxTcse66kbkv",
        "colab_type": "code",
        "outputId": "c29d531d-dc95-4df0-8b54-88863ebb93a6",
        "colab": {
          "base_uri": "https://localhost:8080/",
          "height": 107
        }
      },
      "source": [
        "df.columns\n",
        "col=df.columns[2:]\n",
        "col"
      ],
      "execution_count": 24,
      "outputs": [
        {
          "output_type": "execute_result",
          "data": {
            "text/plain": [
              "Index(['hour', 'C1', 'banner_pos', 'site_id', 'site_domain', 'site_category',\n",
              "       'app_id', 'app_domain', 'app_category', 'device_id', 'device_ip',\n",
              "       'device_model', 'device_type', 'device_conn_type', 'C14', 'C15', 'C16',\n",
              "       'C17', 'C18', 'C19', 'C20', 'C21', 'weekday'],\n",
              "      dtype='object')"
            ]
          },
          "metadata": {
            "tags": []
          },
          "execution_count": 24
        }
      ]
    },
    {
      "cell_type": "code",
      "metadata": {
        "id": "7Mc0hmCsYcV7",
        "colab_type": "code",
        "colab": {}
      },
      "source": [
        "from sklearn.model_selection import train_test_split\n",
        "Xtrain, Xtest, ytrain, ytest = train_test_split(df[col],df['click'],test_size=0.1,random_state=100)"
      ],
      "execution_count": 0,
      "outputs": []
    },
    {
      "cell_type": "code",
      "metadata": {
        "id": "dwRngXszk1NA",
        "colab_type": "code",
        "outputId": "689ff619-894e-4fd5-ccad-895b3277819a",
        "colab": {
          "base_uri": "https://localhost:8080/",
          "height": 107
        }
      },
      "source": [
        "Xtest.columns"
      ],
      "execution_count": 26,
      "outputs": [
        {
          "output_type": "execute_result",
          "data": {
            "text/plain": [
              "Index(['hour', 'C1', 'banner_pos', 'site_id', 'site_domain', 'site_category',\n",
              "       'app_id', 'app_domain', 'app_category', 'device_id', 'device_ip',\n",
              "       'device_model', 'device_type', 'device_conn_type', 'C14', 'C15', 'C16',\n",
              "       'C17', 'C18', 'C19', 'C20', 'C21', 'weekday'],\n",
              "      dtype='object')"
            ]
          },
          "metadata": {
            "tags": []
          },
          "execution_count": 26
        }
      ]
    },
    {
      "cell_type": "markdown",
      "metadata": {
        "id": "y94Vsm-wYcV_",
        "colab_type": "text"
      },
      "source": [
        "# First work on a reduced number of features"
      ]
    },
    {
      "cell_type": "markdown",
      "metadata": {
        "id": "HffuIJthYcV_",
        "colab_type": "text"
      },
      "source": [
        "<font color=\"red\">**Question:**\n",
        "    Put in a list the selected columns: 'hour', 'weekday', 'C1', 'banner_pos', 'site_category', 'app_category', 'device_type', 'device_conn_type', 'C15', 'C16', 'C18', 'C21'.\n",
        "</font>"
      ]
    },
    {
      "cell_type": "code",
      "metadata": {
        "id": "b87fxoxuYcWB",
        "colab_type": "code",
        "colab": {}
      },
      "source": [
        "some_columns = ['hour', 'weekday', 'C1', 'banner_pos', 'site_category', 'app_category', \n",
        "                'device_type', 'device_conn_type', 'C15', 'C16', 'C18', 'C21']"
      ],
      "execution_count": 0,
      "outputs": []
    },
    {
      "cell_type": "markdown",
      "metadata": {
        "id": "bZQ0i2YMYcWD",
        "colab_type": "text"
      },
      "source": [
        "<font color=\"red\"> - Importer CategoricalEncoder de sklearn.preprocessing.  \n",
        "- Fitter le CategoricalEncoder sur les données de train restreintes aux colonnes ci-dessus.  \n",
        "- Transformer les données de train et de test en dummies.\n",
        "</font>"
      ]
    },
    {
      "cell_type": "markdown",
      "metadata": {
        "id": "bLD-KxNcYcWF",
        "colab_type": "text"
      },
      "source": [
        "<font color=\"red\">**Question:**\n",
        "    <br>\n",
        "    - Import OneHotEncoder from sklearn.preprocessing\n",
        "    <br>\n",
        "    - Transform the training and the test data restricted to the selected columns\n",
        "</font>"
      ]
    },
    {
      "cell_type": "code",
      "metadata": {
        "id": "GDx0mpYYYcWG",
        "colab_type": "code",
        "outputId": "a32c6a5d-0aa3-4e66-aa98-e2ceea31293a",
        "colab": {
          "base_uri": "https://localhost:8080/",
          "height": 325
        }
      },
      "source": [
        "from sklearn.preprocessing import OneHotEncoder\n",
        "from sklearn.preprocessing import LabelEncoder\n",
        "\n",
        "ohe = OneHotEncoder(sparse=False)\n",
        "temp=Xtrain[some_columns]\n",
        "#Xtrain_oh = pd.get_dummies(Xtrain[some_columns]) # fit the transformation of Xtrain restricted to selected columns\n",
        "#Xtest_oh = pd.get_dummies(Xtest[some_columns]) # and transform Xtest restricted to selected columns\n",
        "for col in some_columns:\n",
        "  temp[col]=LabelEncoder().fit_transform(temp[col])\n",
        "Xtrain_oh=ohe.fit_transform(temp)\n",
        "temp=Xtest[some_columns]\n",
        "for col in some_columns:\n",
        "  temp[col]=LabelEncoder().fit_transform(temp[col])\n",
        "Xtest_oh=ohe.transform(temp)"
      ],
      "execution_count": 28,
      "outputs": [
        {
          "output_type": "stream",
          "text": [
            "/usr/local/lib/python3.6/dist-packages/ipykernel_launcher.py:9: SettingWithCopyWarning: \n",
            "A value is trying to be set on a copy of a slice from a DataFrame.\n",
            "Try using .loc[row_indexer,col_indexer] = value instead\n",
            "\n",
            "See the caveats in the documentation: http://pandas.pydata.org/pandas-docs/stable/user_guide/indexing.html#returning-a-view-versus-a-copy\n",
            "  if __name__ == '__main__':\n",
            "/usr/local/lib/python3.6/dist-packages/sklearn/preprocessing/_encoders.py:415: FutureWarning: The handling of integer data will change in version 0.22. Currently, the categories are determined based on the range [0, max(values)], while in the future they will be determined based on the unique values.\n",
            "If you want the future behaviour and silence this warning, you can specify \"categories='auto'\".\n",
            "In case you used a LabelEncoder before this OneHotEncoder to convert the categories to integers, then you can now use the OneHotEncoder directly.\n",
            "  warnings.warn(msg, FutureWarning)\n",
            "/usr/local/lib/python3.6/dist-packages/ipykernel_launcher.py:13: SettingWithCopyWarning: \n",
            "A value is trying to be set on a copy of a slice from a DataFrame.\n",
            "Try using .loc[row_indexer,col_indexer] = value instead\n",
            "\n",
            "See the caveats in the documentation: http://pandas.pydata.org/pandas-docs/stable/user_guide/indexing.html#returning-a-view-versus-a-copy\n",
            "  del sys.path[0]\n"
          ],
          "name": "stderr"
        }
      ]
    },
    {
      "cell_type": "code",
      "metadata": {
        "id": "KjoehIu3pwPW",
        "colab_type": "code",
        "outputId": "8e02301e-7c7a-46d7-bed1-da179ba3d2d3",
        "colab": {
          "base_uri": "https://localhost:8080/",
          "height": 35
        }
      },
      "source": [
        "Xtest_oh.shape"
      ],
      "execution_count": 29,
      "outputs": [
        {
          "output_type": "execute_result",
          "data": {
            "text/plain": [
              "(100000, 183)"
            ]
          },
          "metadata": {
            "tags": []
          },
          "execution_count": 29
        }
      ]
    },
    {
      "cell_type": "markdown",
      "metadata": {
        "id": "FN5GjuyzYcWI",
        "colab_type": "text"
      },
      "source": [
        "<font color=\"red\">**Question:**\n",
        "    What is the new number of features?\n",
        "</font>"
      ]
    },
    {
      "cell_type": "code",
      "metadata": {
        "id": "Syvv31BuYcWL",
        "colab_type": "code",
        "outputId": "9b94a3a5-254b-49ad-d6c0-3633f1ea1476",
        "colab": {
          "base_uri": "https://localhost:8080/",
          "height": 35
        }
      },
      "source": [
        "Xtest_oh.shape[1]"
      ],
      "execution_count": 30,
      "outputs": [
        {
          "output_type": "execute_result",
          "data": {
            "text/plain": [
              "183"
            ]
          },
          "metadata": {
            "tags": []
          },
          "execution_count": 30
        }
      ]
    },
    {
      "cell_type": "markdown",
      "metadata": {
        "colab_type": "text",
        "id": "X2JQVVfTi4Zs"
      },
      "source": [
        "Your answer here\n",
        "\n",
        "the new number of features is 183."
      ]
    },
    {
      "cell_type": "markdown",
      "metadata": {
        "id": "HUWRg9VaYcWQ",
        "colab_type": "text"
      },
      "source": [
        "<font color=\"red\">**Question:**\n",
        "    Visualize the first row of the design matrix you have got. Do not forget to convert it into a \"numpy.array\" using the method \".toarray()\".\n",
        "</font>"
      ]
    },
    {
      "cell_type": "code",
      "metadata": {
        "id": "KteEhxlwYcWR",
        "colab_type": "code",
        "outputId": "ee6e08c3-b1b9-4d18-f472-2faffe38e937",
        "colab": {
          "base_uri": "https://localhost:8080/",
          "height": 283
        }
      },
      "source": [
        "plt.plot(Xtrain_oh[ 0 ])"
      ],
      "execution_count": 31,
      "outputs": [
        {
          "output_type": "execute_result",
          "data": {
            "text/plain": [
              "[<matplotlib.lines.Line2D at 0x7f144a628c88>]"
            ]
          },
          "metadata": {
            "tags": []
          },
          "execution_count": 31
        },
        {
          "output_type": "display_data",
          "data": {
            "image/png": "[encoded data removed]",
            "text/plain": [
              "<Figure size 432x288 with 1 Axes>"
            ]
          },
          "metadata": {
            "tags": []
          }
        }
      ]
    },
    {
      "cell_type": "markdown",
      "metadata": {
        "id": "GcIpiLHYYcWU",
        "colab_type": "text"
      },
      "source": [
        "<font color=\"red\">**Question:**\n",
        "    Import and fit a logistic regression model on your the encoded data.\n",
        "</font>"
      ]
    },
    {
      "cell_type": "code",
      "metadata": {
        "id": "r8a0SxavYcWV",
        "colab_type": "code",
        "outputId": "28caa540-4a7f-4da0-f73f-ff4c11dd665c",
        "colab": {
          "base_uri": "https://localhost:8080/",
          "height": 163
        }
      },
      "source": [
        "from sklearn.linear_model import LogisticRegression\n",
        "lr = LogisticRegression()\n",
        "lr.fit(Xtrain_oh,ytrain)"
      ],
      "execution_count": 32,
      "outputs": [
        {
          "output_type": "stream",
          "text": [
            "/usr/local/lib/python3.6/dist-packages/sklearn/linear_model/logistic.py:432: FutureWarning: Default solver will be changed to 'lbfgs' in 0.22. Specify a solver to silence this warning.\n",
            "  FutureWarning)\n"
          ],
          "name": "stderr"
        },
        {
          "output_type": "execute_result",
          "data": {
            "text/plain": [
              "LogisticRegression(C=1.0, class_weight=None, dual=False, fit_intercept=True,\n",
              "                   intercept_scaling=1, l1_ratio=None, max_iter=100,\n",
              "                   multi_class='warn', n_jobs=None, penalty='l2',\n",
              "                   random_state=None, solver='warn', tol=0.0001, verbose=0,\n",
              "                   warm_start=False)"
            ]
          },
          "metadata": {
            "tags": []
          },
          "execution_count": 32
        }
      ]
    },
    {
      "cell_type": "markdown",
      "metadata": {
        "id": "0iuQIQj-YcWZ",
        "colab_type": "text"
      },
      "source": [
        "<font color=\"red\">**Question:**\n",
        "    With '.predict' and 'predict_proba', display the hard and soft decision you get on test data.\n",
        "</font>"
      ]
    },
    {
      "cell_type": "code",
      "metadata": {
        "id": "TYiTfHIWYcWa",
        "colab_type": "code",
        "colab": {}
      },
      "source": [
        "hard = lr.predict(Xtest_oh)\n",
        "soft = lr.predict_proba(Xtest_oh)"
      ],
      "execution_count": 0,
      "outputs": []
    },
    {
      "cell_type": "markdown",
      "metadata": {
        "id": "npfzy9N3YcWc",
        "colab_type": "text"
      },
      "source": [
        "<font color=\"red\">**Question:**\n",
        "    Compute the probability of error using sklearn.metrics 'accuracy_score' function. Comment.\n",
        "</font>"
      ]
    },
    {
      "cell_type": "code",
      "metadata": {
        "id": "hIB33gPiYcWd",
        "colab_type": "code",
        "outputId": "cc656179-eb14-446c-c08d-4ef016d237e8",
        "colab": {
          "base_uri": "https://localhost:8080/",
          "height": 35
        }
      },
      "source": [
        "from sklearn.metrics import accuracy_score\n",
        "accuracy_score(ytest,hard) # Fill here"
      ],
      "execution_count": 34,
      "outputs": [
        {
          "output_type": "execute_result",
          "data": {
            "text/plain": [
              "0.82766"
            ]
          },
          "metadata": {
            "tags": []
          },
          "execution_count": 34
        }
      ]
    },
    {
      "cell_type": "code",
      "metadata": {
        "id": "IljZ_Pisu3GG",
        "colab_type": "code",
        "outputId": "c2e11910-9a07-4229-d36c-b4b70dc7e59a",
        "colab": {
          "base_uri": "https://localhost:8080/",
          "height": 143
        }
      },
      "source": [
        "soft"
      ],
      "execution_count": 35,
      "outputs": [
        {
          "output_type": "execute_result",
          "data": {
            "text/plain": [
              "array([[0.84726876, 0.15273124],\n",
              "       [0.73406323, 0.26593677],\n",
              "       [0.87415125, 0.12584875],\n",
              "       ...,\n",
              "       [0.87118132, 0.12881868],\n",
              "       [0.86634058, 0.13365942],\n",
              "       [0.92758661, 0.07241339]])"
            ]
          },
          "metadata": {
            "tags": []
          },
          "execution_count": 35
        }
      ]
    },
    {
      "cell_type": "markdown",
      "metadata": {
        "colab_type": "text",
        "id": "Pdi72JJUoYb_"
      },
      "source": [
        "Your answer here\n",
        "\n",
        "The probability or error is 0.173. It seems to be hard to define whether the prediction is good. We need to use other method, like roc curve to compare the \n",
        "performance."
      ]
    },
    {
      "cell_type": "markdown",
      "metadata": {
        "id": "ER4oZTUjYcWf",
        "colab_type": "text"
      },
      "source": [
        "<font color=\"red\">**Question:**\n",
        "    Plot the ROC curve. Then compute the log loss and the Area Under the Curve ROC.\n",
        "</font>"
      ]
    },
    {
      "cell_type": "code",
      "metadata": {
        "id": "Mj-LeKtqYcWf",
        "colab_type": "code",
        "outputId": "d7927002-a966-4253-a85b-1100aab3329a",
        "colab": {
          "base_uri": "https://localhost:8080/",
          "height": 323
        }
      },
      "source": [
        "from sklearn.metrics import roc_curve\n",
        "\n",
        "false_pos_rate, true_pos_rate, _ = roc_curve( ytest,soft[:,1] )\n",
        "plt.plot(false_pos_rate,true_pos_rate)\n",
        "\n",
        "plt.grid()\n",
        "plt.plot([0, 1], [0, 1], 'r--')\n",
        "plt.xlabel('False Positive Rate', fontsize=16)\n",
        "plt.ylabel('True Positive Rate', fontsize=16)\n",
        "plt.title('ROC curve', fontsize=20)"
      ],
      "execution_count": 36,
      "outputs": [
        {
          "output_type": "execute_result",
          "data": {
            "text/plain": [
              "Text(0.5, 1.0, 'ROC curve')"
            ]
          },
          "metadata": {
            "tags": []
          },
          "execution_count": 36
        },
        {
          "output_type": "display_data",
          "data": {
            "image/png": "[encoded data removed]",
            "text/plain": [
              "<Figure size 432x288 with 1 Axes>"
            ]
          },
          "metadata": {
            "tags": []
          }
        }
      ]
    },
    {
      "cell_type": "code",
      "metadata": {
        "id": "RNxlXhDhYcWi",
        "colab_type": "code",
        "outputId": "784d4e91-3b87-486d-ccf6-94621d8f663e",
        "colab": {
          "base_uri": "https://localhost:8080/",
          "height": 35
        }
      },
      "source": [
        "from sklearn.metrics import log_loss , roc_auc_score\n",
        "\n",
        "log_loss( ytest,soft[:,1] ), roc_auc_score( ytest,soft[:,1] )"
      ],
      "execution_count": 37,
      "outputs": [
        {
          "output_type": "execute_result",
          "data": {
            "text/plain": [
              "(0.4383560197043325, 0.6502534528152853)"
            ]
          },
          "metadata": {
            "tags": []
          },
          "execution_count": 37
        }
      ]
    },
    {
      "cell_type": "markdown",
      "metadata": {
        "id": "KPbreB3bYcWl",
        "colab_type": "text"
      },
      "source": [
        "<font color=\"red\">**Question:**\n",
        "    Import the 'plot_lift' function from 'utils.py' and plot the lift curve. What is the lift of the first fifth of the population identified by the test?\n",
        "</font>"
      ]
    },
    {
      "cell_type": "code",
      "metadata": {
        "id": "0VxLpfo9YcWl",
        "colab_type": "code",
        "outputId": "595fb661-f0d9-431d-a801-5bd2b36ec39c",
        "colab": {
          "base_uri": "https://localhost:8080/",
          "height": 323
        }
      },
      "source": [
        "from utils import plotlift\n",
        "\n",
        "plotlift(ytest,soft[:,1])\n",
        "# The following line just plots a vertical line for you to answer the second part of the question\n",
        "plt.axvline(x= 0.2 , linestyle='--', color='r') # Fill here\n",
        "\n",
        "plt.xlabel('Proportion of the dataset', fontsize=16)\n",
        "plt.ylabel('Lift', fontsize=16)\n",
        "plt.title('Lift curve', fontsize=20)\n",
        "plt.plot()"
      ],
      "execution_count": 38,
      "outputs": [
        {
          "output_type": "execute_result",
          "data": {
            "text/plain": [
              "[]"
            ]
          },
          "metadata": {
            "tags": []
          },
          "execution_count": 38
        },
        {
          "output_type": "display_data",
          "data": {
            "image/png": "[encoded data removed]",
            "text/plain": [
              "<Figure size 432x288 with 1 Axes>"
            ]
          },
          "metadata": {
            "tags": []
          }
        }
      ]
    },
    {
      "cell_type": "markdown",
      "metadata": {
        "colab_type": "text",
        "id": "WM_lg75foaLV"
      },
      "source": [
        "Your answer here\n",
        "\n",
        "the lift of the first fifth of the population identified by the test is about 1.6"
      ]
    },
    {
      "cell_type": "markdown",
      "metadata": {
        "id": "cF3oNg2BYcWo",
        "colab_type": "text"
      },
      "source": [
        "# Complete model"
      ]
    },
    {
      "cell_type": "markdown",
      "metadata": {
        "id": "guGisntUYcWo",
        "colab_type": "text"
      },
      "source": [
        "As an example, we now focus on the 'site_id' column.\n",
        "\n",
        "<font color=\"red\">**Question:**\n",
        "    <br>\n",
        "    - For each modality, compute the number of occurrences in the dataset and the average of clicks for this modality \n",
        "    <br>\n",
        "    - With 'sns.joiplot', represent the set of points (count, mean) for each modality\n",
        "</font>"
      ]
    },
    {
      "cell_type": "code",
      "metadata": {
        "id": "EWjvCk-JYcWp",
        "colab_type": "code",
        "colab": {}
      },
      "source": [
        "import seaborn as sns"
      ],
      "execution_count": 0,
      "outputs": []
    },
    {
      "cell_type": "code",
      "metadata": {
        "id": "T__2itFfYcWr",
        "colab_type": "code",
        "outputId": "951ec104-6fcd-4318-82eb-e3819f15ac63",
        "colab": {
          "base_uri": "https://localhost:8080/",
          "height": 865
        }
      },
      "source": [
        "col = 'site_id'\n",
        "a = pd.DataFrame([df.groupby(col).mean()['click'], df.groupby(col).count()['click']]).transpose()\n",
        "a.columns = ['mean', 'n_val']\n",
        "sns.jointplot(a['n_val'], a['mean'], alpha=0.25);\n",
        "thres = 10000\n",
        "sns.jointplot(a[a['n_val']<thres]['n_val'], a[a['n_val']<thres]['mean'], alpha=0.25);"
      ],
      "execution_count": 40,
      "outputs": [
        {
          "output_type": "display_data",
          "data": {
            "image/png": "[encoded data removed]",
            "text/plain": [
              "<Figure size 432x432 with 3 Axes>"
            ]
          },
          "metadata": {
            "tags": []
          }
        },
        {
          "output_type": "display_data",
          "data": {
            "image/png": "[encoded data removed]",
            "text/plain": [
              "<Figure size 432x432 with 3 Axes>"
            ]
          },
          "metadata": {
            "tags": []
          }
        }
      ]
    },
    {
      "cell_type": "markdown",
      "metadata": {
        "id": "g8_LIRbIYcWt",
        "colab_type": "text"
      },
      "source": [
        "<font color=\"red\">**Question:**\n",
        "    In the above commands, what does the alpha parameter stand for?\n",
        "</font>"
      ]
    },
    {
      "cell_type": "markdown",
      "metadata": {
        "colab_type": "text",
        "id": "4BBai06xp8eh"
      },
      "source": [
        "Your answer here\n",
        "\n",
        "It decides the transparency in data visualization."
      ]
    },
    {
      "cell_type": "markdown",
      "metadata": {
        "id": "HNp0HTLAYcWv",
        "colab_type": "text"
      },
      "source": [
        "Several sites with a lot of occurrences in the dataset have a click frequency very different from the mean. It is relevant to keep the column 'site_id' at least for the modalities for which 'count' is very high.\n",
        "\n",
        "<font color=\"red\">**Question:**\n",
        "    Do the same work on the 'device_id' column. What do you notice? What could be the isolated point?\n",
        "</font>"
      ]
    },
    {
      "cell_type": "code",
      "metadata": {
        "id": "bLhTwP7yYcWw",
        "colab_type": "code",
        "outputId": "cef992ca-1681-4125-d1b2-c479c2bd896e",
        "colab": {
          "base_uri": "https://localhost:8080/",
          "height": 865
        }
      },
      "source": [
        "col = 'device_id' # Fill here\n",
        "a = pd.DataFrame([df.groupby(col).mean()['click'], df.groupby(col).count()['click']]).transpose()\n",
        "a.columns = ['mean', 'n_val']\n",
        "sns.jointplot(a['n_val'], a['mean'], alpha=0.25);\n",
        "thres = 10000\n",
        "sns.jointplot(a[a['n_val']<thres]['n_val'], a[a['n_val']<thres]['mean'], alpha=0.25);"
      ],
      "execution_count": 41,
      "outputs": [
        {
          "output_type": "display_data",
          "data": {
            "image/png": "[encoded data removed]",
            "text/plain": [
              "<Figure size 432x432 with 3 Axes>"
            ]
          },
          "metadata": {
            "tags": []
          }
        },
        {
          "output_type": "display_data",
          "data": {
            "image/png": "[encoded data removed]",
            "text/plain": [
              "<Figure size 432x432 with 3 Axes>"
            ]
          },
          "metadata": {
            "tags": []
          }
        }
      ]
    },
    {
      "cell_type": "markdown",
      "metadata": {
        "colab_type": "text",
        "id": "HxFRNmVyqI3v"
      },
      "source": [
        "Your answer here\n",
        "\n",
        "There are some data has the big n_val and they could be the isolated point."
      ]
    },
    {
      "cell_type": "markdown",
      "metadata": {
        "id": "q3_evYNkYcWy",
        "colab_type": "text"
      },
      "source": [
        "<font color=\"red\">**Question**:   \n",
        "    In the column df['device_id'], spot the value V corresponding to the largest number of 'count' (using '.value_counts' method). Create a new column df['user'] defined as follows:\n",
        "</font>\n",
        "$$\n",
        "\\text{user} = \\left\\{\\begin{array}[h]{ll} \\text{device_ip + device_model} & \\text{if device_id = V}\\\\ \\text{device_id} & \\text{else.}\\end{array}\\right.\n",
        "$$"
      ]
    },
    {
      "cell_type": "code",
      "metadata": {
        "id": "HNQ8rVtj0L-f",
        "colab_type": "code",
        "outputId": "2d048d4a-882c-44e0-f8cd-57b72e7003ee",
        "colab": {
          "base_uri": "https://localhost:8080/",
          "height": 233
        }
      },
      "source": [
        "df['device_id'].value_counts()"
      ],
      "execution_count": 42,
      "outputs": [
        {
          "output_type": "execute_result",
          "data": {
            "text/plain": [
              "a99f214a    824918\n",
              "0f7c61dc       512\n",
              "c357dbff       481\n",
              "936e92fb       366\n",
              "afeffc18       242\n",
              "             ...  \n",
              "e77bfb88         1\n",
              "2cdd063e         1\n",
              "e36154f0         1\n",
              "2457180a         1\n",
              "39ab5301         1\n",
              "Name: device_id, Length: 150501, dtype: int64"
            ]
          },
          "metadata": {
            "tags": []
          },
          "execution_count": 42
        }
      ]
    },
    {
      "cell_type": "code",
      "metadata": {
        "id": "6_KH9aypYcWz",
        "colab_type": "code",
        "colab": {}
      },
      "source": [
        "V = 'a99f214a' # Fill here\n",
        "df['user'] = (df['device_ip'] + df['device_model']) * (df['device_id']==V) + df['device_id'] * (df['device_id']!=V)"
      ],
      "execution_count": 0,
      "outputs": []
    },
    {
      "cell_type": "markdown",
      "metadata": {
        "id": "9irHlnubYcW2",
        "colab_type": "text"
      },
      "source": [
        "<font color=\"red\">**Question**:\n",
        "    Drop the following columns: 'device_id', 'device_model' and 'device_ip'\n",
        "</font>"
      ]
    },
    {
      "cell_type": "code",
      "metadata": {
        "id": "0EfKNjkIYcW3",
        "colab_type": "code",
        "outputId": "9a4eb122-2cbe-43ae-dc9f-22ed16682d3f",
        "colab": {
          "base_uri": "https://localhost:8080/",
          "height": 224
        }
      },
      "source": [
        "df.head()"
      ],
      "execution_count": 44,
      "outputs": [
        {
          "output_type": "execute_result",
          "data": {
            "text/html": [
              "<div>\n",
              "<style scoped>\n",
              "    .dataframe tbody tr th:only-of-type {\n",
              "        vertical-align: middle;\n",
              "    }\n",
              "\n",
              "    .dataframe tbody tr th {\n",
              "        vertical-align: top;\n",
              "    }\n",
              "\n",
              "    .dataframe thead th {\n",
              "        text-align: right;\n",
              "    }\n",
              "</style>\n",
              "<table border=\"1\" class=\"dataframe\">\n",
              "  <thead>\n",
              "    <tr style=\"text-align: right;\">\n",
              "      <th></th>\n",
              "      <th>id</th>\n",
              "      <th>click</th>\n",
              "      <th>hour</th>\n",
              "      <th>C1</th>\n",
              "      <th>banner_pos</th>\n",
              "      <th>site_id</th>\n",
              "      <th>site_domain</th>\n",
              "      <th>site_category</th>\n",
              "      <th>app_id</th>\n",
              "      <th>app_domain</th>\n",
              "      <th>app_category</th>\n",
              "      <th>device_id</th>\n",
              "      <th>device_ip</th>\n",
              "      <th>device_model</th>\n",
              "      <th>device_type</th>\n",
              "      <th>device_conn_type</th>\n",
              "      <th>C14</th>\n",
              "      <th>C15</th>\n",
              "      <th>C16</th>\n",
              "      <th>C17</th>\n",
              "      <th>C18</th>\n",
              "      <th>C19</th>\n",
              "      <th>C20</th>\n",
              "      <th>C21</th>\n",
              "      <th>weekday</th>\n",
              "      <th>user</th>\n",
              "    </tr>\n",
              "  </thead>\n",
              "  <tbody>\n",
              "    <tr>\n",
              "      <th>0</th>\n",
              "      <td>3.983206e+18</td>\n",
              "      <td>0</td>\n",
              "      <td>15</td>\n",
              "      <td>1005</td>\n",
              "      <td>1</td>\n",
              "      <td>e151e245</td>\n",
              "      <td>7e091613</td>\n",
              "      <td>f028772b</td>\n",
              "      <td>ecad2386</td>\n",
              "      <td>7801e8d9</td>\n",
              "      <td>07d7df22</td>\n",
              "      <td>a99f214a</td>\n",
              "      <td>fb6566d3</td>\n",
              "      <td>be87996b</td>\n",
              "      <td>1</td>\n",
              "      <td>2</td>\n",
              "      <td>4687</td>\n",
              "      <td>320</td>\n",
              "      <td>50</td>\n",
              "      <td>423</td>\n",
              "      <td>2</td>\n",
              "      <td>39</td>\n",
              "      <td>100148</td>\n",
              "      <td>32</td>\n",
              "      <td>2</td>\n",
              "      <td>fb6566d3be87996b</td>\n",
              "    </tr>\n",
              "    <tr>\n",
              "      <th>1</th>\n",
              "      <td>7.756884e+18</td>\n",
              "      <td>0</td>\n",
              "      <td>7</td>\n",
              "      <td>1002</td>\n",
              "      <td>0</td>\n",
              "      <td>cb809abf</td>\n",
              "      <td>74acf31a</td>\n",
              "      <td>50e219e0</td>\n",
              "      <td>ecad2386</td>\n",
              "      <td>7801e8d9</td>\n",
              "      <td>07d7df22</td>\n",
              "      <td>9b7af851</td>\n",
              "      <td>ac5a4a77</td>\n",
              "      <td>7e6190f3</td>\n",
              "      <td>0</td>\n",
              "      <td>0</td>\n",
              "      <td>17894</td>\n",
              "      <td>320</td>\n",
              "      <td>50</td>\n",
              "      <td>2039</td>\n",
              "      <td>2</td>\n",
              "      <td>39</td>\n",
              "      <td>100077</td>\n",
              "      <td>32</td>\n",
              "      <td>3</td>\n",
              "      <td>9b7af851</td>\n",
              "    </tr>\n",
              "    <tr>\n",
              "      <th>2</th>\n",
              "      <td>6.941774e+17</td>\n",
              "      <td>0</td>\n",
              "      <td>11</td>\n",
              "      <td>1005</td>\n",
              "      <td>0</td>\n",
              "      <td>85f751fd</td>\n",
              "      <td>c4e18dd6</td>\n",
              "      <td>50e219e0</td>\n",
              "      <td>e9739828</td>\n",
              "      <td>df32afa9</td>\n",
              "      <td>cef3e649</td>\n",
              "      <td>a99f214a</td>\n",
              "      <td>748e298a</td>\n",
              "      <td>3c55fad5</td>\n",
              "      <td>1</td>\n",
              "      <td>0</td>\n",
              "      <td>22684</td>\n",
              "      <td>320</td>\n",
              "      <td>50</td>\n",
              "      <td>2619</td>\n",
              "      <td>1</td>\n",
              "      <td>163</td>\n",
              "      <td>100055</td>\n",
              "      <td>71</td>\n",
              "      <td>0</td>\n",
              "      <td>748e298a3c55fad5</td>\n",
              "    </tr>\n",
              "    <tr>\n",
              "      <th>3</th>\n",
              "      <td>2.664154e+18</td>\n",
              "      <td>1</td>\n",
              "      <td>3</td>\n",
              "      <td>1005</td>\n",
              "      <td>0</td>\n",
              "      <td>85f751fd</td>\n",
              "      <td>c4e18dd6</td>\n",
              "      <td>50e219e0</td>\n",
              "      <td>a5184c22</td>\n",
              "      <td>b8d325c3</td>\n",
              "      <td>0f2161f8</td>\n",
              "      <td>a99f214a</td>\n",
              "      <td>a50da3d4</td>\n",
              "      <td>c5cc73c1</td>\n",
              "      <td>1</td>\n",
              "      <td>0</td>\n",
              "      <td>23222</td>\n",
              "      <td>320</td>\n",
              "      <td>50</td>\n",
              "      <td>2676</td>\n",
              "      <td>0</td>\n",
              "      <td>35</td>\n",
              "      <td>100176</td>\n",
              "      <td>221</td>\n",
              "      <td>2</td>\n",
              "      <td>a50da3d4c5cc73c1</td>\n",
              "    </tr>\n",
              "    <tr>\n",
              "      <th>4</th>\n",
              "      <td>1.480510e+19</td>\n",
              "      <td>0</td>\n",
              "      <td>2</td>\n",
              "      <td>1005</td>\n",
              "      <td>1</td>\n",
              "      <td>791b5571</td>\n",
              "      <td>fd13bc73</td>\n",
              "      <td>f028772b</td>\n",
              "      <td>ecad2386</td>\n",
              "      <td>7801e8d9</td>\n",
              "      <td>07d7df22</td>\n",
              "      <td>a99f214a</td>\n",
              "      <td>d5f88679</td>\n",
              "      <td>a5bce124</td>\n",
              "      <td>1</td>\n",
              "      <td>0</td>\n",
              "      <td>8330</td>\n",
              "      <td>320</td>\n",
              "      <td>50</td>\n",
              "      <td>761</td>\n",
              "      <td>3</td>\n",
              "      <td>175</td>\n",
              "      <td>100081</td>\n",
              "      <td>23</td>\n",
              "      <td>2</td>\n",
              "      <td>d5f88679a5bce124</td>\n",
              "    </tr>\n",
              "  </tbody>\n",
              "</table>\n",
              "</div>"
            ],
            "text/plain": [
              "             id  click  hour    C1  ...     C20  C21 weekday              user\n",
              "0  3.983206e+18      0    15  1005  ...  100148   32       2  fb6566d3be87996b\n",
              "1  7.756884e+18      0     7  1002  ...  100077   32       3          9b7af851\n",
              "2  6.941774e+17      0    11  1005  ...  100055   71       0  748e298a3c55fad5\n",
              "3  2.664154e+18      1     3  1005  ...  100176  221       2  a50da3d4c5cc73c1\n",
              "4  1.480510e+19      0     2  1005  ...  100081   23       2  d5f88679a5bce124\n",
              "\n",
              "[5 rows x 26 columns]"
            ]
          },
          "metadata": {
            "tags": []
          },
          "execution_count": 44
        }
      ]
    },
    {
      "cell_type": "code",
      "metadata": {
        "id": "-5fD6Oub1oEs",
        "colab_type": "code",
        "outputId": "1f28da92-d720-4676-a45f-853adc438d0d",
        "colab": {
          "base_uri": "https://localhost:8080/",
          "height": 224
        }
      },
      "source": [
        "todrop=['device_id','device_model','device_ip']\n",
        "df=df.drop(todrop,axis=1)\n",
        "df.head()"
      ],
      "execution_count": 45,
      "outputs": [
        {
          "output_type": "execute_result",
          "data": {
            "text/html": [
              "<div>\n",
              "<style scoped>\n",
              "    .dataframe tbody tr th:only-of-type {\n",
              "        vertical-align: middle;\n",
              "    }\n",
              "\n",
              "    .dataframe tbody tr th {\n",
              "        vertical-align: top;\n",
              "    }\n",
              "\n",
              "    .dataframe thead th {\n",
              "        text-align: right;\n",
              "    }\n",
              "</style>\n",
              "<table border=\"1\" class=\"dataframe\">\n",
              "  <thead>\n",
              "    <tr style=\"text-align: right;\">\n",
              "      <th></th>\n",
              "      <th>id</th>\n",
              "      <th>click</th>\n",
              "      <th>hour</th>\n",
              "      <th>C1</th>\n",
              "      <th>banner_pos</th>\n",
              "      <th>site_id</th>\n",
              "      <th>site_domain</th>\n",
              "      <th>site_category</th>\n",
              "      <th>app_id</th>\n",
              "      <th>app_domain</th>\n",
              "      <th>app_category</th>\n",
              "      <th>device_type</th>\n",
              "      <th>device_conn_type</th>\n",
              "      <th>C14</th>\n",
              "      <th>C15</th>\n",
              "      <th>C16</th>\n",
              "      <th>C17</th>\n",
              "      <th>C18</th>\n",
              "      <th>C19</th>\n",
              "      <th>C20</th>\n",
              "      <th>C21</th>\n",
              "      <th>weekday</th>\n",
              "      <th>user</th>\n",
              "    </tr>\n",
              "  </thead>\n",
              "  <tbody>\n",
              "    <tr>\n",
              "      <th>0</th>\n",
              "      <td>3.983206e+18</td>\n",
              "      <td>0</td>\n",
              "      <td>15</td>\n",
              "      <td>1005</td>\n",
              "      <td>1</td>\n",
              "      <td>e151e245</td>\n",
              "      <td>7e091613</td>\n",
              "      <td>f028772b</td>\n",
              "      <td>ecad2386</td>\n",
              "      <td>7801e8d9</td>\n",
              "      <td>07d7df22</td>\n",
              "      <td>1</td>\n",
              "      <td>2</td>\n",
              "      <td>4687</td>\n",
              "      <td>320</td>\n",
              "      <td>50</td>\n",
              "      <td>423</td>\n",
              "      <td>2</td>\n",
              "      <td>39</td>\n",
              "      <td>100148</td>\n",
              "      <td>32</td>\n",
              "      <td>2</td>\n",
              "      <td>fb6566d3be87996b</td>\n",
              "    </tr>\n",
              "    <tr>\n",
              "      <th>1</th>\n",
              "      <td>7.756884e+18</td>\n",
              "      <td>0</td>\n",
              "      <td>7</td>\n",
              "      <td>1002</td>\n",
              "      <td>0</td>\n",
              "      <td>cb809abf</td>\n",
              "      <td>74acf31a</td>\n",
              "      <td>50e219e0</td>\n",
              "      <td>ecad2386</td>\n",
              "      <td>7801e8d9</td>\n",
              "      <td>07d7df22</td>\n",
              "      <td>0</td>\n",
              "      <td>0</td>\n",
              "      <td>17894</td>\n",
              "      <td>320</td>\n",
              "      <td>50</td>\n",
              "      <td>2039</td>\n",
              "      <td>2</td>\n",
              "      <td>39</td>\n",
              "      <td>100077</td>\n",
              "      <td>32</td>\n",
              "      <td>3</td>\n",
              "      <td>9b7af851</td>\n",
              "    </tr>\n",
              "    <tr>\n",
              "      <th>2</th>\n",
              "      <td>6.941774e+17</td>\n",
              "      <td>0</td>\n",
              "      <td>11</td>\n",
              "      <td>1005</td>\n",
              "      <td>0</td>\n",
              "      <td>85f751fd</td>\n",
              "      <td>c4e18dd6</td>\n",
              "      <td>50e219e0</td>\n",
              "      <td>e9739828</td>\n",
              "      <td>df32afa9</td>\n",
              "      <td>cef3e649</td>\n",
              "      <td>1</td>\n",
              "      <td>0</td>\n",
              "      <td>22684</td>\n",
              "      <td>320</td>\n",
              "      <td>50</td>\n",
              "      <td>2619</td>\n",
              "      <td>1</td>\n",
              "      <td>163</td>\n",
              "      <td>100055</td>\n",
              "      <td>71</td>\n",
              "      <td>0</td>\n",
              "      <td>748e298a3c55fad5</td>\n",
              "    </tr>\n",
              "    <tr>\n",
              "      <th>3</th>\n",
              "      <td>2.664154e+18</td>\n",
              "      <td>1</td>\n",
              "      <td>3</td>\n",
              "      <td>1005</td>\n",
              "      <td>0</td>\n",
              "      <td>85f751fd</td>\n",
              "      <td>c4e18dd6</td>\n",
              "      <td>50e219e0</td>\n",
              "      <td>a5184c22</td>\n",
              "      <td>b8d325c3</td>\n",
              "      <td>0f2161f8</td>\n",
              "      <td>1</td>\n",
              "      <td>0</td>\n",
              "      <td>23222</td>\n",
              "      <td>320</td>\n",
              "      <td>50</td>\n",
              "      <td>2676</td>\n",
              "      <td>0</td>\n",
              "      <td>35</td>\n",
              "      <td>100176</td>\n",
              "      <td>221</td>\n",
              "      <td>2</td>\n",
              "      <td>a50da3d4c5cc73c1</td>\n",
              "    </tr>\n",
              "    <tr>\n",
              "      <th>4</th>\n",
              "      <td>1.480510e+19</td>\n",
              "      <td>0</td>\n",
              "      <td>2</td>\n",
              "      <td>1005</td>\n",
              "      <td>1</td>\n",
              "      <td>791b5571</td>\n",
              "      <td>fd13bc73</td>\n",
              "      <td>f028772b</td>\n",
              "      <td>ecad2386</td>\n",
              "      <td>7801e8d9</td>\n",
              "      <td>07d7df22</td>\n",
              "      <td>1</td>\n",
              "      <td>0</td>\n",
              "      <td>8330</td>\n",
              "      <td>320</td>\n",
              "      <td>50</td>\n",
              "      <td>761</td>\n",
              "      <td>3</td>\n",
              "      <td>175</td>\n",
              "      <td>100081</td>\n",
              "      <td>23</td>\n",
              "      <td>2</td>\n",
              "      <td>d5f88679a5bce124</td>\n",
              "    </tr>\n",
              "  </tbody>\n",
              "</table>\n",
              "</div>"
            ],
            "text/plain": [
              "             id  click  hour    C1  ...     C20  C21 weekday              user\n",
              "0  3.983206e+18      0    15  1005  ...  100148   32       2  fb6566d3be87996b\n",
              "1  7.756884e+18      0     7  1002  ...  100077   32       3          9b7af851\n",
              "2  6.941774e+17      0    11  1005  ...  100055   71       0  748e298a3c55fad5\n",
              "3  2.664154e+18      1     3  1005  ...  100176  221       2  a50da3d4c5cc73c1\n",
              "4  1.480510e+19      0     2  1005  ...  100081   23       2  d5f88679a5bce124\n",
              "\n",
              "[5 rows x 23 columns]"
            ]
          },
          "metadata": {
            "tags": []
          },
          "execution_count": 45
        }
      ]
    },
    {
      "cell_type": "markdown",
      "metadata": {
        "id": "Re0avpAtYcW7",
        "colab_type": "text"
      },
      "source": [
        "<font color=\"red\">**Question**:\n",
        "    One could look at the similarity between 'site_id' and 'site_domain'. Merge those columns into a new 'site' column (using the '+' operator)  and delete the old 'site_id' and 'site_domain' columns.\n",
        "</font>"
      ]
    },
    {
      "cell_type": "code",
      "metadata": {
        "id": "RPrMudxPYcW7",
        "colab_type": "code",
        "outputId": "51da78c8-3da8-49f3-dbb6-ee415dc8cef9",
        "colab": {
          "base_uri": "https://localhost:8080/",
          "height": 865
        }
      },
      "source": [
        "col = 'site_domain' # Fill here\n",
        "a = pd.DataFrame([df.groupby(col).mean()['click'], df.groupby(col).count()['click']]).transpose()\n",
        "a.columns = ['mean', 'n_val']\n",
        "sns.jointplot(a['n_val'], a['mean'], alpha=0.25);\n",
        "thres = 10000\n",
        "sns.jointplot(a[a['n_val']<thres]['n_val'], a[a['n_val']<thres]['mean'], alpha=0.25);"
      ],
      "execution_count": 46,
      "outputs": [
        {
          "output_type": "display_data",
          "data": {
            "image/png": "[encoded data removed]",
            "text/plain": [
              "<Figure size 432x432 with 3 Axes>"
            ]
          },
          "metadata": {
            "tags": []
          }
        },
        {
          "output_type": "display_data",
          "data": {
            "image/png": "[encoded data removed]",
            "text/plain": [
              "<Figure size 432x432 with 3 Axes>"
            ]
          },
          "metadata": {
            "tags": []
          }
        }
      ]
    },
    {
      "cell_type": "code",
      "metadata": {
        "id": "KRR6iFuN2gHR",
        "colab_type": "code",
        "outputId": "d91cf62a-955a-48c6-b242-3c8eb0b77477",
        "colab": {
          "base_uri": "https://localhost:8080/",
          "height": 233
        }
      },
      "source": [
        "df['site_id'].value_counts()"
      ],
      "execution_count": 47,
      "outputs": [
        {
          "output_type": "execute_result",
          "data": {
            "text/plain": [
              "85f751fd    360911\n",
              "1fbe01fe    159924\n",
              "e151e245     65231\n",
              "d9750ee7     24090\n",
              "5b08c53b     22524\n",
              "             ...  \n",
              "fc112a3d         1\n",
              "e4df8ca8         1\n",
              "cd4909d0         1\n",
              "7a0f9a7f         1\n",
              "f5ed5386         1\n",
              "Name: site_id, Length: 2651, dtype: int64"
            ]
          },
          "metadata": {
            "tags": []
          },
          "execution_count": 47
        }
      ]
    },
    {
      "cell_type": "code",
      "metadata": {
        "id": "-ioDlDDA2rEt",
        "colab_type": "code",
        "outputId": "f6220dd1-db49-4595-bca6-2e92c015a4c7",
        "colab": {
          "base_uri": "https://localhost:8080/",
          "height": 233
        }
      },
      "source": [
        "df['site_domain'].value_counts()"
      ],
      "execution_count": 48,
      "outputs": [
        {
          "output_type": "execute_result",
          "data": {
            "text/plain": [
              "c4e18dd6    374158\n",
              "f3845767    159924\n",
              "7e091613     82263\n",
              "7687a86e     31858\n",
              "98572c79     24879\n",
              "             ...  \n",
              "4dc4660a         1\n",
              "a6bffa37         1\n",
              "257bfe3b         1\n",
              "3e7bcc29         1\n",
              "abb08d8f         1\n",
              "Name: site_domain, Length: 2871, dtype: int64"
            ]
          },
          "metadata": {
            "tags": []
          },
          "execution_count": 48
        }
      ]
    },
    {
      "cell_type": "code",
      "metadata": {
        "id": "WLlbsPwV4TG7",
        "colab_type": "code",
        "outputId": "9524c9c1-124f-4da2-98ec-1af617132c16",
        "colab": {
          "base_uri": "https://localhost:8080/",
          "height": 224
        }
      },
      "source": [
        "df['site']=df['site_id']+df['site_domain']\n",
        "df.head()"
      ],
      "execution_count": 49,
      "outputs": [
        {
          "output_type": "execute_result",
          "data": {
            "text/html": [
              "<div>\n",
              "<style scoped>\n",
              "    .dataframe tbody tr th:only-of-type {\n",
              "        vertical-align: middle;\n",
              "    }\n",
              "\n",
              "    .dataframe tbody tr th {\n",
              "        vertical-align: top;\n",
              "    }\n",
              "\n",
              "    .dataframe thead th {\n",
              "        text-align: right;\n",
              "    }\n",
              "</style>\n",
              "<table border=\"1\" class=\"dataframe\">\n",
              "  <thead>\n",
              "    <tr style=\"text-align: right;\">\n",
              "      <th></th>\n",
              "      <th>id</th>\n",
              "      <th>click</th>\n",
              "      <th>hour</th>\n",
              "      <th>C1</th>\n",
              "      <th>banner_pos</th>\n",
              "      <th>site_id</th>\n",
              "      <th>site_domain</th>\n",
              "      <th>site_category</th>\n",
              "      <th>app_id</th>\n",
              "      <th>app_domain</th>\n",
              "      <th>app_category</th>\n",
              "      <th>device_type</th>\n",
              "      <th>device_conn_type</th>\n",
              "      <th>C14</th>\n",
              "      <th>C15</th>\n",
              "      <th>C16</th>\n",
              "      <th>C17</th>\n",
              "      <th>C18</th>\n",
              "      <th>C19</th>\n",
              "      <th>C20</th>\n",
              "      <th>C21</th>\n",
              "      <th>weekday</th>\n",
              "      <th>user</th>\n",
              "      <th>site</th>\n",
              "    </tr>\n",
              "  </thead>\n",
              "  <tbody>\n",
              "    <tr>\n",
              "      <th>0</th>\n",
              "      <td>3.983206e+18</td>\n",
              "      <td>0</td>\n",
              "      <td>15</td>\n",
              "      <td>1005</td>\n",
              "      <td>1</td>\n",
              "      <td>e151e245</td>\n",
              "      <td>7e091613</td>\n",
              "      <td>f028772b</td>\n",
              "      <td>ecad2386</td>\n",
              "      <td>7801e8d9</td>\n",
              "      <td>07d7df22</td>\n",
              "      <td>1</td>\n",
              "      <td>2</td>\n",
              "      <td>4687</td>\n",
              "      <td>320</td>\n",
              "      <td>50</td>\n",
              "      <td>423</td>\n",
              "      <td>2</td>\n",
              "      <td>39</td>\n",
              "      <td>100148</td>\n",
              "      <td>32</td>\n",
              "      <td>2</td>\n",
              "      <td>fb6566d3be87996b</td>\n",
              "      <td>e151e2457e091613</td>\n",
              "    </tr>\n",
              "    <tr>\n",
              "      <th>1</th>\n",
              "      <td>7.756884e+18</td>\n",
              "      <td>0</td>\n",
              "      <td>7</td>\n",
              "      <td>1002</td>\n",
              "      <td>0</td>\n",
              "      <td>cb809abf</td>\n",
              "      <td>74acf31a</td>\n",
              "      <td>50e219e0</td>\n",
              "      <td>ecad2386</td>\n",
              "      <td>7801e8d9</td>\n",
              "      <td>07d7df22</td>\n",
              "      <td>0</td>\n",
              "      <td>0</td>\n",
              "      <td>17894</td>\n",
              "      <td>320</td>\n",
              "      <td>50</td>\n",
              "      <td>2039</td>\n",
              "      <td>2</td>\n",
              "      <td>39</td>\n",
              "      <td>100077</td>\n",
              "      <td>32</td>\n",
              "      <td>3</td>\n",
              "      <td>9b7af851</td>\n",
              "      <td>cb809abf74acf31a</td>\n",
              "    </tr>\n",
              "    <tr>\n",
              "      <th>2</th>\n",
              "      <td>6.941774e+17</td>\n",
              "      <td>0</td>\n",
              "      <td>11</td>\n",
              "      <td>1005</td>\n",
              "      <td>0</td>\n",
              "      <td>85f751fd</td>\n",
              "      <td>c4e18dd6</td>\n",
              "      <td>50e219e0</td>\n",
              "      <td>e9739828</td>\n",
              "      <td>df32afa9</td>\n",
              "      <td>cef3e649</td>\n",
              "      <td>1</td>\n",
              "      <td>0</td>\n",
              "      <td>22684</td>\n",
              "      <td>320</td>\n",
              "      <td>50</td>\n",
              "      <td>2619</td>\n",
              "      <td>1</td>\n",
              "      <td>163</td>\n",
              "      <td>100055</td>\n",
              "      <td>71</td>\n",
              "      <td>0</td>\n",
              "      <td>748e298a3c55fad5</td>\n",
              "      <td>85f751fdc4e18dd6</td>\n",
              "    </tr>\n",
              "    <tr>\n",
              "      <th>3</th>\n",
              "      <td>2.664154e+18</td>\n",
              "      <td>1</td>\n",
              "      <td>3</td>\n",
              "      <td>1005</td>\n",
              "      <td>0</td>\n",
              "      <td>85f751fd</td>\n",
              "      <td>c4e18dd6</td>\n",
              "      <td>50e219e0</td>\n",
              "      <td>a5184c22</td>\n",
              "      <td>b8d325c3</td>\n",
              "      <td>0f2161f8</td>\n",
              "      <td>1</td>\n",
              "      <td>0</td>\n",
              "      <td>23222</td>\n",
              "      <td>320</td>\n",
              "      <td>50</td>\n",
              "      <td>2676</td>\n",
              "      <td>0</td>\n",
              "      <td>35</td>\n",
              "      <td>100176</td>\n",
              "      <td>221</td>\n",
              "      <td>2</td>\n",
              "      <td>a50da3d4c5cc73c1</td>\n",
              "      <td>85f751fdc4e18dd6</td>\n",
              "    </tr>\n",
              "    <tr>\n",
              "      <th>4</th>\n",
              "      <td>1.480510e+19</td>\n",
              "      <td>0</td>\n",
              "      <td>2</td>\n",
              "      <td>1005</td>\n",
              "      <td>1</td>\n",
              "      <td>791b5571</td>\n",
              "      <td>fd13bc73</td>\n",
              "      <td>f028772b</td>\n",
              "      <td>ecad2386</td>\n",
              "      <td>7801e8d9</td>\n",
              "      <td>07d7df22</td>\n",
              "      <td>1</td>\n",
              "      <td>0</td>\n",
              "      <td>8330</td>\n",
              "      <td>320</td>\n",
              "      <td>50</td>\n",
              "      <td>761</td>\n",
              "      <td>3</td>\n",
              "      <td>175</td>\n",
              "      <td>100081</td>\n",
              "      <td>23</td>\n",
              "      <td>2</td>\n",
              "      <td>d5f88679a5bce124</td>\n",
              "      <td>791b5571fd13bc73</td>\n",
              "    </tr>\n",
              "  </tbody>\n",
              "</table>\n",
              "</div>"
            ],
            "text/plain": [
              "             id  click  hour  ...  weekday              user              site\n",
              "0  3.983206e+18      0    15  ...        2  fb6566d3be87996b  e151e2457e091613\n",
              "1  7.756884e+18      0     7  ...        3          9b7af851  cb809abf74acf31a\n",
              "2  6.941774e+17      0    11  ...        0  748e298a3c55fad5  85f751fdc4e18dd6\n",
              "3  2.664154e+18      1     3  ...        2  a50da3d4c5cc73c1  85f751fdc4e18dd6\n",
              "4  1.480510e+19      0     2  ...        2  d5f88679a5bce124  791b5571fd13bc73\n",
              "\n",
              "[5 rows x 24 columns]"
            ]
          },
          "metadata": {
            "tags": []
          },
          "execution_count": 49
        }
      ]
    },
    {
      "cell_type": "code",
      "metadata": {
        "id": "rIXQwzpH4Re5",
        "colab_type": "code",
        "outputId": "601caa42-6a35-4323-d88b-dda2b0364b31",
        "colab": {
          "base_uri": "https://localhost:8080/",
          "height": 224
        }
      },
      "source": [
        "todrop=['site_id','site_domain']\n",
        "df=df.drop(todrop,axis=1)\n",
        "df.head()"
      ],
      "execution_count": 50,
      "outputs": [
        {
          "output_type": "execute_result",
          "data": {
            "text/html": [
              "<div>\n",
              "<style scoped>\n",
              "    .dataframe tbody tr th:only-of-type {\n",
              "        vertical-align: middle;\n",
              "    }\n",
              "\n",
              "    .dataframe tbody tr th {\n",
              "        vertical-align: top;\n",
              "    }\n",
              "\n",
              "    .dataframe thead th {\n",
              "        text-align: right;\n",
              "    }\n",
              "</style>\n",
              "<table border=\"1\" class=\"dataframe\">\n",
              "  <thead>\n",
              "    <tr style=\"text-align: right;\">\n",
              "      <th></th>\n",
              "      <th>id</th>\n",
              "      <th>click</th>\n",
              "      <th>hour</th>\n",
              "      <th>C1</th>\n",
              "      <th>banner_pos</th>\n",
              "      <th>site_category</th>\n",
              "      <th>app_id</th>\n",
              "      <th>app_domain</th>\n",
              "      <th>app_category</th>\n",
              "      <th>device_type</th>\n",
              "      <th>device_conn_type</th>\n",
              "      <th>C14</th>\n",
              "      <th>C15</th>\n",
              "      <th>C16</th>\n",
              "      <th>C17</th>\n",
              "      <th>C18</th>\n",
              "      <th>C19</th>\n",
              "      <th>C20</th>\n",
              "      <th>C21</th>\n",
              "      <th>weekday</th>\n",
              "      <th>user</th>\n",
              "      <th>site</th>\n",
              "    </tr>\n",
              "  </thead>\n",
              "  <tbody>\n",
              "    <tr>\n",
              "      <th>0</th>\n",
              "      <td>3.983206e+18</td>\n",
              "      <td>0</td>\n",
              "      <td>15</td>\n",
              "      <td>1005</td>\n",
              "      <td>1</td>\n",
              "      <td>f028772b</td>\n",
              "      <td>ecad2386</td>\n",
              "      <td>7801e8d9</td>\n",
              "      <td>07d7df22</td>\n",
              "      <td>1</td>\n",
              "      <td>2</td>\n",
              "      <td>4687</td>\n",
              "      <td>320</td>\n",
              "      <td>50</td>\n",
              "      <td>423</td>\n",
              "      <td>2</td>\n",
              "      <td>39</td>\n",
              "      <td>100148</td>\n",
              "      <td>32</td>\n",
              "      <td>2</td>\n",
              "      <td>fb6566d3be87996b</td>\n",
              "      <td>e151e2457e091613</td>\n",
              "    </tr>\n",
              "    <tr>\n",
              "      <th>1</th>\n",
              "      <td>7.756884e+18</td>\n",
              "      <td>0</td>\n",
              "      <td>7</td>\n",
              "      <td>1002</td>\n",
              "      <td>0</td>\n",
              "      <td>50e219e0</td>\n",
              "      <td>ecad2386</td>\n",
              "      <td>7801e8d9</td>\n",
              "      <td>07d7df22</td>\n",
              "      <td>0</td>\n",
              "      <td>0</td>\n",
              "      <td>17894</td>\n",
              "      <td>320</td>\n",
              "      <td>50</td>\n",
              "      <td>2039</td>\n",
              "      <td>2</td>\n",
              "      <td>39</td>\n",
              "      <td>100077</td>\n",
              "      <td>32</td>\n",
              "      <td>3</td>\n",
              "      <td>9b7af851</td>\n",
              "      <td>cb809abf74acf31a</td>\n",
              "    </tr>\n",
              "    <tr>\n",
              "      <th>2</th>\n",
              "      <td>6.941774e+17</td>\n",
              "      <td>0</td>\n",
              "      <td>11</td>\n",
              "      <td>1005</td>\n",
              "      <td>0</td>\n",
              "      <td>50e219e0</td>\n",
              "      <td>e9739828</td>\n",
              "      <td>df32afa9</td>\n",
              "      <td>cef3e649</td>\n",
              "      <td>1</td>\n",
              "      <td>0</td>\n",
              "      <td>22684</td>\n",
              "      <td>320</td>\n",
              "      <td>50</td>\n",
              "      <td>2619</td>\n",
              "      <td>1</td>\n",
              "      <td>163</td>\n",
              "      <td>100055</td>\n",
              "      <td>71</td>\n",
              "      <td>0</td>\n",
              "      <td>748e298a3c55fad5</td>\n",
              "      <td>85f751fdc4e18dd6</td>\n",
              "    </tr>\n",
              "    <tr>\n",
              "      <th>3</th>\n",
              "      <td>2.664154e+18</td>\n",
              "      <td>1</td>\n",
              "      <td>3</td>\n",
              "      <td>1005</td>\n",
              "      <td>0</td>\n",
              "      <td>50e219e0</td>\n",
              "      <td>a5184c22</td>\n",
              "      <td>b8d325c3</td>\n",
              "      <td>0f2161f8</td>\n",
              "      <td>1</td>\n",
              "      <td>0</td>\n",
              "      <td>23222</td>\n",
              "      <td>320</td>\n",
              "      <td>50</td>\n",
              "      <td>2676</td>\n",
              "      <td>0</td>\n",
              "      <td>35</td>\n",
              "      <td>100176</td>\n",
              "      <td>221</td>\n",
              "      <td>2</td>\n",
              "      <td>a50da3d4c5cc73c1</td>\n",
              "      <td>85f751fdc4e18dd6</td>\n",
              "    </tr>\n",
              "    <tr>\n",
              "      <th>4</th>\n",
              "      <td>1.480510e+19</td>\n",
              "      <td>0</td>\n",
              "      <td>2</td>\n",
              "      <td>1005</td>\n",
              "      <td>1</td>\n",
              "      <td>f028772b</td>\n",
              "      <td>ecad2386</td>\n",
              "      <td>7801e8d9</td>\n",
              "      <td>07d7df22</td>\n",
              "      <td>1</td>\n",
              "      <td>0</td>\n",
              "      <td>8330</td>\n",
              "      <td>320</td>\n",
              "      <td>50</td>\n",
              "      <td>761</td>\n",
              "      <td>3</td>\n",
              "      <td>175</td>\n",
              "      <td>100081</td>\n",
              "      <td>23</td>\n",
              "      <td>2</td>\n",
              "      <td>d5f88679a5bce124</td>\n",
              "      <td>791b5571fd13bc73</td>\n",
              "    </tr>\n",
              "  </tbody>\n",
              "</table>\n",
              "</div>"
            ],
            "text/plain": [
              "             id  click  hour  ...  weekday              user              site\n",
              "0  3.983206e+18      0    15  ...        2  fb6566d3be87996b  e151e2457e091613\n",
              "1  7.756884e+18      0     7  ...        3          9b7af851  cb809abf74acf31a\n",
              "2  6.941774e+17      0    11  ...        0  748e298a3c55fad5  85f751fdc4e18dd6\n",
              "3  2.664154e+18      1     3  ...        2  a50da3d4c5cc73c1  85f751fdc4e18dd6\n",
              "4  1.480510e+19      0     2  ...        2  d5f88679a5bce124  791b5571fd13bc73\n",
              "\n",
              "[5 rows x 22 columns]"
            ]
          },
          "metadata": {
            "tags": []
          },
          "execution_count": 50
        }
      ]
    },
    {
      "cell_type": "markdown",
      "metadata": {
        "id": "qBWWV6pnYcW_",
        "colab_type": "text"
      },
      "source": [
        "<font color=\"red\">**Question**:\n",
        "    Once again, split the modified DataFrame 'df' into a train and a test set (with options: test_size=0.1 and random_state=100).\n",
        "    <br>\n",
        "    Warning: do not use 'id' as a feature.\n",
        "</font>"
      ]
    },
    {
      "cell_type": "code",
      "metadata": {
        "id": "XmJrvxlEYcXA",
        "colab_type": "code",
        "colab": {}
      },
      "source": [
        "col=df.columns[2:]\n",
        "Xtrain, Xtest, ytrain, ytest = Xtrain, Xtest, ytrain, ytest = train_test_split(df[col],df['click'],test_size=0.1,random_state=100)"
      ],
      "execution_count": 0,
      "outputs": []
    },
    {
      "cell_type": "markdown",
      "metadata": {
        "id": "b7zoMXC5YcXC",
        "colab_type": "text"
      },
      "source": [
        "<font color=\"red\">**Question**:\n",
        "    Define a OneHotEncoder and then, 'fit_transform' the train set.\n",
        "</font>"
      ]
    },
    {
      "cell_type": "code",
      "metadata": {
        "id": "U4RSRj7LYcXC",
        "colab_type": "code",
        "colab": {}
      },
      "source": [
        "ohe = OneHotEncoder(handle_unknown='ignore')\n",
        "Xtrain_oh = ohe.fit_transform(Xtrain) # Fill here"
      ],
      "execution_count": 0,
      "outputs": []
    },
    {
      "cell_type": "markdown",
      "metadata": {
        "id": "9p2yNLblYcXF",
        "colab_type": "text"
      },
      "source": [
        "<font color=\"red\">**Question**:\n",
        "    Transform the test set. If an error occurs, analyze it and try to solve it by modifying the parameter \"handle_unkown\" of the OneHotEncoder. \n",
        "    <br>\n",
        "    Explain your the problem you encouter and how you solved it. \n",
        "</font>"
      ]
    },
    {
      "cell_type": "code",
      "metadata": {
        "id": "7MeYRj1IYcXG",
        "colab_type": "code",
        "colab": {}
      },
      "source": [
        "Xtest_oh = ohe.transform(Xtest) # Fill here"
      ],
      "execution_count": 0,
      "outputs": []
    },
    {
      "cell_type": "markdown",
      "metadata": {
        "colab_type": "text",
        "id": "zKXtU2rBwAd-"
      },
      "source": [
        "Your answer here\n",
        "\n",
        "It appears some number that we haven't find in the trainning set so we just ignore these occasion."
      ]
    },
    {
      "cell_type": "markdown",
      "metadata": {
        "id": "lrihsX2dYcXH",
        "colab_type": "text"
      },
      "source": [
        "<font color=\"red\">**Question**:\n",
        "    What is the new number of features?\n",
        "</font>"
      ]
    },
    {
      "cell_type": "code",
      "metadata": {
        "id": "93fPqXUP3ec-",
        "colab_type": "code",
        "outputId": "4556d61d-a7ed-40aa-a91c-2b3397fb36b5",
        "colab": {
          "base_uri": "https://localhost:8080/",
          "height": 35
        }
      },
      "source": [
        "Xtest_oh.shape,Xtrain_oh.shape"
      ],
      "execution_count": 54,
      "outputs": [
        {
          "output_type": "execute_result",
          "data": {
            "text/plain": [
              "((100000, 713334), (900000, 713334))"
            ]
          },
          "metadata": {
            "tags": []
          },
          "execution_count": 54
        }
      ]
    },
    {
      "cell_type": "markdown",
      "metadata": {
        "colab_type": "text",
        "id": "lZ9kHweWwDEt"
      },
      "source": [
        "Your answer here\n",
        "\n",
        "713334"
      ]
    },
    {
      "cell_type": "markdown",
      "metadata": {
        "id": "KTjjUA6JYcXJ",
        "colab_type": "text"
      },
      "source": [
        "<font color=\"red\">**Question**:\n",
        "    How many modalities have been seen more than a 100 times?\n",
        "</font>"
      ]
    },
    {
      "cell_type": "code",
      "metadata": {
        "id": "Egt0JgByYcXK",
        "colab_type": "code",
        "outputId": "0014ccfb-4285-48a4-8a16-01237511cd76",
        "colab": {
          "base_uri": "https://localhost:8080/",
          "height": 35
        }
      },
      "source": [
        "# The following 'n_ones' vector below gives the number of '1' in each column/modality of the Xtrain_oh design matrix.\n",
        "n_ones = np.array(Xtrain_oh.sum(axis=0))\n",
        "(n_ones>100).sum() # Fill here using 'n_ones'"
      ],
      "execution_count": 55,
      "outputs": [
        {
          "output_type": "execute_result",
          "data": {
            "text/plain": [
              "1971"
            ]
          },
          "metadata": {
            "tags": []
          },
          "execution_count": 55
        }
      ]
    },
    {
      "cell_type": "markdown",
      "metadata": {
        "colab_type": "text",
        "id": "3bNDd-2dwD3_"
      },
      "source": [
        "Your answer here\n",
        "\n",
        "1971"
      ]
    },
    {
      "cell_type": "markdown",
      "metadata": {
        "id": "U0h74pNxYcXN",
        "colab_type": "text"
      },
      "source": [
        "The list 'cols_to_keep' below is used to store the indices of the modalities seen more than a 100 times. \n",
        "\n",
        "<font color=\"red\">**Question**:\n",
        "    How does the `enumerate` function work?\n",
        "</font>"
      ]
    },
    {
      "cell_type": "code",
      "metadata": {
        "id": "_YknbprTYcXO",
        "colab_type": "code",
        "colab": {}
      },
      "source": [
        "useful = np.array(n_ones>100)[0]\n",
        "cols_to_keep = [i for i,b in enumerate(useful) if b]"
      ],
      "execution_count": 0,
      "outputs": []
    },
    {
      "cell_type": "markdown",
      "metadata": {
        "colab_type": "text",
        "id": "xMCS7vM9yjt0"
      },
      "source": [
        "Your answer here\n",
        "\n",
        "It generate the index and the value for an array or a list."
      ]
    },
    {
      "cell_type": "markdown",
      "metadata": {
        "id": "X0fiY2NBYcXP",
        "colab_type": "text"
      },
      "source": [
        "<font color=\"red\">**Question**:\n",
        "    Using only our restriction on the 'cols_to_keep' columns, retrain a logistic regression model and compare its performance in terms of 'log_loss' and 'roc_auc_curve'.\n",
        "</font>"
      ]
    },
    {
      "cell_type": "code",
      "metadata": {
        "id": "ajFA_JMJYcXR",
        "colab_type": "code",
        "outputId": "2c6a2b6d-62a6-49da-99a4-c9a3f1cb7041",
        "colab": {
          "base_uri": "https://localhost:8080/",
          "height": 91
        }
      },
      "source": [
        "lr = LogisticRegression()\n",
        "lr.fit( Xtrain_oh[:,cols_to_keep],ytrain )\n",
        "soft = lr.predict_proba(Xtest_oh[:,cols_to_keep])\n",
        "log_loss( ytest,soft[:,1] ), roc_auc_score( ytest,soft[:,1] )"
      ],
      "execution_count": 57,
      "outputs": [
        {
          "output_type": "stream",
          "text": [
            "/usr/local/lib/python3.6/dist-packages/sklearn/linear_model/logistic.py:432: FutureWarning: Default solver will be changed to 'lbfgs' in 0.22. Specify a solver to silence this warning.\n",
            "  FutureWarning)\n"
          ],
          "name": "stderr"
        },
        {
          "output_type": "execute_result",
          "data": {
            "text/plain": [
              "(0.40115384962973016, 0.7385969297244755)"
            ]
          },
          "metadata": {
            "tags": []
          },
          "execution_count": 57
        }
      ]
    },
    {
      "cell_type": "code",
      "metadata": {
        "id": "j5cKjSec5GKk",
        "colab_type": "code",
        "outputId": "219013f4-23f7-4c4d-ae9f-570c06fd5db2",
        "colab": {
          "base_uri": "https://localhost:8080/",
          "height": 35
        }
      },
      "source": [
        "hard=lr.predict(Xtest_oh[:,cols_to_keep])\n",
        "accuracy_score(ytest,hard) # Fill here"
      ],
      "execution_count": 58,
      "outputs": [
        {
          "output_type": "execute_result",
          "data": {
            "text/plain": [
              "0.83373"
            ]
          },
          "metadata": {
            "tags": []
          },
          "execution_count": 58
        }
      ]
    },
    {
      "cell_type": "markdown",
      "metadata": {
        "id": "lahZdWm6YcXT",
        "colab_type": "text"
      },
      "source": [
        "# Gradient Boosting Decision Trees"
      ]
    },
    {
      "cell_type": "markdown",
      "metadata": {
        "id": "RkeyRzzmYcXU",
        "colab_type": "text"
      },
      "source": [
        "<font color=\"red\">**Question**:\n",
        "    <br>\n",
        "    - Import GradientBoostingClassifier from scikit learn. \n",
        "    <br>\n",
        "    - Initialize it using 50 estimators and a learning rate of 0.8. Set 'verbose=True' to monitor the progress of the training step.\n",
        "    <br>\n",
        "    - Fit it on the same columns 'cols_to_keep' of Xtrain_oh than for the previous logistic regression.\n",
        "    <br>\n",
        "    - Evaluate its performance as in the previous step.\n",
        "</font>"
      ]
    },
    {
      "cell_type": "code",
      "metadata": {
        "id": "H8XZdPUXYcXV",
        "colab_type": "code",
        "colab": {}
      },
      "source": [
        "from sklearn.ensemble import GradientBoostingClassifier\n",
        "gb = GradientBoostingClassifier(verbose=1,learning_rate=0.8,n_estimators=50) # Fill here"
      ],
      "execution_count": 0,
      "outputs": []
    },
    {
      "cell_type": "code",
      "metadata": {
        "id": "et4JbJETYcXb",
        "colab_type": "code",
        "outputId": "5fe9aa40-7eb4-4917-8153-e8f57926da5c",
        "colab": {
          "base_uri": "https://localhost:8080/",
          "height": 433
        }
      },
      "source": [
        "gb.fit( Xtrain_oh[:,cols_to_keep],ytrain )"
      ],
      "execution_count": 0,
      "outputs": [
        {
          "output_type": "stream",
          "text": [
            "      Iter       Train Loss   Remaining Time \n",
            "         1           0.8743            2.00m\n",
            "         2           0.8646            1.87m\n",
            "         3           0.8583            1.81m\n",
            "         4           0.8535            1.75m\n",
            "         5           0.8503            1.71m\n",
            "         6           0.8464            1.67m\n",
            "         7           0.8441            1.63m\n",
            "         8           0.8418            1.59m\n",
            "         9           0.8404            1.55m\n",
            "        10           0.8383            1.50m\n",
            "        20           0.8282            1.13m\n",
            "        30           0.8234           44.95s\n",
            "        40           0.8190           22.49s\n",
            "        50           0.8163            0.00s\n"
          ],
          "name": "stdout"
        },
        {
          "output_type": "execute_result",
          "data": {
            "text/plain": [
              "GradientBoostingClassifier(criterion='friedman_mse', init=None,\n",
              "                           learning_rate=0.8, loss='deviance', max_depth=3,\n",
              "                           max_features=None, max_leaf_nodes=None,\n",
              "                           min_impurity_decrease=0.0, min_impurity_split=None,\n",
              "                           min_samples_leaf=1, min_samples_split=2,\n",
              "                           min_weight_fraction_leaf=0.0, n_estimators=50,\n",
              "                           n_iter_no_change=None, presort='auto',\n",
              "                           random_state=None, subsample=1.0, tol=0.0001,\n",
              "                           validation_fraction=0.1, verbose=1,\n",
              "                           warm_start=False)"
            ]
          },
          "metadata": {
            "tags": []
          },
          "execution_count": 62
        }
      ]
    },
    {
      "cell_type": "code",
      "metadata": {
        "id": "2mD8vNR-YcXd",
        "colab_type": "code",
        "outputId": "b0f01187-6a4a-4e65-cad4-7de7d33197d7",
        "colab": {
          "base_uri": "https://localhost:8080/",
          "height": 33
        }
      },
      "source": [
        "soft = gb.predict_proba(Xtest_oh[:,cols_to_keep])[:,1]\n",
        "log_loss(ytest, soft), roc_auc_score(ytest, soft)"
      ],
      "execution_count": 0,
      "outputs": [
        {
          "output_type": "execute_result",
          "data": {
            "text/plain": [
              "(0.4091871736006742, 0.7251893509766301)"
            ]
          },
          "metadata": {
            "tags": []
          },
          "execution_count": 65
        }
      ]
    },
    {
      "cell_type": "markdown",
      "metadata": {
        "id": "LwRasRUrYcXe",
        "colab_type": "text"
      },
      "source": [
        "<font color=\"red\">**Question**:\n",
        "    What does the 'gb.estimators_' output?\n",
        "</font>"
      ]
    },
    {
      "cell_type": "code",
      "metadata": {
        "id": "93aySiwVYcXf",
        "colab_type": "code",
        "outputId": "42c75595-20b0-4282-c324-d3863e0639f7",
        "colab": {
          "base_uri": "https://localhost:8080/",
          "height": 1000
        }
      },
      "source": [
        "gb.estimators_"
      ],
      "execution_count": 0,
      "outputs": [
        {
          "output_type": "execute_result",
          "data": {
            "text/plain": [
              "array([[DecisionTreeRegressor(criterion='friedman_mse', max_depth=3, max_features=None,\n",
              "                      max_leaf_nodes=None, min_impurity_decrease=0.0,\n",
              "                      min_impurity_split=None, min_samples_leaf=1,\n",
              "                      min_samples_split=2, min_weight_fraction_leaf=0.0,\n",
              "                      presort='auto',\n",
              "                      random_state=RandomState(MT19937) at 0x7F896E0C4A98,\n",
              "                      splitter='best')],\n",
              "       [DecisionTreeRegressor(criterion='friedman_mse', max_depth=3, max_features=None,\n",
              "                      max_leaf_nodes=None, min_impurity_decrease=0.0,\n",
              "                      min_impurity_split=None, min_samples_leaf=1,\n",
              "                      min_samples_split=2, min_weight_fraction_leaf=0.0,\n",
              "                      presort='auto',\n",
              "                      random_state=RandomState(MT19937) at 0x7F896E0C4A98,\n",
              "                      splitter='best')],\n",
              "       [DecisionTreeRegressor(criterion='friedman_mse', max_depth=3, max_features=None,\n",
              "                      max_leaf_nodes=None, min_impurity_decrease=0.0,\n",
              "                      min_impurity_split=None, min_samples_leaf=1,\n",
              "                      min_samples_split=2, min_weight_fraction_leaf=0.0,\n",
              "                      presort='auto',\n",
              "                      random_state=RandomState(MT19937) at 0x7F896E0C4A98,\n",
              "                      splitter='best')],\n",
              "       [DecisionTreeRegressor(criterion='friedman_mse', max_depth=3, max_features=None,\n",
              "                      max_leaf_nodes=None, min_impurity_decrease=0.0,\n",
              "                      min_impurity_split=None, min_samples_leaf=1,\n",
              "                      min_samples_split=2, min_weight_fraction_leaf=0.0,\n",
              "                      presort='auto',\n",
              "                      random_state=RandomState(MT19937) at 0x7F896E0C4A98,\n",
              "                      splitter='best')],\n",
              "       [DecisionTreeRegressor(criterion='friedman_mse', max_depth=3, max_features=None,\n",
              "                      max_leaf_nodes=None, min_impurity_decrease=0.0,\n",
              "                      min_impurity_split=None, min_samples_leaf=1,\n",
              "                      min_samples_split=2, min_weight_fraction_leaf=0.0,\n",
              "                      presort='auto',\n",
              "                      random_state=RandomState(MT19937) at 0x7F896E0C4A98,\n",
              "                      splitter='best')],\n",
              "       [DecisionTreeRegressor(criterion='friedman_mse', max_depth=3, max_features=None,\n",
              "                      max_leaf_nodes=None, min_impurity_decrease=0.0,\n",
              "                      min_impurity_split=None, min_samples_leaf=1,\n",
              "                      min_samples_split=2, min_weight_fraction_leaf=0.0,\n",
              "                      presort='auto',\n",
              "                      random_state=RandomState(MT19937) at 0x7F896E0C4A98,\n",
              "                      splitter='best')],\n",
              "       [DecisionTreeRegressor(criterion='friedman_mse', max_depth=3, max_features=None,\n",
              "                      max_leaf_nodes=None, min_impurity_decrease=0.0,\n",
              "                      min_impurity_split=None, min_samples_leaf=1,\n",
              "                      min_samples_split=2, min_weight_fraction_leaf=0.0,\n",
              "                      presort='auto',\n",
              "                      random_state=RandomState(MT19937) at 0x7F896E0C4A98,\n",
              "                      splitter='best')],\n",
              "       [DecisionTreeRegressor(criterion='friedman_mse', max_depth=3, max_features=None,\n",
              "                      max_leaf_nodes=None, min_impurity_decrease=0.0,\n",
              "                      min_impurity_split=None, min_samples_leaf=1,\n",
              "                      min_samples_split=2, min_weight_fraction_leaf=0.0,\n",
              "                      presort='auto',\n",
              "                      random_state=RandomState(MT19937) at 0x7F896E0C4A98,\n",
              "                      splitter='best')],\n",
              "       [DecisionTreeRegressor(criterion='friedman_mse', max_depth=3, max_features=None,\n",
              "                      max_leaf_nodes=None, min_impurity_decrease=0.0,\n",
              "                      min_impurity_split=None, min_samples_leaf=1,\n",
              "                      min_samples_split=2, min_weight_fraction_leaf=0.0,\n",
              "                      presort='auto',\n",
              "                      random_state=RandomState(MT19937) at 0x7F896E0C4A98,\n",
              "                      splitter='best')],\n",
              "       [DecisionTreeRegressor(criterion='friedman_mse', max_depth=3, max_features=None,\n",
              "                      max_leaf_nodes=None, min_impurity_decrease=0.0,\n",
              "                      min_impurity_split=None, min_samples_leaf=1,\n",
              "                      min_samples_split=2, min_weight_fraction_leaf=0.0,\n",
              "                      presort='auto',\n",
              "                      random_state=RandomState(MT19937) at 0x7F896E0C4A98,\n",
              "                      splitter='best')],\n",
              "       [DecisionTreeRegressor(criterion='friedman_mse', max_depth=3, max_features=None,\n",
              "                      max_leaf_nodes=None, min_impurity_decrease=0.0,\n",
              "                      min_impurity_split=None, min_samples_leaf=1,\n",
              "                      min_samples_split=2, min_weight_fraction_leaf=0.0,\n",
              "                      presort='auto',\n",
              "                      random_state=RandomState(MT19937) at 0x7F896E0C4A98,\n",
              "                      splitter='best')],\n",
              "       [DecisionTreeRegressor(criterion='friedman_mse', max_depth=3, max_features=None,\n",
              "                      max_leaf_nodes=None, min_impurity_decrease=0.0,\n",
              "                      min_impurity_split=None, min_samples_leaf=1,\n",
              "                      min_samples_split=2, min_weight_fraction_leaf=0.0,\n",
              "                      presort='auto',\n",
              "                      random_state=RandomState(MT19937) at 0x7F896E0C4A98,\n",
              "                      splitter='best')],\n",
              "       [DecisionTreeRegressor(criterion='friedman_mse', max_depth=3, max_features=None,\n",
              "                      max_leaf_nodes=None, min_impurity_decrease=0.0,\n",
              "                      min_impurity_split=None, min_samples_leaf=1,\n",
              "                      min_samples_split=2, min_weight_fraction_leaf=0.0,\n",
              "                      presort='auto',\n",
              "                      random_state=RandomState(MT19937) at 0x7F896E0C4A98,\n",
              "                      splitter='best')],\n",
              "       [DecisionTreeRegressor(criterion='friedman_mse', max_depth=3, max_features=None,\n",
              "                      max_leaf_nodes=None, min_impurity_decrease=0.0,\n",
              "                      min_impurity_split=None, min_samples_leaf=1,\n",
              "                      min_samples_split=2, min_weight_fraction_leaf=0.0,\n",
              "                      presort='auto',\n",
              "                      random_state=RandomState(MT19937) at 0x7F896E0C4A98,\n",
              "                      splitter='best')],\n",
              "       [DecisionTreeRegressor(criterion='friedman_mse', max_depth=3, max_features=None,\n",
              "                      max_leaf_nodes=None, min_impurity_decrease=0.0,\n",
              "                      min_impurity_split=None, min_samples_leaf=1,\n",
              "                      min_samples_split=2, min_weight_fraction_leaf=0.0,\n",
              "                      presort='auto',\n",
              "                      random_state=RandomState(MT19937) at 0x7F896E0C4A98,\n",
              "                      splitter='best')],\n",
              "       [DecisionTreeRegressor(criterion='friedman_mse', max_depth=3, max_features=None,\n",
              "                      max_leaf_nodes=None, min_impurity_decrease=0.0,\n",
              "                      min_impurity_split=None, min_samples_leaf=1,\n",
              "                      min_samples_split=2, min_weight_fraction_leaf=0.0,\n",
              "                      presort='auto',\n",
              "                      random_state=RandomState(MT19937) at 0x7F896E0C4A98,\n",
              "                      splitter='best')],\n",
              "       [DecisionTreeRegressor(criterion='friedman_mse', max_depth=3, max_features=None,\n",
              "                      max_leaf_nodes=None, min_impurity_decrease=0.0,\n",
              "                      min_impurity_split=None, min_samples_leaf=1,\n",
              "                      min_samples_split=2, min_weight_fraction_leaf=0.0,\n",
              "                      presort='auto',\n",
              "                      random_state=RandomState(MT19937) at 0x7F896E0C4A98,\n",
              "                      splitter='best')],\n",
              "       [DecisionTreeRegressor(criterion='friedman_mse', max_depth=3, max_features=None,\n",
              "                      max_leaf_nodes=None, min_impurity_decrease=0.0,\n",
              "                      min_impurity_split=None, min_samples_leaf=1,\n",
              "                      min_samples_split=2, min_weight_fraction_leaf=0.0,\n",
              "                      presort='auto',\n",
              "                      random_state=RandomState(MT19937) at 0x7F896E0C4A98,\n",
              "                      splitter='best')],\n",
              "       [DecisionTreeRegressor(criterion='friedman_mse', max_depth=3, max_features=None,\n",
              "                      max_leaf_nodes=None, min_impurity_decrease=0.0,\n",
              "                      min_impurity_split=None, min_samples_leaf=1,\n",
              "                      min_samples_split=2, min_weight_fraction_leaf=0.0,\n",
              "                      presort='auto',\n",
              "                      random_state=RandomState(MT19937) at 0x7F896E0C4A98,\n",
              "                      splitter='best')],\n",
              "       [DecisionTreeRegressor(criterion='friedman_mse', max_depth=3, max_features=None,\n",
              "                      max_leaf_nodes=None, min_impurity_decrease=0.0,\n",
              "                      min_impurity_split=None, min_samples_leaf=1,\n",
              "                      min_samples_split=2, min_weight_fraction_leaf=0.0,\n",
              "                      presort='auto',\n",
              "                      random_state=RandomState(MT19937) at 0x7F896E0C4A98,\n",
              "                      splitter='best')],\n",
              "       [DecisionTreeRegressor(criterion='friedman_mse', max_depth=3, max_features=None,\n",
              "                      max_leaf_nodes=None, min_impurity_decrease=0.0,\n",
              "                      min_impurity_split=None, min_samples_leaf=1,\n",
              "                      min_samples_split=2, min_weight_fraction_leaf=0.0,\n",
              "                      presort='auto',\n",
              "                      random_state=RandomState(MT19937) at 0x7F896E0C4A98,\n",
              "                      splitter='best')],\n",
              "       [DecisionTreeRegressor(criterion='friedman_mse', max_depth=3, max_features=None,\n",
              "                      max_leaf_nodes=None, min_impurity_decrease=0.0,\n",
              "                      min_impurity_split=None, min_samples_leaf=1,\n",
              "                      min_samples_split=2, min_weight_fraction_leaf=0.0,\n",
              "                      presort='auto',\n",
              "                      random_state=RandomState(MT19937) at 0x7F896E0C4A98,\n",
              "                      splitter='best')],\n",
              "       [DecisionTreeRegressor(criterion='friedman_mse', max_depth=3, max_features=None,\n",
              "                      max_leaf_nodes=None, min_impurity_decrease=0.0,\n",
              "                      min_impurity_split=None, min_samples_leaf=1,\n",
              "                      min_samples_split=2, min_weight_fraction_leaf=0.0,\n",
              "                      presort='auto',\n",
              "                      random_state=RandomState(MT19937) at 0x7F896E0C4A98,\n",
              "                      splitter='best')],\n",
              "       [DecisionTreeRegressor(criterion='friedman_mse', max_depth=3, max_features=None,\n",
              "                      max_leaf_nodes=None, min_impurity_decrease=0.0,\n",
              "                      min_impurity_split=None, min_samples_leaf=1,\n",
              "                      min_samples_split=2, min_weight_fraction_leaf=0.0,\n",
              "                      presort='auto',\n",
              "                      random_state=RandomState(MT19937) at 0x7F896E0C4A98,\n",
              "                      splitter='best')],\n",
              "       [DecisionTreeRegressor(criterion='friedman_mse', max_depth=3, max_features=None,\n",
              "                      max_leaf_nodes=None, min_impurity_decrease=0.0,\n",
              "                      min_impurity_split=None, min_samples_leaf=1,\n",
              "                      min_samples_split=2, min_weight_fraction_leaf=0.0,\n",
              "                      presort='auto',\n",
              "                      random_state=RandomState(MT19937) at 0x7F896E0C4A98,\n",
              "                      splitter='best')],\n",
              "       [DecisionTreeRegressor(criterion='friedman_mse', max_depth=3, max_features=None,\n",
              "                      max_leaf_nodes=None, min_impurity_decrease=0.0,\n",
              "                      min_impurity_split=None, min_samples_leaf=1,\n",
              "                      min_samples_split=2, min_weight_fraction_leaf=0.0,\n",
              "                      presort='auto',\n",
              "                      random_state=RandomState(MT19937) at 0x7F896E0C4A98,\n",
              "                      splitter='best')],\n",
              "       [DecisionTreeRegressor(criterion='friedman_mse', max_depth=3, max_features=None,\n",
              "                      max_leaf_nodes=None, min_impurity_decrease=0.0,\n",
              "                      min_impurity_split=None, min_samples_leaf=1,\n",
              "                      min_samples_split=2, min_weight_fraction_leaf=0.0,\n",
              "                      presort='auto',\n",
              "                      random_state=RandomState(MT19937) at 0x7F896E0C4A98,\n",
              "                      splitter='best')],\n",
              "       [DecisionTreeRegressor(criterion='friedman_mse', max_depth=3, max_features=None,\n",
              "                      max_leaf_nodes=None, min_impurity_decrease=0.0,\n",
              "                      min_impurity_split=None, min_samples_leaf=1,\n",
              "                      min_samples_split=2, min_weight_fraction_leaf=0.0,\n",
              "                      presort='auto',\n",
              "                      random_state=RandomState(MT19937) at 0x7F896E0C4A98,\n",
              "                      splitter='best')],\n",
              "       [DecisionTreeRegressor(criterion='friedman_mse', max_depth=3, max_features=None,\n",
              "                      max_leaf_nodes=None, min_impurity_decrease=0.0,\n",
              "                      min_impurity_split=None, min_samples_leaf=1,\n",
              "                      min_samples_split=2, min_weight_fraction_leaf=0.0,\n",
              "                      presort='auto',\n",
              "                      random_state=RandomState(MT19937) at 0x7F896E0C4A98,\n",
              "                      splitter='best')],\n",
              "       [DecisionTreeRegressor(criterion='friedman_mse', max_depth=3, max_features=None,\n",
              "                      max_leaf_nodes=None, min_impurity_decrease=0.0,\n",
              "                      min_impurity_split=None, min_samples_leaf=1,\n",
              "                      min_samples_split=2, min_weight_fraction_leaf=0.0,\n",
              "                      presort='auto',\n",
              "                      random_state=RandomState(MT19937) at 0x7F896E0C4A98,\n",
              "                      splitter='best')],\n",
              "       [DecisionTreeRegressor(criterion='friedman_mse', max_depth=3, max_features=None,\n",
              "                      max_leaf_nodes=None, min_impurity_decrease=0.0,\n",
              "                      min_impurity_split=None, min_samples_leaf=1,\n",
              "                      min_samples_split=2, min_weight_fraction_leaf=0.0,\n",
              "                      presort='auto',\n",
              "                      random_state=RandomState(MT19937) at 0x7F896E0C4A98,\n",
              "                      splitter='best')],\n",
              "       [DecisionTreeRegressor(criterion='friedman_mse', max_depth=3, max_features=None,\n",
              "                      max_leaf_nodes=None, min_impurity_decrease=0.0,\n",
              "                      min_impurity_split=None, min_samples_leaf=1,\n",
              "                      min_samples_split=2, min_weight_fraction_leaf=0.0,\n",
              "                      presort='auto',\n",
              "                      random_state=RandomState(MT19937) at 0x7F896E0C4A98,\n",
              "                      splitter='best')],\n",
              "       [DecisionTreeRegressor(criterion='friedman_mse', max_depth=3, max_features=None,\n",
              "                      max_leaf_nodes=None, min_impurity_decrease=0.0,\n",
              "                      min_impurity_split=None, min_samples_leaf=1,\n",
              "                      min_samples_split=2, min_weight_fraction_leaf=0.0,\n",
              "                      presort='auto',\n",
              "                      random_state=RandomState(MT19937) at 0x7F896E0C4A98,\n",
              "                      splitter='best')],\n",
              "       [DecisionTreeRegressor(criterion='friedman_mse', max_depth=3, max_features=None,\n",
              "                      max_leaf_nodes=None, min_impurity_decrease=0.0,\n",
              "                      min_impurity_split=None, min_samples_leaf=1,\n",
              "                      min_samples_split=2, min_weight_fraction_leaf=0.0,\n",
              "                      presort='auto',\n",
              "                      random_state=RandomState(MT19937) at 0x7F896E0C4A98,\n",
              "                      splitter='best')],\n",
              "       [DecisionTreeRegressor(criterion='friedman_mse', max_depth=3, max_features=None,\n",
              "                      max_leaf_nodes=None, min_impurity_decrease=0.0,\n",
              "                      min_impurity_split=None, min_samples_leaf=1,\n",
              "                      min_samples_split=2, min_weight_fraction_leaf=0.0,\n",
              "                      presort='auto',\n",
              "                      random_state=RandomState(MT19937) at 0x7F896E0C4A98,\n",
              "                      splitter='best')],\n",
              "       [DecisionTreeRegressor(criterion='friedman_mse', max_depth=3, max_features=None,\n",
              "                      max_leaf_nodes=None, min_impurity_decrease=0.0,\n",
              "                      min_impurity_split=None, min_samples_leaf=1,\n",
              "                      min_samples_split=2, min_weight_fraction_leaf=0.0,\n",
              "                      presort='auto',\n",
              "                      random_state=RandomState(MT19937) at 0x7F896E0C4A98,\n",
              "                      splitter='best')],\n",
              "       [DecisionTreeRegressor(criterion='friedman_mse', max_depth=3, max_features=None,\n",
              "                      max_leaf_nodes=None, min_impurity_decrease=0.0,\n",
              "                      min_impurity_split=None, min_samples_leaf=1,\n",
              "                      min_samples_split=2, min_weight_fraction_leaf=0.0,\n",
              "                      presort='auto',\n",
              "                      random_state=RandomState(MT19937) at 0x7F896E0C4A98,\n",
              "                      splitter='best')],\n",
              "       [DecisionTreeRegressor(criterion='friedman_mse', max_depth=3, max_features=None,\n",
              "                      max_leaf_nodes=None, min_impurity_decrease=0.0,\n",
              "                      min_impurity_split=None, min_samples_leaf=1,\n",
              "                      min_samples_split=2, min_weight_fraction_leaf=0.0,\n",
              "                      presort='auto',\n",
              "                      random_state=RandomState(MT19937) at 0x7F896E0C4A98,\n",
              "                      splitter='best')],\n",
              "       [DecisionTreeRegressor(criterion='friedman_mse', max_depth=3, max_features=None,\n",
              "                      max_leaf_nodes=None, min_impurity_decrease=0.0,\n",
              "                      min_impurity_split=None, min_samples_leaf=1,\n",
              "                      min_samples_split=2, min_weight_fraction_leaf=0.0,\n",
              "                      presort='auto',\n",
              "                      random_state=RandomState(MT19937) at 0x7F896E0C4A98,\n",
              "                      splitter='best')],\n",
              "       [DecisionTreeRegressor(criterion='friedman_mse', max_depth=3, max_features=None,\n",
              "                      max_leaf_nodes=None, min_impurity_decrease=0.0,\n",
              "                      min_impurity_split=None, min_samples_leaf=1,\n",
              "                      min_samples_split=2, min_weight_fraction_leaf=0.0,\n",
              "                      presort='auto',\n",
              "                      random_state=RandomState(MT19937) at 0x7F896E0C4A98,\n",
              "                      splitter='best')],\n",
              "       [DecisionTreeRegressor(criterion='friedman_mse', max_depth=3, max_features=None,\n",
              "                      max_leaf_nodes=None, min_impurity_decrease=0.0,\n",
              "                      min_impurity_split=None, min_samples_leaf=1,\n",
              "                      min_samples_split=2, min_weight_fraction_leaf=0.0,\n",
              "                      presort='auto',\n",
              "                      random_state=RandomState(MT19937) at 0x7F896E0C4A98,\n",
              "                      splitter='best')],\n",
              "       [DecisionTreeRegressor(criterion='friedman_mse', max_depth=3, max_features=None,\n",
              "                      max_leaf_nodes=None, min_impurity_decrease=0.0,\n",
              "                      min_impurity_split=None, min_samples_leaf=1,\n",
              "                      min_samples_split=2, min_weight_fraction_leaf=0.0,\n",
              "                      presort='auto',\n",
              "                      random_state=RandomState(MT19937) at 0x7F896E0C4A98,\n",
              "                      splitter='best')],\n",
              "       [DecisionTreeRegressor(criterion='friedman_mse', max_depth=3, max_features=None,\n",
              "                      max_leaf_nodes=None, min_impurity_decrease=0.0,\n",
              "                      min_impurity_split=None, min_samples_leaf=1,\n",
              "                      min_samples_split=2, min_weight_fraction_leaf=0.0,\n",
              "                      presort='auto',\n",
              "                      random_state=RandomState(MT19937) at 0x7F896E0C4A98,\n",
              "                      splitter='best')],\n",
              "       [DecisionTreeRegressor(criterion='friedman_mse', max_depth=3, max_features=None,\n",
              "                      max_leaf_nodes=None, min_impurity_decrease=0.0,\n",
              "                      min_impurity_split=None, min_samples_leaf=1,\n",
              "                      min_samples_split=2, min_weight_fraction_leaf=0.0,\n",
              "                      presort='auto',\n",
              "                      random_state=RandomState(MT19937) at 0x7F896E0C4A98,\n",
              "                      splitter='best')],\n",
              "       [DecisionTreeRegressor(criterion='friedman_mse', max_depth=3, max_features=None,\n",
              "                      max_leaf_nodes=None, min_impurity_decrease=0.0,\n",
              "                      min_impurity_split=None, min_samples_leaf=1,\n",
              "                      min_samples_split=2, min_weight_fraction_leaf=0.0,\n",
              "                      presort='auto',\n",
              "                      random_state=RandomState(MT19937) at 0x7F896E0C4A98,\n",
              "                      splitter='best')],\n",
              "       [DecisionTreeRegressor(criterion='friedman_mse', max_depth=3, max_features=None,\n",
              "                      max_leaf_nodes=None, min_impurity_decrease=0.0,\n",
              "                      min_impurity_split=None, min_samples_leaf=1,\n",
              "                      min_samples_split=2, min_weight_fraction_leaf=0.0,\n",
              "                      presort='auto',\n",
              "                      random_state=RandomState(MT19937) at 0x7F896E0C4A98,\n",
              "                      splitter='best')],\n",
              "       [DecisionTreeRegressor(criterion='friedman_mse', max_depth=3, max_features=None,\n",
              "                      max_leaf_nodes=None, min_impurity_decrease=0.0,\n",
              "                      min_impurity_split=None, min_samples_leaf=1,\n",
              "                      min_samples_split=2, min_weight_fraction_leaf=0.0,\n",
              "                      presort='auto',\n",
              "                      random_state=RandomState(MT19937) at 0x7F896E0C4A98,\n",
              "                      splitter='best')],\n",
              "       [DecisionTreeRegressor(criterion='friedman_mse', max_depth=3, max_features=None,\n",
              "                      max_leaf_nodes=None, min_impurity_decrease=0.0,\n",
              "                      min_impurity_split=None, min_samples_leaf=1,\n",
              "                      min_samples_split=2, min_weight_fraction_leaf=0.0,\n",
              "                      presort='auto',\n",
              "                      random_state=RandomState(MT19937) at 0x7F896E0C4A98,\n",
              "                      splitter='best')],\n",
              "       [DecisionTreeRegressor(criterion='friedman_mse', max_depth=3, max_features=None,\n",
              "                      max_leaf_nodes=None, min_impurity_decrease=0.0,\n",
              "                      min_impurity_split=None, min_samples_leaf=1,\n",
              "                      min_samples_split=2, min_weight_fraction_leaf=0.0,\n",
              "                      presort='auto',\n",
              "                      random_state=RandomState(MT19937) at 0x7F896E0C4A98,\n",
              "                      splitter='best')],\n",
              "       [DecisionTreeRegressor(criterion='friedman_mse', max_depth=3, max_features=None,\n",
              "                      max_leaf_nodes=None, min_impurity_decrease=0.0,\n",
              "                      min_impurity_split=None, min_samples_leaf=1,\n",
              "                      min_samples_split=2, min_weight_fraction_leaf=0.0,\n",
              "                      presort='auto',\n",
              "                      random_state=RandomState(MT19937) at 0x7F896E0C4A98,\n",
              "                      splitter='best')]], dtype=object)"
            ]
          },
          "metadata": {
            "tags": []
          },
          "execution_count": 66
        }
      ]
    },
    {
      "cell_type": "markdown",
      "metadata": {
        "colab_type": "text",
        "id": "XR6NDWxJ3_et"
      },
      "source": [
        "Your answer here\n",
        "\n",
        "It shows the basic classier trees in the forest model."
      ]
    },
    {
      "cell_type": "markdown",
      "metadata": {
        "id": "ti_dNmw8YcXi",
        "colab_type": "text"
      },
      "source": [
        "We now try to use the 'gb' classifier to generate features that will be relevant inputs for the logistic regression.\n",
        "\n",
        "<font color=\"red\">**Question**:\n",
        "    With the 'gb.apply()' method, generate a transformation 'leafs_train' of the training set 'Xtrain_oh[:, cols_to_keep]' for which the n-th column corresponds to the number of the leaf returned by the estimator n.\n",
        "</font>"
      ]
    },
    {
      "cell_type": "code",
      "metadata": {
        "id": "cmJhb7tcYcXi",
        "colab_type": "code",
        "outputId": "b404ad17-f445-4a07-a807-2be98d7727f2",
        "colab": {
          "base_uri": "https://localhost:8080/",
          "height": 833
        }
      },
      "source": [
        "# Test here the gb.apply method on Xtrain[:, cols_to_keep]\n",
        "app=gb.apply(Xtrain_oh[:, cols_to_keep])\n",
        "app"
      ],
      "execution_count": 0,
      "outputs": [
        {
          "output_type": "execute_result",
          "data": {
            "text/plain": [
              "array([[[ 3.],\n",
              "        [ 3.],\n",
              "        [ 3.],\n",
              "        ...,\n",
              "        [ 3.],\n",
              "        [ 3.],\n",
              "        [ 3.]],\n",
              "\n",
              "       [[ 3.],\n",
              "        [ 3.],\n",
              "        [ 3.],\n",
              "        ...,\n",
              "        [ 3.],\n",
              "        [ 3.],\n",
              "        [ 3.]],\n",
              "\n",
              "       [[ 3.],\n",
              "        [ 3.],\n",
              "        [ 3.],\n",
              "        ...,\n",
              "        [ 3.],\n",
              "        [ 3.],\n",
              "        [ 3.]],\n",
              "\n",
              "       ...,\n",
              "\n",
              "       [[ 3.],\n",
              "        [ 3.],\n",
              "        [ 3.],\n",
              "        ...,\n",
              "        [ 3.],\n",
              "        [ 3.],\n",
              "        [ 3.]],\n",
              "\n",
              "       [[ 3.],\n",
              "        [ 3.],\n",
              "        [ 3.],\n",
              "        ...,\n",
              "        [ 3.],\n",
              "        [ 3.],\n",
              "        [ 3.]],\n",
              "\n",
              "       [[ 3.],\n",
              "        [13.],\n",
              "        [ 3.],\n",
              "        ...,\n",
              "        [ 3.],\n",
              "        [ 3.],\n",
              "        [ 3.]]])"
            ]
          },
          "metadata": {
            "tags": []
          },
          "execution_count": 69
        }
      ]
    },
    {
      "cell_type": "code",
      "metadata": {
        "id": "QLujeOXT8nm7",
        "colab_type": "code",
        "outputId": "cb728252-b68d-47a0-d934-1bd25d6584bd",
        "colab": {
          "base_uri": "https://localhost:8080/",
          "height": 83
        }
      },
      "source": [
        "app[0,:,0]"
      ],
      "execution_count": 0,
      "outputs": [
        {
          "output_type": "execute_result",
          "data": {
            "text/plain": [
              "array([ 3.,  3.,  3.,  3.,  3.,  3.,  3.,  3.,  3.,  3.,  3.,  3.,  3.,\n",
              "        3., 10.,  3.,  3.,  3.,  3.,  3.,  3.,  3.,  3.,  3.,  3.,  3.,\n",
              "        4.,  3.,  4.,  3.,  3.,  3.,  3.,  3.,  3.,  3.,  3.,  3.,  4.,\n",
              "        3.,  3.,  3.,  3.,  3.,  3.,  3.,  3.,  3.,  3.,  3.])"
            ]
          },
          "metadata": {
            "tags": []
          },
          "execution_count": 76
        }
      ]
    },
    {
      "cell_type": "markdown",
      "metadata": {
        "id": "f88rLF6fYcXk",
        "colab_type": "text"
      },
      "source": [
        "After your applied gb.apply on Xtrain_oh[:, cols_to_keep], remember that we have only one class to predict (click = 0 or 1). So, do not forget to slice your output with [:, :, 0] in order to keep, firstly, all the samples, and secondly all your 50 estimators.\n",
        "\n",
        "Hint: you can have a look at the dimensions of your output with .shape !"
      ]
    },
    {
      "cell_type": "code",
      "metadata": {
        "id": "jiZ-Q28JYcXk",
        "colab_type": "code",
        "colab": {}
      },
      "source": [
        "leafs_train = pd.DataFrame(gb.apply(Xtrain_oh[:, cols_to_keep])[:,:,0] ) # Fill here\n",
        "leafs_test = pd.DataFrame(gb.apply(Xtest_oh[:, cols_to_keep])[:,:,0] )"
      ],
      "execution_count": 0,
      "outputs": []
    },
    {
      "cell_type": "markdown",
      "metadata": {
        "id": "qzp8_EGTYcXm",
        "colab_type": "text"
      },
      "source": [
        "<font color=\"red\">**Question**:\n",
        "    Encode these new features into dummies.\n",
        "</font>"
      ]
    },
    {
      "cell_type": "code",
      "metadata": {
        "id": "9NJku301YcXn",
        "colab_type": "code",
        "colab": {}
      },
      "source": [
        "ohe = OneHotEncoder( handle_unknown='ignore' ) # Fill here an argument if needed\n",
        "leafs_train_oh = ohe.fit_transform(leafs_train)\n",
        "leafs_test_oh = ohe.transform(leafs_test)"
      ],
      "execution_count": 0,
      "outputs": []
    },
    {
      "cell_type": "markdown",
      "metadata": {
        "id": "2HLSbinZYcXp",
        "colab_type": "text"
      },
      "source": [
        "<font color=\"red\">**Question**:\n",
        "    With the \"hstack\" function, create a new matrix of features by concatenating horizontally our new features \"leafs_train_oh\" and \"leafs_test_oh\", and previous features used for logistic regression (e.g. in \"Xtrain_oh[:, cols_to_keep]\").\n",
        "</font>\n",
        "<br><br>\n",
        "**Remark**: we use \"hstack\" from scipy.sparse (and not from numpy) because the output of our OneHotEncoder is a sparse array. You can verify it with the command \"type(Xtrain_oh)\"."
      ]
    },
    {
      "cell_type": "code",
      "metadata": {
        "id": "wjhhFyZvYcXp",
        "colab_type": "code",
        "colab": {}
      },
      "source": [
        "from scipy.sparse import csr_matrix, hstack\n",
        "\n",
        "Xtrain_concat = hstack([ Xtrain_oh[:, cols_to_keep] , leafs_train_oh ]) # Fill here\n",
        "Xtest_concat = hstack([ Xtest_oh[:, cols_to_keep] , leafs_test_oh ])"
      ],
      "execution_count": 0,
      "outputs": []
    },
    {
      "cell_type": "markdown",
      "metadata": {
        "id": "xU9nmnoAYcXr",
        "colab_type": "text"
      },
      "source": [
        "<font color=\"red\">**Question**:\n",
        "    Run a logistic regression on the new features and evaluate its performance as before. \n",
        "    <br>\n",
        "    Warning: be patient, fitting should take about 5 minutes on Google Colab.\n",
        "</font>"
      ]
    },
    {
      "cell_type": "code",
      "metadata": {
        "id": "AIEYKZym-yuZ",
        "colab_type": "code",
        "outputId": "8a681f08-403a-4da7-fdee-e9303a9e2fcb",
        "colab": {
          "base_uri": "https://localhost:8080/",
          "height": 33
        }
      },
      "source": [
        "Xtrain_concat.shape"
      ],
      "execution_count": 0,
      "outputs": [
        {
          "output_type": "execute_result",
          "data": {
            "text/plain": [
              "(900000, 2367)"
            ]
          },
          "metadata": {
            "tags": []
          },
          "execution_count": 81
        }
      ]
    },
    {
      "cell_type": "code",
      "metadata": {
        "id": "GENT6fHnYcXs",
        "colab_type": "code",
        "outputId": "af6e3cfc-9a74-413b-819c-06cd155a6871",
        "colab": {
          "base_uri": "https://localhost:8080/",
          "height": 86
        }
      },
      "source": [
        "lr = LogisticRegression()\n",
        "lr.fit( Xtrain_concat,ytrain )\n",
        "soft = lr.predict_proba(Xtest_concat)\n",
        "log_loss( ytest,soft[:,1] ), roc_auc_score( ytest,soft[:,1] )"
      ],
      "execution_count": 0,
      "outputs": [
        {
          "output_type": "stream",
          "text": [
            "/usr/local/lib/python3.6/dist-packages/sklearn/linear_model/logistic.py:432: FutureWarning: Default solver will be changed to 'lbfgs' in 0.22. Specify a solver to silence this warning.\n",
            "  FutureWarning)\n"
          ],
          "name": "stderr"
        },
        {
          "output_type": "execute_result",
          "data": {
            "text/plain": [
              "(0.3999550525605989, 0.7417378154117085)"
            ]
          },
          "metadata": {
            "tags": []
          },
          "execution_count": 82
        }
      ]
    },
    {
      "cell_type": "code",
      "metadata": {
        "id": "DwuL3aY0_Amd",
        "colab_type": "code",
        "outputId": "43c47583-1df6-4d23-a8a2-6a4e21085561",
        "colab": {
          "base_uri": "https://localhost:8080/",
          "height": 33
        }
      },
      "source": [
        "hard=lr.predict(Xtest_concat)\n",
        "accuracy_score(ytest,hard) # Fill here"
      ],
      "execution_count": 0,
      "outputs": [
        {
          "output_type": "execute_result",
          "data": {
            "text/plain": [
              "0.83407"
            ]
          },
          "metadata": {
            "tags": []
          },
          "execution_count": 83
        }
      ]
    },
    {
      "cell_type": "markdown",
      "metadata": {
        "id": "0ZtUqINfYcX2",
        "colab_type": "text"
      },
      "source": [
        "<font color=\"red\">**Question**:\n",
        "    <br>\n",
        "    - Import XGBClassifier from xgboost package.\n",
        "    <br>\n",
        "    - Initialize it using the same number of estimators and learning rate as before. Set the 'n_jobs' to -1.\n",
        "    <br>\n",
        "    - Fit it on the same columns 'cols_to_keep' of Xtrain_oh than for the previous logistic regression.\n",
        "    <br>\n",
        "    - Evaluate its performance and compare it to the GradientBoosting classifier of scikit learn. How is the error? Does it take more time to run?\n",
        "</font>"
      ]
    },
    {
      "cell_type": "code",
      "metadata": {
        "id": "n2SeSnz_YcX3",
        "colab_type": "code",
        "outputId": "044cbc5e-fdb5-42dc-bd75-dffb701f9c7a",
        "colab": {
          "base_uri": "https://localhost:8080/",
          "height": 1000
        }
      },
      "source": [
        "from xgboost import XGBClassifier\n",
        "\n",
        "xgb = XGBClassifier( learning_rate=0.8 , n_estimators=50 , n_jobs=-1 , verbosity=2)\n",
        "%time xgb.fit( Xtrain_oh[:,cols_to_keep],ytrain )"
      ],
      "execution_count": 0,
      "outputs": [
        {
          "output_type": "stream",
          "text": [
            "[18:41:31] INFO: /workspace/src/tree/updater_prune.cc:74: tree pruning end, 1 roots, 14 extra nodes, 0 pruned nodes, max_depth=3\n",
            "[18:41:32] INFO: /workspace/src/tree/updater_prune.cc:74: tree pruning end, 1 roots, 14 extra nodes, 0 pruned nodes, max_depth=3\n",
            "[18:41:32] INFO: /workspace/src/tree/updater_prune.cc:74: tree pruning end, 1 roots, 14 extra nodes, 0 pruned nodes, max_depth=3\n",
            "[18:41:32] INFO: /workspace/src/tree/updater_prune.cc:74: tree pruning end, 1 roots, 14 extra nodes, 0 pruned nodes, max_depth=3\n",
            "[18:41:33] INFO: /workspace/src/tree/updater_prune.cc:74: tree pruning end, 1 roots, 14 extra nodes, 0 pruned nodes, max_depth=3\n",
            "[18:41:33] INFO: /workspace/src/tree/updater_prune.cc:74: tree pruning end, 1 roots, 14 extra nodes, 0 pruned nodes, max_depth=3\n",
            "[18:41:34] INFO: /workspace/src/tree/updater_prune.cc:74: tree pruning end, 1 roots, 14 extra nodes, 0 pruned nodes, max_depth=3\n",
            "[18:41:34] INFO: /workspace/src/tree/updater_prune.cc:74: tree pruning end, 1 roots, 12 extra nodes, 0 pruned nodes, max_depth=3\n",
            "[18:41:34] INFO: /workspace/src/tree/updater_prune.cc:74: tree pruning end, 1 roots, 10 extra nodes, 0 pruned nodes, max_depth=3\n",
            "[18:41:35] INFO: /workspace/src/tree/updater_prune.cc:74: tree pruning end, 1 roots, 14 extra nodes, 0 pruned nodes, max_depth=3\n",
            "[18:41:35] INFO: /workspace/src/tree/updater_prune.cc:74: tree pruning end, 1 roots, 14 extra nodes, 0 pruned nodes, max_depth=3\n",
            "[18:41:35] INFO: /workspace/src/tree/updater_prune.cc:74: tree pruning end, 1 roots, 10 extra nodes, 0 pruned nodes, max_depth=3\n",
            "[18:41:36] INFO: /workspace/src/tree/updater_prune.cc:74: tree pruning end, 1 roots, 14 extra nodes, 0 pruned nodes, max_depth=3\n",
            "[18:41:36] INFO: /workspace/src/tree/updater_prune.cc:74: tree pruning end, 1 roots, 14 extra nodes, 0 pruned nodes, max_depth=3\n",
            "[18:41:36] INFO: /workspace/src/tree/updater_prune.cc:74: tree pruning end, 1 roots, 14 extra nodes, 0 pruned nodes, max_depth=3\n",
            "[18:41:37] INFO: /workspace/src/tree/updater_prune.cc:74: tree pruning end, 1 roots, 14 extra nodes, 0 pruned nodes, max_depth=3\n",
            "[18:41:37] INFO: /workspace/src/tree/updater_prune.cc:74: tree pruning end, 1 roots, 14 extra nodes, 0 pruned nodes, max_depth=3\n",
            "[18:41:38] INFO: /workspace/src/tree/updater_prune.cc:74: tree pruning end, 1 roots, 12 extra nodes, 0 pruned nodes, max_depth=3\n",
            "[18:41:38] INFO: /workspace/src/tree/updater_prune.cc:74: tree pruning end, 1 roots, 12 extra nodes, 0 pruned nodes, max_depth=3\n",
            "[18:41:38] INFO: /workspace/src/tree/updater_prune.cc:74: tree pruning end, 1 roots, 12 extra nodes, 0 pruned nodes, max_depth=3\n",
            "[18:41:39] INFO: /workspace/src/tree/updater_prune.cc:74: tree pruning end, 1 roots, 14 extra nodes, 0 pruned nodes, max_depth=3\n",
            "[18:41:39] INFO: /workspace/src/tree/updater_prune.cc:74: tree pruning end, 1 roots, 14 extra nodes, 0 pruned nodes, max_depth=3\n",
            "[18:41:39] INFO: /workspace/src/tree/updater_prune.cc:74: tree pruning end, 1 roots, 14 extra nodes, 0 pruned nodes, max_depth=3\n",
            "[18:41:40] INFO: /workspace/src/tree/updater_prune.cc:74: tree pruning end, 1 roots, 14 extra nodes, 0 pruned nodes, max_depth=3\n",
            "[18:41:40] INFO: /workspace/src/tree/updater_prune.cc:74: tree pruning end, 1 roots, 14 extra nodes, 0 pruned nodes, max_depth=3\n",
            "[18:41:40] INFO: /workspace/src/tree/updater_prune.cc:74: tree pruning end, 1 roots, 14 extra nodes, 0 pruned nodes, max_depth=3\n",
            "[18:41:41] INFO: /workspace/src/tree/updater_prune.cc:74: tree pruning end, 1 roots, 14 extra nodes, 0 pruned nodes, max_depth=3\n",
            "[18:41:41] INFO: /workspace/src/tree/updater_prune.cc:74: tree pruning end, 1 roots, 14 extra nodes, 0 pruned nodes, max_depth=3\n",
            "[18:41:42] INFO: /workspace/src/tree/updater_prune.cc:74: tree pruning end, 1 roots, 10 extra nodes, 0 pruned nodes, max_depth=3\n",
            "[18:41:42] INFO: /workspace/src/tree/updater_prune.cc:74: tree pruning end, 1 roots, 14 extra nodes, 0 pruned nodes, max_depth=3\n",
            "[18:41:42] INFO: /workspace/src/tree/updater_prune.cc:74: tree pruning end, 1 roots, 14 extra nodes, 0 pruned nodes, max_depth=3\n",
            "[18:41:43] INFO: /workspace/src/tree/updater_prune.cc:74: tree pruning end, 1 roots, 14 extra nodes, 0 pruned nodes, max_depth=3\n",
            "[18:41:43] INFO: /workspace/src/tree/updater_prune.cc:74: tree pruning end, 1 roots, 14 extra nodes, 0 pruned nodes, max_depth=3\n",
            "[18:41:43] INFO: /workspace/src/tree/updater_prune.cc:74: tree pruning end, 1 roots, 12 extra nodes, 0 pruned nodes, max_depth=3\n",
            "[18:41:44] INFO: /workspace/src/tree/updater_prune.cc:74: tree pruning end, 1 roots, 12 extra nodes, 0 pruned nodes, max_depth=3\n",
            "[18:41:44] INFO: /workspace/src/tree/updater_prune.cc:74: tree pruning end, 1 roots, 14 extra nodes, 0 pruned nodes, max_depth=3\n",
            "[18:41:45] INFO: /workspace/src/tree/updater_prune.cc:74: tree pruning end, 1 roots, 14 extra nodes, 0 pruned nodes, max_depth=3\n",
            "[18:41:45] INFO: /workspace/src/tree/updater_prune.cc:74: tree pruning end, 1 roots, 14 extra nodes, 0 pruned nodes, max_depth=3\n",
            "[18:41:45] INFO: /workspace/src/tree/updater_prune.cc:74: tree pruning end, 1 roots, 12 extra nodes, 0 pruned nodes, max_depth=3\n",
            "[18:41:46] INFO: /workspace/src/tree/updater_prune.cc:74: tree pruning end, 1 roots, 14 extra nodes, 0 pruned nodes, max_depth=3\n",
            "[18:41:46] INFO: /workspace/src/tree/updater_prune.cc:74: tree pruning end, 1 roots, 14 extra nodes, 0 pruned nodes, max_depth=3\n",
            "[18:41:46] INFO: /workspace/src/tree/updater_prune.cc:74: tree pruning end, 1 roots, 14 extra nodes, 0 pruned nodes, max_depth=3\n",
            "[18:41:47] INFO: /workspace/src/tree/updater_prune.cc:74: tree pruning end, 1 roots, 14 extra nodes, 0 pruned nodes, max_depth=3\n",
            "[18:41:47] INFO: /workspace/src/tree/updater_prune.cc:74: tree pruning end, 1 roots, 14 extra nodes, 0 pruned nodes, max_depth=3\n",
            "[18:41:47] INFO: /workspace/src/tree/updater_prune.cc:74: tree pruning end, 1 roots, 14 extra nodes, 0 pruned nodes, max_depth=3\n",
            "[18:41:48] INFO: /workspace/src/tree/updater_prune.cc:74: tree pruning end, 1 roots, 14 extra nodes, 0 pruned nodes, max_depth=3\n",
            "[18:41:48] INFO: /workspace/src/tree/updater_prune.cc:74: tree pruning end, 1 roots, 12 extra nodes, 0 pruned nodes, max_depth=3\n",
            "[18:41:49] INFO: /workspace/src/tree/updater_prune.cc:74: tree pruning end, 1 roots, 14 extra nodes, 0 pruned nodes, max_depth=3\n",
            "[18:41:49] INFO: /workspace/src/tree/updater_prune.cc:74: tree pruning end, 1 roots, 12 extra nodes, 0 pruned nodes, max_depth=3\n",
            "[18:41:49] INFO: /workspace/src/tree/updater_prune.cc:74: tree pruning end, 1 roots, 14 extra nodes, 0 pruned nodes, max_depth=3\n",
            "CPU times: user 41.8 s, sys: 333 ms, total: 42.1 s\n",
            "Wall time: 23.9 s\n"
          ],
          "name": "stdout"
        },
        {
          "output_type": "execute_result",
          "data": {
            "text/plain": [
              "XGBClassifier(base_score=0.5, booster='gbtree', colsample_bylevel=1,\n",
              "              colsample_bynode=1, colsample_bytree=1, gamma=0,\n",
              "              learning_rate=0.8, max_delta_step=0, max_depth=3,\n",
              "              min_child_weight=1, missing=None, n_estimators=50, n_jobs=-1,\n",
              "              nthread=None, objective='binary:logistic', random_state=0,\n",
              "              reg_alpha=0, reg_lambda=1, scale_pos_weight=1, seed=None,\n",
              "              silent=None, subsample=1, verbosity=2)"
            ]
          },
          "metadata": {
            "tags": []
          },
          "execution_count": 87
        }
      ]
    },
    {
      "cell_type": "code",
      "metadata": {
        "id": "UuXqg71oASmt",
        "colab_type": "code",
        "outputId": "ce0213fa-7db8-451c-b95a-28f98a769883",
        "colab": {
          "base_uri": "https://localhost:8080/",
          "height": 33
        }
      },
      "source": [
        "soft = xgb.predict_proba(Xtest_oh[:,cols_to_keep])\n",
        "hard=xgb.predict(Xtest_oh[:,cols_to_keep])\n",
        "log_loss( ytest,soft[:,1] ), roc_auc_score( ytest,soft[:,1] ),accuracy_score(ytest,hard)"
      ],
      "execution_count": 0,
      "outputs": [
        {
          "output_type": "execute_result",
          "data": {
            "text/plain": [
              "(0.40789666015213355, 0.7244454605414952, 0.83298)"
            ]
          },
          "metadata": {
            "tags": []
          },
          "execution_count": 88
        }
      ]
    },
    {
      "cell_type": "markdown",
      "metadata": {
        "id": "55dxXIaDYcX6",
        "colab_type": "text"
      },
      "source": [
        "<font color=\"red\">**Question**:\n",
        "    Increase the number of estimators and visualize the impact on performance. You might have to adapt the learning rate. On Google Colab, here are the approximate training times<br> \n",
        "    - nb_estimators=256  and lr=0.8 ~  4 min<br>\n",
        "    - nb_estimators=512  and lr=0.6 ~  8 min<br>\n",
        "    - nb_estimators=1024 and lr=0.5 ~ 16 min\n",
        "</font>"
      ]
    },
    {
      "cell_type": "code",
      "metadata": {
        "id": "7F7RFAbeAxO8",
        "colab_type": "code",
        "colab": {}
      },
      "source": [
        "loss=[]\n",
        "roc=[]\n",
        "accuracy=[]"
      ],
      "execution_count": 0,
      "outputs": []
    },
    {
      "cell_type": "code",
      "metadata": {
        "id": "Ggzx0320YcX7",
        "colab_type": "code",
        "outputId": "5736f728-c59e-4a00-b5df-da513ddb4228",
        "colab": {
          "base_uri": "https://localhost:8080/",
          "height": 166
        }
      },
      "source": [
        "xgb = XGBClassifier( learning_rate=0.8 , n_estimators=256 , n_jobs=-1)\n",
        "%time xgb.fit( Xtrain_oh[:,cols_to_keep],ytrain )"
      ],
      "execution_count": 0,
      "outputs": [
        {
          "output_type": "stream",
          "text": [
            "CPU times: user 3min 7s, sys: 423 ms, total: 3min 7s\n",
            "Wall time: 1min 37s\n"
          ],
          "name": "stdout"
        },
        {
          "output_type": "execute_result",
          "data": {
            "text/plain": [
              "XGBClassifier(base_score=0.5, booster='gbtree', colsample_bylevel=1,\n",
              "              colsample_bynode=1, colsample_bytree=1, gamma=0,\n",
              "              learning_rate=0.8, max_delta_step=0, max_depth=3,\n",
              "              min_child_weight=1, missing=None, n_estimators=256, n_jobs=-1,\n",
              "              nthread=None, objective='binary:logistic', random_state=0,\n",
              "              reg_alpha=0, reg_lambda=1, scale_pos_weight=1, seed=None,\n",
              "              silent=None, subsample=1, verbosity=1)"
            ]
          },
          "metadata": {
            "tags": []
          },
          "execution_count": 89
        }
      ]
    },
    {
      "cell_type": "code",
      "metadata": {
        "id": "CCyVJcJxA5B6",
        "colab_type": "code",
        "colab": {}
      },
      "source": [
        "soft = xgb.predict_proba(Xtest_oh[:,cols_to_keep])\n",
        "hard=xgb.predict(Xtest_oh[:,cols_to_keep])\n",
        "loss.append(log_loss( ytest,soft[:,1] ))\n",
        "roc.append( roc_auc_score( ytest,soft[:,1] ))\n",
        "accuracy.append(accuracy_score(ytest,hard))"
      ],
      "execution_count": 0,
      "outputs": []
    },
    {
      "cell_type": "code",
      "metadata": {
        "id": "cn22u-yfBoLK",
        "colab_type": "code",
        "outputId": "aa37da2f-7c2d-4cb1-c825-ee05c31e670f",
        "colab": {
          "base_uri": "https://localhost:8080/",
          "height": 50
        }
      },
      "source": [
        "xgb = XGBClassifier( learning_rate=0.6 , n_estimators=512 , n_jobs=-1)\n",
        "%time xgb.fit( Xtrain_oh[:,cols_to_keep],ytrain )\n",
        "soft = xgb.predict_proba(Xtest_oh[:,cols_to_keep])\n",
        "hard=xgb.predict(Xtest_oh[:,cols_to_keep])\n",
        "loss.append(log_loss( ytest,soft[:,1] ))\n",
        "roc.append( roc_auc_score( ytest,soft[:,1] ))\n",
        "accuracy.append(accuracy_score(ytest,hard))"
      ],
      "execution_count": 0,
      "outputs": [
        {
          "output_type": "stream",
          "text": [
            "CPU times: user 6min 4s, sys: 590 ms, total: 6min 4s\n",
            "Wall time: 3min 6s\n"
          ],
          "name": "stdout"
        }
      ]
    },
    {
      "cell_type": "code",
      "metadata": {
        "id": "tw63YNkVBy63",
        "colab_type": "code",
        "outputId": "13136beb-4dce-4b18-f46b-de35501c8bfc",
        "colab": {
          "base_uri": "https://localhost:8080/",
          "height": 50
        }
      },
      "source": [
        "xgb = XGBClassifier( learning_rate=0.5 , n_estimators=1024 , n_jobs=-1)\n",
        "%time xgb.fit( Xtrain_oh[:,cols_to_keep],ytrain )\n",
        "soft = xgb.predict_proba(Xtest_oh[:,cols_to_keep])\n",
        "hard=xgb.predict(Xtest_oh[:,cols_to_keep])\n",
        "loss.append(log_loss( ytest,soft[:,1] ))\n",
        "roc.append( roc_auc_score( ytest,soft[:,1] ))\n",
        "accuracy.append(accuracy_score(ytest,hard))"
      ],
      "execution_count": 0,
      "outputs": [
        {
          "output_type": "stream",
          "text": [
            "CPU times: user 11min 59s, sys: 681 ms, total: 12min\n",
            "Wall time: 6min 6s\n"
          ],
          "name": "stdout"
        }
      ]
    },
    {
      "cell_type": "code",
      "metadata": {
        "id": "-FELEdKwB5ir",
        "colab_type": "code",
        "outputId": "aa786106-c51d-42c0-bef3-03c21b644f5e",
        "colab": {
          "base_uri": "https://localhost:8080/",
          "height": 297
        }
      },
      "source": [
        "plt.plot(loss)\n",
        "plt.title(\"log_loss\")"
      ],
      "execution_count": 0,
      "outputs": [
        {
          "output_type": "execute_result",
          "data": {
            "text/plain": [
              "Text(0.5, 1.0, 'log_loss')"
            ]
          },
          "metadata": {
            "tags": []
          },
          "execution_count": 97
        },
        {
          "output_type": "display_data",
          "data": {
            "image/png": "[encoded data removed]",
            "text/plain": [
              "<Figure size 432x288 with 1 Axes>"
            ]
          },
          "metadata": {
            "tags": []
          }
        }
      ]
    },
    {
      "cell_type": "code",
      "metadata": {
        "id": "8ZlIkI_WFG29",
        "colab_type": "code",
        "outputId": "6e77bdf9-9940-4a07-8412-39c2e79e3a8c",
        "colab": {
          "base_uri": "https://localhost:8080/",
          "height": 297
        }
      },
      "source": [
        "plt.plot(roc)\n",
        "plt.title(\"roc_auc_score\")"
      ],
      "execution_count": 0,
      "outputs": [
        {
          "output_type": "execute_result",
          "data": {
            "text/plain": [
              "Text(0.5, 1.0, 'roc_auc_score')"
            ]
          },
          "metadata": {
            "tags": []
          },
          "execution_count": 98
        },
        {
          "output_type": "display_data",
          "data": {
            "image/png": "[encoded data removed]",
            "text/plain": [
              "<Figure size 432x288 with 1 Axes>"
            ]
          },
          "metadata": {
            "tags": []
          }
        }
      ]
    },
    {
      "cell_type": "code",
      "metadata": {
        "id": "DlFzngDaFMX9",
        "colab_type": "code",
        "outputId": "dc19e321-fb8b-42d3-d7f8-e85e7bf040b9",
        "colab": {
          "base_uri": "https://localhost:8080/",
          "height": 297
        }
      },
      "source": [
        "plt.plot(accuracy)\n",
        "plt.title(\"accuracy_score\")"
      ],
      "execution_count": 0,
      "outputs": [
        {
          "output_type": "execute_result",
          "data": {
            "text/plain": [
              "Text(0.5, 1.0, 'accuracy_score')"
            ]
          },
          "metadata": {
            "tags": []
          },
          "execution_count": 99
        },
        {
          "output_type": "display_data",
          "data": {
            "image/png": "[encoded data removed]",
            "text/plain": [
              "<Figure size 432x288 with 1 Axes>"
            ]
          },
          "metadata": {
            "tags": []
          }
        }
      ]
    },
    {
      "cell_type": "markdown",
      "metadata": {
        "id": "CdGiGxdHYcX-",
        "colab_type": "text"
      },
      "source": [
        "# Features hashing and random forest"
      ]
    },
    {
      "cell_type": "markdown",
      "metadata": {
        "id": "Xl78yaijYcX_",
        "colab_type": "text"
      },
      "source": [
        "We restart with raw features before dummy encoding: Xtrain, Xtest.\n",
        "\n",
        "<font color=\"red\">**Question**:\n",
        "    Display again the number of modalities per feature in Xtrain. Use '.nunique()'\n",
        "</font>"
      ]
    },
    {
      "cell_type": "code",
      "metadata": {
        "id": "Pq6zsDXsYcYA",
        "colab_type": "code",
        "outputId": "68079aec-ee28-4e53-c827-07ec4ac3e20d",
        "colab": {
          "base_uri": "https://localhost:8080/",
          "height": 449
        }
      },
      "source": [
        "# Fill here\n",
        "Xtrain.nunique()"
      ],
      "execution_count": 0,
      "outputs": [
        {
          "output_type": "execute_result",
          "data": {
            "text/plain": [
              "hour                    24\n",
              "C1                       7\n",
              "banner_pos               7\n",
              "site_id               2591\n",
              "site_domain           2777\n",
              "site_category           22\n",
              "app_id                3054\n",
              "app_domain             196\n",
              "app_category            26\n",
              "device_id           136733\n",
              "device_ip           509617\n",
              "device_model          5076\n",
              "device_type              5\n",
              "device_conn_type         4\n",
              "C14                   2225\n",
              "C15                      8\n",
              "C16                      9\n",
              "C17                    420\n",
              "C18                      4\n",
              "C19                     66\n",
              "C20                    163\n",
              "C21                     60\n",
              "weekday                  7\n",
              "dtype: int64"
            ]
          },
          "metadata": {
            "tags": []
          },
          "execution_count": 50
        }
      ]
    },
    {
      "cell_type": "markdown",
      "metadata": {
        "id": "qIcJGDaxYcYC",
        "colab_type": "text"
      },
      "source": [
        "We want to define a transformation which regroups the least frequent modalities into a label 'isRare'. In order to do so, we decide to define our own Transformer.\n",
        "\n",
        "<font color=\"red\">**Question**:\n",
        "    Understand the different steps of 'fit' and 'transform'.\n",
        "</font>"
      ]
    },
    {
      "cell_type": "code",
      "metadata": {
        "id": "7n7MK1J3CeK3",
        "colab_type": "code",
        "outputId": "eedfdaad-6797-43ed-82b3-d51c6fce98bc",
        "colab": {
          "base_uri": "https://localhost:8080/",
          "height": 161
        }
      },
      "source": [
        "Xtrain.columns\n",
        "Xtrain['C1'].value_counts()"
      ],
      "execution_count": 61,
      "outputs": [
        {
          "output_type": "execute_result",
          "data": {
            "text/plain": [
              "1005    826870\n",
              "1002     49319\n",
              "1010     20142\n",
              "1012      2570\n",
              "1007       789\n",
              "1001       194\n",
              "1008       116\n",
              "Name: C1, dtype: int64"
            ]
          },
          "metadata": {
            "tags": []
          },
          "execution_count": 61
        }
      ]
    },
    {
      "cell_type": "code",
      "metadata": {
        "id": "a7rJE9cSYcYC",
        "colab_type": "code",
        "colab": {}
      },
      "source": [
        "from sklearn.base import BaseEstimator, TransformerMixin\n",
        "\n",
        "class MergeRareTransformer(BaseEstimator, TransformerMixin):\n",
        "    \n",
        "    def __init__(self, col_names, threshold):\n",
        "        self.col_names = col_names\n",
        "        self.threshold = threshold\n",
        "\n",
        "    def fit(self, X, y=None):\n",
        "\n",
        "        X = pd.DataFrame(X)\n",
        "        counts_dict_list = []\n",
        "        ################## READ THIS #########################\n",
        "        for i in range(len(self.col_names)):\n",
        "            \n",
        "            serie = X[self.col_names[i]].value_counts()  # Série des counts de chaque modalité\n",
        "            rare_indexes = serie[serie<self.threshold[i]].index  # A quoi correspondent ces indices ?\n",
        "            frequent_indexes = serie[serie>=self.threshold[i]].index  # A quoi correspondent ces indices ?\n",
        "            dico = {x:'isRare' for x in rare_indexes}\n",
        "            dico.update({x: str(x) for x in frequent_indexes})\n",
        "            counts_dict_list.append(dico)   # Quel est le dictionnaire obtenu ?\n",
        "            \n",
        "        ######################################################\n",
        "            \n",
        "        self.counts_dict_list_ = counts_dict_list\n",
        "        return self\n",
        "\n",
        "    def transform(self, X):\n",
        "\n",
        "        Xt = pd.DataFrame()\n",
        "        ################## READ THIS #########################\n",
        "        for col, count_dict in zip(self.col_names, self.counts_dict_list_):\n",
        "            Xt[col] = X[col].apply(lambda x:count_dict[x] if x in count_dict else 'isRare')\n",
        "            # A quoi sert le \"else 'isRare'\" dans la transformation de la colonne ?\n",
        "        ######################################################\n",
        "\n",
        "        return Xt\n"
      ],
      "execution_count": 0,
      "outputs": []
    },
    {
      "cell_type": "markdown",
      "metadata": {
        "id": "IJqAjGMkYcYE",
        "colab_type": "text"
      },
      "source": [
        "<font color=\"red\">**Question:**\n",
        "    <br>\n",
        "    - Fit and transform the training set. To do so, merge all mmodalities occuring at least 20 times in each column.\n",
        "    <br>\n",
        "    - Transform the test set.\n",
        "</font>"
      ]
    },
    {
      "cell_type": "code",
      "metadata": {
        "id": "cO4wJxgOYcYF",
        "colab_type": "code",
        "colab": {}
      },
      "source": [
        "mg = MergeRareTransformer(col_names=Xtrain.columns, threshold=[20]*len(Xtrain.columns))\n",
        "Xtrain_mg = mg.fit_transform(Xtrain) # Fill here with fit_transform\n",
        "Xtest_mg = mg.transform(Xtest)"
      ],
      "execution_count": 0,
      "outputs": []
    },
    {
      "cell_type": "markdown",
      "metadata": {
        "id": "M0X1rEVJYcYI",
        "colab_type": "text"
      },
      "source": [
        "<font color=\"red\">**Question:**\n",
        "   How many elements of the column Xtrain_mg['app_domain'] are now labeled as 'rare'? Use the '.value_counts()' method.\n",
        "</font>"
      ]
    },
    {
      "cell_type": "code",
      "metadata": {
        "id": "5A3oL0BgYcYI",
        "colab_type": "code",
        "outputId": "0577f811-d306-414a-a26a-fee1fb1b2d93",
        "colab": {
          "base_uri": "https://localhost:8080/",
          "height": 35
        }
      },
      "source": [
        "# Fill here\n",
        "Xtrain['app_domain'].value_counts().shape[0]-Xtrain_mg['app_domain'].value_counts().shape[0]"
      ],
      "execution_count": 64,
      "outputs": [
        {
          "output_type": "execute_result",
          "data": {
            "text/plain": [
              "143"
            ]
          },
          "metadata": {
            "tags": []
          },
          "execution_count": 64
        }
      ]
    },
    {
      "cell_type": "markdown",
      "metadata": {
        "id": "4YqrBBiSYcYK",
        "colab_type": "text"
      },
      "source": [
        "<font color=\"red\">**Question:**\n",
        "   In the new train set, display the number of modalities for each feature.\n",
        "</font>"
      ]
    },
    {
      "cell_type": "code",
      "metadata": {
        "id": "g_jA_EBDYcYL",
        "colab_type": "code",
        "outputId": "6f84c431-2c8b-423c-bb21-eb83a3ec62c2",
        "colab": {
          "base_uri": "https://localhost:8080/",
          "height": 395
        }
      },
      "source": [
        "# Fill here\n",
        "Xtrain_mg.nunique()"
      ],
      "execution_count": 65,
      "outputs": [
        {
          "output_type": "execute_result",
          "data": {
            "text/plain": [
              "hour                  24\n",
              "C1                     7\n",
              "banner_pos             7\n",
              "site_category         18\n",
              "app_id               613\n",
              "app_domain            53\n",
              "app_category          19\n",
              "device_type            5\n",
              "device_conn_type       4\n",
              "C14                 1339\n",
              "C15                    8\n",
              "C16                    9\n",
              "C17                  381\n",
              "C18                    4\n",
              "C19                   63\n",
              "C20                  148\n",
              "C21                   60\n",
              "weekday                7\n",
              "user                 901\n",
              "site                 889\n",
              "dtype: int64"
            ]
          },
          "metadata": {
            "tags": []
          },
          "execution_count": 65
        }
      ]
    },
    {
      "cell_type": "markdown",
      "metadata": {
        "id": "0W2O7eoxYcYO",
        "colab_type": "text"
      },
      "source": [
        "Modalities are arbitrary object, such as '234', 'isRare', etc. We will now transorm them into integers with the hashing trick.\n",
        "\n",
        "<font color=\"red\">**Question:**\n",
        "   To better understand how the 'hash' function is working, apply it to a string of your choice.\n",
        "</font>"
      ]
    },
    {
      "cell_type": "code",
      "metadata": {
        "id": "4Xn6l5okYcYP",
        "colab_type": "code",
        "outputId": "45e174be-1861-4c85-8857-1ce5d168ae52",
        "colab": {
          "base_uri": "https://localhost:8080/",
          "height": 35
        }
      },
      "source": [
        "import hashlib\n",
        "hash( 'cool' ) # Fill here"
      ],
      "execution_count": 66,
      "outputs": [
        {
          "output_type": "execute_result",
          "data": {
            "text/plain": [
              "5963172017822759427"
            ]
          },
          "metadata": {
            "tags": []
          },
          "execution_count": 66
        }
      ]
    },
    {
      "cell_type": "markdown",
      "metadata": {
        "id": "m0xFTKrSYcYT",
        "colab_type": "text"
      },
      "source": [
        "<font color=\"red\">**Question:**\n",
        "   Create two new datasets 'Xtrain_ha' and 'Xtest_ha' containing the output of the hashing process. Use the '.apply' method to transform iteratively the columns by mapping to each value its remainder in the euclidean division of the hash by 1000000. \n",
        "   Example:\n",
        "</font>\n",
        "</font>\n",
        "<p>\n",
        "<center>\n",
        "2060777048690<font color=\"red\">918393</font>  -->  918393\n",
        "</center>\n",
        "Remark: do not forget that the function 'hash' has to take a string as input."
      ]
    },
    {
      "cell_type": "code",
      "metadata": {
        "id": "Su-b4TJKYcYT",
        "colab_type": "code",
        "colab": {}
      },
      "source": [
        "Xtrain_ha = pd.DataFrame()\n",
        "Xtest_ha = pd.DataFrame()\n",
        "for col in Xtrain_mg.columns:\n",
        "    Xtrain_ha[col] = Xtrain_mg[col].apply(lambda x: hash(str(x)) % 1000000  ) # Fill here defining a lambda function\n",
        "    Xtest_ha[col] = Xtest_mg[col].apply(lambda x: hash(str(x)) % 1000000)"
      ],
      "execution_count": 0,
      "outputs": []
    },
    {
      "cell_type": "markdown",
      "metadata": {
        "id": "uvVesMxDYcYV",
        "colab_type": "text"
      },
      "source": [
        "<font color=\"red\">**Question:**\n",
        "   Visualize the content of the DataFrames you have obtained.\n",
        "</font>"
      ]
    },
    {
      "cell_type": "code",
      "metadata": {
        "id": "lJAHncnZYcYW",
        "colab_type": "code",
        "outputId": "31d5a379-097a-45bf-d391-21b2f23f3e7f",
        "colab": {
          "base_uri": "https://localhost:8080/",
          "height": 224
        }
      },
      "source": [
        "# Fill here\n",
        "Xtrain_ha.head()"
      ],
      "execution_count": 68,
      "outputs": [
        {
          "output_type": "execute_result",
          "data": {
            "text/html": [
              "<div>\n",
              "<style scoped>\n",
              "    .dataframe tbody tr th:only-of-type {\n",
              "        vertical-align: middle;\n",
              "    }\n",
              "\n",
              "    .dataframe tbody tr th {\n",
              "        vertical-align: top;\n",
              "    }\n",
              "\n",
              "    .dataframe thead th {\n",
              "        text-align: right;\n",
              "    }\n",
              "</style>\n",
              "<table border=\"1\" class=\"dataframe\">\n",
              "  <thead>\n",
              "    <tr style=\"text-align: right;\">\n",
              "      <th></th>\n",
              "      <th>hour</th>\n",
              "      <th>C1</th>\n",
              "      <th>banner_pos</th>\n",
              "      <th>site_category</th>\n",
              "      <th>app_id</th>\n",
              "      <th>app_domain</th>\n",
              "      <th>app_category</th>\n",
              "      <th>device_type</th>\n",
              "      <th>device_conn_type</th>\n",
              "      <th>C14</th>\n",
              "      <th>C15</th>\n",
              "      <th>C16</th>\n",
              "      <th>C17</th>\n",
              "      <th>C18</th>\n",
              "      <th>C19</th>\n",
              "      <th>C20</th>\n",
              "      <th>C21</th>\n",
              "      <th>weekday</th>\n",
              "      <th>user</th>\n",
              "      <th>site</th>\n",
              "    </tr>\n",
              "  </thead>\n",
              "  <tbody>\n",
              "    <tr>\n",
              "      <th>92438</th>\n",
              "      <td>795734</td>\n",
              "      <td>669576</td>\n",
              "      <td>334198</td>\n",
              "      <td>853913</td>\n",
              "      <td>684525</td>\n",
              "      <td>655743</td>\n",
              "      <td>122227</td>\n",
              "      <td>339330</td>\n",
              "      <td>758608</td>\n",
              "      <td>332614</td>\n",
              "      <td>404281</td>\n",
              "      <td>546352</td>\n",
              "      <td>545067</td>\n",
              "      <td>514849</td>\n",
              "      <td>248396</td>\n",
              "      <td>927099</td>\n",
              "      <td>917403</td>\n",
              "      <td>514849</td>\n",
              "      <td>387542</td>\n",
              "      <td>728739</td>\n",
              "    </tr>\n",
              "    <tr>\n",
              "      <th>60898</th>\n",
              "      <td>849310</td>\n",
              "      <td>147576</td>\n",
              "      <td>514849</td>\n",
              "      <td>853913</td>\n",
              "      <td>459506</td>\n",
              "      <td>305561</td>\n",
              "      <td>745182</td>\n",
              "      <td>334198</td>\n",
              "      <td>845508</td>\n",
              "      <td>332614</td>\n",
              "      <td>404281</td>\n",
              "      <td>546352</td>\n",
              "      <td>545067</td>\n",
              "      <td>514849</td>\n",
              "      <td>248396</td>\n",
              "      <td>927099</td>\n",
              "      <td>917403</td>\n",
              "      <td>334198</td>\n",
              "      <td>387542</td>\n",
              "      <td>728739</td>\n",
              "    </tr>\n",
              "    <tr>\n",
              "      <th>556199</th>\n",
              "      <td>339330</td>\n",
              "      <td>147576</td>\n",
              "      <td>514849</td>\n",
              "      <td>330749</td>\n",
              "      <td>615968</td>\n",
              "      <td>655743</td>\n",
              "      <td>499383</td>\n",
              "      <td>334198</td>\n",
              "      <td>845508</td>\n",
              "      <td>918678</td>\n",
              "      <td>404281</td>\n",
              "      <td>546352</td>\n",
              "      <td>466778</td>\n",
              "      <td>514849</td>\n",
              "      <td>362346</td>\n",
              "      <td>927099</td>\n",
              "      <td>662597</td>\n",
              "      <td>514849</td>\n",
              "      <td>387542</td>\n",
              "      <td>403100</td>\n",
              "    </tr>\n",
              "    <tr>\n",
              "      <th>193129</th>\n",
              "      <td>973335</td>\n",
              "      <td>147576</td>\n",
              "      <td>334198</td>\n",
              "      <td>330749</td>\n",
              "      <td>615968</td>\n",
              "      <td>655743</td>\n",
              "      <td>499383</td>\n",
              "      <td>334198</td>\n",
              "      <td>514849</td>\n",
              "      <td>957408</td>\n",
              "      <td>404281</td>\n",
              "      <td>546352</td>\n",
              "      <td>59992</td>\n",
              "      <td>514849</td>\n",
              "      <td>747670</td>\n",
              "      <td>202382</td>\n",
              "      <td>805368</td>\n",
              "      <td>334198</td>\n",
              "      <td>387542</td>\n",
              "      <td>105916</td>\n",
              "    </tr>\n",
              "    <tr>\n",
              "      <th>231985</th>\n",
              "      <td>278997</td>\n",
              "      <td>147576</td>\n",
              "      <td>514849</td>\n",
              "      <td>697780</td>\n",
              "      <td>615968</td>\n",
              "      <td>655743</td>\n",
              "      <td>499383</td>\n",
              "      <td>334198</td>\n",
              "      <td>514849</td>\n",
              "      <td>535044</td>\n",
              "      <td>404281</td>\n",
              "      <td>546352</td>\n",
              "      <td>545067</td>\n",
              "      <td>514849</td>\n",
              "      <td>248396</td>\n",
              "      <td>981336</td>\n",
              "      <td>917403</td>\n",
              "      <td>758665</td>\n",
              "      <td>387542</td>\n",
              "      <td>290633</td>\n",
              "    </tr>\n",
              "  </tbody>\n",
              "</table>\n",
              "</div>"
            ],
            "text/plain": [
              "          hour      C1  banner_pos  ...  weekday    user    site\n",
              "92438   795734  669576      334198  ...   514849  387542  728739\n",
              "60898   849310  147576      514849  ...   334198  387542  728739\n",
              "556199  339330  147576      514849  ...   514849  387542  403100\n",
              "193129  973335  147576      334198  ...   334198  387542  105916\n",
              "231985  278997  147576      514849  ...   758665  387542  290633\n",
              "\n",
              "[5 rows x 20 columns]"
            ]
          },
          "metadata": {
            "tags": []
          },
          "execution_count": 68
        }
      ]
    },
    {
      "cell_type": "markdown",
      "metadata": {
        "id": "4Xt7l9rvYcYX",
        "colab_type": "text"
      },
      "source": [
        "<font color=\"red\">**Question:**\n",
        "    <br>\n",
        "    - Train a RandomForestClassifier on Xtrain_ha and evaluate its performance on Xtest_ha. Chose 256 estimators, min_samples_leaf=20 and verbose=1 in order to monitor the fitting step. (If you have enough time, try later with 1024 estimators and min_samples_leaf=20).\n",
        "    <br>\n",
        "    - How do you fix 'n_jobs'? \n",
        "</font>"
      ]
    },
    {
      "cell_type": "code",
      "metadata": {
        "id": "1CtFMlwKYcYX",
        "colab_type": "code",
        "outputId": "87c840ef-613c-4fd1-fbdd-fab88c87a43f",
        "colab": {
          "base_uri": "https://localhost:8080/",
          "height": 251
        }
      },
      "source": [
        "from sklearn.ensemble import RandomForestClassifier # Fill here\n",
        "rf = RandomForestClassifier( n_estimators=256,min_samples_leaf=20,verbose=1,n_jobs=-1 )\n",
        "%time rf.fit( Xtrain_ha,ytrain )"
      ],
      "execution_count": 0,
      "outputs": [
        {
          "output_type": "stream",
          "text": [
            "[Parallel(n_jobs=-1)]: Using backend ThreadingBackend with 2 concurrent workers.\n",
            "[Parallel(n_jobs=-1)]: Done  46 tasks      | elapsed:   50.0s\n",
            "[Parallel(n_jobs=-1)]: Done 196 tasks      | elapsed:  3.5min\n"
          ],
          "name": "stderr"
        },
        {
          "output_type": "stream",
          "text": [
            "CPU times: user 9min, sys: 944 ms, total: 9min 1s\n",
            "Wall time: 4min 34s\n"
          ],
          "name": "stdout"
        },
        {
          "output_type": "stream",
          "text": [
            "[Parallel(n_jobs=-1)]: Done 256 out of 256 | elapsed:  4.6min finished\n"
          ],
          "name": "stderr"
        },
        {
          "output_type": "execute_result",
          "data": {
            "text/plain": [
              "RandomForestClassifier(bootstrap=True, class_weight=None, criterion='gini',\n",
              "                       max_depth=None, max_features='auto', max_leaf_nodes=None,\n",
              "                       min_impurity_decrease=0.0, min_impurity_split=None,\n",
              "                       min_samples_leaf=20, min_samples_split=2,\n",
              "                       min_weight_fraction_leaf=0.0, n_estimators=256,\n",
              "                       n_jobs=-1, oob_score=False, random_state=None, verbose=1,\n",
              "                       warm_start=False)"
            ]
          },
          "metadata": {
            "tags": []
          },
          "execution_count": 80
        }
      ]
    },
    {
      "cell_type": "code",
      "metadata": {
        "id": "h170ZelZYcYa",
        "colab_type": "code",
        "outputId": "c6b60ee7-ccac-4845-8a6f-deb603ac729a",
        "colab": {
          "base_uri": "https://localhost:8080/",
          "height": 107
        }
      },
      "source": [
        "soft = rf.predict_proba(Xtest_ha)[:,1]\n",
        "log_loss(ytest, soft), roc_auc_score(ytest, soft)"
      ],
      "execution_count": 0,
      "outputs": [
        {
          "output_type": "stream",
          "text": [
            "[Parallel(n_jobs=2)]: Using backend ThreadingBackend with 2 concurrent workers.\n",
            "[Parallel(n_jobs=2)]: Done  46 tasks      | elapsed:    0.9s\n",
            "[Parallel(n_jobs=2)]: Done 196 tasks      | elapsed:    3.6s\n",
            "[Parallel(n_jobs=2)]: Done 256 out of 256 | elapsed:    4.8s finished\n"
          ],
          "name": "stderr"
        },
        {
          "output_type": "execute_result",
          "data": {
            "text/plain": [
              "(0.39861737178115125, 0.7463396830809754)"
            ]
          },
          "metadata": {
            "tags": []
          },
          "execution_count": 82
        }
      ]
    },
    {
      "cell_type": "markdown",
      "metadata": {
        "id": "3V1PmiFGYcYb",
        "colab_type": "text"
      },
      "source": [
        "<font color=\"red\">**Question:**\n",
        "   Compare with xgboost performance on the same hashed dataset, with n_estimators=256, n_jobs=-1, learning_rate=1.0. (If you have enough time try n_estimators=1024, n_jobs=-1, learning_rate=0.5, it will perform better than a Random Forest of 1024 trees).\n",
        "</font>"
      ]
    },
    {
      "cell_type": "code",
      "metadata": {
        "id": "efxpo945YcYc",
        "colab_type": "code",
        "outputId": "87ad4263-fc77-4d1e-e80a-1eddf692eb8e",
        "colab": {
          "base_uri": "https://localhost:8080/",
          "height": 143
        }
      },
      "source": [
        "# Fill here\n",
        "from xgboost import XGBClassifier\n",
        "\n",
        "xgb = XGBClassifier( learning_rate=1 , n_estimators=256 , n_jobs=-1)\n",
        "\n",
        "%time xgb.fit(  Xtrain_ha , ytrain ) # the '%time' command will return the execution time of the fitting step\n",
        "\n",
        "soft = rf.predict_proba(Xtest_ha)[:,1]\n",
        "log_loss(ytest, soft), roc_auc_score(ytest, soft)"
      ],
      "execution_count": 0,
      "outputs": [
        {
          "output_type": "stream",
          "text": [
            "CPU times: user 5min 7s, sys: 512 ms, total: 5min 8s\n",
            "Wall time: 2min 38s\n"
          ],
          "name": "stdout"
        },
        {
          "output_type": "stream",
          "text": [
            "[Parallel(n_jobs=2)]: Using backend ThreadingBackend with 2 concurrent workers.\n",
            "[Parallel(n_jobs=2)]: Done  46 tasks      | elapsed:    0.9s\n",
            "[Parallel(n_jobs=2)]: Done 196 tasks      | elapsed:    3.6s\n",
            "[Parallel(n_jobs=2)]: Done 256 out of 256 | elapsed:    4.7s finished\n"
          ],
          "name": "stderr"
        },
        {
          "output_type": "execute_result",
          "data": {
            "text/plain": [
              "(0.39861737178115125, 0.7463396830809754)"
            ]
          },
          "metadata": {
            "tags": []
          },
          "execution_count": 83
        }
      ]
    },
    {
      "cell_type": "markdown",
      "metadata": {
        "id": "sQEvD6v9YcYf",
        "colab_type": "text"
      },
      "source": [
        "<font color=\"red\">**Question:**\n",
        "    Plot the ROC and the lift curves for the obtained classifier (xgboost on hashed data). What is the lift of the first fifth of the population identified by the test?\n",
        "</font>"
      ]
    },
    {
      "cell_type": "code",
      "metadata": {
        "id": "BTaxpNu8YcYg",
        "colab_type": "code",
        "outputId": "d1708945-1b77-4d3a-d2ee-30039cc5e831",
        "colab": {
          "base_uri": "https://localhost:8080/",
          "height": 323
        }
      },
      "source": [
        "# Plot the ROC curve here\n",
        "from sklearn.metrics import roc_curve\n",
        "\n",
        "false_pos_rate, true_pos_rate, _ = roc_curve( ytest,soft )\n",
        "plt.plot(false_pos_rate,true_pos_rate)\n",
        "\n",
        "plt.grid()\n",
        "plt.plot([0, 1], [0, 1], 'r--')\n",
        "plt.xlabel('False Positive Rate', fontsize=16)\n",
        "plt.ylabel('True Positive Rate', fontsize=16)\n",
        "plt.title('ROC curve', fontsize=20)"
      ],
      "execution_count": 0,
      "outputs": [
        {
          "output_type": "execute_result",
          "data": {
            "text/plain": [
              "Text(0.5, 1.0, 'ROC curve')"
            ]
          },
          "metadata": {
            "tags": []
          },
          "execution_count": 84
        },
        {
          "output_type": "display_data",
          "data": {
            "image/png": "[encoded data removed]",
            "text/plain": [
              "<Figure size 432x288 with 1 Axes>"
            ]
          },
          "metadata": {
            "tags": []
          }
        }
      ]
    },
    {
      "cell_type": "code",
      "metadata": {
        "id": "t5X212VxYcYf",
        "colab_type": "code",
        "outputId": "fa4e6008-e6dc-4b65-a663-697e755cb754",
        "colab": {
          "base_uri": "https://localhost:8080/",
          "height": 323
        }
      },
      "source": [
        "# Plot the lift curve here\n",
        "from utils import plotlift\n",
        "\n",
        "plotlift(ytest,soft)\n",
        "# The following line just plots a vertical line for you to answer the second part of the question\n",
        "plt.axvline(x= 0.2 , linestyle='--', color='r') # Fill here\n",
        "\n",
        "plt.xlabel('Proportion of the dataset', fontsize=16)\n",
        "plt.ylabel('Lift', fontsize=16)\n",
        "plt.title('Lift curve', fontsize=20)\n",
        "plt.plot()"
      ],
      "execution_count": 0,
      "outputs": [
        {
          "output_type": "execute_result",
          "data": {
            "text/plain": [
              "[]"
            ]
          },
          "metadata": {
            "tags": []
          },
          "execution_count": 118
        },
        {
          "output_type": "display_data",
          "data": {
            "image/png": "[encoded data removed]",
            "text/plain": [
              "<Figure size 432x288 with 1 Axes>"
            ]
          },
          "metadata": {
            "tags": []
          }
        }
      ]
    },
    {
      "cell_type": "markdown",
      "metadata": {
        "colab_type": "text",
        "id": "drSyzM_M8YJk"
      },
      "source": [
        "Your answer here\n",
        "\n",
        "The lift of the first fifth of the population is 2.1."
      ]
    },
    {
      "cell_type": "markdown",
      "metadata": {
        "id": "bs1_k3-hYcYj",
        "colab_type": "text"
      },
      "source": [
        "Hashing produces columns of integers arbitrarily ordered. One can wonder if adding more columns hashed in a different fashion would lead to better performance. \n",
        "\n",
        "<font color=\"red\">**Question:**\n",
        "    Add hashed columns by recursively hashing the previous ones: complete the following code. \n",
        "</font>"
      ]
    },
    {
      "cell_type": "code",
      "metadata": {
        "id": "q2X9YoNvYcYj",
        "colab_type": "code",
        "colab": {}
      },
      "source": [
        "Xtrain_haha = pd.DataFrame(Xtrain_ha).copy()\n",
        "Xtest_haha = pd.DataFrame(Xtest_ha).copy()\n",
        "\n",
        "n_hash = 3\n",
        "cols = Xtrain_ha.columns\n",
        "for l in range(n_hash):\n",
        "    for col in cols:\n",
        "        Xtrain_haha[col + '-hash'] = Xtrain_haha[col].apply( lambda x: hash(str(x)) % 1000000 )\n",
        "        Xtest_haha[col + '-hash'] = Xtest_haha[col].apply( lambda x: hash(str(x)) % 1000000 )\n",
        "    cols = [col + '-hash' for col in cols]"
      ],
      "execution_count": 0,
      "outputs": []
    },
    {
      "cell_type": "markdown",
      "metadata": {
        "id": "OgdtITAfYcYq",
        "colab_type": "text"
      },
      "source": [
        "<font color=\"red\">**Question:**\n",
        "    Evaluate the performance of a random forest and/or an xgboost clasifier (chose 256 estimators first and learning rate of 1.0 for xgboost) on these enlarged dataset. Is the performance better than when hasing features once?\n",
        "</font>"
      ]
    },
    {
      "cell_type": "code",
      "metadata": {
        "id": "DOk1idKAYcYr",
        "colab_type": "code",
        "outputId": "6a3ad9ce-891f-486e-ccb2-c1511608e0d7",
        "colab": {
          "base_uri": "https://localhost:8080/",
          "height": 71
        }
      },
      "source": [
        "# Fill here\n",
        "from xgboost import XGBClassifier\n",
        "\n",
        "xgb = XGBClassifier( learning_rate=1.0 , n_estimators=256 , n_jobs=-1)\n",
        "\n",
        "%time xgb.fit(  Xtrain_haha , ytrain ) # the '%time' command will return the execution time of the fitting step\n",
        "\n",
        "soft = xgb.predict_proba(Xtest_haha)[:,1]\n",
        "log_loss(ytest, soft), roc_auc_score(ytest, soft)"
      ],
      "execution_count": 0,
      "outputs": [
        {
          "output_type": "stream",
          "text": [
            "CPU times: user 17min 3s, sys: 817 ms, total: 17min 4s\n",
            "Wall time: 8min 42s\n"
          ],
          "name": "stdout"
        },
        {
          "output_type": "execute_result",
          "data": {
            "text/plain": [
              "(0.3995224425254899, 0.7445811983596664)"
            ]
          },
          "metadata": {
            "tags": []
          },
          "execution_count": 122
        }
      ]
    },
    {
      "cell_type": "code",
      "metadata": {
        "id": "equU2-LdfZUI",
        "colab_type": "code",
        "outputId": "4e7a3673-6936-435e-8b47-772bb62ae824",
        "colab": {
          "base_uri": "https://localhost:8080/",
          "height": 215
        }
      },
      "source": [
        "rf = RandomForestClassifier( n_estimators=256,min_samples_leaf=20,verbose=1,n_jobs=-1 )\n",
        "%time rf.fit( Xtrain_haha,ytrain )\n",
        "\n",
        "soft = rf.predict_proba(Xtest_haha)[:,1]\n",
        "log_loss(ytest, soft), roc_auc_score(ytest, soft)"
      ],
      "execution_count": 0,
      "outputs": [
        {
          "output_type": "stream",
          "text": [
            "[Parallel(n_jobs=-1)]: Using backend ThreadingBackend with 2 concurrent workers.\n",
            "[Parallel(n_jobs=-1)]: Done  46 tasks      | elapsed:  2.0min\n",
            "[Parallel(n_jobs=-1)]: Done 196 tasks      | elapsed:  8.7min\n",
            "[Parallel(n_jobs=-1)]: Done 256 out of 256 | elapsed: 11.3min finished\n",
            "[Parallel(n_jobs=2)]: Using backend ThreadingBackend with 2 concurrent workers.\n"
          ],
          "name": "stderr"
        },
        {
          "output_type": "stream",
          "text": [
            "CPU times: user 22min 12s, sys: 2.31 s, total: 22min 15s\n",
            "Wall time: 11min 17s\n"
          ],
          "name": "stdout"
        },
        {
          "output_type": "stream",
          "text": [
            "[Parallel(n_jobs=2)]: Done  46 tasks      | elapsed:    1.2s\n",
            "[Parallel(n_jobs=2)]: Done 196 tasks      | elapsed:    5.3s\n",
            "[Parallel(n_jobs=2)]: Done 256 out of 256 | elapsed:    6.9s finished\n"
          ],
          "name": "stderr"
        },
        {
          "output_type": "execute_result",
          "data": {
            "text/plain": [
              "(0.39608489834705507, 0.7507738293253283)"
            ]
          },
          "metadata": {
            "tags": []
          },
          "execution_count": 121
        }
      ]
    },
    {
      "cell_type": "markdown",
      "metadata": {
        "colab_type": "text",
        "id": "xusvruj8NWTp"
      },
      "source": [
        "Your answer here\n",
        "\n",
        "The performance become better, especially for the xgboost clasifier."
      ]
    },
    {
      "cell_type": "markdown",
      "metadata": {
        "id": "7CxxdsyAYcYu",
        "colab_type": "text"
      },
      "source": [
        "Good job! :-) "
      ]
    },
    {
      "cell_type": "markdown",
      "metadata": {
        "colab_type": "text",
        "id": "3NTILkwg8fFQ"
      },
      "source": [
        "<font color=\"red\">**Bonus Question:**\n",
        "    If you have enough time (about 2 hours ...), try to fit both random forest and xgboost models with 1024 estimators (and a learning rate of 0.5 for xgboost) on these enlarged datasets.<br>\n",
        "    - Which one performs better?<br> \n",
        "    - Can you see the improvement due to the addition of more hashed features?\n",
        "</font>"
      ]
    },
    {
      "cell_type": "markdown",
      "metadata": {
        "collapsed": true,
        "id": "gmT_UJvZIIWT",
        "colab_type": "text"
      },
      "source": [
        "# Field-aware Factorization Machines\n",
        "<br>\n",
        "<font color=\"red\">\n",
        "Display the names of the columns of the matrix Xtrain_ha\n",
        "</font>"
      ]
    },
    {
      "cell_type": "code",
      "metadata": {
        "id": "gLVRw6AtIIWU",
        "colab_type": "code",
        "outputId": "30da8107-c012-4424-e926-180c6543689c",
        "colab": {
          "base_uri": "https://localhost:8080/",
          "height": 89
        }
      },
      "source": [
        "Xtrain_ha.columns"
      ],
      "execution_count": 0,
      "outputs": [
        {
          "output_type": "execute_result",
          "data": {
            "text/plain": [
              "Index(['hour', 'C1', 'banner_pos', 'site_category', 'app_id', 'app_domain',\n",
              "       'app_category', 'device_type', 'device_conn_type', 'C14', 'C15', 'C16',\n",
              "       'C17', 'C18', 'C19', 'C20', 'C21', 'weekday', 'user', 'site'],\n",
              "      dtype='object')"
            ]
          },
          "metadata": {
            "tags": []
          },
          "execution_count": 65
        }
      ]
    },
    {
      "cell_type": "markdown",
      "metadata": {
        "id": "jePx6DkuIIWU",
        "colab_type": "text"
      },
      "source": [
        "<font color=\"red\">\n",
        "Create a list of lists of the columns. The n-th sub-list is composed of the names of the columns of the n-th field.</font>"
      ]
    },
    {
      "cell_type": "code",
      "metadata": {
        "id": "Xw5rYhwJIIWV",
        "colab_type": "code",
        "colab": {}
      },
      "source": [
        "fields = []\n",
        "fields.append( ['hour','weekday'] )\n",
        "fields.append( ['C1','C14', 'C15', 'C16',\n",
        "       'C17', 'C18', 'C19', 'C20', 'C21'] )\n",
        "fields.append( [ 'app_id', 'app_domain',\n",
        "       'app_category', 'device_type', 'device_conn_type'] )\n",
        "fields.append(['banner_pos','site_category','device_conn_type','user', 'site'])"
      ],
      "execution_count": 0,
      "outputs": []
    },
    {
      "cell_type": "markdown",
      "metadata": {
        "id": "ZUu2FXaSIIWW",
        "colab_type": "text"
      },
      "source": [
        "<font color=\"red\">\n",
        "With the enumerate function, let generate a dictionary which associates each column name with its field.\n"
      ]
    },
    {
      "cell_type": "code",
      "metadata": {
        "id": "tWzYMksxIIWX",
        "colab_type": "code",
        "colab": {}
      },
      "source": [
        "dicFields = { name_col : i  for i,f in enumerate(fields) for name_col in f}"
      ],
      "execution_count": 0,
      "outputs": []
    },
    {
      "cell_type": "markdown",
      "metadata": {
        "id": "o2Scxx_CIIWZ",
        "colab_type": "text"
      },
      "source": [
        "We need to make sure that two different columns have different modalities. For this, we add in front of each modality a characteristic string of the column.\n",
        "\n",
        "<font color=\"red\">Perform this transformation with the apply method</font>\n"
      ]
    },
    {
      "cell_type": "code",
      "metadata": {
        "id": "Y253v6YBIIWa",
        "colab_type": "code",
        "colab": {}
      },
      "source": [
        "Xtrain_ffm = pd.DataFrame()\n",
        "Xtest_ffm = pd.DataFrame()\n",
        "for col in Xtrain_ha.columns:\n",
        "    Xtrain_ffm[col] = Xtrain_ha[col].apply( lambda x: hash(str(x)+col) )\n",
        "    Xtest_ffm[col] = Xtest_ha[col].apply( lambda x: hash(str(x)+col) )"
      ],
      "execution_count": 0,
      "outputs": []
    },
    {
      "cell_type": "markdown",
      "metadata": {
        "id": "yrhsnGjIIIWb",
        "colab_type": "text"
      },
      "source": [
        "With np.unique, we create the list of all the modalities appearing in all the columns."
      ]
    },
    {
      "cell_type": "code",
      "metadata": {
        "id": "7fcTcK4rIIWb",
        "colab_type": "code",
        "colab": {}
      },
      "source": [
        "allvals = []\n",
        "allcols_ffm = [col for f in fields for col in f]  # Toutes les colonnes appartenant à l'un des champ\n",
        "for col in allcols_ffm:\n",
        "    allvals.append(np.unique(Xtrain_ffm[col]))\n",
        "allvals= [val for sublist in allvals for val in sublist]"
      ],
      "execution_count": 0,
      "outputs": []
    },
    {
      "cell_type": "markdown",
      "metadata": {
        "id": "OBLCa95zIIWc",
        "colab_type": "text"
      },
      "source": [
        "<font color=\"red\">\n",
        "Using enumerate method, create a dictionary that at each value associates its rank in the allvals list.</font>"
      ]
    },
    {
      "cell_type": "code",
      "metadata": {
        "id": "TlcO1vu0IIWc",
        "colab_type": "code",
        "colab": {}
      },
      "source": [
        "dicFeat = {val:i for i,val in enumerate(allvals) }"
      ],
      "execution_count": 0,
      "outputs": []
    },
    {
      "cell_type": "markdown",
      "metadata": {
        "id": "qS4cP1SgIIWd",
        "colab_type": "text"
      },
      "source": [
        "We build dataframe from dicFeat as follows:\n",
        "in each \"col\" column, the value \"x\" is replaced by the string \"f: v: 1\", where f is the field associated with the column and v is the index of the modality x.\n",
        "<font color=\"red\">\n",
        "Study the following code</font>"
      ]
    },
    {
      "cell_type": "code",
      "metadata": {
        "id": "FLXawWuYIIWd",
        "colab_type": "code",
        "colab": {}
      },
      "source": [
        "for col in allcols_ffm:\n",
        "    f = dicFields[col]\n",
        "    Xtrain_ffm[col] = Xtrain_ffm[col].apply(lambda x:\"{}:{}:1\".format(f,dicFeat[x]) if x in dicFeat else \"\")\n",
        "    Xtest_ffm[col] = Xtest_ffm[col].apply(lambda x:\"{}:{}:1\".format(f,dicFeat[x]) if x in dicFeat else \"\")"
      ],
      "execution_count": 0,
      "outputs": []
    },
    {
      "cell_type": "markdown",
      "metadata": {
        "id": "O8jnU8x8IIWe",
        "colab_type": "text"
      },
      "source": [
        "<font color=\"red\">For the two resulting dataframes, concatenate on the left the corresponding ytrain (or ytest) click column</font>"
      ]
    },
    {
      "cell_type": "code",
      "metadata": {
        "id": "6vVXBrtVIIWe",
        "colab_type": "code",
        "colab": {}
      },
      "source": [
        "yXtrain_ffm = pd.concat( (ytrain,Xtrain_ffm) ,axis=1)\n",
        "yXtest_ffm = pd.concat( (ytest,Xtest_ffm) ,axis=1)"
      ],
      "execution_count": 0,
      "outputs": []
    },
    {
      "cell_type": "markdown",
      "metadata": {
        "id": "2yKP8AdSIIWf",
        "colab_type": "text"
      },
      "source": [
        "<font color=\"red\">What does the following cell produce?</font>"
      ]
    },
    {
      "cell_type": "code",
      "metadata": {
        "id": "n_tuyv7FHup4",
        "colab_type": "code",
        "outputId": "49c217c1-9b61-44a6-a943-a440c35f0c7a",
        "colab": {
          "base_uri": "https://localhost:8080/",
          "height": 224
        }
      },
      "source": [
        "yXtrain_ffm['click']=yXtrain_ffm['click'].apply(lambda x:str(x))\n",
        "yXtest_ffm['click']=yXtest_ffm['click'].apply(lambda x:str(x))\n",
        "\n",
        "yXtrain_ffm.head()"
      ],
      "execution_count": 0,
      "outputs": [
        {
          "output_type": "execute_result",
          "data": {
            "text/html": [
              "<div>\n",
              "<style scoped>\n",
              "    .dataframe tbody tr th:only-of-type {\n",
              "        vertical-align: middle;\n",
              "    }\n",
              "\n",
              "    .dataframe tbody tr th {\n",
              "        vertical-align: top;\n",
              "    }\n",
              "\n",
              "    .dataframe thead th {\n",
              "        text-align: right;\n",
              "    }\n",
              "</style>\n",
              "<table border=\"1\" class=\"dataframe\">\n",
              "  <thead>\n",
              "    <tr style=\"text-align: right;\">\n",
              "      <th></th>\n",
              "      <th>click</th>\n",
              "      <th>hour</th>\n",
              "      <th>C1</th>\n",
              "      <th>banner_pos</th>\n",
              "      <th>site_category</th>\n",
              "      <th>app_id</th>\n",
              "      <th>app_domain</th>\n",
              "      <th>app_category</th>\n",
              "      <th>device_type</th>\n",
              "      <th>device_conn_type</th>\n",
              "      <th>C14</th>\n",
              "      <th>C15</th>\n",
              "      <th>C16</th>\n",
              "      <th>C17</th>\n",
              "      <th>C18</th>\n",
              "      <th>C19</th>\n",
              "      <th>C20</th>\n",
              "      <th>C21</th>\n",
              "      <th>weekday</th>\n",
              "      <th>user</th>\n",
              "      <th>site</th>\n",
              "    </tr>\n",
              "  </thead>\n",
              "  <tbody>\n",
              "    <tr>\n",
              "      <th>92438</th>\n",
              "      <td>1</td>\n",
              "      <td>0:5:1</td>\n",
              "      <td>1:32:1</td>\n",
              "      <td>3:2745:1</td>\n",
              "      <td>3:2758:1</td>\n",
              "      <td>2:2282:1</td>\n",
              "      <td>2:2692:1</td>\n",
              "      <td>2:2716:1</td>\n",
              "      <td>2:2739:1</td>\n",
              "      <td></td>\n",
              "      <td>1:918:1</td>\n",
              "      <td>1:1383:1</td>\n",
              "      <td>1:1389:1</td>\n",
              "      <td>1:1527:1</td>\n",
              "      <td>1:1776:1</td>\n",
              "      <td>1:1841:1</td>\n",
              "      <td>1:1855:1</td>\n",
              "      <td>1:2025:1</td>\n",
              "      <td>0:24:1</td>\n",
              "      <td>3:3067:1</td>\n",
              "      <td>3:4419:1</td>\n",
              "    </tr>\n",
              "    <tr>\n",
              "      <th>60898</th>\n",
              "      <td>0</td>\n",
              "      <td>0:7:1</td>\n",
              "      <td>1:35:1</td>\n",
              "      <td>3:2746:1</td>\n",
              "      <td>3:2758:1</td>\n",
              "      <td>2:2530:1</td>\n",
              "      <td>2:2698:1</td>\n",
              "      <td>2:2720:1</td>\n",
              "      <td>2:2738:1</td>\n",
              "      <td></td>\n",
              "      <td>1:918:1</td>\n",
              "      <td>1:1383:1</td>\n",
              "      <td>1:1389:1</td>\n",
              "      <td>1:1527:1</td>\n",
              "      <td>1:1776:1</td>\n",
              "      <td>1:1841:1</td>\n",
              "      <td>1:1855:1</td>\n",
              "      <td>1:2025:1</td>\n",
              "      <td>0:26:1</td>\n",
              "      <td>3:3067:1</td>\n",
              "      <td>3:4419:1</td>\n",
              "    </tr>\n",
              "    <tr>\n",
              "      <th>556199</th>\n",
              "      <td>0</td>\n",
              "      <td>0:4:1</td>\n",
              "      <td>1:35:1</td>\n",
              "      <td>3:2746:1</td>\n",
              "      <td>3:2753:1</td>\n",
              "      <td>2:2187:1</td>\n",
              "      <td>2:2692:1</td>\n",
              "      <td>2:2733:1</td>\n",
              "      <td>2:2738:1</td>\n",
              "      <td></td>\n",
              "      <td>1:427:1</td>\n",
              "      <td>1:1383:1</td>\n",
              "      <td>1:1389:1</td>\n",
              "      <td>1:1446:1</td>\n",
              "      <td>1:1776:1</td>\n",
              "      <td>1:1831:1</td>\n",
              "      <td>1:1855:1</td>\n",
              "      <td>1:2033:1</td>\n",
              "      <td>0:24:1</td>\n",
              "      <td>3:3067:1</td>\n",
              "      <td>3:4428:1</td>\n",
              "    </tr>\n",
              "    <tr>\n",
              "      <th>193129</th>\n",
              "      <td>0</td>\n",
              "      <td>0:6:1</td>\n",
              "      <td>1:35:1</td>\n",
              "      <td>3:2745:1</td>\n",
              "      <td>3:2753:1</td>\n",
              "      <td>2:2187:1</td>\n",
              "      <td>2:2692:1</td>\n",
              "      <td>2:2733:1</td>\n",
              "      <td>2:2738:1</td>\n",
              "      <td></td>\n",
              "      <td>1:926:1</td>\n",
              "      <td>1:1383:1</td>\n",
              "      <td>1:1389:1</td>\n",
              "      <td>1:1574:1</td>\n",
              "      <td>1:1776:1</td>\n",
              "      <td>1:1788:1</td>\n",
              "      <td>1:1982:1</td>\n",
              "      <td>1:2049:1</td>\n",
              "      <td>0:26:1</td>\n",
              "      <td>3:3067:1</td>\n",
              "      <td>3:4008:1</td>\n",
              "    </tr>\n",
              "    <tr>\n",
              "      <th>231985</th>\n",
              "      <td>0</td>\n",
              "      <td>0:13:1</td>\n",
              "      <td>1:35:1</td>\n",
              "      <td>3:2746:1</td>\n",
              "      <td>3:2762:1</td>\n",
              "      <td>2:2187:1</td>\n",
              "      <td>2:2692:1</td>\n",
              "      <td>2:2733:1</td>\n",
              "      <td>2:2738:1</td>\n",
              "      <td></td>\n",
              "      <td>1:206:1</td>\n",
              "      <td>1:1383:1</td>\n",
              "      <td>1:1389:1</td>\n",
              "      <td>1:1527:1</td>\n",
              "      <td>1:1776:1</td>\n",
              "      <td>1:1841:1</td>\n",
              "      <td>1:1961:1</td>\n",
              "      <td>1:2025:1</td>\n",
              "      <td>0:28:1</td>\n",
              "      <td>3:3067:1</td>\n",
              "      <td>3:3698:1</td>\n",
              "    </tr>\n",
              "  </tbody>\n",
              "</table>\n",
              "</div>"
            ],
            "text/plain": [
              "       click    hour      C1 banner_pos  ...       C21 weekday      user      site\n",
              "92438      1   0:5:1  1:32:1   3:2745:1  ...  1:2025:1  0:24:1  3:3067:1  3:4419:1\n",
              "60898      0   0:7:1  1:35:1   3:2746:1  ...  1:2025:1  0:26:1  3:3067:1  3:4419:1\n",
              "556199     0   0:4:1  1:35:1   3:2746:1  ...  1:2033:1  0:24:1  3:3067:1  3:4428:1\n",
              "193129     0   0:6:1  1:35:1   3:2745:1  ...  1:2049:1  0:26:1  3:3067:1  3:4008:1\n",
              "231985     0  0:13:1  1:35:1   3:2746:1  ...  1:2025:1  0:28:1  3:3067:1  3:3698:1\n",
              "\n",
              "[5 rows x 21 columns]"
            ]
          },
          "metadata": {
            "tags": []
          },
          "execution_count": 94
        }
      ]
    },
    {
      "cell_type": "code",
      "metadata": {
        "id": "vlCgqefuIIWg",
        "colab_type": "code",
        "colab": {}
      },
      "source": [
        "train_w = yXtrain_ffm.apply(lambda row:' '.join(row.values),axis=1).values\n",
        "test_w = yXtest_ffm.apply(lambda row:' '.join(row.values),axis=1).values"
      ],
      "execution_count": 0,
      "outputs": []
    },
    {
      "cell_type": "markdown",
      "metadata": {
        "id": "7VI0cKgcIIWm",
        "colab_type": "text"
      },
      "source": [
        "<font color=\"red\">Write the above dataframe in a text file</font>"
      ]
    },
    {
      "cell_type": "code",
      "metadata": {
        "id": "fHj2JsAqOP5a",
        "colab_type": "code",
        "outputId": "b8a1dd26-7f73-48ef-bf0b-d5c5516a8da0",
        "colab": {
          "base_uri": "https://localhost:8080/",
          "height": 179
        }
      },
      "source": [
        "root_path = '/content/gdrive/My Drive/Colab Notebooks/tp_avazu/notebooks'  # your new root path\n",
        "os.chdir(root_path)\n",
        "os.getcwd()\n",
        "os.listdir('.')"
      ],
      "execution_count": 0,
      "outputs": [
        {
          "output_type": "execute_result",
          "data": {
            "text/plain": [
              "['__pycache__',\n",
              " 'ffm-predict',\n",
              " 'utils.py',\n",
              " 'time_estimation_python.txt',\n",
              " 'TP0-titanic-blank.ipynb',\n",
              " 'ffm-train',\n",
              " 'TP1-avazu-blank.ipynb',\n",
              " 'train.txt',\n",
              " 'test.txt']"
            ]
          },
          "metadata": {
            "tags": []
          },
          "execution_count": 111
        }
      ]
    },
    {
      "cell_type": "code",
      "metadata": {
        "id": "fdJFgYQuIIWo",
        "colab_type": "code",
        "colab": {}
      },
      "source": [
        "thefile = open('train.txt','w')\n",
        "for item in train_w:\n",
        "    thefile.write(\"%s\\n\" % item)\n",
        "\n",
        "# Faire de même pour le test set\n",
        "thefile = open('test.txt','w')\n",
        "for item in test_w:\n",
        "    thefile.write(\"%s\\n\" % item)"
      ],
      "execution_count": 0,
      "outputs": []
    },
    {
      "cell_type": "markdown",
      "metadata": {
        "id": "Z3-j2EGuIIWo",
        "colab_type": "text"
      },
      "source": [
        "To learn the FFM model, we use the LibFFM library https://www.csie.ntu.edu.tw/~cjlin/libffm/\n",
        "In the notebooks / directory there are two executables: ffm-train and ffm-predict.\n",
        "In jupyter notebook, the exclamation point! allows to launch a bash command.\n",
        "The use is as follows:\n",
        "\n",
        "-   `ffm-train'\n",
        "\n",
        "    usage: ffm-train [options] training_set_file [model_file]\n",
        "\n",
        "    options:  \n",
        "    -l <lambda>: set regularization parameter (default 0.00002)  \n",
        "    -k <factor>: set number of latent factors (default 4)  \n",
        "    -t <iteration>: set number of iterations (default 15)  \n",
        "    -r <eta>: set learning rate (default 0.2)  \n",
        "    -s <nr_threads>: set number of threads (default 1)  \n",
        "    -p <path>: set path to the validation set  \n",
        "    --quiet: quiet model (no output)  \n",
        "    --no-norm: disable instance-wise normalization  \n",
        "    --auto-stop: stop at the iteration that achieves the best validation loss (must be used with -p)  \n",
        "<br>\n",
        "<font color=\"red\">Learn the model. We can :\n",
        "- use an regularizer of 0.00001\n",
        "- use a learning rate of 0.05\n",
        "- use of the order of 15 latent factors\n",
        "- carry out the order of 30 iterations\n",
        "- with the -p option, change the test file to validation parameters\n",
        "- activate the --autostop mode\n",
        "</font> "
      ]
    },
    {
      "cell_type": "code",
      "metadata": {
        "id": "zgFB_Wz7IIWp",
        "colab_type": "code",
        "outputId": "8b1516c4-6716-49ba-9c61-9204e91f557e",
        "colab": {
          "base_uri": "https://localhost:8080/",
          "height": 35
        }
      },
      "source": [
        "import subprocess\n",
        "\n",
        "#os.system(\"start ffm-train\")\n",
        "#os.startfile(\"ffm-train\")\n",
        "#cmd = './libffm/libffm/ffm-train --auto-stop -r 0.1 -t 32 -s {nr_thread} -p ./data/valid_ffm.txt ./data/train_ffm.txt model_ffm'.format(nr_thread=NR_THREAD) \n",
        "\n",
        "\n",
        "cmd = './ffm-train --auto-stop  -p test.txt  -l 0.00001 -r 0.05 -k 15 -t 30 train.txt'\n",
        "#ffm-train --auto-stop  -p test.txt  -l 0.00001 -r 0.05 -k 15 -t 30 train.txt model\n",
        "subprocess.call(cmd,shell=True)"
      ],
      "execution_count": 0,
      "outputs": [
        {
          "output_type": "execute_result",
          "data": {
            "text/plain": [
              "126"
            ]
          },
          "metadata": {
            "tags": []
          },
          "execution_count": 167
        }
      ]
    },
    {
      "cell_type": "code",
      "metadata": {
        "id": "kmHHdV6jVles",
        "colab_type": "code",
        "outputId": "54de0cc3-4485-4dde-dca8-c3db996fc037",
        "colab": {
          "base_uri": "https://localhost:8080/",
          "height": 179
        }
      },
      "source": [
        "os.listdir()"
      ],
      "execution_count": 0,
      "outputs": [
        {
          "output_type": "execute_result",
          "data": {
            "text/plain": [
              "['__pycache__',\n",
              " 'ffm-predict',\n",
              " 'utils.py',\n",
              " 'time_estimation_python.txt',\n",
              " 'TP0-titanic-blank.ipynb',\n",
              " 'ffm-train',\n",
              " 'TP1-avazu-blank.ipynb',\n",
              " 'train.txt',\n",
              " 'test.txt']"
            ]
          },
          "metadata": {
            "tags": []
          },
          "execution_count": 150
        }
      ]
    },
    {
      "cell_type": "markdown",
      "metadata": {
        "id": "ksgNKsj8IIWs",
        "colab_type": "text"
      },
      "source": [
        "The use of ffm-predict is: ffm-predict filename-test file-name-model file-in-which-write-the-prediction \n",
        "<font color=\"red\">Perform the prediction</font>"
      ]
    },
    {
      "cell_type": "markdown",
      "metadata": {
        "id": "pp02SsNnIIWt",
        "colab_type": "text"
      },
      "source": [
        "\n",
        "\n",
        "<font color=\"red\">Compute the log_loss and area under the roc curve (ROC AUC).</font>"
      ]
    },
    {
      "cell_type": "markdown",
      "metadata": {
        "collapsed": true,
        "colab_type": "text",
        "id": "vqR8fOOBOqxx"
      },
      "source": [
        "# Blending"
      ]
    },
    {
      "cell_type": "markdown",
      "metadata": {
        "colab_type": "text",
        "id": "7-3iP_FwOqxw"
      },
      "source": [
        "<font color=\"red\">\n",
        "Split Xtrain in two: Xtrain_meth and Xtrain_blend.</font>"
      ]
    },
    {
      "cell_type": "code",
      "metadata": {
        "colab_type": "code",
        "id": "VOz5fHUgOqxr",
        "colab": {}
      },
      "source": [
        "Xtrain_meth, Xtrain_blend, ytrain_meth, ytrain_blend = train_test_split(Xtrain_ha,ytrain,test_size=0.2)"
      ],
      "execution_count": 0,
      "outputs": []
    },
    {
      "cell_type": "markdown",
      "metadata": {
        "collapsed": true,
        "colab_type": "text",
        "id": "taRGY6UDOqxq"
      },
      "source": [
        "<font color=\"red\">\n",
        "Train a logistic regression on XTrain_meth. Then compute its score on Xtrain_blend and save the score in a vector.</font>"
      ]
    },
    {
      "cell_type": "code",
      "metadata": {
        "colab_type": "code",
        "id": "iLZ9eMbEOqxo",
        "colab": {
          "base_uri": "https://localhost:8080/",
          "height": 91
        },
        "outputId": "2a106f3e-d3e7-45b1-da31-1642b34b40a3"
      },
      "source": [
        "lr=LogisticRegression()\n",
        "lr.fit(Xtrain_meth,ytrain_meth)\n",
        "score=lr.score(Xtrain_blend,ytrain_blend)\n",
        "print(\"The score is :\",score)"
      ],
      "execution_count": 119,
      "outputs": [
        {
          "output_type": "stream",
          "text": [
            "/usr/local/lib/python3.6/dist-packages/sklearn/linear_model/logistic.py:432: FutureWarning: Default solver will be changed to 'lbfgs' in 0.22. Specify a solver to silence this warning.\n",
            "  FutureWarning)\n"
          ],
          "name": "stderr"
        },
        {
          "output_type": "stream",
          "text": [
            "The score is : 0.8306055555555556\n"
          ],
          "name": "stdout"
        }
      ]
    },
    {
      "cell_type": "code",
      "metadata": {
        "id": "xBJ-vTfgTtRm",
        "colab_type": "code",
        "colab": {}
      },
      "source": [
        "score_lr_vector=lr.predict_proba(Xtrain_blend)"
      ],
      "execution_count": 0,
      "outputs": []
    },
    {
      "cell_type": "markdown",
      "metadata": {
        "colab_type": "text",
        "id": "dENR18QvOqxn"
      },
      "source": [
        "<font color=\"red\">\n",
        "Do the same thing with XGBoost (save the score).</font>"
      ]
    },
    {
      "cell_type": "code",
      "metadata": {
        "id": "1gcaMTpLNXK2",
        "colab_type": "code",
        "colab": {
          "base_uri": "https://localhost:8080/",
          "height": 35
        },
        "outputId": "d25e60f5-264f-4917-d3e0-8b5c2ea45bc8"
      },
      "source": [
        "from xgboost import XGBClassifier\n",
        "xgb=XGBClassifier()\n",
        "xgb.fit(Xtrain_meth,ytrain_meth)\n",
        "score_xgb=xgb.score(Xtrain_blend,ytrain_blend)\n",
        "print(\"The score is :\",score_xgb)"
      ],
      "execution_count": 132,
      "outputs": [
        {
          "output_type": "stream",
          "text": [
            "The score is : 0.83235\n"
          ],
          "name": "stdout"
        }
      ]
    },
    {
      "cell_type": "code",
      "metadata": {
        "id": "-BtRsDX8UYS0",
        "colab_type": "code",
        "colab": {}
      },
      "source": [
        "score_xgb_vector=xgb.predict_proba(Xtrain_blend)"
      ],
      "execution_count": 0,
      "outputs": []
    },
    {
      "cell_type": "markdown",
      "metadata": {
        "colab_type": "text",
        "id": "b8voXiEwOqxk"
      },
      "source": [
        "<font color=\"red\">\n",
        "Do the same with a RandomForest (save the score).</font>"
      ]
    },
    {
      "cell_type": "code",
      "metadata": {
        "colab_type": "code",
        "id": "At6NVRKZOqxi",
        "colab": {
          "base_uri": "https://localhost:8080/",
          "height": 71
        },
        "outputId": "1314f73a-3a54-409c-f75c-295a0762742d"
      },
      "source": [
        "from sklearn.ensemble import RandomForestClassifier \n",
        "rf=RandomForestClassifier()\n",
        "rf.fit(Xtrain_meth,ytrain_meth)\n",
        "score_rf=rf.score(Xtrain_blend,ytrain_blend)\n",
        "print(\"The score is :\",score_rf)"
      ],
      "execution_count": 133,
      "outputs": [
        {
          "output_type": "stream",
          "text": [
            "/usr/local/lib/python3.6/dist-packages/sklearn/ensemble/forest.py:245: FutureWarning: The default value of n_estimators will change from 10 in version 0.20 to 100 in 0.22.\n",
            "  \"10 in version 0.20 to 100 in 0.22.\", FutureWarning)\n"
          ],
          "name": "stderr"
        },
        {
          "output_type": "stream",
          "text": [
            "The score is : 0.79975\n"
          ],
          "name": "stdout"
        }
      ]
    },
    {
      "cell_type": "code",
      "metadata": {
        "id": "BMyK9xBFUdat",
        "colab_type": "code",
        "colab": {}
      },
      "source": [
        "score_rf_vector=rf.predict_proba(Xtrain_blend)"
      ],
      "execution_count": 0,
      "outputs": []
    },
    {
      "cell_type": "markdown",
      "metadata": {
        "colab_type": "text",
        "id": "iJcPtHjLOqxh"
      },
      "source": [
        "<font color=\"red\">\n",
        "Now with an extraTrees.</font>"
      ]
    },
    {
      "cell_type": "code",
      "metadata": {
        "colab_type": "code",
        "id": "3GVkx2YjOqxf",
        "colab": {
          "base_uri": "https://localhost:8080/",
          "height": 71
        },
        "outputId": "190b7933-05b4-4fb1-9c2f-4802594e5058"
      },
      "source": [
        "from sklearn.ensemble import ExtraTreesClassifier\n",
        "et=ExtraTreesClassifier()\n",
        "et.fit(Xtrain_meth,ytrain_meth)\n",
        "score_et=et.score(Xtrain_blend,ytrain_blend)\n",
        "print(\"The score is :\",score_et)"
      ],
      "execution_count": 125,
      "outputs": [
        {
          "output_type": "stream",
          "text": [
            "/usr/local/lib/python3.6/dist-packages/sklearn/ensemble/forest.py:245: FutureWarning: The default value of n_estimators will change from 10 in version 0.20 to 100 in 0.22.\n",
            "  \"10 in version 0.20 to 100 in 0.22.\", FutureWarning)\n"
          ],
          "name": "stderr"
        },
        {
          "output_type": "stream",
          "text": [
            "The score is : 0.8076277777777778\n"
          ],
          "name": "stdout"
        }
      ]
    },
    {
      "cell_type": "code",
      "metadata": {
        "id": "pCV_mFbfUgKh",
        "colab_type": "code",
        "colab": {}
      },
      "source": [
        "score_et_vector=et.predict_proba(Xtrain_blend)"
      ],
      "execution_count": 0,
      "outputs": []
    },
    {
      "cell_type": "markdown",
      "metadata": {
        "colab_type": "text",
        "id": "wUy2BfQSOqxe"
      },
      "source": [
        "<font color=\"red\">\n",
        "And again with FFM.</font>"
      ]
    },
    {
      "cell_type": "markdown",
      "metadata": {
        "colab_type": "text",
        "id": "Jk56lAPTOqxZ"
      },
      "source": [
        "<font color=\"red\">\n",
        "Concatenate all scores on Xtrain_blend to form a Zblend design matrix.</font>"
      ]
    },
    {
      "cell_type": "code",
      "metadata": {
        "colab_type": "code",
        "id": "y4Fz0wSLOqxT",
        "colab": {}
      },
      "source": [
        "Zblend=np.concatenate((score_lr_vector,score_xgb_vector,score_rf_vector,score_et_vector),axis=1)"
      ],
      "execution_count": 0,
      "outputs": []
    },
    {
      "cell_type": "markdown",
      "metadata": {
        "colab_type": "text",
        "id": "px1CkkL7OqxR"
      },
      "source": [
        "<font color=\"red\">\n",
        "Train a logistic regression on (Zblend,ytrain_blend).</font>"
      ]
    },
    {
      "cell_type": "code",
      "metadata": {
        "id": "HYXsxU_oXKAT",
        "colab_type": "code",
        "colab": {
          "base_uri": "https://localhost:8080/",
          "height": 163
        },
        "outputId": "21924853-233c-4722-c3da-38c47cc277c1"
      },
      "source": [
        "lr_blend=LogisticRegression()\n",
        "lr_blend.fit(Zblend,ytrain_blend)"
      ],
      "execution_count": 128,
      "outputs": [
        {
          "output_type": "stream",
          "text": [
            "/usr/local/lib/python3.6/dist-packages/sklearn/linear_model/logistic.py:432: FutureWarning: Default solver will be changed to 'lbfgs' in 0.22. Specify a solver to silence this warning.\n",
            "  FutureWarning)\n"
          ],
          "name": "stderr"
        },
        {
          "output_type": "execute_result",
          "data": {
            "text/plain": [
              "LogisticRegression(C=1.0, class_weight=None, dual=False, fit_intercept=True,\n",
              "                   intercept_scaling=1, l1_ratio=None, max_iter=100,\n",
              "                   multi_class='warn', n_jobs=None, penalty='l2',\n",
              "                   random_state=None, solver='warn', tol=0.0001, verbose=0,\n",
              "                   warm_start=False)"
            ]
          },
          "metadata": {
            "tags": []
          },
          "execution_count": 128
        }
      ]
    },
    {
      "cell_type": "markdown",
      "metadata": {
        "colab_type": "text",
        "id": "nzWT4vH-OqxJ"
      },
      "source": [
        "<font color=\"red\">\n",
        "Evaluate the performance of this model on the test dataset.</font>"
      ]
    },
    {
      "cell_type": "code",
      "metadata": {
        "id": "PDetPerCWUtc",
        "colab_type": "code",
        "colab": {
          "base_uri": "https://localhost:8080/",
          "height": 145
        },
        "outputId": "e0d9e168-a785-4227-bac6-cc2c76acc000"
      },
      "source": [
        "Xtrain_meth, Xtrain_blend, ytrain_meth, ytrain_blend = train_test_split(Xtest_ha,ytest,test_size=0.2)\n",
        "lr=LogisticRegression()\n",
        "lr.fit(Xtrain_meth,ytrain_meth)\n",
        "score_lr_vector=lr.predict_proba(Xtrain_blend)\n",
        "\n",
        "xgb=XGBClassifier()\n",
        "xgb.fit(Xtrain_meth,ytrain_meth)\n",
        "score_xgb_vector=xgb.predict_proba(Xtrain_blend)\n",
        "\n",
        "rf=RandomForestClassifier()\n",
        "rf.fit(Xtrain_meth,ytrain_meth)\n",
        "score_rf_vector=rf.predict_proba(Xtrain_blend)\n",
        "\n",
        "et=ExtraTreesClassifier()\n",
        "et.fit(Xtrain_meth,ytrain_meth)\n",
        "score_et_vector=et.predict_proba(Xtrain_blend)"
      ],
      "execution_count": 129,
      "outputs": [
        {
          "output_type": "stream",
          "text": [
            "/usr/local/lib/python3.6/dist-packages/sklearn/linear_model/logistic.py:432: FutureWarning: Default solver will be changed to 'lbfgs' in 0.22. Specify a solver to silence this warning.\n",
            "  FutureWarning)\n",
            "/usr/local/lib/python3.6/dist-packages/sklearn/ensemble/forest.py:245: FutureWarning: The default value of n_estimators will change from 10 in version 0.20 to 100 in 0.22.\n",
            "  \"10 in version 0.20 to 100 in 0.22.\", FutureWarning)\n",
            "/usr/local/lib/python3.6/dist-packages/sklearn/ensemble/forest.py:245: FutureWarning: The default value of n_estimators will change from 10 in version 0.20 to 100 in 0.22.\n",
            "  \"10 in version 0.20 to 100 in 0.22.\", FutureWarning)\n"
          ],
          "name": "stderr"
        }
      ]
    },
    {
      "cell_type": "code",
      "metadata": {
        "id": "3z3SeIFaWXbI",
        "colab_type": "code",
        "colab": {
          "base_uri": "https://localhost:8080/",
          "height": 35
        },
        "outputId": "854dc749-dbbb-4e08-c778-9ae0ec2d860d"
      },
      "source": [
        "Zblend_test=np.concatenate((score_lr_vector,score_xgb_vector,score_rf_vector,score_et_vector),axis=1)\n",
        "score_zblend=lr_blend.score(Zblend_test,ytrain_blend)\n",
        "print(\"The score is :\",score_zblend)"
      ],
      "execution_count": 131,
      "outputs": [
        {
          "output_type": "stream",
          "text": [
            "The score is : 0.83155\n"
          ],
          "name": "stdout"
        }
      ]
    },
    {
      "cell_type": "code",
      "metadata": {
        "colab_type": "code",
        "id": "zq_IriMnOqw6",
        "colab": {
          "base_uri": "https://localhost:8080/",
          "height": 323
        },
        "outputId": "280e3f16-b829-4793-9ee6-c47ea069968b"
      },
      "source": [
        "soft=lr_blend.predict_proba(Zblend_test)\n",
        "false_pos_rate, true_pos_rate, _ = roc_curve( ytrain_blend,soft[:,1] )\n",
        "plt.plot(false_pos_rate,true_pos_rate)\n",
        "\n",
        "plt.grid()\n",
        "plt.plot([0, 1], [0, 1], 'r--')\n",
        "plt.xlabel('False Positive Rate', fontsize=16)\n",
        "plt.ylabel('True Positive Rate', fontsize=16)\n",
        "plt.title('ROC curve', fontsize=20)\n",
        "\n",
        "log_loss( ytrain_blend,soft[:,1] ), roc_auc_score( ytrain_blend,soft[:,1] )"
      ],
      "execution_count": 134,
      "outputs": [
        {
          "output_type": "execute_result",
          "data": {
            "text/plain": [
              "(0.41481453796232437, 0.7129769401280981)"
            ]
          },
          "metadata": {
            "tags": []
          },
          "execution_count": 134
        },
        {
          "output_type": "display_data",
          "data": {
            "image/png": "[encoded data removed]",
            "text/plain": [
              "<Figure size 432x288 with 1 Axes>"
            ]
          },
          "metadata": {
            "tags": []
          }
        }
      ]
    }
  ]
}